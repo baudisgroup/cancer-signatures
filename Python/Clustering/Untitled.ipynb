{
 "cells": [
  {
   "cell_type": "code",
   "execution_count": 2,
   "metadata": {},
   "outputs": [],
   "source": [
    "import pandas as pd\n",
    "import numpy as np\n",
    "import pickle\n",
    "import seaborn as sns\n",
    "import matplotlib.pyplot as plt"
   ]
  },
  {
   "cell_type": "code",
   "execution_count": 1,
   "metadata": {},
   "outputs": [],
   "source": [
    "matfile = '/Users/bogao/DataFiles/new landscape/data/selected_gene_mat.pkl'\n",
    "labelfile = '/Users/bogao/DataFiles/new landscape/data/all_bands_label.pkl'\n",
    "weightfile = '/Users/bogao/DataFiles/new landscape/data/selected_genes_weight.pkl'\n",
    "metafile = '/Users/bogao/DataFiles/new landscape/data/all_bands_meta.pkl'"
   ]
  },
  {
   "cell_type": "code",
   "execution_count": 3,
   "metadata": {},
   "outputs": [],
   "source": [
    "with open(matfile, 'rb') as fmat, open(labelfile, 'rb') as flabel, open(metafile, 'rb') as fmeta:\n",
    "    data = pickle.load(fmat)\n",
    "    labels = pickle.load(flabel)\n",
    "    meta = pickle.load(fmeta)\n"
   ]
  },
  {
   "cell_type": "code",
   "execution_count": 4,
   "metadata": {},
   "outputs": [],
   "source": [
    "data = np.array(data)"
   ]
  },
  {
   "cell_type": "code",
   "execution_count": 13,
   "metadata": {},
   "outputs": [],
   "source": [
    "meta = meta.dropna()"
   ]
  },
  {
   "cell_type": "code",
   "execution_count": 15,
   "metadata": {},
   "outputs": [
    {
     "data": {
      "text/html": [
       "<div>\n",
       "<style scoped>\n",
       "    .dataframe tbody tr th:only-of-type {\n",
       "        vertical-align: middle;\n",
       "    }\n",
       "\n",
       "    .dataframe tbody tr th {\n",
       "        vertical-align: top;\n",
       "    }\n",
       "\n",
       "    .dataframe thead th {\n",
       "        text-align: right;\n",
       "    }\n",
       "</style>\n",
       "<table border=\"1\" class=\"dataframe\">\n",
       "  <thead>\n",
       "    <tr style=\"text-align: right;\">\n",
       "      <th></th>\n",
       "      <th>id</th>\n",
       "      <th>source</th>\n",
       "      <th>project</th>\n",
       "      <th>morphology</th>\n",
       "      <th>topography</th>\n",
       "      <th>num_segs</th>\n",
       "      <th>site</th>\n",
       "    </tr>\n",
       "  </thead>\n",
       "  <tbody>\n",
       "    <tr>\n",
       "      <td>0</td>\n",
       "      <td>440e9ec5-8e61-4f75-b1d1-616941d9456d</td>\n",
       "      <td>TCGA</td>\n",
       "      <td>TCGA-OV</td>\n",
       "      <td>84413</td>\n",
       "      <td>Ovary</td>\n",
       "      <td>391</td>\n",
       "      <td>Ovary</td>\n",
       "    </tr>\n",
       "    <tr>\n",
       "      <td>1</td>\n",
       "      <td>6ca6f0fe-8b53-421e-ad4e-dfbf8c8c5b59</td>\n",
       "      <td>TCGA</td>\n",
       "      <td>TCGA-OV</td>\n",
       "      <td>84413</td>\n",
       "      <td>Ovary</td>\n",
       "      <td>571</td>\n",
       "      <td>Ovary</td>\n",
       "    </tr>\n",
       "    <tr>\n",
       "      <td>2</td>\n",
       "      <td>da9af00f-60ea-456b-9f25-0ab560962769</td>\n",
       "      <td>TCGA</td>\n",
       "      <td>TCGA-OV</td>\n",
       "      <td>84413</td>\n",
       "      <td>Ovary</td>\n",
       "      <td>431</td>\n",
       "      <td>Ovary</td>\n",
       "    </tr>\n",
       "    <tr>\n",
       "      <td>3</td>\n",
       "      <td>8e84a028-5e9c-4d01-9791-db0f04b05bce</td>\n",
       "      <td>TCGA</td>\n",
       "      <td>TCGA-OV</td>\n",
       "      <td>84603</td>\n",
       "      <td>Ovary</td>\n",
       "      <td>394</td>\n",
       "      <td>Ovary</td>\n",
       "    </tr>\n",
       "    <tr>\n",
       "      <td>4</td>\n",
       "      <td>d3f8c91f-e4cc-4018-9fbf-4368dd036b01</td>\n",
       "      <td>TCGA</td>\n",
       "      <td>TCGA-OV</td>\n",
       "      <td>84413</td>\n",
       "      <td>Ovary</td>\n",
       "      <td>252</td>\n",
       "      <td>Ovary</td>\n",
       "    </tr>\n",
       "    <tr>\n",
       "      <td>...</td>\n",
       "      <td>...</td>\n",
       "      <td>...</td>\n",
       "      <td>...</td>\n",
       "      <td>...</td>\n",
       "      <td>...</td>\n",
       "      <td>...</td>\n",
       "      <td>...</td>\n",
       "    </tr>\n",
       "    <tr>\n",
       "      <td>42815</td>\n",
       "      <td>PGX_AM_BS_GSM1414445</td>\n",
       "      <td>arraymap</td>\n",
       "      <td>GSE58579</td>\n",
       "      <td>84421</td>\n",
       "      <td>c56.9</td>\n",
       "      <td>104</td>\n",
       "      <td>Ovary</td>\n",
       "    </tr>\n",
       "    <tr>\n",
       "      <td>42816</td>\n",
       "      <td>PGX_AM_BS_GSM1414446</td>\n",
       "      <td>arraymap</td>\n",
       "      <td>GSE58579</td>\n",
       "      <td>84421</td>\n",
       "      <td>c56.9</td>\n",
       "      <td>240</td>\n",
       "      <td>Ovary</td>\n",
       "    </tr>\n",
       "    <tr>\n",
       "      <td>42817</td>\n",
       "      <td>PGX_AM_BS_GSM1414451</td>\n",
       "      <td>arraymap</td>\n",
       "      <td>GSE58579</td>\n",
       "      <td>84421</td>\n",
       "      <td>c56.9</td>\n",
       "      <td>79</td>\n",
       "      <td>Ovary</td>\n",
       "    </tr>\n",
       "    <tr>\n",
       "      <td>42818</td>\n",
       "      <td>PGX_AM_BS_GSM1431034</td>\n",
       "      <td>arraymap</td>\n",
       "      <td>GSE58579</td>\n",
       "      <td>84421</td>\n",
       "      <td>c56.9</td>\n",
       "      <td>133</td>\n",
       "      <td>Ovary</td>\n",
       "    </tr>\n",
       "    <tr>\n",
       "      <td>42819</td>\n",
       "      <td>PGX_AM_BS_GSM1431036</td>\n",
       "      <td>arraymap</td>\n",
       "      <td>GSE58579</td>\n",
       "      <td>84421</td>\n",
       "      <td>c56.9</td>\n",
       "      <td>148</td>\n",
       "      <td>Ovary</td>\n",
       "    </tr>\n",
       "  </tbody>\n",
       "</table>\n",
       "<p>42682 rows × 7 columns</p>\n",
       "</div>"
      ],
      "text/plain": [
       "                                         id    source   project morphology  \\\n",
       "0      440e9ec5-8e61-4f75-b1d1-616941d9456d      TCGA   TCGA-OV      84413   \n",
       "1      6ca6f0fe-8b53-421e-ad4e-dfbf8c8c5b59      TCGA   TCGA-OV      84413   \n",
       "2      da9af00f-60ea-456b-9f25-0ab560962769      TCGA   TCGA-OV      84413   \n",
       "3      8e84a028-5e9c-4d01-9791-db0f04b05bce      TCGA   TCGA-OV      84603   \n",
       "4      d3f8c91f-e4cc-4018-9fbf-4368dd036b01      TCGA   TCGA-OV      84413   \n",
       "...                                     ...       ...       ...        ...   \n",
       "42815                  PGX_AM_BS_GSM1414445  arraymap  GSE58579      84421   \n",
       "42816                  PGX_AM_BS_GSM1414446  arraymap  GSE58579      84421   \n",
       "42817                  PGX_AM_BS_GSM1414451  arraymap  GSE58579      84421   \n",
       "42818                  PGX_AM_BS_GSM1431034  arraymap  GSE58579      84421   \n",
       "42819                  PGX_AM_BS_GSM1431036  arraymap  GSE58579      84421   \n",
       "\n",
       "      topography  num_segs   site  \n",
       "0          Ovary       391  Ovary  \n",
       "1          Ovary       571  Ovary  \n",
       "2          Ovary       431  Ovary  \n",
       "3          Ovary       394  Ovary  \n",
       "4          Ovary       252  Ovary  \n",
       "...          ...       ...    ...  \n",
       "42815      c56.9       104  Ovary  \n",
       "42816      c56.9       240  Ovary  \n",
       "42817      c56.9        79  Ovary  \n",
       "42818      c56.9       133  Ovary  \n",
       "42819      c56.9       148  Ovary  \n",
       "\n",
       "[42682 rows x 7 columns]"
      ]
     },
     "execution_count": 15,
     "metadata": {},
     "output_type": "execute_result"
    }
   ],
   "source": [
    "meta"
   ]
  },
  {
   "cell_type": "code",
   "execution_count": 14,
   "metadata": {},
   "outputs": [
    {
     "data": {
      "text/plain": [
       "array(['84413', '84603', '94403', '85003', '85203', '85223', '85753',\n",
       "       '90203', '84803', '80503', '85243', '80103', '85103', '80223',\n",
       "       '85073', '85233', '85413', '83103', '83123', '80703', '93823',\n",
       "       '94513', '94013', '94503', '94003', '80713', '80723', '80833',\n",
       "       '81403', '87203', '87443', '87433', '87303', '87423', '87213',\n",
       "       '82603', '83403', '82553', '87703', '83443', '83303', '85743',\n",
       "       '83843', '80743', '80733', '81703', '81713', '81803', '84823',\n",
       "       '82503', '85503', '82533', '82523', '82653', '83803', '82113',\n",
       "       '81443', '81453', '88903', '88053', '88113', '90413', '88583',\n",
       "       '98613', '82633', '87000', '86801', '86933', '87003', '86931',\n",
       "       '83173', '80203', '88963', '95403', '88543', '87723', '87713',\n",
       "       '89803', '89503', '89513', '81603', '90523', '87743', '85863',\n",
       "       '90613', '90713', '90703', '90853', '83703', '96803', '81203',\n",
       "       '81303', '90533', '84903', '85823', '85843', '90803', '85821',\n",
       "       '85813', '85853', '86803', '90800', '85811', '85833', '83701',\n",
       "       '82303', '80523', '82013', '88303', '88023', '90433', '90503',\n",
       "       '90403', '82463', '84613', '80903', '85033', '85603', '81743',\n",
       "       '88211', '82903', '85841', '90813', '87453', '83823', '84013',\n",
       "       '85023', '81733', 'C61', 'C91.1', 'C26.8', 'C64', 'Unknown',\n",
       "       'C50.1', 'C71', 'C71.6', 'C15.5', 'C22', 'C25.4', 'C06.1', 'C56',\n",
       "       'C41.9', 'C83.3', '25', 'C71.7', 'C50.9', 'C25.0', 'C50.4',\n",
       "       'C48.2', 'C43.5', '25.7', 'C43.6', 'C24.0', 'C50.5', 'C43.7',\n",
       "       '25.0/25.9', 'D75.81', 'C50.2', 'C06.0', 'C82.0', 'c92.0', 'C71.5',\n",
       "       'C83.0', 'C85.1', 'C71.0', 'C43.3', 'C83.7', 'C50.6', 'C57',\n",
       "       'D47.3', 'C82.1', 'C22.1', 'C43.9', 'C43.4', 'D45', 'C92.00',\n",
       "       'C82.3', 'C25.3', 'C25.2', 'C22.0', 'C85.2', 'C71.3', '25.1',\n",
       "       'C50.412', 'C50', 'D46', '25.1/25.2', 'C50.3', 'C50.2/C50.4',\n",
       "       'C30.0', 'C82.4', 'C25.1', '25.2', 'C50.8',\n",
       "       'Unknown (Periampullary?)', 'C88.9', 'C50.912', 'C43.2', '98353',\n",
       "       '95003', '97283', '97293', '98233', '94713', '94703', '94743',\n",
       "       '98373', '96903', '93803', '85303', '98343', '96993', '96733',\n",
       "       '96503', '90643', '98633', '96893', '98663', '99893', '80463',\n",
       "       '97313', '82543', '80123', '82513', '80413', '81400', '88503',\n",
       "       '89003', '94733', '97013', '99613', '99603', '99503', '99623',\n",
       "       '85002', '89820', '80701', '92203', '86203', '84403', '91803',\n",
       "       '89403', '85623', '82473', '95400', '83700', '87700', '97003',\n",
       "       '94423', '94211', '93913', '88333', '85202', '97573', '95103',\n",
       "       '96793', '92603', '96713', '93703', '98263', '98403', '98753',\n",
       "       '98913', '98013', '95300', '88003', '95600', '89363', '97613',\n",
       "       '97023', '93653', '85004', '82403', '81402', '98143', '88523',\n",
       "       '96873', '99643', '99453', '98763', '91003', '89203', '82900',\n",
       "       '80333', '97173', '80500', '94243', '94303', '89103', '82723',\n",
       "       '93623', '89633', '88910', '80053', '80213', '84303', '81613',\n",
       "       '84703', '95913', '90653', '91303', '98673', '99403', '98053',\n",
       "       '97323', '98603', '81563', '88103', '83353', '96783', '80313',\n",
       "       '97143', '92200', '90513', '91813', '91833', '98273', '84700',\n",
       "       '84800', '97333', '82003', '85032', '95813', '97163', '83183',\n",
       "       '81700', '90504', '80003', '95033', '80772', '80710', '98363',\n",
       "       '97651', '88900', '99103', '84421'], dtype=object)"
      ]
     },
     "execution_count": 14,
     "metadata": {},
     "output_type": "execute_result"
    }
   ],
   "source": [
    "meta['morphology'].unique()"
   ]
  },
  {
   "cell_type": "code",
   "execution_count": 16,
   "metadata": {},
   "outputs": [],
   "source": [
    "meta.to_csv('/Users/bogao/DataFiles/new landscape/data/all_bands_meta.csv', index=False)"
   ]
  },
  {
   "cell_type": "code",
   "execution_count": 15,
   "metadata": {},
   "outputs": [],
   "source": [
    "dd = data[labels == 'Ovary']"
   ]
  },
  {
   "cell_type": "code",
   "execution_count": 17,
   "metadata": {},
   "outputs": [
    {
     "data": {
      "text/plain": [
       "(42820, 3029)"
      ]
     },
     "execution_count": 17,
     "metadata": {},
     "output_type": "execute_result"
    }
   ],
   "source": [
    "data.shape"
   ]
  },
  {
   "cell_type": "code",
   "execution_count": 18,
   "metadata": {},
   "outputs": [
    {
     "data": {
      "text/plain": [
       "(2128, 3029)"
      ]
     },
     "execution_count": 18,
     "metadata": {},
     "output_type": "execute_result"
    }
   ],
   "source": [
    "dd.shape"
   ]
  },
  {
   "cell_type": "code",
   "execution_count": 19,
   "metadata": {},
   "outputs": [
    {
     "data": {
      "text/plain": [
       "array([ 0.    ,  0.    ,  0.    , ...,  0.    ,  0.    , -1.1231])"
      ]
     },
     "execution_count": 19,
     "metadata": {},
     "output_type": "execute_result"
    }
   ],
   "source": [
    "data[1]"
   ]
  },
  {
   "cell_type": "code",
   "execution_count": 21,
   "metadata": {},
   "outputs": [],
   "source": [
    "with open(weightfile, 'rb') as fweight:\n",
    "    weights = pickle.load(fweight)"
   ]
  },
  {
   "cell_type": "code",
   "execution_count": 30,
   "metadata": {},
   "outputs": [
    {
     "data": {
      "text/plain": [
       "(42820, 3029)"
      ]
     },
     "execution_count": 30,
     "metadata": {},
     "output_type": "execute_result"
    }
   ],
   "source": [
    "weights.shape"
   ]
  },
  {
   "cell_type": "code",
   "execution_count": 27,
   "metadata": {},
   "outputs": [],
   "source": [
    "geneweightfile = '/Users/bogao/DataFiles/new landscape/data/selected_genes_weight.pkl'"
   ]
  },
  {
   "cell_type": "code",
   "execution_count": 28,
   "metadata": {},
   "outputs": [],
   "source": [
    "with open(geneweightfile, 'rb') as fgweight:\n",
    "    gweight = pickle.load(fgweight)"
   ]
  },
  {
   "cell_type": "code",
   "execution_count": 29,
   "metadata": {},
   "outputs": [
    {
     "data": {
      "text/plain": [
       "(42820, 3029)"
      ]
     },
     "execution_count": 29,
     "metadata": {},
     "output_type": "execute_result"
    }
   ],
   "source": [
    "gweight.shape"
   ]
  },
  {
   "cell_type": "code",
   "execution_count": 31,
   "metadata": {},
   "outputs": [],
   "source": [
    "gg = weights[labels == 'Ovary']"
   ]
  },
  {
   "cell_type": "code",
   "execution_count": 32,
   "metadata": {},
   "outputs": [
    {
     "data": {
      "text/plain": [
       "(2128, 3029)"
      ]
     },
     "execution_count": 32,
     "metadata": {},
     "output_type": "execute_result"
    }
   ],
   "source": [
    "gg.shape"
   ]
  },
  {
   "cell_type": "code",
   "execution_count": 44,
   "metadata": {},
   "outputs": [
    {
     "data": {
      "text/plain": [
       "(1601,)"
      ]
     },
     "execution_count": 44,
     "metadata": {},
     "output_type": "execute_result"
    }
   ],
   "source": [
    "gg[:3][gg[:3]>0].shape"
   ]
  },
  {
   "cell_type": "code",
   "execution_count": 45,
   "metadata": {},
   "outputs": [
    {
     "data": {
      "text/plain": [
       "(1601,)"
      ]
     },
     "execution_count": 45,
     "metadata": {},
     "output_type": "execute_result"
    }
   ],
   "source": [
    "np.maximum(gng[:3], 0)"
   ]
  },
  {
   "cell_type": "code",
   "execution_count": 46,
   "metadata": {},
   "outputs": [
    {
     "data": {
      "text/plain": [
       "(3029,)"
      ]
     },
     "execution_count": 46,
     "metadata": {},
     "output_type": "execute_result"
    }
   ],
   "source": [
    "sum(gg).shape"
   ]
  },
  {
   "cell_type": "code",
   "execution_count": 51,
   "metadata": {},
   "outputs": [
    {
     "data": {
      "text/plain": [
       "<matplotlib.axes._subplots.AxesSubplot at 0x7fd5d5c14cd0>"
      ]
     },
     "execution_count": 51,
     "metadata": {},
     "output_type": "execute_result"
    },
    {
     "data": {
      "image/png": "[encoded data removed]",
      "text/plain": [
       "<Figure size 432x288 with 1 Axes>"
      ]
     },
     "metadata": {
      "needs_background": "light"
     },
     "output_type": "display_data"
    }
   ],
   "source": [
    "sns.distplot(sum(gg))"
   ]
  },
  {
   "cell_type": "code",
   "execution_count": 54,
   "metadata": {},
   "outputs": [
    {
     "data": {
      "image/png": "[encoded data removed]",
      "text/plain": [
       "<Figure size 432x288 with 1 Axes>"
      ]
     },
     "metadata": {
      "needs_background": "light"
     },
     "output_type": "display_data"
    }
   ],
   "source": [
    "fig = sns.distplot(sum(np.maximum(gg,0)))"
   ]
  },
  {
   "cell_type": "code",
   "execution_count": 57,
   "metadata": {},
   "outputs": [
    {
     "data": {
      "text/plain": [
       "-145.53142156714716"
      ]
     },
     "execution_count": 57,
     "metadata": {},
     "output_type": "execute_result"
    }
   ],
   "source": [
    "np.mean(sum(gg))"
   ]
  },
  {
   "cell_type": "code",
   "execution_count": 59,
   "metadata": {},
   "outputs": [
    {
     "data": {
      "text/plain": [
       "606.4314530545554"
      ]
     },
     "execution_count": 59,
     "metadata": {},
     "output_type": "execute_result"
    }
   ],
   "source": [
    "np.std(sum(gg))"
   ]
  },
  {
   "cell_type": "code",
   "execution_count": 60,
   "metadata": {},
   "outputs": [],
   "source": [
    "gs = sum(gg)"
   ]
  },
  {
   "cell_type": "code",
   "execution_count": 65,
   "metadata": {},
   "outputs": [
    {
     "data": {
      "text/plain": [
       "(3029,)"
      ]
     },
     "execution_count": 65,
     "metadata": {},
     "output_type": "execute_result"
    }
   ],
   "source": [
    "gs.shape"
   ]
  },
  {
   "cell_type": "code",
   "execution_count": 62,
   "metadata": {},
   "outputs": [],
   "source": [
    "    ampgenesfile = '/Users/bogao/DataFiles/Data/genome/high_amp_genes.tsv'\n",
    "    delgenesfile = '/Users/bogao/DataFiles/Data/genome/high_del_genes.tsv'"
   ]
  },
  {
   "cell_type": "code",
   "execution_count": 63,
   "metadata": {},
   "outputs": [],
   "source": [
    "amp_genes =  pd.read_csv(ampgenesfile, sep='\\t')"
   ]
  },
  {
   "cell_type": "code",
   "execution_count": 67,
   "metadata": {},
   "outputs": [],
   "source": [
    "amp_genes = amp_genes.assign(weight = gs[:2294])"
   ]
  },
  {
   "cell_type": "code",
   "execution_count": 69,
   "metadata": {},
   "outputs": [
    {
     "data": {
      "text/html": [
       "<div>\n",
       "<style scoped>\n",
       "    .dataframe tbody tr th:only-of-type {\n",
       "        vertical-align: middle;\n",
       "    }\n",
       "\n",
       "    .dataframe tbody tr th {\n",
       "        vertical-align: top;\n",
       "    }\n",
       "\n",
       "    .dataframe thead th {\n",
       "        text-align: right;\n",
       "    }\n",
       "</style>\n",
       "<table border=\"1\" class=\"dataframe\">\n",
       "  <thead>\n",
       "    <tr style=\"text-align: right;\">\n",
       "      <th></th>\n",
       "      <th>gene_id</th>\n",
       "      <th>name</th>\n",
       "      <th>chr</th>\n",
       "      <th>start</th>\n",
       "      <th>end</th>\n",
       "      <th>symbol</th>\n",
       "      <th>band</th>\n",
       "      <th>weight</th>\n",
       "    </tr>\n",
       "  </thead>\n",
       "  <tbody>\n",
       "    <tr>\n",
       "      <td>14</td>\n",
       "      <td>ENSG00000158109</td>\n",
       "      <td>p36.32</td>\n",
       "      <td>1</td>\n",
       "      <td>3625015</td>\n",
       "      <td>3630127</td>\n",
       "      <td>TPRG1L</td>\n",
       "      <td>1p36.32</td>\n",
       "      <td>822.363766</td>\n",
       "    </tr>\n",
       "    <tr>\n",
       "      <td>21</td>\n",
       "      <td>ENSG00000169598</td>\n",
       "      <td>p36.32</td>\n",
       "      <td>1</td>\n",
       "      <td>3857267</td>\n",
       "      <td>3885429</td>\n",
       "      <td>DFFB</td>\n",
       "      <td>1p36.32</td>\n",
       "      <td>622.177467</td>\n",
       "    </tr>\n",
       "    <tr>\n",
       "      <td>24</td>\n",
       "      <td>ENSG00000180758</td>\n",
       "      <td>p36.22</td>\n",
       "      <td>1</td>\n",
       "      <td>9100305</td>\n",
       "      <td>9129102</td>\n",
       "      <td>GPR157</td>\n",
       "      <td>1p36.22</td>\n",
       "      <td>754.010686</td>\n",
       "    </tr>\n",
       "    <tr>\n",
       "      <td>25</td>\n",
       "      <td>ENSG00000049239</td>\n",
       "      <td>p36.22</td>\n",
       "      <td>1</td>\n",
       "      <td>9234775</td>\n",
       "      <td>9271337</td>\n",
       "      <td>H6PD</td>\n",
       "      <td>1p36.22</td>\n",
       "      <td>574.845317</td>\n",
       "    </tr>\n",
       "    <tr>\n",
       "      <td>37</td>\n",
       "      <td>ENSG00000142657</td>\n",
       "      <td>p36.22</td>\n",
       "      <td>1</td>\n",
       "      <td>10398592</td>\n",
       "      <td>10420511</td>\n",
       "      <td>PGD</td>\n",
       "      <td>1p36.22</td>\n",
       "      <td>638.617182</td>\n",
       "    </tr>\n",
       "    <tr>\n",
       "      <td>...</td>\n",
       "      <td>...</td>\n",
       "      <td>...</td>\n",
       "      <td>...</td>\n",
       "      <td>...</td>\n",
       "      <td>...</td>\n",
       "      <td>...</td>\n",
       "      <td>...</td>\n",
       "      <td>...</td>\n",
       "    </tr>\n",
       "    <tr>\n",
       "      <td>2254</td>\n",
       "      <td>ENSG00000100218</td>\n",
       "      <td>q11.23</td>\n",
       "      <td>22</td>\n",
       "      <td>23059415</td>\n",
       "      <td>23145021</td>\n",
       "      <td>RSPH14</td>\n",
       "      <td>22q11.23</td>\n",
       "      <td>689.594602</td>\n",
       "    </tr>\n",
       "    <tr>\n",
       "      <td>2263</td>\n",
       "      <td>ENSG00000250479</td>\n",
       "      <td>q11.23</td>\n",
       "      <td>22</td>\n",
       "      <td>23765834</td>\n",
       "      <td>23768443</td>\n",
       "      <td>CHCHD10</td>\n",
       "      <td>22q11.23</td>\n",
       "      <td>629.454642</td>\n",
       "    </tr>\n",
       "    <tr>\n",
       "      <td>2273</td>\n",
       "      <td>ENSG00000099984</td>\n",
       "      <td>q11.23</td>\n",
       "      <td>22</td>\n",
       "      <td>23980058</td>\n",
       "      <td>23983915</td>\n",
       "      <td>GSTT2</td>\n",
       "      <td>22q11.23</td>\n",
       "      <td>502.425471</td>\n",
       "    </tr>\n",
       "    <tr>\n",
       "      <td>2274</td>\n",
       "      <td>ENSG00000276950</td>\n",
       "      <td>q11.23</td>\n",
       "      <td>22</td>\n",
       "      <td>23998401</td>\n",
       "      <td>24005453</td>\n",
       "      <td>GSTT4</td>\n",
       "      <td>22q11.23</td>\n",
       "      <td>772.110188</td>\n",
       "    </tr>\n",
       "    <tr>\n",
       "      <td>2275</td>\n",
       "      <td>ENSG00000099991</td>\n",
       "      <td>q11.23</td>\n",
       "      <td>22</td>\n",
       "      <td>24011192</td>\n",
       "      <td>24178628</td>\n",
       "      <td>CABIN1</td>\n",
       "      <td>22q11.23</td>\n",
       "      <td>592.448512</td>\n",
       "    </tr>\n",
       "  </tbody>\n",
       "</table>\n",
       "<p>341 rows × 8 columns</p>\n",
       "</div>"
      ],
      "text/plain": [
       "              gene_id    name  chr     start       end   symbol      band  \\\n",
       "14    ENSG00000158109  p36.32    1   3625015   3630127   TPRG1L   1p36.32   \n",
       "21    ENSG00000169598  p36.32    1   3857267   3885429     DFFB   1p36.32   \n",
       "24    ENSG00000180758  p36.22    1   9100305   9129102   GPR157   1p36.22   \n",
       "25    ENSG00000049239  p36.22    1   9234775   9271337     H6PD   1p36.22   \n",
       "37    ENSG00000142657  p36.22    1  10398592  10420511      PGD   1p36.22   \n",
       "...               ...     ...  ...       ...       ...      ...       ...   \n",
       "2254  ENSG00000100218  q11.23   22  23059415  23145021   RSPH14  22q11.23   \n",
       "2263  ENSG00000250479  q11.23   22  23765834  23768443  CHCHD10  22q11.23   \n",
       "2273  ENSG00000099984  q11.23   22  23980058  23983915    GSTT2  22q11.23   \n",
       "2274  ENSG00000276950  q11.23   22  23998401  24005453    GSTT4  22q11.23   \n",
       "2275  ENSG00000099991  q11.23   22  24011192  24178628   CABIN1  22q11.23   \n",
       "\n",
       "          weight  \n",
       "14    822.363766  \n",
       "21    622.177467  \n",
       "24    754.010686  \n",
       "25    574.845317  \n",
       "37    638.617182  \n",
       "...          ...  \n",
       "2254  689.594602  \n",
       "2263  629.454642  \n",
       "2273  502.425471  \n",
       "2274  772.110188  \n",
       "2275  592.448512  \n",
       "\n",
       "[341 rows x 8 columns]"
      ]
     },
     "execution_count": 69,
     "metadata": {},
     "output_type": "execute_result"
    }
   ],
   "source": [
    "amp_genes[amp_genes['weight'] > np.std(gs)+np.mean(gs)]"
   ]
  },
  {
   "cell_type": "code",
   "execution_count": null,
   "metadata": {},
   "outputs": [],
   "source": []
  }
 ],
 "metadata": {
  "kernelspec": {
   "display_name": "Python 3",
   "language": "python",
   "name": "python3"
  },
  "language_info": {
   "codemirror_mode": {
    "name": "ipython",
    "version": 3
   },
   "file_extension": ".py",
   "mimetype": "text/x-python",
   "name": "python",
   "nbconvert_exporter": "python",
   "pygments_lexer": "ipython3",
   "version": "3.7.4"
  }
 },
 "nbformat": 4,
 "nbformat_minor": 2
}
