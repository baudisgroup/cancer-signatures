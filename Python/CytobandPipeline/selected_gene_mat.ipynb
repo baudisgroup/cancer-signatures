{
 "cells": [
  {
   "cell_type": "markdown",
   "metadata": {},
   "source": [
    "Find high impact bands for each disease type"
   ]
  },
  {
   "cell_type": "code",
   "execution_count": 1,
   "metadata": {},
   "outputs": [
    {
     "data": {
      "text/html": [
       "<style>.container { width:95% !important; }</style>"
      ],
      "text/plain": [
       "<IPython.core.display.HTML object>"
      ]
     },
     "metadata": {},
     "output_type": "display_data"
    }
   ],
   "source": [
    "from IPython.core.display import display, HTML\n",
    "display(HTML(\"<style>.container { width:95% !important; }</style>\"))"
   ]
  },
  {
   "cell_type": "code",
   "execution_count": 2,
   "metadata": {},
   "outputs": [],
   "source": [
    "import pickle\n",
    "import numpy as np\n",
    "import pandas as pd\n",
    "from pymongo import MongoClient\n",
    "\n",
    "import seaborn as sns\n",
    "import matplotlib.pyplot as plt\n",
    "%matplotlib inline"
   ]
  },
  {
   "cell_type": "markdown",
   "metadata": {},
   "source": [
    "## Filter genes by high impact bands"
   ]
  },
  {
   "cell_type": "markdown",
   "metadata": {},
   "source": [
    "Load data"
   ]
  },
  {
   "cell_type": "code",
   "execution_count": 3,
   "metadata": {},
   "outputs": [],
   "source": [
    "matfile = '/Users/bogao/DataFiles/new landscape/data/all_bands_weight.pkl'\n",
    "labelfile = '/Users/bogao/DataFiles/new landscape/data/all_bands_label.pkl'\n",
    "bandfile = '/Users/bogao/DataFiles/new landscape/data/bands.pkl'\n",
    "\n",
    "with open(matfile, 'rb') as fmat, open(labelfile, 'rb') as flab, open(bandfile, 'rb') as fbd:\n",
    "    data = pickle.load(fmat)\n",
    "    labels = pickle.load(flab)\n",
    "    bands = pickle.load(fbd)\n",
    "    \n",
    "genefile =  '/Users/bogao/DataFiles/Data/genome/genes.tsv'\n",
    "genes = pd.read_csv(genefile, sep='\\t', names=['gene_id', 'name', 'chr','start','end', 'symbol'], header=0)"
   ]
  },
  {
   "cell_type": "markdown",
   "metadata": {},
   "source": [
    "Sum the signals of each disease, than choose the high impact bands"
   ]
  },
  {
   "cell_type": "code",
   "execution_count": 4,
   "metadata": {},
   "outputs": [
    {
     "name": "stdout",
     "output_type": "stream",
     "text": [
      "Brain\n",
      "Ovary\n",
      "Breast\n",
      "Kidney\n",
      "Prostate\n",
      "Skin\n",
      "Colon\n",
      "Liver\n",
      "Lung\n",
      "Stomach\n"
     ]
    },
    {
     "data": {
      "image/png": "[encoded data removed]",
      "text/plain": [
       "<Figure size 432x288 with 1 Axes>"
      ]
     },
     "metadata": {
      "needs_background": "light"
     },
     "output_type": "display_data"
    }
   ],
   "source": [
    "disease_names = ['Brain', 'Ovary', 'Breast', 'Kidney', 'Prostate', 'Skin', 'Colon', 'Liver', 'Lung', 'Stomach']\n",
    "high_impact_bands = [False] * 1622\n",
    "postive_data = np.maximum(data, 0)\n",
    "sig_thresh = 0.2\n",
    "for dname in disease_names:\n",
    "    disease_data = postive_data[labels == dname]\n",
    "    sigsum = np.sum(disease_data, axis=0)/disease_data.shape[0]\n",
    "    print(dname)\n",
    "    sns.distplot(sigsum)\n",
    "    high_impact_bands = np.add(high_impact_bands, sigsum>sig_thresh)"
   ]
  },
  {
   "cell_type": "markdown",
   "metadata": {},
   "source": [
    "high impact bands in dup and del"
   ]
  },
  {
   "cell_type": "code",
   "execution_count": 5,
   "metadata": {},
   "outputs": [
    {
     "name": "stdout",
     "output_type": "stream",
     "text": [
      "108\n",
      "51\n"
     ]
    }
   ],
   "source": [
    "high_amp_bands = high_impact_bands[:811]\n",
    "\n",
    "high_del_bands = high_impact_bands[811:]\n",
    "\n",
    "print(sum(high_amp_bands))\n",
    "print(sum(high_del_bands))"
   ]
  },
  {
   "cell_type": "markdown",
   "metadata": {},
   "source": [
    "A new column for filtering"
   ]
  },
  {
   "cell_type": "code",
   "execution_count": 6,
   "metadata": {},
   "outputs": [],
   "source": [
    "bands['band'] = bands['chr'].astype(str) + bands['name']"
   ]
  },
  {
   "cell_type": "markdown",
   "metadata": {},
   "source": [
    "Band names for gene filtering"
   ]
  },
  {
   "cell_type": "code",
   "execution_count": 7,
   "metadata": {},
   "outputs": [],
   "source": [
    "high_amp_bands_filter = bands[high_amp_bands]['band'].values\n",
    "high_del_bands_filter = bands[high_del_bands]['band'].values"
   ]
  },
  {
   "cell_type": "markdown",
   "metadata": {},
   "source": [
    "Prepare gene data"
   ]
  },
  {
   "cell_type": "code",
   "execution_count": 8,
   "metadata": {},
   "outputs": [],
   "source": [
    "genes['band'] = genes['chr'].astype(str) + genes['name']\n",
    "\n",
    "genes = genes.sort_values(['chr', 'start'])"
   ]
  },
  {
   "cell_type": "markdown",
   "metadata": {},
   "source": [
    "High impact genes"
   ]
  },
  {
   "cell_type": "code",
   "execution_count": 9,
   "metadata": {},
   "outputs": [
    {
     "name": "stdout",
     "output_type": "stream",
     "text": [
      "2294\n",
      "735\n"
     ]
    }
   ],
   "source": [
    "high_amp_genes = genes[genes.band.isin(high_amp_bands_filter)]\n",
    "high_del_genes = genes[genes.band.isin(high_del_bands_filter)]\n",
    "\n",
    "print(len(high_amp_genes))\n",
    "print(len(high_del_genes))"
   ]
  },
  {
   "cell_type": "markdown",
   "metadata": {},
   "source": [
    "Save to disk "
   ]
  },
  {
   "cell_type": "code",
   "execution_count": 107,
   "metadata": {},
   "outputs": [],
   "source": [
    "high_amp_genes.to_csv('/Users/bogao/DataFiles/Data/genome/high_amp_genes.tsv', sep='\\t', index=0)\n",
    "high_del_genes.to_csv('/Users/bogao/DataFiles/Data/genome/high_del_genes.tsv', sep='\\t', index=0)"
   ]
  },
  {
   "cell_type": "markdown",
   "metadata": {},
   "source": [
    "## Generate feature matrix of filtered genes"
   ]
  },
  {
   "cell_type": "markdown",
   "metadata": {},
   "source": [
    "Load data"
   ]
  },
  {
   "cell_type": "code",
   "execution_count": 10,
   "metadata": {},
   "outputs": [],
   "source": [
    "db = MongoClient()['Rebased']['mecaned']\n",
    "samples = []\n",
    "for sam in db.find({'cytobands':{ '$exists': True}},{'sample_id':1, 'normalized':1}):\n",
    "    samples.append(sam)"
   ]
  },
  {
   "cell_type": "code",
   "execution_count": 11,
   "metadata": {},
   "outputs": [
    {
     "data": {
      "text/plain": [
       "42820"
      ]
     },
     "execution_count": 11,
     "metadata": {},
     "output_type": "execute_result"
    }
   ],
   "source": [
    "len(samples)"
   ]
  },
  {
   "cell_type": "code",
   "execution_count": 13,
   "metadata": {},
   "outputs": [],
   "source": [
    "num_amp_genes = 2294\n",
    "num_del_genes = 735"
   ]
  },
  {
   "cell_type": "code",
   "execution_count": 14,
   "metadata": {},
   "outputs": [],
   "source": [
    "high_amp_genes = high_amp_genes.assign(total = 0)\n",
    "high_amp_genes = high_amp_genes.assign(length = 0)\n",
    "high_del_genes = high_del_genes.assign(total = 0)\n",
    "high_del_genes = high_del_genes.assign(length = 0)\n",
    "\n",
    "high_amp_genes = high_amp_genes.reset_index(drop=True)\n",
    "high_del_genes = high_del_genes.reset_index(drop=True)"
   ]
  },
  {
   "cell_type": "code",
   "execution_count": 35,
   "metadata": {},
   "outputs": [
    {
     "name": "stdout",
     "output_type": "stream",
     "text": [
      "42819\r"
     ]
    }
   ],
   "source": [
    "gene_mat = []\n",
    "c = 0\n",
    "for sam in samples:\n",
    "    \n",
    "    amp_genes = high_amp_genes.to_dict('records')\n",
    "    del_genes = high_del_genes.to_dict('records')\n",
    "    \n",
    "    for seg in sam['normalized']:\n",
    "        if seg['probes'] >4:\n",
    "                    \n",
    "            if seg['value'] >2:\n",
    "                val = 2\n",
    "            else:\n",
    "                val = seg['value']\n",
    "\n",
    "\n",
    "            # count all amp genes\n",
    "            for g in amp_genes:    \n",
    "                if (str(g['chr']) == seg['chro']) and (g['start'] < seg['end']) and (g['end'] >= seg['start']):\n",
    "                    size = min(g['end'],seg['end']) - max(g['start'],seg['start'])\n",
    "\n",
    "                    # dup\n",
    "                    if seg['value'] > 0:\n",
    "                        # update total value\n",
    "                        g['total'] += size*seg['value']\n",
    "                        # update total_length\n",
    "                        g['length'] += size\n",
    "                     \n",
    "            # count all del genes\n",
    "            for g in del_genes:\n",
    "                if (str(g['chr']) == seg['chro']) and (g['start'] < seg['end']) and (g['end'] >= seg['start']):\n",
    "                    size = min(g['end'],seg['end']) - max(g['start'],seg['start'])\n",
    "                    # del\n",
    "                    if seg['value'] < 0:\n",
    "                        # update total value\n",
    "                        g['total'] += size*seg['value']\n",
    "                        # update total_length\n",
    "                        g['length'] += size\n",
    "                     \n",
    "    \n",
    "    gene_ave = []\n",
    "    for g in amp_genes:\n",
    "        if g['length'] >0:\n",
    "            gene_ave.append(g['total']/g['length'])\n",
    "        else:\n",
    "            gene_ave.append(0)\n",
    "    for g in del_genes:\n",
    "        if g['length'] >0:\n",
    "            gene_ave.append(g['total']/g['length'])\n",
    "        else:\n",
    "            gene_ave.append(0)\n",
    "    \n",
    "    gene_mat.append(gene_ave)\n",
    "    \n",
    "\n",
    "    print(c, end='\\r')\n",
    "    c +=1"
   ]
  },
  {
   "cell_type": "code",
   "execution_count": 36,
   "metadata": {},
   "outputs": [],
   "source": [
    "outputfile = '/Users/bogao/DataFiles/new landscape/data/selected_gene_mat.pkl'\n",
    "with open(outputfile, 'wb') as fo:\n",
    "    pickle.dump(gene_mat, fo)"
   ]
  },
  {
   "cell_type": "code",
   "execution_count": 193,
   "metadata": {},
   "outputs": [
    {
     "data": {
      "text/plain": [
       "-450.6158243965679"
      ]
     },
     "execution_count": 193,
     "metadata": {},
     "output_type": "execute_result"
    }
   ],
   "source": [
    "sum(gene_mat[0])"
   ]
  },
  {
   "cell_type": "code",
   "execution_count": 37,
   "metadata": {},
   "outputs": [
    {
     "data": {
      "text/plain": [
       "42820"
      ]
     },
     "execution_count": 37,
     "metadata": {},
     "output_type": "execute_result"
    }
   ],
   "source": [
    "len(gene_mat)"
   ]
  },
  {
   "cell_type": "code",
   "execution_count": 38,
   "metadata": {},
   "outputs": [],
   "source": [
    "data = np.array(gene_mat)"
   ]
  },
  {
   "cell_type": "code",
   "execution_count": 39,
   "metadata": {},
   "outputs": [
    {
     "data": {
      "text/plain": [
       "(42820, 3029)"
      ]
     },
     "execution_count": 39,
     "metadata": {},
     "output_type": "execute_result"
    }
   ],
   "source": [
    "data.shape"
   ]
  },
  {
   "cell_type": "code",
   "execution_count": 26,
   "metadata": {},
   "outputs": [
    {
     "data": {
      "text/plain": [
       "<matplotlib.axes._subplots.AxesSubplot at 0x1a1ae531d0>"
      ]
     },
     "execution_count": 26,
     "metadata": {},
     "output_type": "execute_result"
    },
    {
     "data": {
      "image/png": "[encoded data removed]",
      "text/plain": [
       "<Figure size 432x288 with 1 Axes>"
      ]
     },
     "metadata": {
      "needs_background": "light"
     },
     "output_type": "display_data"
    }
   ],
   "source": [
    "sns.lineplot(range(len(gene_mat[0])),gene_mat[1])"
   ]
  },
  {
   "cell_type": "code",
   "execution_count": 23,
   "metadata": {},
   "outputs": [
    {
     "data": {
      "text/plain": [
       "(42820, 1622)"
      ]
     },
     "execution_count": 23,
     "metadata": {},
     "output_type": "execute_result"
    }
   ],
   "source": [
    "data.shape"
   ]
  },
  {
   "cell_type": "code",
   "execution_count": 25,
   "metadata": {},
   "outputs": [
    {
     "data": {
      "text/plain": [
       "<matplotlib.axes._subplots.AxesSubplot at 0x1bdf4d8e90>"
      ]
     },
     "execution_count": 25,
     "metadata": {},
     "output_type": "execute_result"
    },
    {
     "data": {
      "image/png": "[encoded data removed]",
      "text/plain": [
       "<Figure size 432x288 with 1 Axes>"
      ]
     },
     "metadata": {
      "needs_background": "light"
     },
     "output_type": "display_data"
    }
   ],
   "source": [
    "sns.lineplot(range(1622), data[1])"
   ]
  },
  {
   "cell_type": "code",
   "execution_count": 3,
   "metadata": {},
   "outputs": [],
   "source": [
    "weightfile = '/Users/bogao/DataFiles/new landscape/data/all_bands_weight.pkl'\n",
    "with open(weightfile, 'rb') as fwt:\n",
    "    weights = pickle.load(fwt)"
   ]
  },
  {
   "cell_type": "code",
   "execution_count": 4,
   "metadata": {},
   "outputs": [
    {
     "data": {
      "text/plain": [
       "(42820, 1622)"
      ]
     },
     "execution_count": 4,
     "metadata": {},
     "output_type": "execute_result"
    }
   ],
   "source": [
    "weights.shape"
   ]
  },
  {
   "cell_type": "code",
   "execution_count": 6,
   "metadata": {},
   "outputs": [
    {
     "data": {
      "text/plain": [
       "<matplotlib.axes._subplots.AxesSubplot at 0x1a20583390>"
      ]
     },
     "execution_count": 6,
     "metadata": {},
     "output_type": "execute_result"
    },
    {
     "data": {
      "image/png": "[encoded data removed]",
      "text/plain": [
       "<Figure size 432x288 with 1 Axes>"
      ]
     },
     "metadata": {
      "needs_background": "light"
     },
     "output_type": "display_data"
    }
   ],
   "source": [
    "sns.lineplot(range(1622), weights[1])"
   ]
  },
  {
   "cell_type": "code",
   "execution_count": 30,
   "metadata": {},
   "outputs": [],
   "source": [
    "w = weights[1]\n",
    "w = w[w>0.2]"
   ]
  },
  {
   "cell_type": "code",
   "execution_count": 31,
   "metadata": {},
   "outputs": [
    {
     "data": {
      "text/plain": [
       "(91,)"
      ]
     },
     "execution_count": 31,
     "metadata": {},
     "output_type": "execute_result"
    }
   ],
   "source": [
    "w.shape"
   ]
  },
  {
   "cell_type": "code",
   "execution_count": 32,
   "metadata": {},
   "outputs": [
    {
     "data": {
      "text/plain": [
       "<matplotlib.axes._subplots.AxesSubplot at 0x1be0af3390>"
      ]
     },
     "execution_count": 32,
     "metadata": {},
     "output_type": "execute_result"
    },
    {
     "data": {
      "image/png": "[encoded data removed]",
      "text/plain": [
       "<Figure size 432x288 with 1 Axes>"
      ]
     },
     "metadata": {
      "needs_background": "light"
     },
     "output_type": "display_data"
    }
   ],
   "source": [
    "sns.lineplot(range(91), w)"
   ]
  },
  {
   "cell_type": "code",
   "execution_count": 7,
   "metadata": {},
   "outputs": [
    {
     "data": {
      "text/plain": [
       "(1077,)"
      ]
     },
     "execution_count": 7,
     "metadata": {},
     "output_type": "execute_result"
    }
   ],
   "source": [
    "w = weights[1]\n",
    "w = w[w>=0]\n",
    "w.shape"
   ]
  },
  {
   "cell_type": "code",
   "execution_count": 8,
   "metadata": {},
   "outputs": [
    {
     "data": {
      "text/plain": [
       "<matplotlib.axes._subplots.AxesSubplot at 0x1a20558c90>"
      ]
     },
     "execution_count": 8,
     "metadata": {},
     "output_type": "execute_result"
    },
    {
     "data": {
      "image/png": "[encoded data removed]",
      "text/plain": [
       "<Figure size 432x288 with 1 Axes>"
      ]
     },
     "metadata": {
      "needs_background": "light"
     },
     "output_type": "display_data"
    }
   ],
   "source": [
    "sns.lineplot(range(1077), w)"
   ]
  },
  {
   "cell_type": "code",
   "execution_count": null,
   "metadata": {},
   "outputs": [],
   "source": []
  }
 ],
 "metadata": {
  "kernelspec": {
   "display_name": "Python 3",
   "language": "python",
   "name": "python3"
  },
  "language_info": {
   "codemirror_mode": {
    "name": "ipython",
    "version": 3
   },
   "file_extension": ".py",
   "mimetype": "text/x-python",
   "name": "python",
   "nbconvert_exporter": "python",
   "pygments_lexer": "ipython3",
   "version": "3.7.4"
  },
  "toc": {
   "base_numbering": 1,
   "nav_menu": {},
   "number_sections": true,
   "sideBar": true,
   "skip_h1_title": false,
   "title_cell": "Table of Contents",
   "title_sidebar": "Contents",
   "toc_cell": false,
   "toc_position": {},
   "toc_section_display": true,
   "toc_window_display": true
  }
 },
 "nbformat": 4,
 "nbformat_minor": 2
}
