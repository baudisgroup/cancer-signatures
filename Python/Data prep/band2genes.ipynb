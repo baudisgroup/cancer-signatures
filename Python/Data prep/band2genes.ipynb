{
 "cells": [
  {
   "cell_type": "markdown",
   "metadata": {},
   "source": [
    "Find genes in a band"
   ]
  },
  {
   "cell_type": "code",
   "execution_count": null,
   "metadata": {},
   "outputs": [],
   "source": [
    "# genes is a list of 24 lists, represents 24 chromosomes. Each sub-list stores the genes of that chromosome as another list\n",
    "genes = []\n",
    "for i in range(24):\n",
    "    genes.append([])\n",
    "    \n",
    "\n",
    "with open('/Users/bogao/DataFiles/Data/genome/protein_genes_biomart.tsv','r') as fin:\n",
    "    next(fin)\n",
    "    for line in fin:\n",
    "        tokens = line.strip().split('\\t')\n",
    "        if ('_' in tokens[2]) or ('M' in tokens[2]):\n",
    "            continue\n",
    "        elif 'X' in tokens[2]:\n",
    "            chro = 22\n",
    "        elif 'Y' in tokens[2]:\n",
    "            chro = 23\n",
    "        else:\n",
    "            chro = int(tokens[2])-1\n",
    "        \n",
    "        if len(line) == 6:\n",
    "            symbol = tokens[5]\n",
    "        else:\n",
    "            symbol = ''\n",
    "        # index of counters: total_dup=4, total_del=5, dup_length=6, del_length=7, dup_count=8, del_count=9,   \n",
    "        # list was used in the dataset version, replace with a dict here\n",
    "        # info = [int(tokens[1]),int(tokens[2]), *tokens[3:], *[0]*6] \n",
    "        info = {'start':int(tokens[3]), 'end':int(tokens[4]), 'id':tokens[0], 'symbol':symbol, \n",
    "                'total_dup':0, 'total_del':0, 'dup_length':0, 'del_length':0, 'dup_count':0, 'del_count':0}\n",
    "        genes[chro].append(info)\n",
    "\n",
    "        \n",
    "    "
   ]
  },
  {
   "cell_type": "code",
   "execution_count": null,
   "metadata": {},
   "outputs": [],
   "source": []
  }
 ],
 "metadata": {
  "kernelspec": {
   "display_name": "Python [conda env:tf] *",
   "language": "python",
   "name": "conda-env-tf-py"
  },
  "language_info": {
   "codemirror_mode": {
    "name": "ipython",
    "version": 3
   },
   "file_extension": ".py",
   "mimetype": "text/x-python",
   "name": "python",
   "nbconvert_exporter": "python",
   "pygments_lexer": "ipython3",
   "version": "3.6.9"
  }
 },
 "nbformat": 4,
 "nbformat_minor": 2
}
