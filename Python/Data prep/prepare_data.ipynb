{
 "cells": [
  {
   "cell_type": "markdown",
   "metadata": {},
   "source": [
    "Read cytoband or gene data from the database to np.arrays and pickle to disk"
   ]
  },
  {
   "cell_type": "code",
   "execution_count": 70,
   "metadata": {},
   "outputs": [],
   "source": [
    "import pandas as pd\n",
    "import numpy as np\n",
    "import pickle\n",
    "from pymongo import MongoClient\n",
    "\n",
    "import matplotlib.pyplot as plt\n",
    "%matplotlib inline\n",
    "import seaborn as sns"
   ]
  },
  {
   "cell_type": "code",
   "execution_count": 2,
   "metadata": {},
   "outputs": [],
   "source": [
    "client = MongoClient()"
   ]
  },
  {
   "cell_type": "markdown",
   "metadata": {},
   "source": [
    "### Cytoband data from skin, overy, breast"
   ]
  },
  {
   "cell_type": "markdown",
   "metadata": {},
   "source": [
    "Combined 3 dataset"
   ]
  },
  {
   "cell_type": "code",
   "execution_count": 7,
   "metadata": {},
   "outputs": [],
   "source": [
    "samples = []\n",
    "labels = []\n",
    "for collection in ['skin','ovary','breast']:\n",
    "    db = client['Rebased'][collection]\n",
    "\n",
    "    for sam in db.find({ 'cytobands': { '$exists': True, '$ne': None } }):\n",
    "        amps = []\n",
    "        dels = []\n",
    "        features = []\n",
    "        for band in sam['cytobands']:\n",
    "            if band['chro'] not in ['X','Y']:\n",
    "                amps.append(band['ave_dup'])\n",
    "                dels.append(band['ave_del'])\n",
    "        features = amps + dels\n",
    "        samples.append(features)\n",
    "        labels.append('{}_{}'.format(collection,sam['source']))"
   ]
  },
  {
   "cell_type": "markdown",
   "metadata": {},
   "source": [
    "Save to disk"
   ]
  },
  {
   "cell_type": "code",
   "execution_count": 11,
   "metadata": {},
   "outputs": [],
   "source": [
    "feat_mat = np.array(samples)"
   ]
  },
  {
   "cell_type": "code",
   "execution_count": 15,
   "metadata": {},
   "outputs": [],
   "source": [
    "feat_label = np.array(labels)"
   ]
  },
  {
   "cell_type": "code",
   "execution_count": 13,
   "metadata": {},
   "outputs": [],
   "source": [
    "filepath = '/Users/bogao/DataFiles/new landscape/data/sob_bands.pkl'\n",
    "with open(filepath, 'wb') as fo:\n",
    "    pickle.dump(feat_mat, fo)"
   ]
  },
  {
   "cell_type": "code",
   "execution_count": 16,
   "metadata": {},
   "outputs": [],
   "source": [
    "filepath = '/Users/bogao/DataFiles/new landscape/data/sob_bands_label.pkl'\n",
    "with open(filepath, 'wb') as fo:\n",
    "    pickle.dump(feat_label, fo)"
   ]
  },
  {
   "cell_type": "markdown",
   "metadata": {},
   "source": [
    "Dump Overy data to disk"
   ]
  },
  {
   "cell_type": "code",
   "execution_count": 4,
   "metadata": {},
   "outputs": [],
   "source": [
    "samples = []\n",
    "\n",
    "db = client['Rebased']['ovary']\n",
    "for sam in db.find({ 'cytobands': { '$exists': True, '$ne': None } }):\n",
    "    features = []\n",
    "    for band in sam['cytobands']:\n",
    "        if band['chro'] not in ['X','Y']:\n",
    "            features.extend([band['ave_dup'],band['ave_del']])\n",
    "    samples.append(features)\n",
    "    \n",
    "feat_mat = np.array(samples)\n",
    "with open('/Users/bogao/DataFiles/new landscape/data/ovary_bands.pkl', 'wb') as fo:\n",
    "    pickle.dump(feat_mat, fo)"
   ]
  },
  {
   "cell_type": "markdown",
   "metadata": {},
   "source": [
    "Dump Skin data to disk"
   ]
  },
  {
   "cell_type": "code",
   "execution_count": 5,
   "metadata": {},
   "outputs": [],
   "source": [
    "samples = []\n",
    "\n",
    "db = client['Rebased']['skin']\n",
    "for sam in db.find({ 'cytobands': { '$exists': True, '$ne': None } }):\n",
    "    features = []\n",
    "    for band in sam['cytobands']:\n",
    "        if band['chro'] not in ['X','Y']:\n",
    "            features.extend([band['ave_dup'],band['ave_del']])\n",
    "    samples.append(features)\n",
    "    \n",
    "feat_mat = np.array(samples)\n",
    "with open('/Users/bogao/DataFiles/new landscape/data/skin_bands.pkl', 'wb') as fo:\n",
    "    pickle.dump(feat_mat, fo)"
   ]
  },
  {
   "cell_type": "markdown",
   "metadata": {},
   "source": [
    "### Gene data from skin, breast and ovary"
   ]
  },
  {
   "cell_type": "markdown",
   "metadata": {},
   "source": [
    "Combined 3 dataset"
   ]
  },
  {
   "cell_type": "code",
   "execution_count": 28,
   "metadata": {},
   "outputs": [],
   "source": [
    "samples = []\n",
    "labels = []\n",
    "for collection in ['skin','ovary','breast']:\n",
    "    db = client['Rebased'][collection]\n",
    "\n",
    "    for sam in db.find({ 'genes': { '$exists': True, '$ne': None } }):\n",
    "        sam_amp = []\n",
    "        sam_del = []\n",
    "        for gene in sam['genes']:\n",
    "            if gene['chro'] not in ['X','Y']:\n",
    "                sam_amp.append(gene['ave_dup'])\n",
    "                sam_del.append(gene['ave_del'])\n",
    "        features = sam_amp + sam_del\n",
    "        samples.append(features)\n",
    "        labels.append('{}_{}'.format(collection,sam['source']))\n",
    "        "
   ]
  },
  {
   "cell_type": "markdown",
   "metadata": {},
   "source": [
    "Dump to file"
   ]
  },
  {
   "cell_type": "code",
   "execution_count": 31,
   "metadata": {},
   "outputs": [],
   "source": [
    "filepath = '/Users/bogao/DataFiles/new landscape/data/sob_genes.pkl'\n",
    "with open(filepath, 'wb') as fo:\n",
    "    pickle.dump(np.array(samples), fo)\n",
    "                \n",
    "filepath = '/Users/bogao/DataFiles/new landscape/data/sob_genes_label.pkl'\n",
    "with open(filepath, 'wb') as fo:\n",
    "    pickle.dump(np.array(labels), fo)"
   ]
  },
  {
   "cell_type": "markdown",
   "metadata": {},
   "source": [
    "Breast to file"
   ]
  },
  {
   "cell_type": "code",
   "execution_count": 27,
   "metadata": {},
   "outputs": [],
   "source": [
    "samples = []\n",
    "\n",
    "db = client['Rebased']['breast']\n",
    "for sam in db.find({ 'genes': { '$exists': True, '$ne': None } }):\n",
    "    sam_amp = []\n",
    "    sam_del = []\n",
    "    for gene in sam['genes']:\n",
    "        if gene['chro'] not in ['X','Y']:\n",
    "            sam_amp.append(gene['ave_dup'])\n",
    "            sam_del.append(gene['ave_del'])\n",
    "    features = sam_amp + sam_del\n",
    "    samples.append(features)\n",
    "    \n",
    "with open('/Users/bogao/DataFiles/new landscape/data/breast_genes.pkl', 'wb') as fo:\n",
    "    pickle.dump(np.array(samples), fo)"
   ]
  },
  {
   "cell_type": "markdown",
   "metadata": {},
   "source": [
    "Ovary to file"
   ]
  },
  {
   "cell_type": "code",
   "execution_count": 26,
   "metadata": {},
   "outputs": [],
   "source": [
    "samples = []\n",
    "\n",
    "db = client['Rebased']['ovary']\n",
    "for sam in db.find({ 'genes': { '$exists': True, '$ne': None } }):\n",
    "    sam_amp = []\n",
    "    sam_del = []\n",
    "    for gene in sam['genes']:\n",
    "        if gene['chro'] not in ['X','Y']:\n",
    "            sam_amp.append(gene['ave_dup'])\n",
    "            sam_del.append(gene['ave_del'])\n",
    "    features = sam_amp + sam_del\n",
    "    samples.append(features)\n",
    "    \n",
    "with open('/Users/bogao/DataFiles/new landscape/data/ovary_genes.pkl', 'wb') as fo:\n",
    "    pickle.dump(np.array(samples), fo)"
   ]
  },
  {
   "cell_type": "markdown",
   "metadata": {},
   "source": [
    "Skin to file"
   ]
  },
  {
   "cell_type": "code",
   "execution_count": 23,
   "metadata": {},
   "outputs": [],
   "source": [
    "samples = []\n",
    "\n",
    "db = client['Rebased']['skin']\n",
    "for sam in db.find({ 'genes': { '$exists': True, '$ne': None } }):\n",
    "    sam_amp = []\n",
    "    sam_del = []\n",
    "    for gene in sam['genes']:\n",
    "        if gene['chro'] not in ['X','Y']:\n",
    "            sam_amp.append(gene['ave_dup'])\n",
    "            sam_del.append(gene['ave_del'])\n",
    "    \n",
    "    features = sam_amp + sam_del\n",
    "    samples.append(features)\n",
    "\n",
    "    \n",
    "with open('/Users/bogao/DataFiles/new landscape/data/skin_genes.pkl', 'wb') as fo:\n",
    "    pickle.dump(np.array(samples), fo)"
   ]
  },
  {
   "cell_type": "code",
   "execution_count": 32,
   "metadata": {},
   "outputs": [
    {
     "data": {
      "text/plain": [
       "38074"
      ]
     },
     "execution_count": 32,
     "metadata": {},
     "output_type": "execute_result"
    }
   ],
   "source": [
    "len(samples[1])"
   ]
  },
  {
   "cell_type": "code",
   "execution_count": 33,
   "metadata": {},
   "outputs": [
    {
     "data": {
      "text/plain": [
       "9636"
      ]
     },
     "execution_count": 33,
     "metadata": {},
     "output_type": "execute_result"
    }
   ],
   "source": [
    "len(samples)"
   ]
  },
  {
   "cell_type": "code",
   "execution_count": 34,
   "metadata": {},
   "outputs": [],
   "source": [
    "sob = np.array(samples)"
   ]
  },
  {
   "cell_type": "code",
   "execution_count": 47,
   "metadata": {},
   "outputs": [
    {
     "data": {
      "text/plain": [
       "(9636, 0)"
      ]
     },
     "execution_count": 47,
     "metadata": {},
     "output_type": "execute_result"
    }
   ],
   "source": [
    "sob[:,np.all(sob>1, axis=0)].shape"
   ]
  },
  {
   "cell_type": "code",
   "execution_count": 67,
   "metadata": {},
   "outputs": [],
   "source": [
    "sob_sum = np.sum(sob, axis=0)"
   ]
  },
  {
   "cell_type": "code",
   "execution_count": 68,
   "metadata": {},
   "outputs": [
    {
     "data": {
      "text/plain": [
       "(38074,)"
      ]
     },
     "execution_count": 68,
     "metadata": {},
     "output_type": "execute_result"
    }
   ],
   "source": [
    "sob_sum.shape"
   ]
  },
  {
   "cell_type": "code",
   "execution_count": 69,
   "metadata": {},
   "outputs": [
    {
     "data": {
      "text/plain": [
       "array([ 3721.85048827,  3707.80643506,  3721.93768986, ...,\n",
       "       -2703.57473942, -2739.19586923, -2719.2826098 ])"
      ]
     },
     "execution_count": 69,
     "metadata": {},
     "output_type": "execute_result"
    }
   ],
   "source": [
    "sob_sum"
   ]
  },
  {
   "cell_type": "code",
   "execution_count": 57,
   "metadata": {},
   "outputs": [],
   "source": [
    "t = np.array([[0,2,3],[0,1,0]])"
   ]
  },
  {
   "cell_type": "code",
   "execution_count": 58,
   "metadata": {},
   "outputs": [
    {
     "data": {
      "text/plain": [
       "array([[0, 2, 3],\n",
       "       [0, 1, 0]])"
      ]
     },
     "execution_count": 58,
     "metadata": {},
     "output_type": "execute_result"
    }
   ],
   "source": [
    "t"
   ]
  },
  {
   "cell_type": "code",
   "execution_count": 62,
   "metadata": {},
   "outputs": [
    {
     "data": {
      "text/plain": [
       "array([ True, False, False])"
      ]
     },
     "execution_count": 62,
     "metadata": {},
     "output_type": "execute_result"
    }
   ],
   "source": [
    "np.all(t==0, axis=0)"
   ]
  },
  {
   "cell_type": "code",
   "execution_count": 66,
   "metadata": {},
   "outputs": [
    {
     "data": {
      "text/plain": [
       "array([5, 1])"
      ]
     },
     "execution_count": 66,
     "metadata": {},
     "output_type": "execute_result"
    }
   ],
   "source": [
    "np.sum(t,axis=1)"
   ]
  },
  {
   "cell_type": "code",
   "execution_count": 77,
   "metadata": {},
   "outputs": [
    {
     "data": {
      "text/plain": [
       "<matplotlib.axes._subplots.AxesSubplot at 0x299ac14d0>"
      ]
     },
     "execution_count": 77,
     "metadata": {},
     "output_type": "execute_result"
    },
    {
     "data": {
      "image/png": "[encoded data removed]",
      "text/plain": [
       "<Figure size 432x288 with 1 Axes>"
      ]
     },
     "metadata": {
      "needs_background": "light"
     },
     "output_type": "display_data"
    }
   ],
   "source": [
    "sns.distplot(np.abs(sob_sum)/9636)"
   ]
  },
  {
   "cell_type": "code",
   "execution_count": 72,
   "metadata": {},
   "outputs": [
    {
     "data": {
      "text/plain": [
       "1752.4727977231112"
      ]
     },
     "execution_count": 72,
     "metadata": {},
     "output_type": "execute_result"
    }
   ],
   "source": [
    "np.mean(np.abs(sob_sum))"
   ]
  },
  {
   "cell_type": "code",
   "execution_count": 81,
   "metadata": {},
   "outputs": [
    {
     "data": {
      "text/plain": [
       "(1985,)"
      ]
     },
     "execution_count": 81,
     "metadata": {},
     "output_type": "execute_result"
    }
   ],
   "source": [
    "sob_sum[np.abs(sob_sum)/9636 > 0.4].shape"
   ]
  },
  {
   "cell_type": "code",
   "execution_count": null,
   "metadata": {},
   "outputs": [],
   "source": []
  }
 ],
 "metadata": {
  "kernelspec": {
   "display_name": "Python 3",
   "language": "python",
   "name": "python3"
  },
  "language_info": {
   "codemirror_mode": {
    "name": "ipython",
    "version": 3
   },
   "file_extension": ".py",
   "mimetype": "text/x-python",
   "name": "python",
   "nbconvert_exporter": "python",
   "pygments_lexer": "ipython3",
   "version": "3.7.4"
  }
 },
 "nbformat": 4,
 "nbformat_minor": 2
}
