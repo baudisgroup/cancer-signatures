{
 "cells": [
  {
   "cell_type": "markdown",
   "metadata": {},
   "source": [
    "Normalize data using mecan, data are filtered during normalization, and normalized data is stored back to the same record."
   ]
  },
  {
   "cell_type": "code",
   "execution_count": 1,
   "metadata": {},
   "outputs": [
    {
     "data": {
      "text/html": [
       "<style>.container { width:90% !important; }</style>"
      ],
      "text/plain": [
       "<IPython.core.display.HTML object>"
      ]
     },
     "metadata": {},
     "output_type": "display_data"
    }
   ],
   "source": [
    "import sys, os\n",
    "sys.path.append('/Users/bogao/Desktop/projects/Relative copy number/Python/mecan')\n",
    "import mecan4cna.algorithms as alg\n",
    "import mecan4cna.common as comm\n",
    "from pymongo import MongoClient\n",
    "from IPython.core.display import display, HTML\n",
    "display(HTML(\"<style>.container { width:90% !important; }</style>\"))"
   ]
  },
  {
   "cell_type": "code",
   "execution_count": 3,
   "metadata": {
    "collapsed": true
   },
   "outputs": [],
   "source": [
    "client = MongoClient()"
   ]
  },
  {
   "cell_type": "markdown",
   "metadata": {},
   "source": [
    "The original testing code"
   ]
  },
  {
   "cell_type": "code",
   "execution_count": 11,
   "metadata": {},
   "outputs": [],
   "source": [
    "db = client['Rebased']['skin']\n",
    "for sam in db.find():\n",
    "    if (sam['base'] != None) and (sam['base'] <= 2.3) and (sam['base'] >= 1.7):\n",
    "        normalized = comm.normalize(sam['segments'], sam['base'], sam['level_distance'])\n",
    "    else:\n",
    "        normalized = None\n",
    "    db.update_one({'sample_id':sam['sample_id']}, {'$set':{'normalized':normalized}}, upsert=True)"
   ]
  },
  {
   "cell_type": "markdown",
   "metadata": {},
   "source": [
    "A function easy processing"
   ]
  },
  {
   "cell_type": "code",
   "execution_count": 17,
   "metadata": {},
   "outputs": [],
   "source": [
    "def normalizeDataset(database, collection):\n",
    "    db = client[database][collection]\n",
    "    for sam in db.find():\n",
    "        if (sam['base'] != None) and (sam['base'] <= 2.3) and (sam['base'] >= 1.7):\n",
    "            normalized = comm.normalize(sam['segments'], sam['base'], sam['level_distance'])\n",
    "        else:\n",
    "            normalized = None\n",
    "        db.update_one({'sample_id':sam['sample_id']}, {'$set':{'normalized':normalized}}, upsert=True)"
   ]
  },
  {
   "cell_type": "markdown",
   "metadata": {},
   "source": [
    "Loop over all datasets"
   ]
  },
  {
   "cell_type": "code",
   "execution_count": 18,
   "metadata": {},
   "outputs": [],
   "source": [
    "for collection in ['breast', 'skin','ovary']:\n",
    "    normalizeDataset('Rebased', collection)"
   ]
  },
  {
   "cell_type": "code",
   "execution_count": null,
   "metadata": {
    "collapsed": true
   },
   "outputs": [],
   "source": []
  }
 ],
 "metadata": {
  "kernelspec": {
   "display_name": "Python 3",
   "language": "python",
   "name": "python3"
  },
  "language_info": {
   "codemirror_mode": {
    "name": "ipython",
    "version": 3
   },
   "file_extension": ".py",
   "mimetype": "text/x-python",
   "name": "python",
   "nbconvert_exporter": "python",
   "pygments_lexer": "ipython3",
   "version": "3.7.4"
  }
 },
 "nbformat": 4,
 "nbformat_minor": 2
}
