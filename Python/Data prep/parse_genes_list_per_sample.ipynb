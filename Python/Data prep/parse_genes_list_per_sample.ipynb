{
 "cells": [
  {
   "cell_type": "markdown",
   "metadata": {},
   "source": [
    "Read gene info(hg38) from a file, for each sample, count the overlaps in each gene than save to db.  \n",
    "This is the modified version based on the cytoband per sample. Gene list from biomart\n",
    "Current version."
   ]
  },
  {
   "cell_type": "code",
   "execution_count": 2,
   "metadata": {},
   "outputs": [
    {
     "data": {
      "text/html": [
       "<style>.container { width:90% !important; }</style>"
      ],
      "text/plain": [
       "<IPython.core.display.HTML object>"
      ]
     },
     "metadata": {},
     "output_type": "display_data"
    }
   ],
   "source": [
    "import pandas as pd\n",
    "import numpy as np\n",
    "from pymongo import MongoClient\n",
    "import copy\n",
    "\n",
    "from IPython.core.display import display, HTML\n",
    "display(HTML(\"<style>.container { width:90% !important; }</style>\"))"
   ]
  },
  {
   "cell_type": "markdown",
   "metadata": {},
   "source": [
    "## Script Verison  \n",
    "Test data"
   ]
  },
  {
   "cell_type": "code",
   "execution_count": null,
   "metadata": {
    "collapsed": true
   },
   "outputs": [],
   "source": [
    "db = MongoClient()['Rebased']['skin']\n",
    "samples = []\n",
    "for sam in db.find():\n",
    "    samples.append(sam)"
   ]
  },
  {
   "cell_type": "markdown",
   "metadata": {},
   "source": [
    "Parse genes manually to a list of lists for faster computation later"
   ]
  },
  {
   "cell_type": "code",
   "execution_count": 3,
   "metadata": {},
   "outputs": [],
   "source": [
    "# genes is a list of 24 lists, represents 24 chromosomes. Each sub-list stores the genes of that chromosome as another list\n",
    "genes = []\n",
    "for i in range(24):\n",
    "    genes.append([])\n",
    "    \n",
    "\n",
    "with open('/Users/bogao/DataFiles/Data/genome/protein_genes_biomart.tsv','r') as fin:\n",
    "    next(fin)\n",
    "    for line in fin:\n",
    "        tokens = line.strip().split('\\t')\n",
    "        if ('_' in tokens[2]) or ('M' in tokens[2]):\n",
    "            continue\n",
    "        elif 'X' in tokens[2]:\n",
    "            chro = 22\n",
    "        elif 'Y' in tokens[2]:\n",
    "            chro = 23\n",
    "        else:\n",
    "            chro = int(tokens[2])-1\n",
    "        \n",
    "        if len(line) == 6:\n",
    "            symbol = tokens[5]\n",
    "        else:\n",
    "            symbol = ''\n",
    "        # index of counters: total_dup=4, total_del=5, dup_length=6, del_length=7, dup_count=8, del_count=9,   \n",
    "        # list was used in the dataset version, replace with a dict here\n",
    "        # info = [int(tokens[1]),int(tokens[2]), *tokens[3:], *[0]*6] \n",
    "        info = {'start':int(tokens[3]), 'end':int(tokens[4]), 'id':tokens[0], 'symbol':symbol, \n",
    "                'total_dup':0, 'total_del':0, 'dup_length':0, 'del_length':0, 'dup_count':0, 'del_count':0}\n",
    "        genes[chro].append(info)\n",
    "\n",
    "        \n",
    "    "
   ]
  },
  {
   "cell_type": "markdown",
   "metadata": {},
   "source": [
    "Most of the time, a gene is only cover once, just for strange cases. Codes adopted from dataset aggregation."
   ]
  },
  {
   "cell_type": "code",
   "execution_count": null,
   "metadata": {
    "scrolled": false
   },
   "outputs": [],
   "source": [
    "c = 1\n",
    "\n",
    "for sam in samples:\n",
    "    this_genes = copy.deepcopy(genes)\n",
    "    \n",
    "    for seg in sam['segments']:\n",
    "        if seg['chro'] == 'X':\n",
    "            chro = 22\n",
    "        elif seg['chro'] == 'Y':\n",
    "            chro = 23\n",
    "        else:\n",
    "            chro = int(seg['chro'])-1\n",
    "            \n",
    "        # find all matching bands\n",
    "        for b in this_genes[chro]:\n",
    "            if (b['start'] < seg['end']) and (b['end'] >= seg['start']):\n",
    "                size = min(b['end'],seg['end']) - max(b['start'],seg['start'])\n",
    "                \n",
    "                # dup\n",
    "                if seg['value'] > 0:\n",
    "                    # update total value\n",
    "                    b['total_dup'] += size*seg['value']\n",
    "                    # update total_length\n",
    "                    b['dup_length'] += size\n",
    "                    # update count\n",
    "                    b['dup_count'] +=1\n",
    "                # del\n",
    "                else:\n",
    "                    # update total value\n",
    "                    b['total_del'] += size*seg['value']\n",
    "                    # update total_length\n",
    "                    b['del_length'] += size\n",
    "                    # update count\n",
    "                    b['del_count'] +=1\n",
    "        \n",
    "        # flat the nested bands\n",
    "        flat_genes = []\n",
    "        idx = 1\n",
    "        for ch in this_genes:\n",
    "            if idx == 23:\n",
    "                chro = 'X'\n",
    "            elif idx == 24:\n",
    "                chro = 'Y'\n",
    "            else:\n",
    "                chro = str(idx)\n",
    "            for b in ch:\n",
    "                # add chromosom\n",
    "                b['chro'] = chro\n",
    "                # compute average signals\n",
    "                if b['dup_length'] >0:\n",
    "                    b['ave_dup'] = b['total_dup'] / b['dup_length']\n",
    "                else:\n",
    "                    b['ave_dup'] = 0\n",
    "                    \n",
    "                if b['del_length'] >0:\n",
    "                    b['ave_del'] = b['total_del'] / b['del_length']\n",
    "                else:\n",
    "                    b['ave_del'] = 0\n",
    "                \n",
    "#                 # psudo-probes\n",
    "#                 b['probes'] = 10\n",
    "#                 b['value'] = b['ave_del'] + b['ave_dup']\n",
    "                flat_genes.append(b)\n",
    "            idx +=1        \n",
    "    sam['genes'] = flat_genes\n",
    "    print(c, end='\\r')\n",
    "    c +=1\n",
    "    \n",
    "    if c>10:\n",
    "        break"
   ]
  },
  {
   "cell_type": "markdown",
   "metadata": {},
   "source": [
    "## Funtion version"
   ]
  },
  {
   "cell_type": "code",
   "execution_count": 5,
   "metadata": {},
   "outputs": [],
   "source": [
    "def geneOverlap(genes, dbin, vtype='normalized'):\n",
    "\n",
    "    c = 1\n",
    "    for sam in dbin.find():\n",
    "        this_genes = copy.deepcopy(genes)\n",
    "        if (vtype in sam.keys()) and (sam[vtype] != None):\n",
    "            for seg in sam[vtype]:\n",
    "                if seg['probes'] >4:\n",
    "                    \n",
    "                    if seg['value'] >2:\n",
    "                        val = 2\n",
    "                    else:\n",
    "                        val = seg['value']\n",
    "                    \n",
    "                    if seg['chro'] == 'X':\n",
    "                        chro = 22\n",
    "                    elif seg['chro'] == 'Y':\n",
    "                        chro = 23\n",
    "                    else:\n",
    "                        chro = int(seg['chro'])-1\n",
    "\n",
    "                    # find all matching bands\n",
    "                    for b in this_genes[chro]:\n",
    "                        if (b['start'] < seg['end']) and (b['end'] >= seg['start']):\n",
    "                            size = min(b['end'],seg['end']) - max(b['start'],seg['start'])\n",
    "\n",
    "                            # dup\n",
    "                            if seg['value'] > 0:\n",
    "                                # update total value\n",
    "                                b['total_dup'] += size*seg['value']\n",
    "                                # update total_length\n",
    "                                b['dup_length'] += size\n",
    "                                # update count\n",
    "                                b['dup_count'] +=1\n",
    "                            # del\n",
    "                            else:\n",
    "                                # update total value\n",
    "                                b['total_del'] += size*seg['value']\n",
    "                                # update total_length\n",
    "                                b['del_length'] += size\n",
    "                                # update count\n",
    "                                b['del_count'] +=1\n",
    "\n",
    "                # flat the nested bands\n",
    "                flat_genes = []\n",
    "                idx = 1\n",
    "                for ch in this_genes:\n",
    "                    if idx == 23:\n",
    "                        chro = 'X'\n",
    "                    elif idx == 24:\n",
    "                        chro = 'Y'\n",
    "                    else:\n",
    "                        chro = str(idx)\n",
    "                    for b in ch:\n",
    "                        # add chromosom\n",
    "                        b['chro'] = chro\n",
    "                        # compute average signals\n",
    "                        if b['dup_length'] >0:\n",
    "                            b['ave_dup'] = b['total_dup'] / b['dup_length']\n",
    "                        else:\n",
    "                            b['ave_dup'] = 0\n",
    "\n",
    "                        if b['del_length'] >0:\n",
    "                            b['ave_del'] = b['total_del'] / b['del_length']\n",
    "                        else:\n",
    "                            b['ave_del'] = 0\n",
    "\n",
    "                        flat_genes.append(b)\n",
    "                    idx +=1        \n",
    "            dbin.update_one({'sample_id':sam['sample_id']}, {'$set':{'genes':flat_genes}}, upsert=True)\n",
    "            print(c, end='\\r')\n",
    "            c +=1\n",
    "    return 0"
   ]
  },
  {
   "cell_type": "code",
   "execution_count": 6,
   "metadata": {},
   "outputs": [
    {
     "name": "stdout",
     "output_type": "stream",
     "text": [
      "6250\r"
     ]
    }
   ],
   "source": [
    "# ret = geneOverlap(genes, MongoClient()['Rebased']['skin'])\n",
    "# ret = geneOverlap(genes, MongoClient()['Rebased']['ovary'])\n",
    "ret = geneOverlap(genes, MongoClient()['Rebased']['breast'])"
   ]
  },
  {
   "cell_type": "markdown",
   "metadata": {},
   "source": [
    "## Testings"
   ]
  },
  {
   "cell_type": "code",
   "execution_count": null,
   "metadata": {
    "collapsed": true
   },
   "outputs": [],
   "source": [
    "import sys, os\n",
    "sys.path.append('/Users/bogao/Desktop/projects/Relative copy number/Python/mecan')\n",
    "import mecan4cna.algorithms as alg\n",
    "import mecan4cna.common as comm"
   ]
  },
  {
   "cell_type": "code",
   "execution_count": null,
   "metadata": {
    "collapsed": true
   },
   "outputs": [],
   "source": [
    "db = MongoClient()['Rebased']['skin']\n",
    "test_genes = []\n",
    "for sam in db.find():\n",
    "    test_genes.append(sam)"
   ]
  },
  {
   "cell_type": "code",
   "execution_count": null,
   "metadata": {},
   "outputs": [],
   "source": [
    "idx = 20\n",
    "comm.plotSegments(test_genes[idx]['segments'])"
   ]
  },
  {
   "cell_type": "code",
   "execution_count": null,
   "metadata": {},
   "outputs": [],
   "source": [
    "for seg in test_genes[idx]['genes']:\n",
    "    seg['probes'] = 10\n",
    "    seg['value'] = seg['ave_del'] + seg['ave_dup']\n",
    "\n",
    "comm.plotSegments(test_genes[idx]['genes'])"
   ]
  },
  {
   "cell_type": "code",
   "execution_count": null,
   "metadata": {},
   "outputs": [],
   "source": [
    "samples[2]['cytobands'][22]"
   ]
  },
  {
   "cell_type": "code",
   "execution_count": null,
   "metadata": {
    "collapsed": true
   },
   "outputs": [],
   "source": []
  }
 ],
 "metadata": {
  "kernelspec": {
   "display_name": "Python 3",
   "language": "python",
   "name": "python3"
  },
  "language_info": {
   "codemirror_mode": {
    "name": "ipython",
    "version": 3
   },
   "file_extension": ".py",
   "mimetype": "text/x-python",
   "name": "python",
   "nbconvert_exporter": "python",
   "pygments_lexer": "ipython3",
   "version": "3.7.4"
  }
 },
 "nbformat": 4,
 "nbformat_minor": 2
}
