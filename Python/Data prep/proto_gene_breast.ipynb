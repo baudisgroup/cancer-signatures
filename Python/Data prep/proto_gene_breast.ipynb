{
 "cells": [
  {
   "cell_type": "code",
   "execution_count": 1,
   "metadata": {
    "collapsed": true
   },
   "outputs": [],
   "source": [
    "from pymongo import MongoClient\n",
    "import sys, os\n",
    "sys.path.append('/Users/bogao/Desktop/projects/Relative copy number/Python/mecan')\n",
    "import mecan4cna.algorithms as alg\n",
    "import operator\n",
    "from natsort import natsorted \n",
    "\n",
    "m = alg.mecan()"
   ]
  },
  {
   "cell_type": "markdown",
   "metadata": {},
   "source": [
    "tcga breast"
   ]
  },
  {
   "cell_type": "code",
   "execution_count": 2,
   "metadata": {},
   "outputs": [],
   "source": [
    "tcga_data = []\n",
    "db = MongoClient()['tcga']['masked_v2']\n",
    "\n",
    "for sample in db.find({'project_id':'TCGA-BRCA'}):\n",
    "    if 'Normal' not in sample['sample_type']:\n",
    "        tcga_data.append({'source': 'TCGA',\n",
    "                          'project': sample['project_id'],\n",
    "                          'sample_id': sample['file_id'],\n",
    "                          'morphology': sample['morphology'],\n",
    "                          'topography': sample['tissue_origin'],\n",
    "                          'stage': sample['tumor_stage'],\n",
    "                          'gender': sample['gender'],\n",
    "                          'age': sample['age_at_diagnosis'],\n",
    "                          'vital_status': sample['vital_status'],\n",
    "                          'file_path': sample['file_path'],\n",
    "                          'segments': sample['variants_cnv']})"
   ]
  },
  {
   "cell_type": "code",
   "execution_count": 4,
   "metadata": {},
   "outputs": [],
   "source": [
    "m.peak_thresh=5000\n",
    "for sample in tcga_data:\n",
    "    res = m.run(sample['segments'])\n",
    "    if len(res) > 1:\n",
    "        base = res[0]\n",
    "        level_dist = res[1]\n",
    "    else:\n",
    "        base = None\n",
    "        level_dist = None\n",
    "    sample['base'] = base\n",
    "    sample['level_distance'] = level_dist"
   ]
  },
  {
   "cell_type": "code",
   "execution_count": 5,
   "metadata": {},
   "outputs": [
    {
     "data": {
      "text/plain": [
       "<pymongo.results.InsertManyResult at 0x12310be58>"
      ]
     },
     "execution_count": 5,
     "metadata": {},
     "output_type": "execute_result"
    }
   ],
   "source": [
    "db = MongoClient()['Rebased']['breast_tcga_levelscore_2']\n",
    "db.drop()\n",
    "db.insert_many(tcga_data)"
   ]
  },
  {
   "cell_type": "markdown",
   "metadata": {},
   "source": [
    "arraymap breast"
   ]
  },
  {
   "cell_type": "code",
   "execution_count": null,
   "metadata": {},
   "outputs": [],
   "source": [
    "arraymap_data = []\n",
    "db_am_bs = MongoClient()['arraymap_ga4gh']['biosamples']\n",
    "db_am_ind = MongoClient()['arraymap_ga4gh']['individuals']\n",
    "db_am_cs = MongoClient()['arraymap_ga4gh']['callsets']\n",
    "db_am_var = MongoClient()['arraymap_ga4gh']['variants']\n",
    "\n",
    "# i = 0\n",
    "\n",
    "for sample in db_am_bs.find():\n",
    "    bs_id = sample['id']\n",
    "    ind_id = sample['individual_id']\n",
    "    project = sample['project_id']\n",
    "    morphology = sample['biocharacteristics'][1]['type']['id']\n",
    "\n",
    "    if morphology in ['icdom-00000', 'icdom-']:\n",
    "        continue\n",
    "\n",
    "    topography = sample['biocharacteristics'][0]['type']['id']\n",
    "    \n",
    "    if topography == 'icdot-C50.9':\n",
    "    \n",
    "        try:\n",
    "            stage = sample['info']['tnm']\n",
    "        except:\n",
    "            stage = None\n",
    "\n",
    "        ind = db_am_ind.find_one({'id': ind_id})\n",
    "        gender = ind['biocharacteristics'][0]['description']\n",
    "\n",
    "        age = sample['age_at_collection']['age']\n",
    "        vital_status = sample['info']['death']\n",
    "\n",
    "        cs = db_am_cs.find_one({'biosample_id': bs_id})\n",
    "\n",
    "        try:\n",
    "            file_path = cs['info']['paths']['segmentfile']\n",
    "        except:\n",
    "            continue\n",
    "\n",
    "        platform = cs['description']\n",
    "\n",
    "        segments = []\n",
    "        for var in db_am_var.find({'biosample_id': bs_id}):\n",
    "            segments.append({'chro': var['reference_name'],\n",
    "                             'start': var['start'][0],\n",
    "                             'end': var['end'][0],\n",
    "                             'probes': var['info']['cnv_length'],\n",
    "                             'value': var['info']['cnv_value']})\n",
    "    #     segments = sorted(segments, key=operator.itemgetter('chro','start'))\n",
    "        segments = natsorted(segments, key=operator.itemgetter('chro','start'))\n",
    "\n",
    "        arraymap_data.append({'source': 'arraymap',\n",
    "                              'project': project,\n",
    "                              'sample_id': bs_id,\n",
    "                              'morphology': morphology,\n",
    "                              'topography': topography,\n",
    "                              'stage': stage,\n",
    "                              'gender': gender,\n",
    "                              'age': age,\n",
    "                              'vital_status': vital_status,\n",
    "                              'file_path': file_path,\n",
    "                              'platform': platform,\n",
    "                              'segments': segments})"
   ]
  },
  {
   "cell_type": "code",
   "execution_count": null,
   "metadata": {},
   "outputs": [],
   "source": [
    "for sample in arraymap_data:\n",
    "\n",
    "    try:\n",
    "        if 'snp 6' in sample['platform']:\n",
    "            m.peak_thresh=5000\n",
    "        elif '250k' in sample['platform']:\n",
    "            m.peak_thresh=2000\n",
    "        else: \n",
    "            m.peak_thresh=1000\n",
    "            \n",
    "        res = m.run(sample['segments'])\n",
    "        if len(res) > 1:\n",
    "            base = res[0]\n",
    "            level_dist = res[1]\n",
    "        else:\n",
    "            base = None\n",
    "            level_dist = None\n",
    "    except Exception as e:\n",
    "        print(e)\n",
    "        base = None\n",
    "        level_dist = None\n",
    "    \n",
    "    sample['base'] = base\n",
    "    sample['level_distance'] = level_dist"
   ]
  },
  {
   "cell_type": "code",
   "execution_count": null,
   "metadata": {},
   "outputs": [],
   "source": [
    "db = MongoClient()['Rebased']['breast_arraymap']\n",
    "db.drop()\n",
    "db.insert_many(arraymap_data)"
   ]
  },
  {
   "cell_type": "markdown",
   "metadata": {},
   "source": [
    "pcwag breast"
   ]
  },
  {
   "cell_type": "code",
   "execution_count": null,
   "metadata": {},
   "outputs": [],
   "source": [
    "pcawg_data = []\n",
    "db = MongoClient()['pcawg']['samples_hg38']\n",
    "out_path = '/Volumes/originalData/ICGC/PCAWG_segments_hg38'\n",
    "\n",
    "for sample in db.find({'project_code': {'$in': ['BRCA-EU','BRCA-UK']}}):\n",
    "    if 'Normal' not in sample['sample_type']:\n",
    "        pcawg_data.append({'source': 'PCAWG',\n",
    "                          'project': sample['project_code'],\n",
    "                          'sample_id': sample['sample_id'],\n",
    "                          'morphology': sample['donor_diagnosis_icd10'],\n",
    "                          'topography': None,\n",
    "                          'stage': sample['donor_tumour_stage_at_diagnosis'],\n",
    "                          'gender': sample['donor_sex'],\n",
    "                          'age': sample['donor_age_at_diagnosis'],\n",
    "                          'vital_status': sample['donor_vital_status'],\n",
    "                          'file_path': os.path.join(out_path, sample['sample_id']),\n",
    "                          'segments': sample['segments'],\n",
    "                          'platform': 'WGS'})"
   ]
  },
  {
   "cell_type": "code",
   "execution_count": null,
   "metadata": {
    "collapsed": true
   },
   "outputs": [],
   "source": [
    "m.peak_thresh=5000\n",
    "for sample in pcawg_data:\n",
    "    res = m.run(sample['segments'])\n",
    "    if len(res) > 1:\n",
    "        base = res[0]\n",
    "        level_dist = res[1]\n",
    "    else:\n",
    "        base = None\n",
    "        level_dist = None\n",
    "    sample['base'] = base\n",
    "    sample['level_distance'] = level_dist"
   ]
  },
  {
   "cell_type": "code",
   "execution_count": null,
   "metadata": {},
   "outputs": [],
   "source": [
    "db = MongoClient()['Rebased']['breast_pcwag']\n",
    "db.drop()\n",
    "db.insert_many(pcawg_data)"
   ]
  },
  {
   "cell_type": "code",
   "execution_count": null,
   "metadata": {
    "collapsed": true
   },
   "outputs": [],
   "source": []
  }
 ],
 "metadata": {
  "kernelspec": {
   "display_name": "Python 3",
   "language": "python",
   "name": "python3"
  },
  "language_info": {
   "codemirror_mode": {
    "name": "ipython",
    "version": 3
   },
   "file_extension": ".py",
   "mimetype": "text/x-python",
   "name": "python",
   "nbconvert_exporter": "python",
   "pygments_lexer": "ipython3",
   "version": "3.6.8"
  }
 },
 "nbformat": 4,
 "nbformat_minor": 2
}
