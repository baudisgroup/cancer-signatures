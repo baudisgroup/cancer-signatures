{
 "cells": [
  {
   "cell_type": "markdown",
   "metadata": {},
   "source": [
    "Read cytobands(hg38) from a file, for each dataset, count the overlaps in each band than save to db.  \n",
    "This is the first version using dataframe, it was too slow, the new verison uisng List is much faster.  \n",
    "Depreciated version."
   ]
  },
  {
   "cell_type": "code",
   "execution_count": 133,
   "metadata": {},
   "outputs": [
    {
     "data": {
      "text/html": [
       "<style>.container { width:90% !important; }</style>"
      ],
      "text/plain": [
       "<IPython.core.display.HTML object>"
      ]
     },
     "metadata": {},
     "output_type": "display_data"
    }
   ],
   "source": [
    "import pandas as pd\n",
    "import numpy as np\n",
    "from pymongo import MongoClient\n",
    "from IPython.core.display import display, HTML\n",
    "display(HTML(\"<style>.container { width:90% !important; }</style>\"))"
   ]
  },
  {
   "cell_type": "markdown",
   "metadata": {},
   "source": [
    "Read cytoband info from a file. Remove chromosome piecies, only keep 1-22,X,Y. Intit counting params"
   ]
  },
  {
   "cell_type": "code",
   "execution_count": 225,
   "metadata": {
    "collapsed": true
   },
   "outputs": [],
   "source": [
    "\n",
    "bands = pd.read_csv('/Users/bogao/DataFiles/Data/genome/cytoBand_hg38.txt',sep='\\t', header=None,\n",
    "                     names=['chro','start','end','name','note'])\n",
    "\n",
    "bands = bands[~bands.chro.str.contains('_|M')]\n",
    "\n",
    "bands = bands.assign(total_amp=0, total_dup=0, total_length=0, count=0, length=0)"
   ]
  },
  {
   "cell_type": "markdown",
   "metadata": {},
   "source": [
    "The function version, details not updated to the final version"
   ]
  },
  {
   "cell_type": "code",
   "execution_count": 149,
   "metadata": {},
   "outputs": [
    {
     "name": "stdout",
     "output_type": "stream",
     "text": [
      "6488\r"
     ]
    }
   ],
   "source": [
    "def cytobandOverlaps(bands, collection, label):\n",
    "    db = MongoClient()['Rebased'][collection]\n",
    "    samples = []\n",
    "    for sam in db.find():\n",
    "        samples.append(sam)\n",
    "\n",
    "    c = 1\n",
    "    for sam in samples:\n",
    "        for seg in sam['segments']:\n",
    "            chrom = ''.join(['chr', seg['chro']])\n",
    "            # update length in each\n",
    "            sizes = []\n",
    "            for index, row in bands.loc[ (bands['chro'] ==chrom) & (bands['start'] < seg['end']) & (bands['end'] >= seg['start'])].iterrows():\n",
    "                size = min(row['end'],seg['end']) - max(row['start'],seg['start'])\n",
    "                sizes.append(size)\n",
    "\n",
    "            bands.loc[ (bands['chro'] ==chrom) & (bands['start'] < seg['end']) & (bands['end'] >= seg['start']), 'length'] = sizes\n",
    "\n",
    "            # update count\n",
    "            bands.loc[ (bands['chro'] ==chrom) & (bands['start'] < seg['end']) & (bands['end'] >= seg['start']), 'count'] +=1\n",
    "\n",
    "            # update total_length\n",
    "            bands.loc[ (bands['chro'] ==chrom) & (bands['start'] < seg['end']) & (bands['end'] >= seg['start']), 'total_length'] += bands.loc[ (bands['chro'] ==chrom) & (bands['start'] < seg['end']) & (bands['end'] >= seg['start']), 'length']\n",
    "\n",
    "            # update signal\n",
    "            if seg['value'] > 0:\n",
    "                bands.loc[ (bands['chro'] ==chrom) & (bands['start'] < seg['end']) & (bands['end'] >= seg['start']), 'total_amp'] += seg['value']\n",
    "            else:\n",
    "                bands.loc[ (bands['chro'] ==chrom) & (bands['start'] < seg['end']) & (bands['end'] >= seg['start']), 'total_dup'] += seg['value']\n",
    "        print(c, end='\\r')\n",
    "        c +=1\n",
    "    bands_dict = bands.to_dict('records')\n",
    "    db = MongoClient()['Rebased'][label]\n",
    "    db.drop()\n",
    "    db.insert_many(bands_dict)"
   ]
  },
  {
   "cell_type": "markdown",
   "metadata": {},
   "source": [
    "Convert to records and save to db"
   ]
  },
  {
   "cell_type": "code",
   "execution_count": 151,
   "metadata": {},
   "outputs": [],
   "source": [
    "breast_bands = bands.to_dict('records')\n",
    "\n",
    "db = MongoClient()['Rebased']['bands_breast_normalized']\n",
    "db.drop()\n",
    "db.insert_many(breast_bands)"
   ]
  },
  {
   "cell_type": "markdown",
   "metadata": {},
   "source": [
    "Testings code "
   ]
  },
  {
   "cell_type": "code",
   "execution_count": 165,
   "metadata": {},
   "outputs": [
    {
     "ename": "IndentationError",
     "evalue": "unexpected indent (<ipython-input-165-4dbda3d24333>, line 9)",
     "output_type": "error",
     "traceback": [
      "\u001b[0;36m  File \u001b[0;32m\"<ipython-input-165-4dbda3d24333>\"\u001b[0;36m, line \u001b[0;32m9\u001b[0m\n\u001b[0;31m    size = min(row['end'],e) - max(row['start'],s)\u001b[0m\n\u001b[0m    ^\u001b[0m\n\u001b[0;31mIndentationError\u001b[0m\u001b[0;31m:\u001b[0m unexpected indent\n"
     ]
    }
   ],
   "source": [
    "s = 3301765\n",
    "e = 13301765\n",
    "# bands.loc[ (bands['chro'] =='chr1') & (bands['start'] < e) & \n",
    "#           (bands['end'] >= s),['segstart','segend']] = [s,e]\n",
    "\n",
    "\n",
    "sizes = []\n",
    "for index, row in bands.loc[ (bands['chro'] =='chr1') & (bands['start'] < e) & (bands['end'] >= s)].iterrows():\n",
    "    size = min(row['end'],e) - max(row['start'],s)\n",
    "    sizes.append(size)\n",
    "\n",
    "\n",
    "\n",
    "bands.loc[ (bands['chro'] =='chr1') & (bands['start'] < e) & \n",
    "          (bands['end'] >= s), 'length'] = sizes\n",
    "\n",
    "bands.loc[ (bands['chro'] =='chr1') & (bands['start'] < e) & \n",
    "          (bands['end'] >= s), 'count'] +=1\n",
    "\n",
    "bands.loc[ (bands['chro'] =='chr1') & (bands['start'] < e) & (bands['end'] >= s), 'total_length'] += bands.loc[ (bands['chro'] =='chr1') & (bands['start'] < e) & (bands['end'] >= s), 'length']\n",
    "\n",
    "bands.loc[ (bands['chro'] =='chr1') & (bands['start'] < e) & (bands['end'] >= s)]\n",
    "\n",
    "sizes = []\n",
    "for index, row in bands.loc[ (bands['chro'] =='chr1') & (bands['start'] < e) & (bands['end'] >= s)].iterrows():\n",
    "    size = min(row['end'],e) - max(row['start'],s)\n",
    "    sizes.append(size)\n",
    "\n",
    "pd.Series({'total_signal':[1,2,3,4,5], 'count':[6,7,8,9,0]})\n",
    "\n",
    "bands.loc[ (bands['chro'] =='chr1') & (bands['start'] < val) & (bands['end'] >= val)]"
   ]
  },
  {
   "cell_type": "markdown",
   "metadata": {},
   "source": [
    "This block was using the same algorithm as the later List version."
   ]
  },
  {
   "cell_type": "code",
   "execution_count": 229,
   "metadata": {},
   "outputs": [
    {
     "name": "stdout",
     "output_type": "stream",
     "text": [
      "1328\r"
     ]
    }
   ],
   "source": [
    "db = MongoClient()['Rebased']['skin']\n",
    "bands = bands.assign(total_dup=0, total_del=0, dup_length=0, del_length=0, dup_count=0, del_count=0, length=0)\n",
    "samples = []\n",
    "for sam in db.find():\n",
    "    samples.append(sam)\n",
    "\n",
    "c = 1\n",
    "for sam in samples:\n",
    "    for seg in sam['segments']:\n",
    "        chrom = ''.join(['chr', seg['chro']])\n",
    "        # update length in each\n",
    "        sizes = []\n",
    "        values = []\n",
    "        for index, row in bands.loc[ (bands['chro'] ==chrom) & (bands['start'] < seg['end']) & (bands['end'] >= seg['start'])].iterrows():\n",
    "            size = min(row['end'],seg['end']) - max(row['start'],seg['start'])\n",
    "            sizes.append(size)\n",
    "            values.append(size*seg['value'])\n",
    "\n",
    "        bands.loc[ (bands['chro'] ==chrom) & (bands['start'] < seg['end']) & (bands['end'] >= seg['start']), 'length'] = sizes\n",
    "\n",
    "\n",
    "\n",
    "        \n",
    "        # dup\n",
    "        if seg['value'] > 0:\n",
    "            # update signal\n",
    "            bands.loc[ (bands['chro'] ==chrom) & (bands['start'] < seg['end']) & (bands['end'] >= seg['start']), 'total_dup'] += values\n",
    "            # update count\n",
    "            bands.loc[ (bands['chro'] ==chrom) & (bands['start'] < seg['end']) & (bands['end'] >= seg['start']), 'dup_count'] +=1\n",
    "            # update total_length\n",
    "            bands.loc[ (bands['chro'] ==chrom) & (bands['start'] < seg['end']) & (bands['end'] >= seg['start']), 'dup_length'] += bands.loc[ (bands['chro'] ==chrom) & (bands['start'] < seg['end']) & (bands['end'] >= seg['start']), 'length']\n",
    "        \n",
    "        # del\n",
    "        else:\n",
    "            bands.loc[ (bands['chro'] ==chrom) & (bands['start'] < seg['end']) & (bands['end'] >= seg['start']), 'total_del'] += values\n",
    "            # update count\n",
    "            bands.loc[ (bands['chro'] ==chrom) & (bands['start'] < seg['end']) & (bands['end'] >= seg['start']), 'del_count'] +=1\n",
    "            # update total_length\n",
    "            bands.loc[ (bands['chro'] ==chrom) & (bands['start'] < seg['end']) & (bands['end'] >= seg['start']), 'del_length'] += bands.loc[ (bands['chro'] ==chrom) & (bands['start'] < seg['end']) & (bands['end'] >= seg['start']), 'length']\n",
    "\n",
    "            \n",
    "    print(c, end='\\r')\n",
    "    c +=1\n",
    "    \n",
    "#     if c>1:\n",
    "#         break"
   ]
  },
  {
   "cell_type": "markdown",
   "metadata": {},
   "source": [
    "Compute average and check"
   ]
  },
  {
   "cell_type": "code",
   "execution_count": 222,
   "metadata": {},
   "outputs": [],
   "source": [
    "bands['ave_dup'] = bands['total_dup']/bands['dup_length']\n",
    "bands['ave_del'] = bands['total_del']/bands['del_length']\n",
    "\n",
    "bands"
   ]
  },
  {
   "cell_type": "code",
   "execution_count": 224,
   "metadata": {},
   "outputs": [
    {
     "data": {
      "text/plain": [
       "<pymongo.results.InsertManyResult at 0x10c8dd1f8>"
      ]
     },
     "execution_count": 224,
     "metadata": {},
     "output_type": "execute_result"
    }
   ],
   "source": [
    "skin_bands = bands.to_dict('records')\n",
    "db = MongoClient()['Rebased']['bands_skin_original']\n",
    "db.drop()\n",
    "db.insert_many(skin_bands)"
   ]
  },
  {
   "cell_type": "markdown",
   "metadata": {},
   "source": [
    "The following blocks were to testing Dataframe speed, there were too slow."
   ]
  },
  {
   "cell_type": "code",
   "execution_count": 177,
   "metadata": {},
   "outputs": [
    {
     "name": "stdout",
     "output_type": "stream",
     "text": [
      "100 loops, best of 3: 15.1 ms per loop\n"
     ]
    }
   ],
   "source": [
    "def testloop():\n",
    "    sizes = []\n",
    "    for index, row in bands.loc[ (bands['chro'] =='chr1') & (bands['start'] < e) & (bands['end'] >= s)].iterrows():\n",
    "        size = min(row['end'],e) - max(row['start'],s)\n",
    "        sizes.append(size)\n",
    "    bands.loc[ (bands['chro'] =='chr1') & (bands['start'] < e) & (bands['end'] >= s), 'length'] = sizes\n",
    "    bands.loc[ (bands['chro'] =='chr1') & (bands['start'] < e) & (bands['end'] >= s), 'count'] +=1\n",
    "    bands.loc[ (bands['chro'] =='chr1') & (bands['start'] < e) & (bands['end'] >= s), 'total_length'] += bands.loc[ (bands['chro'] =='chr1') & (bands['start'] < e) & (bands['end'] >= s), 'length']\n",
    "%timeit testloop()"
   ]
  },
  {
   "cell_type": "code",
   "execution_count": 191,
   "metadata": {},
   "outputs": [
    {
     "name": "stdout",
     "output_type": "stream",
     "text": [
      "100 loops, best of 3: 15.2 ms per loop\n"
     ]
    }
   ],
   "source": [
    "def testloop1():\n",
    "    sizes = []\n",
    "    dd = bands.loc[ (bands['chro'] =='chr1') & (bands['start'] < e) & (bands['end'] >= s)]\n",
    "    for index, row in dd.iterrows():\n",
    "        size = min(row['end'],e) - max(row['start'],s)\n",
    "        sizes.append(size)\n",
    "    dd['length'] = sizes\n",
    "    dd['count'] +=1\n",
    "    dd['total_length'] += dd['length']\n",
    "%timeit testloop()"
   ]
  },
  {
   "cell_type": "code",
   "execution_count": 174,
   "metadata": {
    "collapsed": true
   },
   "outputs": [],
   "source": [
    "sizes = []\n",
    "for index, row in bands.loc[ (bands['chro'] =='chr1') & (bands['start'] < e) & (bands['end'] >= s)].iterrows():\n",
    "    size = min(row['end'],e) - max(row['start'],s)\n",
    "    sizes.append(size)"
   ]
  },
  {
   "cell_type": "code",
   "execution_count": 175,
   "metadata": {},
   "outputs": [
    {
     "name": "stdout",
     "output_type": "stream",
     "text": [
      "100 loops, best of 3: 3.35 ms per loop\n"
     ]
    }
   ],
   "source": [
    "%timeit bands.loc[ (bands['chro'] =='chr1') & (bands['start'] < e) & (bands['end'] >= s), 'length'] = sizes"
   ]
  },
  {
   "cell_type": "code",
   "execution_count": 180,
   "metadata": {},
   "outputs": [
    {
     "data": {
      "text/plain": [
       "251.66666666666666"
      ]
     },
     "execution_count": 180,
     "metadata": {},
     "output_type": "execute_result"
    }
   ],
   "source": [
    "15.1*500*2000/1000/60"
   ]
  },
  {
   "cell_type": "code",
   "execution_count": 169,
   "metadata": {},
   "outputs": [
    {
     "name": "stdout",
     "output_type": "stream",
     "text": [
      "100 loops, best of 3: 4.01 ms per loop\n"
     ]
    }
   ],
   "source": [
    "%timeit bands.loc[ (bands['chro'] =='chr1') & (bands['start'] < e) & (bands['end'] >= s), 'count'] +=1"
   ]
  },
  {
   "cell_type": "code",
   "execution_count": 170,
   "metadata": {},
   "outputs": [
    {
     "name": "stdout",
     "output_type": "stream",
     "text": [
      "100 loops, best of 3: 5.33 ms per loop\n"
     ]
    }
   ],
   "source": [
    "%timeit bands.loc[ (bands['chro'] =='chr1') & (bands['start'] < e) & (bands['end'] >= s), 'total_length'] += bands.loc[ (bands['chro'] =='chr1') & (bands['start'] < e) & (bands['end'] >= s), 'length']"
   ]
  },
  {
   "cell_type": "code",
   "execution_count": 171,
   "metadata": {},
   "outputs": [
    {
     "name": "stdout",
     "output_type": "stream",
     "text": [
      "1000 loops, best of 3: 1.53 ms per loop\n"
     ]
    }
   ],
   "source": [
    "%timeit bands.loc[ (bands['chro'] =='chr1') & (bands['start'] < e) & (bands['end'] >= s)]"
   ]
  },
  {
   "cell_type": "code",
   "execution_count": 188,
   "metadata": {},
   "outputs": [],
   "source": [
    "chr22 = []\n",
    "db = db = MongoClient()['Rebased']['breast']\n",
    "for sam in db.find():\n",
    "    for seg in sam['segments']:\n",
    "        if seg['chro'] == '22':\n",
    "            chr22.append(seg)"
   ]
  },
  {
   "cell_type": "code",
   "execution_count": 189,
   "metadata": {},
   "outputs": [],
   "source": [
    "df22 = pd.DataFrame(chr22)"
   ]
  },
  {
   "cell_type": "code",
   "execution_count": null,
   "metadata": {
    "collapsed": true
   },
   "outputs": [],
   "source": []
  }
 ],
 "metadata": {
  "kernelspec": {
   "display_name": "Python 3",
   "language": "python",
   "name": "python3"
  },
  "language_info": {
   "codemirror_mode": {
    "name": "ipython",
    "version": 3
   },
   "file_extension": ".py",
   "mimetype": "text/x-python",
   "name": "python",
   "nbconvert_exporter": "python",
   "pygments_lexer": "ipython3",
   "version": "3.6.8"
  }
 },
 "nbformat": 4,
 "nbformat_minor": 2
}
