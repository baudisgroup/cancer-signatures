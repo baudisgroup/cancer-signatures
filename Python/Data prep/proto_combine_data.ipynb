{
 "cells": [
  {
   "cell_type": "markdown",
   "metadata": {},
   "source": [
    "Use 3 cancer types as proto: breast, ovary, skin\n",
    "\n",
    "Find and combine data from: arraymap, tcga and icgc"
   ]
  },
  {
   "cell_type": "code",
   "execution_count": 1,
   "metadata": {
    "collapsed": true
   },
   "outputs": [],
   "source": [
    "from pymongo import MongoClient"
   ]
  },
  {
   "cell_type": "markdown",
   "metadata": {},
   "source": [
    "### breast\n",
    "```tcga project: TCGA-BRCA\n",
    "pcawg project: BRCA-EU, BRCA-UK\n",
    "arraymap icdot code: icdot-C50.9```"
   ]
  },
  {
   "cell_type": "code",
   "execution_count": 13,
   "metadata": {
    "collapsed": true
   },
   "outputs": [],
   "source": [
    "db = MongoClient()['Rebased']['tcga_masked_v2']\n",
    "tcga = []\n",
    "for s in db.find({'project':'TCGA-BRCA'},{'_id':0}):\n",
    "    tcga.append(s)\n",
    "\n",
    "db = MongoClient()['Rebased']['pcawg']\n",
    "pcawg = []\n",
    "for s in db.find({'project': {'$in': ['BRCA-EU','BRCA-UK']}},{'_id':0}):\n",
    "    pcawg.append(s)\n",
    "    \n",
    "db = MongoClient()['Rebased']['arraymap']\n",
    "arraymap = []\n",
    "for s in db.find({'topography':'icdot-C50.9'},{'_id':0}):\n",
    "    arraymap.append(s)"
   ]
  },
  {
   "cell_type": "code",
   "execution_count": 3,
   "metadata": {},
   "outputs": [
    {
     "data": {
      "text/plain": [
       "<pymongo.results.InsertManyResult at 0x1102871b0>"
      ]
     },
     "execution_count": 3,
     "metadata": {},
     "output_type": "execute_result"
    }
   ],
   "source": [
    "breast = tcga + pcawg + arraymap\n",
    "db = MongoClient()['Rebased']['breast']\n",
    "db.drop()\n",
    "db.insert_many(breast)"
   ]
  },
  {
   "cell_type": "markdown",
   "metadata": {},
   "source": [
    "### ovary\n",
    "```tcga project: TCGA-OV\n",
    "pcawg project: OV-AU\n",
    "arraymap icdot code: icdot-C56.9```"
   ]
  },
  {
   "cell_type": "code",
   "execution_count": 4,
   "metadata": {
    "collapsed": true
   },
   "outputs": [],
   "source": [
    "db = MongoClient()['Rebased']['tcga_masked_v2']\n",
    "tcga = []\n",
    "for s in db.find({'project':'TCGA-OV'},{'_id':0}):\n",
    "    tcga.append(s)\n",
    "\n",
    "db = MongoClient()['Rebased']['pcawg']\n",
    "pcawg = []\n",
    "for s in db.find({'project': 'OV-AU'},{'_id':0}):\n",
    "    pcawg.append(s)\n",
    "    \n",
    "db = MongoClient()['Rebased']['arraymap']\n",
    "arraymap = []\n",
    "for s in db.find({'topography':'icdot-C56.9'},{'_id':0}):\n",
    "    arraymap.append(s)"
   ]
  },
  {
   "cell_type": "code",
   "execution_count": 5,
   "metadata": {},
   "outputs": [
    {
     "data": {
      "text/plain": [
       "<pymongo.results.InsertManyResult at 0x10fa3f900>"
      ]
     },
     "execution_count": 5,
     "metadata": {},
     "output_type": "execute_result"
    }
   ],
   "source": [
    "ovary = tcga + pcawg + arraymap\n",
    "db = MongoClient()['Rebased']['ovary']\n",
    "db.drop()\n",
    "db.insert_many(ovary)"
   ]
  },
  {
   "cell_type": "markdown",
   "metadata": {},
   "source": [
    "### skin\n",
    "```tcga project: TCGA-SKCM\n",
    "pcawg project: MELA-AU\n",
    "arraymap icdot code: icdot-C44, icdot-C44.9```"
   ]
  },
  {
   "cell_type": "code",
   "execution_count": 6,
   "metadata": {
    "collapsed": true
   },
   "outputs": [],
   "source": [
    "db = MongoClient()['Rebased']['tcga_masked_v2']\n",
    "tcga = []\n",
    "for s in db.find({'project':'TCGA-SKCM'},{'_id':0}):\n",
    "    tcga.append(s)\n",
    "\n",
    "db = MongoClient()['Rebased']['pcawg']\n",
    "pcawg = []\n",
    "for s in db.find({'project': 'MELA-AU'},{'_id':0}):\n",
    "    pcawg.append(s)\n",
    "    \n",
    "db = MongoClient()['Rebased']['arraymap']\n",
    "arraymap = []\n",
    "for s in db.find({'topography': {'$in': ['icdot-C44','icdot-C44.9']}},{'_id':0}):\n",
    "    arraymap.append(s)"
   ]
  },
  {
   "cell_type": "code",
   "execution_count": 7,
   "metadata": {},
   "outputs": [
    {
     "data": {
      "text/plain": [
       "<pymongo.results.InsertManyResult at 0x1542a0ee8>"
      ]
     },
     "execution_count": 7,
     "metadata": {},
     "output_type": "execute_result"
    }
   ],
   "source": [
    "skin = tcga + pcawg + arraymap\n",
    "db = MongoClient()['Rebased']['skin']\n",
    "db.drop()\n",
    "db.insert_many(skin)"
   ]
  },
  {
   "cell_type": "code",
   "execution_count": 8,
   "metadata": {},
   "outputs": [
    {
     "data": {
      "text/plain": [
       "1328"
      ]
     },
     "execution_count": 8,
     "metadata": {},
     "output_type": "execute_result"
    }
   ],
   "source": [
    "len(skin)"
   ]
  },
  {
   "cell_type": "code",
   "execution_count": 9,
   "metadata": {},
   "outputs": [
    {
     "data": {
      "text/plain": [
       "472"
      ]
     },
     "execution_count": 9,
     "metadata": {},
     "output_type": "execute_result"
    }
   ],
   "source": [
    "len(tcga)"
   ]
  },
  {
   "cell_type": "code",
   "execution_count": 10,
   "metadata": {},
   "outputs": [
    {
     "data": {
      "text/plain": [
       "786"
      ]
     },
     "execution_count": 10,
     "metadata": {},
     "output_type": "execute_result"
    }
   ],
   "source": [
    "len(arraymap)"
   ]
  },
  {
   "cell_type": "code",
   "execution_count": 11,
   "metadata": {},
   "outputs": [
    {
     "data": {
      "text/plain": [
       "70"
      ]
     },
     "execution_count": 11,
     "metadata": {},
     "output_type": "execute_result"
    }
   ],
   "source": [
    "len(pcawg)"
   ]
  },
  {
   "cell_type": "code",
   "execution_count": 14,
   "metadata": {},
   "outputs": [
    {
     "data": {
      "text/plain": [
       "<pymongo.results.InsertManyResult at 0x11b4fa5e8>"
      ]
     },
     "execution_count": 14,
     "metadata": {},
     "output_type": "execute_result"
    }
   ],
   "source": [
    "db = MongoClient()['Rebased']['breast_pcwag']\n",
    "db.drop()\n",
    "db.insert_many(pcawg)\n",
    "\n",
    "db = MongoClient()['Rebased']['breast_tcga']\n",
    "db.drop()\n",
    "db.insert_many(tcga)\n",
    "\n",
    "db = MongoClient()['Rebased']['breast_arraymap']\n",
    "db.drop()\n",
    "db.insert_many(arraymap)"
   ]
  },
  {
   "cell_type": "code",
   "execution_count": null,
   "metadata": {
    "collapsed": true
   },
   "outputs": [],
   "source": []
  }
 ],
 "metadata": {
  "kernelspec": {
   "display_name": "Python 3",
   "language": "python",
   "name": "python3"
  },
  "language_info": {
   "codemirror_mode": {
    "name": "ipython",
    "version": 3
   },
   "file_extension": ".py",
   "mimetype": "text/x-python",
   "name": "python",
   "nbconvert_exporter": "python",
   "pygments_lexer": "ipython3",
   "version": "3.7.4"
  }
 },
 "nbformat": 4,
 "nbformat_minor": 2
}
