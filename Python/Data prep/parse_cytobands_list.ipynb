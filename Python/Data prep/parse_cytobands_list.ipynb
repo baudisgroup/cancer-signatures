{
 "cells": [
  {
   "cell_type": "markdown",
   "metadata": {},
   "source": [
    "Read cytobands(hg38) from a file, for each dataset, count the overlaps in each band than save to db.  \n",
    "This is the later List version.\n",
    "Current version."
   ]
  },
  {
   "cell_type": "code",
   "execution_count": 32,
   "metadata": {},
   "outputs": [
    {
     "data": {
      "text/html": [
       "<style>.container { width:90% !important; }</style>"
      ],
      "text/plain": [
       "<IPython.core.display.HTML object>"
      ]
     },
     "metadata": {},
     "output_type": "display_data"
    }
   ],
   "source": [
    "import pandas as pd\n",
    "import numpy as np\n",
    "from pymongo import MongoClient\n",
    "import copy\n",
    "\n",
    "from IPython.core.display import display, HTML\n",
    "display(HTML(\"<style>.container { width:90% !important; }</style>\"))"
   ]
  },
  {
   "cell_type": "markdown",
   "metadata": {},
   "source": [
    "## Script version"
   ]
  },
  {
   "cell_type": "code",
   "execution_count": null,
   "metadata": {
    "collapsed": true
   },
   "outputs": [],
   "source": [
    "db = MongoClient()['Rebased']['skin']\n",
    "samples = []\n",
    "for sam in db.find():\n",
    "    samples.append(sam)"
   ]
  },
  {
   "cell_type": "markdown",
   "metadata": {},
   "source": [
    "Bands info is manually parsed"
   ]
  },
  {
   "cell_type": "code",
   "execution_count": 33,
   "metadata": {},
   "outputs": [],
   "source": [
    "# bands is a list of 24 lists, represents 24 chromosomes. Each sub-list stores the cytobands of that chromosome as another list\n",
    "bands = []\n",
    "for i in range(24):\n",
    "    bands.append([])\n",
    "    \n",
    "\n",
    "with open('/Users/bogao/DataFiles/Data/genome/cytoBand_hg38.txt','r') as fin:\n",
    "    for line in fin:\n",
    "        tokens = line.strip().split('\\t')\n",
    "        if ('_' in tokens[0]) or ('M' in tokens[0]):\n",
    "            continue\n",
    "        elif 'X' in tokens[0]:\n",
    "            chro = 22\n",
    "        elif 'Y' in tokens[0]:\n",
    "            chro = 23\n",
    "        else:\n",
    "            chro = int(tokens[0][3:])-1\n",
    "        # index of counters: total_dup=4, total_del=5, dup_length=6, del_length=7, dup_count=8, del_count=9,   \n",
    "        info = [int(tokens[1]),int(tokens[2]), *tokens[3:], *[0]*6]\n",
    "        bands[chro].append(info)\n",
    "\n",
    "        \n",
    "    "
   ]
  },
  {
   "cell_type": "markdown",
   "metadata": {},
   "source": [
    "Key part that aggregates values into bands.  \n",
    "The the saved values = seg_value * overlapping_size.  \n",
    "Later, ave_value = total_value/total_overlapping_size"
   ]
  },
  {
   "cell_type": "code",
   "execution_count": null,
   "metadata": {
    "scrolled": false
   },
   "outputs": [],
   "source": [
    "c = 1\n",
    "for sam in samples:\n",
    "    for seg in sam['segments']:\n",
    "        if seg['chro'] == 'X':\n",
    "            chro = 22\n",
    "        elif seg['chro'] == 'Y':\n",
    "            chro = 23\n",
    "        else:\n",
    "            chro = int(seg['chro'])-1\n",
    "            \n",
    "        # find all matching bands\n",
    "        for b in bands[chro]:\n",
    "            if (b[0] < seg['end']) and (b[1] >= seg['start']):\n",
    "                size = min(b[1],seg['end']) - max(b[0],seg['start'])\n",
    "                \n",
    "                # dup\n",
    "                if seg['value'] > 0:\n",
    "                    # update total value\n",
    "                    b[4] += size*seg['value']\n",
    "                    # update total_length\n",
    "                    b[6] += size\n",
    "                    # update count\n",
    "                    b[8] +=1\n",
    "                # del\n",
    "                else:\n",
    "                    # update total value\n",
    "                    b[5] += size*seg['value']\n",
    "                    # update total_length\n",
    "                    b[7] += size\n",
    "                    # update count\n",
    "                    b[9] +=1\n",
    "    print(c, end='\\r')\n",
    "    c +=1\n",
    "    \n",
    "#     if c>1:\n",
    "#         break"
   ]
  },
  {
   "cell_type": "markdown",
   "metadata": {},
   "source": [
    "Flat the nested lists to a 1-d list"
   ]
  },
  {
   "cell_type": "code",
   "execution_count": null,
   "metadata": {
    "scrolled": true
   },
   "outputs": [],
   "source": [
    "bands_list = []\n",
    "idx = 1\n",
    "for ch in bands:\n",
    "    if idx == 23:\n",
    "        chro = 'chrX'\n",
    "    elif idx == 24:\n",
    "        chro = 'chrY'\n",
    "    else:\n",
    "        chro = ''.join(['chr', str(idx)])\n",
    "    for b in ch:\n",
    "        bands_list.append( [chro] + b)\n",
    "    idx +=1"
   ]
  },
  {
   "cell_type": "markdown",
   "metadata": {},
   "source": [
    "Use a Dataframe for easy transformation to dict, then save to db"
   ]
  },
  {
   "cell_type": "code",
   "execution_count": null,
   "metadata": {},
   "outputs": [],
   "source": [
    "df_bands = pd.DataFrame(bands_list,columns=['chr','start','end','name','note','total_dup','total_del','dup_length','del_length','dup_count','del_count'])\n",
    "\n",
    "skin_bands = df_bands.to_dict('records')\n",
    "db = MongoClient()['Rebased']['bands_skin_original']\n",
    "db.drop()\n",
    "db.insert_many(skin_bands)"
   ]
  },
  {
   "cell_type": "markdown",
   "metadata": {},
   "source": [
    "## The function version"
   ]
  },
  {
   "cell_type": "code",
   "execution_count": 49,
   "metadata": {},
   "outputs": [],
   "source": [
    "def cytobandOverlap(cytobands, dbin, dbout, vtype='segments'):\n",
    "    bands = copy.deepcopy(cytobands)\n",
    "    c = 1\n",
    "    for sam in dbin.find():\n",
    "        if sam[vtype] != None:\n",
    "            for seg in sam[vtype]:\n",
    "                if seg['probes'] >4:\n",
    "                    \n",
    "                    if seg['value'] >2:\n",
    "                        val = 2\n",
    "                    else:\n",
    "                        val = seg['value']\n",
    "                    \n",
    "                    if seg['chro'] == 'X':\n",
    "                        chro = 22\n",
    "                    elif seg['chro'] == 'Y':\n",
    "                        chro = 23\n",
    "                    else:\n",
    "                        chro = int(seg['chro'])-1\n",
    "\n",
    "                    # find all matching bands\n",
    "                    for b in bands[chro]:\n",
    "                        if (b[0] < seg['end']) and (b[1] >= seg['start']):\n",
    "                            size = min(b[1],seg['end']) - max(b[0],seg['start'])\n",
    "\n",
    "                            # dup\n",
    "                            if seg['value'] > 0:\n",
    "                                # update total value\n",
    "                                b[4] += (2**(val+1)-2)*size\n",
    "                                # update total_length\n",
    "                                b[6] += size\n",
    "                                # update count\n",
    "                                b[8] +=1\n",
    "                            # del\n",
    "                            else:\n",
    "                                # update total value\n",
    "                                b[5] += (2**(val+1)-2)*size\n",
    "                                # update total_length\n",
    "                                b[7] += size\n",
    "                                # update count\n",
    "                                b[9] +=1\n",
    "            print(c, end='\\r')\n",
    "            c +=1\n",
    "      \n",
    "    bands_list = []\n",
    "    idx = 1\n",
    "    for ch in bands:\n",
    "        if idx == 23:\n",
    "            chro = 'chrX'\n",
    "        elif idx == 24:\n",
    "            chro = 'chrY'\n",
    "        else:\n",
    "            chro = ''.join(['chr', str(idx)])\n",
    "        for b in ch:\n",
    "            bands_list.append( [chro] + b)\n",
    "        idx +=1\n",
    "    bands_df = pd.DataFrame(bands_list,columns=['chr','start','end','name','note','total_dup','total_del','dup_length','del_length','dup_count','del_count'])    \n",
    "    bands_records = bands_df.to_dict('records')    \n",
    "    dbout.drop()\n",
    "    dbout.insert_many(bands_records)\n",
    "    return bands"
   ]
  },
  {
   "cell_type": "markdown",
   "metadata": {},
   "source": [
    "Testings"
   ]
  },
  {
   "cell_type": "code",
   "execution_count": 53,
   "metadata": {},
   "outputs": [
    {
     "name": "stdout",
     "output_type": "stream",
     "text": [
      "2148\r"
     ]
    }
   ],
   "source": [
    "# ret = cytobandOverlap(bands, MongoClient()['Rebased']['skin'], MongoClient()['Rebased']['bands_skin_original'], 'segments')\n",
    "# ret = cytobandOverlap(bands, MongoClient()['Rebased']['skin'], MongoClient()['Rebased']['bands_skin_normalized'], 'normalized')\n",
    "# ret = cytobandOverlap(bands, MongoClient()['Rebased']['breast'], MongoClient()['Rebased']['bands_breast_original'], 'segments')\n",
    "ret = cytobandOverlap(bands, MongoClient()['Rebased']['breast'], MongoClient()['Rebased']['bands_breast_normalized'], 'normalized')\n",
    "ret = cytobandOverlap(bands, MongoClient()['Rebased']['ovary'], MongoClient()['Rebased']['bands_ovary_original'], 'segments')\n",
    "ret = cytobandOverlap(bands, MongoClient()['Rebased']['ovary'], MongoClient()['Rebased']['bands_ovary_normalized'], 'normalized')"
   ]
  },
  {
   "cell_type": "code",
   "execution_count": null,
   "metadata": {
    "collapsed": true
   },
   "outputs": [],
   "source": []
  }
 ],
 "metadata": {
  "kernelspec": {
   "display_name": "Python 3",
   "language": "python",
   "name": "python3"
  },
  "language_info": {
   "codemirror_mode": {
    "name": "ipython",
    "version": 3
   },
   "file_extension": ".py",
   "mimetype": "text/x-python",
   "name": "python",
   "nbconvert_exporter": "python",
   "pygments_lexer": "ipython3",
   "version": "3.7.4"
  }
 },
 "nbformat": 4,
 "nbformat_minor": 2
}
