{
 "cells": [
  {
   "cell_type": "code",
   "execution_count": 1,
   "metadata": {},
   "outputs": [
    {
     "data": {
      "text/html": [
       "<style>.container { width:90% !important; }</style>"
      ],
      "text/plain": [
       "<IPython.core.display.HTML object>"
      ]
     },
     "metadata": {},
     "output_type": "display_data"
    }
   ],
   "source": [
    "from pymongo import MongoClient\n",
    "from IPython.core.display import display, HTML\n",
    "display(HTML(\"<style>.container { width:90% !important; }</style>\"))"
   ]
  },
  {
   "cell_type": "code",
   "execution_count": 14,
   "metadata": {
    "collapsed": true
   },
   "outputs": [],
   "source": [
    "def chr2int(chro):\n",
    "    if chro == 'X':\n",
    "        ret = 23\n",
    "    elif chro == 'Y':\n",
    "        ret = 24\n",
    "    else:\n",
    "        ret = int(chro)\n",
    "    return ret"
   ]
  },
  {
   "cell_type": "code",
   "execution_count": 49,
   "metadata": {},
   "outputs": [],
   "source": [
    "client = MongoClient()\n",
    "# for collection in ['breast', 'skin','ovary']:\n",
    "for collection in ['skin']:\n",
    "    db = client['Rebased'][collection]\n",
    "    outfile_original = '/Users/bogao/DataFiles/GISTIC2/landscape/' + collection + '_original.txt'\n",
    "    outfile_normalized = '/Users/bogao/DataFiles/GISTIC2/landscape/' + collection + '_normalized.txt'\n",
    "    with open(outfile_original, 'w') as fo_original, open(outfile_normalized, 'w') as fo_normalized:\n",
    "        \n",
    "        # init vars\n",
    "        last_sample = ''\n",
    "\n",
    "        black_list = []\n",
    "        for sam in db.find():\n",
    "            chros = []\n",
    "            for seg in sam['segments']:\n",
    "                if seg['chro'] not in chros:\n",
    "                    chros.append(seg['chro'])\n",
    "            if len(chros) < 22:\n",
    "                black_list.append(sam['sample_id'])\n",
    "        \n",
    "        for sam in db.find():\n",
    "            \n",
    "            if sam['sample_id'] in black_list:\n",
    "                continue\n",
    "            if 'PGX_AM_BS_GSM' not in sam['sample_id']:\n",
    "                continue\n",
    "            if len(sam['segments']) <800:\n",
    "                continue\n",
    "            \n",
    "            last_chro ='0'\n",
    "            last_end = -1  \n",
    "            \n",
    "            ctr = 0\n",
    "            ctr_10 = 0\n",
    "            ctr_3 = 0\n",
    "            for seg in sam['segments']:\n",
    "                # resolve overlaps\n",
    "                if (sam['sample_id']==last_sample) and (seg['chro']==last_chro) and (seg['start']<=last_end):\n",
    "                    this_start = last_end + 1\n",
    "                else:\n",
    "                    this_start = seg['start']\n",
    "                    \n",
    "#                 if (ctr_10 == 0) and (seg['chro'] == '10'):\n",
    "#                     ctr_10 = ctr\n",
    "#                 elif (ctr_3 ==0) and (seg['chro'] == '3'):\n",
    "#                     ctr_3 = ctr\n",
    "                \n",
    "#                 ctr += 1\n",
    "                \n",
    "#                 if (ctr_3 < ctr_10) and (chr2int(seg['chro']) >=23):\n",
    "#                     break\n",
    "#                 elif (ctr_3 > ctr_10) and (chr2int(seg['chro']) >=23)\n",
    "                if chr2int(seg['chro']) >=23:\n",
    "                        break\n",
    "                # resolve reverses:\n",
    "#                 if (seg['end'] > this_start) and (chr2int(seg['chro']) >= chr2int(last_chro)) and (chr2int(seg['chro']) <23):\n",
    "                if seg['end'] > this_start:\n",
    "                    print('{}\\t{}\\t{}\\t{}\\t{}\\t{}'.format(sam['sample_id'], seg['chro'], this_start, seg['end'], seg['probes'], seg['value']), file=fo_original)\n",
    "                \n",
    "                    # update vars\n",
    "                    last_sample = sam['sample_id']\n",
    "                    last_chro = seg['chro']\n",
    "                    last_end = seg['end']\n",
    "\n",
    "\n",
    "            if sam['normalized'] != None:\n",
    "                # init vars\n",
    "                last_chro ='0'\n",
    "                last_end = -1\n",
    "                for seg in sam['normalized']:\n",
    "                    # resolve overlaps\n",
    "                    if (sam['sample_id']==last_sample) and (seg['chro']==last_chro) and (seg['start']<=last_end):\n",
    "                        this_start = last_end + 1\n",
    "                    else:\n",
    "                        this_start = seg['start']     \n",
    "                    \n",
    "                    if chr2int(seg['chro']) >=23:\n",
    "                        break\n",
    "                    if seg['end'] > this_start:\n",
    "                        print('{}\\t{}\\t{}\\t{}\\t{}\\t{}'.format(sam['sample_id'], seg['chro'], this_start, seg['end'], seg['probes'], seg['value']), file=fo_normalized)\n",
    "\n",
    "                        # update vars\n",
    "                        last_sample = sam['sample_id']\n",
    "                        last_chro = seg['chro']\n",
    "                        last_end = seg['end']                    \n",
    "            \n",
    "            \n",
    "            \n",
    "client.close()"
   ]
  },
  {
   "cell_type": "code",
   "execution_count": 21,
   "metadata": {},
   "outputs": [
    {
     "name": "stdout",
     "output_type": "stream",
     "text": [
      "{'chro': '1', 'start': 3301765, 'end': 51791212, 'probes': 25830, 'value': -1.0201}\n"
     ]
    }
   ],
   "source": [
    "print(seg)"
   ]
  },
  {
   "cell_type": "code",
   "execution_count": 22,
   "metadata": {},
   "outputs": [
    {
     "data": {
      "text/plain": [
       "23"
      ]
     },
     "execution_count": 22,
     "metadata": {},
     "output_type": "execute_result"
    }
   ],
   "source": [
    "chr2int('X')"
   ]
  },
  {
   "cell_type": "code",
   "execution_count": 31,
   "metadata": {},
   "outputs": [
    {
     "name": "stdout",
     "output_type": "stream",
     "text": [
      "PGX_AM_BS_GSM156012\n",
      "['1', '2', '3', '4', '5', '7', '8', '9', '10', '11', '12', '13', '14', '15', '16', '17', '18', '19', '20', '21', '22']\n",
      "PGX_AM_BS_GSM568790\n",
      "['9']\n",
      "PGX_AM_BS_GSM568792\n",
      "['1', '10', '11', '12', '13', '14', '15', '16', '17', '18', '19', '2', '20', '21', '22', '3', '4', '5', '6', '8', '9']\n",
      "PGX_AM_BS_GSM935710\n",
      "['1', '10', '11', '12', '13', '14', '16', '17', '18', '19', '2', '20', '3', '4', '5', '6', '7', '8', '9', 'X', 'Y']\n",
      "PGX_AM_BS_GSM935711\n",
      "['1', '10', '11', '12', '13', '14', '16', '17', '18', '19', '2', '20', '3', '4', '5', '6', '7', '8', '9', 'X', 'Y']\n",
      "PGX_AM_BS_GSM935713\n",
      "['1', '10', '11', '12', '14', '16', '17', '18', '19', '2', '20', '3', '4', '5', '6', '7', '8', '9', 'X', 'Y']\n",
      "PGX_AM_BS_GSM935716\n",
      "['1', '10', '11', '12', '14', '16', '17', '18', '19', '2', '20', '3', '4', '5', '6', '7', '8', '9', 'X', 'Y']\n",
      "PGX_AM_BS_GSM935718\n",
      "['1', '10', '11', '12', '14', '16', '17', '18', '19', '2', '20', '22', '3', '4', '5', '6', '7', '8', '9', 'X', 'Y']\n",
      "PGX_AM_BS_GSM935720\n",
      "['1', '10', '11', '12', '14', '16', '17', '18', '2', '20', '22', '3', '4', '5', '6', '7', '8', '9', 'X', 'Y', '19']\n",
      "PGX_AM_BS_GSM935721\n",
      "['1', '10', '11', '12', '14', '15', '16', '17', '18', '2', '20', '3', '4', '5', '6', '7', '8', '9', 'X', 'Y', '19']\n",
      "PGX_AM_BS_GSM935724\n",
      "['1', '10', '11', '12', '14', '15', '16', '17', '18', '19', '2', '20', '3', '4', '5', '6', '7', '8', '9', 'X', 'Y']\n",
      "PGX_AM_BS_GSM935725\n",
      "['1', '10', '11', '12', '14', '15', '16', '17', '18', '2', '20', '3', '4', '5', '6', '7', '8', '9', 'X', 'Y', '19']\n",
      "PGX_AM_BS_GSM935702\n",
      "['1', '10', '11', '12', '13', '14', '16', '17', '18', '19', '2', '20', '3', '4', '5', '6', '7', '8', '9', 'X', 'Y']\n",
      "PGX_AM_BS_GSM935730\n",
      "['1', '10', '11', '12', '14', '16', '17', '18', '2', '20', '3', '4', '5', '6', '7', '8', '9', 'X', 'Y', '19']\n",
      "PGX_AM_BS_GSM935686\n",
      "['1', '10', '11', '12', '14', '16', '17', '18', '2', '20', '22', '3', '4', '5', '6', '7', '8', '9', 'X', 'Y', '19']\n",
      "PGX_AM_BS_GSM935701\n",
      "['1', '10', '11', '12', '13', '14', '16', '17', '18', '2', '20', '3', '4', '5', '6', '7', '8', '9', 'X', 'Y', '19']\n",
      "PGX_AM_BS_GSM935704\n",
      "['1', '10', '11', '12', '13', '14', '16', '17', '18', '19', '2', '20', '3', '4', '5', '6', '7', '8', '9', 'X', 'Y']\n",
      "PGX_AM_BS_GSM935709\n",
      "['1', '10', '11', '12', '14', '15', '16', '17', '18', '19', '2', '20', '3', '4', '5', '6', '7', '8', '9', 'X', 'Y']\n"
     ]
    }
   ],
   "source": [
    "client = MongoClient()\n",
    "db = client['Rebased']['skin']\n",
    "for sam in db.find():\n",
    "    chros = []\n",
    "    for seg in sam['segments']:\n",
    "        if seg['chro'] not in chros:\n",
    "            chros.append(seg['chro'])\n",
    "    if len(chros) < 22:\n",
    "        print(sam['sample_id'])\n",
    "        print(chros)"
   ]
  },
  {
   "cell_type": "code",
   "execution_count": null,
   "metadata": {
    "collapsed": true
   },
   "outputs": [],
   "source": []
  }
 ],
 "metadata": {
  "kernelspec": {
   "display_name": "Python 3",
   "language": "python",
   "name": "python3"
  },
  "language_info": {
   "codemirror_mode": {
    "name": "ipython",
    "version": 3
   },
   "file_extension": ".py",
   "mimetype": "text/x-python",
   "name": "python",
   "nbconvert_exporter": "python",
   "pygments_lexer": "ipython3",
   "version": "3.6.8"
  }
 },
 "nbformat": 4,
 "nbformat_minor": 2
}
