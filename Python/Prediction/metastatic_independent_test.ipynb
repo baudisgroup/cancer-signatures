{
 "cells": [
  {
   "cell_type": "code",
   "execution_count": 1,
   "metadata": {},
   "outputs": [
    {
     "data": {
      "text/html": [
       "<style>.container { width:95% !important; }</style>"
      ],
      "text/plain": [
       "<IPython.core.display.HTML object>"
      ]
     },
     "metadata": {},
     "output_type": "display_data"
    }
   ],
   "source": [
    "from IPython.core.display import display, HTML\n",
    "display(HTML(\"<style>.container { width:95% !important; }</style>\"))"
   ]
  },
  {
   "cell_type": "code",
   "execution_count": 2,
   "metadata": {},
   "outputs": [],
   "source": [
    "import os, pickle, itertools\n",
    "import numpy as np\n",
    "\n",
    "import smote_variants as sv\n",
    "\n",
    "from sklearn.neighbors import KNeighborsClassifier\n",
    "from sklearn.tree import DecisionTreeClassifier\n",
    "\n",
    "import sklearn.datasets as datasets\n",
    "from sklearn.model_selection import cross_val_score\n",
    "from sklearn.model_selection import train_test_split\n",
    "from sklearn import metrics\n",
    "from sklearn import utils"
   ]
  },
  {
   "cell_type": "code",
   "execution_count": 3,
   "metadata": {},
   "outputs": [],
   "source": [
    "oversampler= sv.MulticlassOversampling(sv.polynom_fit_SMOTE())"
   ]
  },
  {
   "cell_type": "code",
   "execution_count": 3,
   "metadata": {},
   "outputs": [],
   "source": [
    "filepath = '/Users/bogao/DataFiles/new landscape/files/multiclass_independent_data_site.pkl'\n",
    "with open(filepath, 'rb') as fin:\n",
    "    data = pickle.load(fin)"
   ]
  },
  {
   "cell_type": "code",
   "execution_count": 3,
   "metadata": {},
   "outputs": [
    {
     "data": {
      "text/plain": [
       "{'data_train': array([[ 0.    ,  0.    ,  0.    , ..., -3.9349, -3.9349, -4.3219],\n",
       "        [ 0.    ,  0.    ,  0.    , ...,  0.    ,  0.    , -1.1231],\n",
       "        [ 0.    ,  0.    ,  0.    , ...,  0.    ,  0.    , -1.281 ],\n",
       "        ...,\n",
       "        [ 0.    ,  0.    ,  0.    , ...,  0.    ,  0.    , -1.3322],\n",
       "        [ 0.    ,  0.    ,  0.    , ..., -1.2938, -1.2938, -0.8064],\n",
       "        [ 0.7118,  0.7118,  0.7118, ...,  0.    ,  0.    ,  0.    ]]),\n",
       " 'data_test': array([[ 0.    ,  0.    ,  0.    , ...,  0.    ,  0.    , -4.3219],\n",
       "        [ 0.    ,  0.    ,  0.    , ...,  0.    ,  0.    ,  0.    ],\n",
       "        [ 0.    ,  0.    ,  0.    , ..., -0.0502, -0.0502, -0.0164],\n",
       "        ...,\n",
       "        [ 0.2294,  0.2294,  0.2294, ..., -0.0632, -0.0632,  0.    ],\n",
       "        [ 0.4609,  0.4609,  0.4609, ...,  0.    ,  0.    , -0.0437],\n",
       "        [ 0.    ,  0.    ,  0.    , ..., -0.2494, -0.2494,  0.    ]]),\n",
       " 'site_train': array(['Ovary', 'Ovary', 'Ovary', ..., 'Ovary', 'Ovary', 'Ovary'],\n",
       "       dtype=object),\n",
       " 'site_test': array(['Breast', 'Breast', 'Skin', 'Skin', 'Skin', 'Skin', 'Skin', 'Skin',\n",
       "        'Skin', 'Skin', 'Skin', 'Skin', 'Skin', 'Skin', 'Skin', 'Skin',\n",
       "        'Skin', 'Skin', 'Skin', 'Skin', 'Skin', 'Skin', 'Skin', 'Skin',\n",
       "        'Skin', 'Skin', 'Skin', 'Skin', 'Skin', 'Skin', 'Skin', 'Skin',\n",
       "        'Skin', 'Skin', 'Skin', 'Skin', 'Skin', 'Skin', 'Skin', 'Skin',\n",
       "        'Skin', 'Skin', 'Skin', 'Skin', 'Skin', 'Skin', 'Skin', 'Skin',\n",
       "        'Skin', 'Skin', 'Skin', 'Skin', 'Skin', 'Skin', 'Skin', 'Skin',\n",
       "        'Skin', 'Skin', 'Skin', 'Skin', 'Skin', 'Skin', 'Skin', 'Skin',\n",
       "        'Skin', 'Skin', 'Skin', 'Skin', 'Skin', 'Skin', 'Skin', 'Skin',\n",
       "        'Skin', 'Skin', 'Skin', 'Skin', 'Skin', 'Skin', 'Skin', 'Skin',\n",
       "        'Skin', 'Skin', 'Skin', 'Breast', 'Skin', 'Skin', 'Skin', 'Skin',\n",
       "        'Skin', 'Skin', 'Skin', 'Skin', 'Skin', 'Skin', 'Skin', 'Skin',\n",
       "        'Skin', 'Skin', 'Skin', 'Skin', 'Skin', 'Skin', 'Skin', 'Breast',\n",
       "        'Skin', 'Skin', 'Skin', 'Skin', 'Skin', 'Skin', 'Skin', 'Skin',\n",
       "        'Skin', 'Skin', 'Skin', 'Skin', 'Skin', 'Skin', 'Skin', 'Skin',\n",
       "        'Skin', 'Skin', 'Skin', 'Skin', 'Skin', 'Skin', 'Skin', 'Skin',\n",
       "        'Skin', 'Skin', 'Skin', 'Skin', 'Skin', 'Skin', 'Skin', 'Skin',\n",
       "        'Skin', 'Skin', 'Skin', 'Skin', 'Skin', 'Skin', 'Skin', 'Skin',\n",
       "        'Skin', 'Skin', 'Skin', 'Skin', 'Skin', 'Skin', 'Skin', 'Skin',\n",
       "        'Skin', 'Skin', 'Skin', 'Skin', 'Skin', 'Skin', 'Skin', 'Skin',\n",
       "        'Skin', 'Skin', 'Skin', 'Skin', 'Skin', 'Skin', 'Skin', 'Skin',\n",
       "        'Skin', 'Skin', 'Skin', 'Skin', 'Skin', 'Skin', 'Skin', 'Skin',\n",
       "        'Skin', 'Skin', 'Skin', 'Skin', 'Skin', 'Skin', 'Skin', 'Skin',\n",
       "        'Skin', 'Skin', 'Skin', 'Skin', 'Skin', 'Skin', 'Skin', 'Skin',\n",
       "        'Skin', 'Skin', 'Skin', 'Skin', 'Skin', 'Skin', 'Skin', 'Skin',\n",
       "        'Skin', 'Skin', 'Skin', 'Skin', 'Skin', 'Skin', 'Skin', 'Skin',\n",
       "        'Skin', 'Skin', 'Skin', 'Skin', 'Skin', 'Skin', 'Skin', 'Skin',\n",
       "        'Skin', 'Skin', 'Skin', 'Skin', 'Skin', 'Skin', 'Skin', 'Breast',\n",
       "        'Skin', 'Skin', 'Skin', 'Skin', 'Skin', 'Skin', 'Skin', 'Skin',\n",
       "        'Skin', 'Skin', 'Skin', 'Skin', 'Skin', 'Skin', 'Skin', 'Skin',\n",
       "        'Skin', 'Skin', 'Skin', 'Skin', 'Skin', 'Skin', 'Skin', 'Skin',\n",
       "        'Skin', 'Skin', 'Skin', 'Skin', 'Skin', 'Skin', 'Skin', 'Skin',\n",
       "        'Skin', 'Skin', 'Skin', 'Skin', 'Skin', 'Skin', 'Skin', 'Skin',\n",
       "        'Skin', 'Skin', 'Skin', 'Skin', 'Skin', 'Skin', 'Skin', 'Skin',\n",
       "        'Skin', 'Skin', 'Skin', 'Skin', 'Skin', 'Skin', 'Skin', 'Skin',\n",
       "        'Skin', 'Skin', 'Skin', 'Skin', 'Breast', 'Skin', 'Skin', 'Skin',\n",
       "        'Skin', 'Skin', 'Skin', 'Skin', 'Skin', 'Skin', 'Skin', 'Skin',\n",
       "        'Skin', 'Skin', 'Skin', 'Skin', 'Skin', 'Skin', 'Skin', 'Skin',\n",
       "        'Skin', 'Skin', 'Skin', 'Skin', 'Skin', 'Skin', 'Skin', 'Skin',\n",
       "        'Skin', 'Skin', 'Skin', 'Skin', 'Skin', 'Skin', 'Skin', 'Skin',\n",
       "        'Skin', 'Skin', 'Skin', 'Skin', 'Skin', 'Skin', 'Skin', 'Skin',\n",
       "        'Skin', 'Skin', 'Colon', 'Prostate', 'Skin', 'Skin', 'Skin',\n",
       "        'Skin', 'Skin', 'Skin', 'Skin', 'Skin', 'Skin', 'Skin', 'Skin',\n",
       "        'Skin', 'Skin', 'Skin', 'Skin', 'Skin', 'Skin', 'Skin', 'Skin',\n",
       "        'Skin', 'Skin', 'Skin', 'Prostate', 'Prostate', 'Skin', 'Prostate',\n",
       "        'Prostate', 'Skin', 'Prostate', 'Skin', 'Skin', 'Prostate', 'Skin',\n",
       "        'Skin', 'Prostate', 'Skin', 'Skin', 'Prostate', 'Skin', 'Skin',\n",
       "        'Skin', 'Prostate', 'Skin', 'Prostate', 'Prostate', 'Skin',\n",
       "        'Prostate', 'Skin', 'Prostate', 'Skin', 'Skin', 'Prostate', 'Skin',\n",
       "        'Prostate', 'Skin', 'Prostate', 'Prostate', 'Skin', 'Prostate',\n",
       "        'Skin', 'Skin', 'Skin', 'Prostate', 'Skin', 'Skin', 'Skin',\n",
       "        'Prostate', 'Prostate', 'Skin', 'Prostate', 'Skin', 'Skin', 'Skin',\n",
       "        'Skin', 'Prostate', 'Skin', 'Prostate', 'Prostate', 'Skin', 'Skin',\n",
       "        'Prostate', 'Skin', 'Prostate', 'Prostate', 'Skin', 'Prostate',\n",
       "        'Skin', 'Skin', 'Prostate', 'Prostate', 'Prostate', 'Prostate',\n",
       "        'Skin', 'Prostate', 'Skin', 'Prostate', 'Skin', 'Skin', 'Skin',\n",
       "        'Skin', 'Skin', 'Skin', 'Prostate', 'Prostate', 'Prostate', 'Skin',\n",
       "        'Prostate', 'Skin', 'Prostate', 'Skin', 'Prostate', 'Prostate',\n",
       "        'Prostate', 'Skin'], dtype=object)}"
      ]
     },
     "execution_count": 3,
     "metadata": {},
     "output_type": "execute_result"
    }
   ],
   "source": [
    "data"
   ]
  },
  {
   "cell_type": "code",
   "execution_count": 4,
   "metadata": {},
   "outputs": [],
   "source": [
    "num_labels = dict([(y,x+1) for x,y in enumerate(set(data['site_train']))])\n",
    "labels_train = np.array([num_labels[x] for x in data['site_train']])\n",
    "labels_test = np.array([num_labels[x] for x in data['site_test']])"
   ]
  },
  {
   "cell_type": "code",
   "execution_count": 6,
   "metadata": {},
   "outputs": [
    {
     "data": {
      "text/plain": [
       "array([1, 1, 1, ..., 1, 1, 1])"
      ]
     },
     "execution_count": 6,
     "metadata": {},
     "output_type": "execute_result"
    }
   ],
   "source": [
    "labels_train"
   ]
  },
  {
   "cell_type": "code",
   "execution_count": 5,
   "metadata": {},
   "outputs": [],
   "source": [
    "model = DecisionTreeClassifier()"
   ]
  },
  {
   "cell_type": "code",
   "execution_count": 6,
   "metadata": {},
   "outputs": [],
   "source": []
  },
  {
   "cell_type": "code",
   "execution_count": 7,
   "metadata": {
    "scrolled": true
   },
   "outputs": [
    {
     "name": "stderr",
     "output_type": "stream",
     "text": [
      "2020-03-17 09:15:06,829:INFO:MulticlassOversampling: Running multiclass oversampling with strategy equalize_1_vs_many_successive\n",
      "2020-03-17 09:15:06,996:INFO:MulticlassOversampling: Sampling minority class with label: 3\n",
      "2020-03-17 09:15:07,186:INFO:polynom_fit_SMOTE: Running sampling via ('polynom_fit_SMOTE', \"{'proportion': 1.0, 'topology': 'star', 'random_state': None}\")\n",
      "2020-03-17 09:15:07,961:INFO:MulticlassOversampling: Sampling minority class with label: 4\n",
      "2020-03-17 09:15:08,229:INFO:polynom_fit_SMOTE: Running sampling via ('polynom_fit_SMOTE', \"{'proportion': 0.3547786512205213, 'topology': 'star', 'random_state': None}\")\n",
      "2020-03-17 09:15:09,013:INFO:MulticlassOversampling: Sampling minority class with label: 7\n",
      "2020-03-17 09:15:09,349:INFO:polynom_fit_SMOTE: Running sampling via ('polynom_fit_SMOTE', \"{'proportion': 0.2477993488484264, 'topology': 'star', 'random_state': None}\")\n",
      "2020-03-17 09:15:10,380:INFO:MulticlassOversampling: Sampling minority class with label: 8\n",
      "2020-03-17 09:15:10,820:INFO:polynom_fit_SMOTE: Running sampling via ('polynom_fit_SMOTE', \"{'proportion': 0.19060594264953937, 'topology': 'star', 'random_state': None}\")\n",
      "2020-03-17 09:15:12,143:INFO:MulticlassOversampling: Sampling minority class with label: 1\n",
      "2020-03-17 09:15:12,669:INFO:polynom_fit_SMOTE: Running sampling via ('polynom_fit_SMOTE', \"{'proportion': 0.16282502935749035, 'topology': 'star', 'random_state': None}\")\n",
      "2020-03-17 09:15:14,210:INFO:MulticlassOversampling: Sampling minority class with label: 2\n",
      "2020-03-17 09:15:14,840:INFO:polynom_fit_SMOTE: Running sampling via ('polynom_fit_SMOTE', \"{'proportion': 0.1366089965397924, 'topology': 'star', 'random_state': None}\")\n",
      "2020-03-17 09:15:16,525:INFO:MulticlassOversampling: Sampling minority class with label: 5\n",
      "2020-03-17 09:15:17,251:INFO:polynom_fit_SMOTE: Running sampling via ('polynom_fit_SMOTE', \"{'proportion': 0.11958976289047799, 'topology': 'star', 'random_state': None}\")\n",
      "2020-03-17 09:15:19,210:INFO:MulticlassOversampling: Sampling minority class with label: 9\n",
      "2020-03-17 09:15:20,049:INFO:polynom_fit_SMOTE: Running sampling via ('polynom_fit_SMOTE', \"{'proportion': 0.1099651454311979, 'topology': 'star', 'random_state': None}\")\n",
      "2020-03-17 09:15:22,201:INFO:MulticlassOversampling: Sampling minority class with label: 6\n",
      "2020-03-17 09:15:23,137:INFO:polynom_fit_SMOTE: Running sampling via ('polynom_fit_SMOTE', \"{'proportion': 0.10032630838846923, 'topology': 'star', 'random_state': None}\")\n"
     ]
    }
   ],
   "source": [
    "X_samp, y_samp= oversampler.sample(data['data_train'], labels_train)"
   ]
  },
  {
   "cell_type": "code",
   "execution_count": 13,
   "metadata": {},
   "outputs": [],
   "source": [
    "X_samp, y_samp = utils.shuffle(X_samp, y_samp)\n",
    "scores = cross_val_score(model, X_samp, y_samp, cv=5, n_jobs=-1, scoring='f1_macro')"
   ]
  },
  {
   "cell_type": "code",
   "execution_count": 12,
   "metadata": {},
   "outputs": [
    {
     "data": {
      "text/plain": [
       "array([0.29673244, 0.72639992, 0.85657088, 0.92693313, 0.90788109])"
      ]
     },
     "execution_count": 12,
     "metadata": {},
     "output_type": "execute_result"
    }
   ],
   "source": [
    "scores"
   ]
  },
  {
   "cell_type": "code",
   "execution_count": 14,
   "metadata": {},
   "outputs": [
    {
     "data": {
      "text/plain": [
       "array([0.81374781, 0.81842444, 0.81856656, 0.81113378, 0.8134606 ])"
      ]
     },
     "execution_count": 14,
     "metadata": {},
     "output_type": "execute_result"
    }
   ],
   "source": [
    "scores"
   ]
  },
  {
   "cell_type": "code",
   "execution_count": 8,
   "metadata": {},
   "outputs": [],
   "source": [
    "model_indtest = model.fit(X_samp, y_samp)"
   ]
  },
  {
   "cell_type": "code",
   "execution_count": 16,
   "metadata": {},
   "outputs": [],
   "source": [
    "y_predict = model_indtest.predict(data['data_test'])"
   ]
  },
  {
   "cell_type": "code",
   "execution_count": 17,
   "metadata": {},
   "outputs": [
    {
     "data": {
      "text/plain": [
       "array([[ 0,  0,  0,  0,  0,  0,  0,  0,  0,  0],\n",
       "       [ 0,  1,  0,  0,  0,  0,  0,  0,  0,  0],\n",
       "       [ 0,  0,  0,  0,  0,  0,  0,  0,  0,  0],\n",
       "       [ 0,  0,  0,  0,  0,  0,  0,  0,  0,  0],\n",
       "       [36, 31, 22, 46, 59, 18, 96, 11, 15, 61],\n",
       "       [ 0,  0,  0,  0,  0,  0,  0,  0,  0,  0],\n",
       "       [ 0,  0,  0,  2,  0,  0,  4,  0,  0,  0],\n",
       "       [ 5,  2,  0,  6,  0,  1, 17,  6,  1,  6],\n",
       "       [ 0,  0,  0,  0,  0,  0,  0,  0,  0,  0],\n",
       "       [ 0,  0,  0,  0,  0,  0,  0,  0,  0,  0]])"
      ]
     },
     "execution_count": 17,
     "metadata": {},
     "output_type": "execute_result"
    }
   ],
   "source": [
    "metrics.confusion_matrix(labels_test, y_predict)"
   ]
  },
  {
   "cell_type": "code",
   "execution_count": 10,
   "metadata": {},
   "outputs": [],
   "source": [
    "mela_labels = labels_test[labels_test==5]"
   ]
  },
  {
   "cell_type": "code",
   "execution_count": 11,
   "metadata": {},
   "outputs": [],
   "source": [
    "mela_test = data['data_test'][labels_test==5]"
   ]
  },
  {
   "cell_type": "code",
   "execution_count": 12,
   "metadata": {},
   "outputs": [],
   "source": [
    "y_predict = model_indtest.predict(mela_test)"
   ]
  },
  {
   "cell_type": "code",
   "execution_count": 13,
   "metadata": {},
   "outputs": [
    {
     "data": {
      "text/plain": [
       "array([[[43,  1],\n",
       "        [ 0,  0]],\n",
       "\n",
       "       [[41,  3],\n",
       "        [ 0,  0]],\n",
       "\n",
       "       [[39,  5],\n",
       "        [ 0,  0]],\n",
       "\n",
       "       [[ 0,  0],\n",
       "        [37,  7]],\n",
       "\n",
       "       [[38,  6],\n",
       "        [ 0,  0]],\n",
       "\n",
       "       [[41,  3],\n",
       "        [ 0,  0]],\n",
       "\n",
       "       [[43,  1],\n",
       "        [ 0,  0]],\n",
       "\n",
       "       [[26, 18],\n",
       "        [ 0,  0]]])"
      ]
     },
     "execution_count": 13,
     "metadata": {},
     "output_type": "execute_result"
    }
   ],
   "source": [
    "metrics.multilabel_confusion_matrix(mela_labels, y_predict)"
   ]
  },
  {
   "cell_type": "code",
   "execution_count": 18,
   "metadata": {
    "scrolled": true
   },
   "outputs": [
    {
     "data": {
      "text/plain": [
       "0.1590909090909091"
      ]
     },
     "execution_count": 18,
     "metadata": {},
     "output_type": "execute_result"
    }
   ],
   "source": [
    "metrics.f1_score(mela_labels, y_predict, average='micro')"
   ]
  },
  {
   "cell_type": "code",
   "execution_count": 19,
   "metadata": {},
   "outputs": [
    {
     "data": {
      "text/plain": [
       "array([ 5, 10,  4,  5, 10, 10,  7,  3, 10,  8, 10,  8,  9, 10,  4,  4, 10,\n",
       "        8, 10,  7,  4, 10,  4, 10,  3, 10,  7, 10,  5,  7, 10, 10, 10, 10,\n",
       "        7,  5,  7,  5,  5,  2, 10,  3, 10,  5])"
      ]
     },
     "execution_count": 19,
     "metadata": {},
     "output_type": "execute_result"
    }
   ],
   "source": [
    "y_predict"
   ]
  },
  {
   "cell_type": "code",
   "execution_count": 6,
   "metadata": {},
   "outputs": [],
   "source": [
    "filepath = '/Users/bogao/DataFiles/new landscape/files/multiclass_sites_wo_others.pkl'\n",
    "with open(filepath, 'rb') as fin:\n",
    "    data = pickle.load(fin)"
   ]
  },
  {
   "cell_type": "code",
   "execution_count": 9,
   "metadata": {},
   "outputs": [],
   "source": [
    "num_labels = dict([(y,x+1) for x,y in enumerate(set(data['site']))])\n",
    "num_labels = np.array([num_labels[x] for x in data['site']])"
   ]
  },
  {
   "cell_type": "code",
   "execution_count": 10,
   "metadata": {},
   "outputs": [
    {
     "name": "stderr",
     "output_type": "stream",
     "text": [
      "2020-03-17 13:48:55,538:INFO:MulticlassOversampling: Running multiclass oversampling with strategy equalize_1_vs_many_successive\n",
      "2020-03-17 13:48:55,710:INFO:MulticlassOversampling: Sampling minority class with label: 7\n",
      "2020-03-17 13:48:55,899:INFO:polynom_fit_SMOTE: Running sampling via ('polynom_fit_SMOTE', \"{'proportion': 1.0, 'topology': 'star', 'random_state': None}\")\n",
      "2020-03-17 13:48:56,687:INFO:MulticlassOversampling: Sampling minority class with label: 3\n",
      "2020-03-17 13:48:56,960:INFO:polynom_fit_SMOTE: Running sampling via ('polynom_fit_SMOTE', \"{'proportion': 0.3549586776859504, 'topology': 'star', 'random_state': None}\")\n",
      "2020-03-17 13:48:57,764:INFO:MulticlassOversampling: Sampling minority class with label: 1\n",
      "2020-03-17 13:48:58,107:INFO:polynom_fit_SMOTE: Running sampling via ('polynom_fit_SMOTE', \"{'proportion': 0.2478920741989882, 'topology': 'star', 'random_state': None}\")\n",
      "2020-03-17 13:48:59,148:INFO:MulticlassOversampling: Sampling minority class with label: 4\n",
      "2020-03-17 13:48:59,601:INFO:polynom_fit_SMOTE: Running sampling via ('polynom_fit_SMOTE', \"{'proportion': 0.19063256135499482, 'topology': 'star', 'random_state': None}\")\n",
      "2020-03-17 13:49:00,939:INFO:MulticlassOversampling: Sampling minority class with label: 10\n",
      "2020-03-17 13:49:01,466:INFO:polynom_fit_SMOTE: Running sampling via ('polynom_fit_SMOTE', \"{'proportion': 0.16286240992123346, 'topology': 'star', 'random_state': None}\")\n",
      "2020-03-17 13:49:03,013:INFO:MulticlassOversampling: Sampling minority class with label: 2\n",
      "2020-03-17 13:49:03,645:INFO:polynom_fit_SMOTE: Running sampling via ('polynom_fit_SMOTE', \"{'proportion': 0.13663892038383893, 'topology': 'star', 'random_state': None}\")\n",
      "2020-03-17 13:49:05,346:INFO:MulticlassOversampling: Sampling minority class with label: 5\n",
      "2020-03-17 13:49:06,078:INFO:polynom_fit_SMOTE: Running sampling via ('polynom_fit_SMOTE', \"{'proportion': 0.11787143866258536, 'topology': 'star', 'random_state': None}\")\n",
      "2020-03-17 13:49:07,944:INFO:MulticlassOversampling: Sampling minority class with label: 9\n",
      "2020-03-17 13:49:08,768:INFO:polynom_fit_SMOTE: Running sampling via ('polynom_fit_SMOTE', \"{'proportion': 0.10349920006563564, 'topology': 'star', 'random_state': None}\")\n",
      "2020-03-17 13:49:10,804:INFO:MulticlassOversampling: Sampling minority class with label: 8\n",
      "2020-03-17 13:49:11,713:INFO:polynom_fit_SMOTE: Running sampling via ('polynom_fit_SMOTE', \"{'proportion': 0.10033679736325486, 'topology': 'star', 'random_state': None}\")\n"
     ]
    }
   ],
   "source": [
    "X_samp, y_samp= oversampler.sample(data['data'], num_labels)"
   ]
  },
  {
   "cell_type": "code",
   "execution_count": 5,
   "metadata": {},
   "outputs": [
    {
     "ename": "FileNotFoundError",
     "evalue": "[Errno 2] No such file or directory: '/Users/bogao/DataFiles/new landscape/files/multiclass_sites_wo_others_none.pkl'",
     "output_type": "error",
     "traceback": [
      "\u001b[0;31m---------------------------------------------------------------------------\u001b[0m",
      "\u001b[0;31mFileNotFoundError\u001b[0m                         Traceback (most recent call last)",
      "\u001b[0;32m<ipython-input-5-5d15862d157b>\u001b[0m in \u001b[0;36m<module>\u001b[0;34m\u001b[0m\n\u001b[1;32m      1\u001b[0m \u001b[0mfilepath\u001b[0m \u001b[0;34m=\u001b[0m \u001b[0;34m'/Users/bogao/DataFiles/new landscape/files/multiclass_sites_wo_others_none.pkl'\u001b[0m\u001b[0;34m\u001b[0m\u001b[0;34m\u001b[0m\u001b[0m\n\u001b[0;32m----> 2\u001b[0;31m \u001b[0;32mwith\u001b[0m \u001b[0mopen\u001b[0m\u001b[0;34m(\u001b[0m\u001b[0mfilepath\u001b[0m\u001b[0;34m,\u001b[0m \u001b[0;34m'rb'\u001b[0m\u001b[0;34m)\u001b[0m \u001b[0;32mas\u001b[0m \u001b[0mfin\u001b[0m\u001b[0;34m:\u001b[0m\u001b[0;34m\u001b[0m\u001b[0;34m\u001b[0m\u001b[0m\n\u001b[0m\u001b[1;32m      3\u001b[0m     \u001b[0mdata\u001b[0m \u001b[0;34m=\u001b[0m \u001b[0mpickle\u001b[0m\u001b[0;34m.\u001b[0m\u001b[0mload\u001b[0m\u001b[0;34m(\u001b[0m\u001b[0mfin\u001b[0m\u001b[0;34m)\u001b[0m\u001b[0;34m\u001b[0m\u001b[0;34m\u001b[0m\u001b[0m\n",
      "\u001b[0;31mFileNotFoundError\u001b[0m: [Errno 2] No such file or directory: '/Users/bogao/DataFiles/new landscape/files/multiclass_sites_wo_others_none.pkl'"
     ]
    }
   ],
   "source": [
    "filepath = '/Users/bogao/DataFiles/new landscape/files/multiclass_disease_wo_others_none.pkl'\n",
    "with open(filepath, 'rb') as fin:\n",
    "    data = pickle.load(fin)"
   ]
  },
  {
   "cell_type": "code",
   "execution_count": 7,
   "metadata": {},
   "outputs": [
    {
     "ename": "KeyError",
     "evalue": "'disease'",
     "output_type": "error",
     "traceback": [
      "\u001b[0;31m---------------------------------------------------------------------------\u001b[0m",
      "\u001b[0;31mKeyError\u001b[0m                                  Traceback (most recent call last)",
      "\u001b[0;32m<ipython-input-7-fb84b9a66221>\u001b[0m in \u001b[0;36m<module>\u001b[0;34m\u001b[0m\n\u001b[0;32m----> 1\u001b[0;31m \u001b[0mnum_labels\u001b[0m \u001b[0;34m=\u001b[0m \u001b[0mdict\u001b[0m\u001b[0;34m(\u001b[0m\u001b[0;34m[\u001b[0m\u001b[0;34m(\u001b[0m\u001b[0my\u001b[0m\u001b[0;34m,\u001b[0m\u001b[0mx\u001b[0m\u001b[0;34m+\u001b[0m\u001b[0;36m1\u001b[0m\u001b[0;34m)\u001b[0m \u001b[0;32mfor\u001b[0m \u001b[0mx\u001b[0m\u001b[0;34m,\u001b[0m\u001b[0my\u001b[0m \u001b[0;32min\u001b[0m \u001b[0menumerate\u001b[0m\u001b[0;34m(\u001b[0m\u001b[0mset\u001b[0m\u001b[0;34m(\u001b[0m\u001b[0mdata\u001b[0m\u001b[0;34m[\u001b[0m\u001b[0;34m'disease'\u001b[0m\u001b[0;34m]\u001b[0m\u001b[0;34m)\u001b[0m\u001b[0;34m)\u001b[0m\u001b[0;34m]\u001b[0m\u001b[0;34m)\u001b[0m\u001b[0;34m\u001b[0m\u001b[0;34m\u001b[0m\u001b[0m\n\u001b[0m\u001b[1;32m      2\u001b[0m \u001b[0mnum_labels\u001b[0m \u001b[0;34m=\u001b[0m \u001b[0mnp\u001b[0m\u001b[0;34m.\u001b[0m\u001b[0marray\u001b[0m\u001b[0;34m(\u001b[0m\u001b[0;34m[\u001b[0m\u001b[0mnum_labels\u001b[0m\u001b[0;34m[\u001b[0m\u001b[0mx\u001b[0m\u001b[0;34m]\u001b[0m \u001b[0;32mfor\u001b[0m \u001b[0mx\u001b[0m \u001b[0;32min\u001b[0m \u001b[0mdata\u001b[0m\u001b[0;34m[\u001b[0m\u001b[0;34m'disease'\u001b[0m\u001b[0;34m]\u001b[0m\u001b[0;34m]\u001b[0m\u001b[0;34m)\u001b[0m\u001b[0;34m\u001b[0m\u001b[0;34m\u001b[0m\u001b[0m\n",
      "\u001b[0;31mKeyError\u001b[0m: 'disease'"
     ]
    }
   ],
   "source": [
    "num_labels = dict([(y,x+1) for x,y in enumerate(set(data['disease']))])\n",
    "num_labels = np.array([num_labels[x] for x in data['disease']])"
   ]
  },
  {
   "cell_type": "code",
   "execution_count": 8,
   "metadata": {},
   "outputs": [
    {
     "ename": "NameError",
     "evalue": "name 'num_labels' is not defined",
     "output_type": "error",
     "traceback": [
      "\u001b[0;31m---------------------------------------------------------------------------\u001b[0m",
      "\u001b[0;31mNameError\u001b[0m                                 Traceback (most recent call last)",
      "\u001b[0;32m<ipython-input-8-0b58f633a805>\u001b[0m in \u001b[0;36m<module>\u001b[0;34m\u001b[0m\n\u001b[0;32m----> 1\u001b[0;31m \u001b[0mX_samp\u001b[0m\u001b[0;34m,\u001b[0m \u001b[0my_samp\u001b[0m\u001b[0;34m=\u001b[0m \u001b[0moversampler\u001b[0m\u001b[0;34m.\u001b[0m\u001b[0msample\u001b[0m\u001b[0;34m(\u001b[0m\u001b[0mdata\u001b[0m\u001b[0;34m[\u001b[0m\u001b[0;34m'data'\u001b[0m\u001b[0;34m]\u001b[0m\u001b[0;34m,\u001b[0m \u001b[0mnum_labels\u001b[0m\u001b[0;34m)\u001b[0m\u001b[0;34m\u001b[0m\u001b[0;34m\u001b[0m\u001b[0m\n\u001b[0m",
      "\u001b[0;31mNameError\u001b[0m: name 'num_labels' is not defined"
     ]
    }
   ],
   "source": [
    "X_samp, y_samp= oversampler.sample(data['data'], num_labels)"
   ]
  },
  {
   "cell_type": "code",
   "execution_count": 11,
   "metadata": {},
   "outputs": [],
   "source": [
    "X_samp, y_samp = utils.shuffle(X_samp, y_samp)"
   ]
  },
  {
   "cell_type": "code",
   "execution_count": 12,
   "metadata": {},
   "outputs": [],
   "source": [
    "x_train, x_test, y_train, y_test = train_test_split(X_samp, y_samp, test_size=0.10, random_state=50)"
   ]
  },
  {
   "cell_type": "code",
   "execution_count": 13,
   "metadata": {},
   "outputs": [],
   "source": [
    "model = DecisionTreeClassifier()\n",
    "scores = cross_val_score(model, x_train, y_train, cv=5, n_jobs=-1, scoring='f1_macro')"
   ]
  },
  {
   "cell_type": "code",
   "execution_count": 18,
   "metadata": {},
   "outputs": [
    {
     "data": {
      "text/plain": [
       "array([0.80765432, 0.80641677, 0.80977977, 0.80330427, 0.79900236])"
      ]
     },
     "execution_count": 18,
     "metadata": {},
     "output_type": "execute_result"
    }
   ],
   "source": [
    "scores"
   ]
  },
  {
   "cell_type": "code",
   "execution_count": null,
   "metadata": {},
   "outputs": [],
   "source": [
    "model_indtest = model.fit(x_train, y_train)"
   ]
  },
  {
   "cell_type": "code",
   "execution_count": 15,
   "metadata": {},
   "outputs": [],
   "source": [
    "y_pred = model_indtest.predict(x_test)"
   ]
  },
  {
   "cell_type": "code",
   "execution_count": 17,
   "metadata": {},
   "outputs": [
    {
     "data": {
      "text/plain": [
       "array([[[5859,  125],\n",
       "        [ 137,  465]],\n",
       "\n",
       "       [[5828,  111],\n",
       "        [  97,  550]],\n",
       "\n",
       "       [[5832,  130],\n",
       "        [ 143,  481]],\n",
       "\n",
       "       [[5720,   94],\n",
       "        [  86,  686]],\n",
       "\n",
       "       [[5903,   94],\n",
       "        [ 108,  481]],\n",
       "\n",
       "       [[5702,  268],\n",
       "        [ 285,  331]],\n",
       "\n",
       "       [[5602,  225],\n",
       "        [ 209,  550]],\n",
       "\n",
       "       [[5877,   64],\n",
       "        [  40,  605]],\n",
       "\n",
       "       [[5869,   85],\n",
       "        [ 118,  514]],\n",
       "\n",
       "       [[5795,   91],\n",
       "        [  64,  636]]])"
      ]
     },
     "execution_count": 17,
     "metadata": {},
     "output_type": "execute_result"
    }
   ],
   "source": [
    "metrics.multilabel_confusion_matrix(y_test, y_pred)"
   ]
  },
  {
   "cell_type": "code",
   "execution_count": 19,
   "metadata": {},
   "outputs": [
    {
     "data": {
      "text/plain": [
       "array([[465,   9,  10,   8,  10,  48,  35,   2,   8,   7],\n",
       "       [ 12, 550,   4,  10,  13,  21,  21,   4,   9,   3],\n",
       "       [ 13,  10, 481,  15,   9,  33,  31,   8,  12,  12],\n",
       "       [  7,  12,   8, 686,   8,  18,  12,   7,   4,  10],\n",
       "       [ 10,  14,  13,   8, 481,  26,  21,   7,   3,   6],\n",
       "       [ 38,  32,  29,  25,  24, 331,  70,  21,  27,  19],\n",
       "       [ 29,  16,  29,   8,  18,  73, 550,   8,  10,  18],\n",
       "       [  7,   3,   1,   1,   1,   8,  10, 605,   5,   4],\n",
       "       [  6,  10,  25,  15,   6,  23,  15,   6, 514,  12],\n",
       "       [  3,   5,  11,   4,   5,  18,  10,   1,   7, 636]])"
      ]
     },
     "execution_count": 19,
     "metadata": {},
     "output_type": "execute_result"
    }
   ],
   "source": [
    "metrics.confusion_matrix(y_test, y_pred)"
   ]
  },
  {
   "cell_type": "code",
   "execution_count": 22,
   "metadata": {},
   "outputs": [
    {
     "data": {
      "text/plain": [
       "array([0.78020134, 0.84097859, 0.77894737, 0.88402062, 0.82646048,\n",
       "       0.54485597, 0.71707953, 0.92085236, 0.83509342, 0.89138052])"
      ]
     },
     "execution_count": 22,
     "metadata": {},
     "output_type": "execute_result"
    }
   ],
   "source": [
    "metrics.f1_score(y_test, y_pred, average=None)"
   ]
  },
  {
   "cell_type": "code",
   "execution_count": null,
   "metadata": {},
   "outputs": [],
   "source": []
  }
 ],
 "metadata": {
  "kernelspec": {
   "display_name": "Python [conda env:tf] *",
   "language": "python",
   "name": "conda-env-tf-py"
  },
  "language_info": {
   "codemirror_mode": {
    "name": "ipython",
    "version": 3
   },
   "file_extension": ".py",
   "mimetype": "text/x-python",
   "name": "python",
   "nbconvert_exporter": "python",
   "pygments_lexer": "ipython3",
   "version": "3.6.9"
  },
  "toc": {
   "base_numbering": 1,
   "nav_menu": {},
   "number_sections": true,
   "sideBar": true,
   "skip_h1_title": false,
   "title_cell": "Table of Contents",
   "title_sidebar": "Contents",
   "toc_cell": false,
   "toc_position": {},
   "toc_section_display": true,
   "toc_window_display": false
  }
 },
 "nbformat": 4,
 "nbformat_minor": 2
}
