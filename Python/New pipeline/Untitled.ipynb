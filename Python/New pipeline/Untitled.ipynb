{
 "cells": [
  {
   "cell_type": "code",
   "execution_count": 6,
   "metadata": {},
   "outputs": [
    {
     "data": {
      "text/html": [
       "<style>.container { width:95% !important; }</style>"
      ],
      "text/plain": [
       "<IPython.core.display.HTML object>"
      ]
     },
     "metadata": {},
     "output_type": "display_data"
    }
   ],
   "source": [
    "from IPython.core.display import display, HTML\n",
    "display(HTML(\"<style>.container { width:95% !important; }</style>\"))"
   ]
  },
  {
   "cell_type": "code",
   "execution_count": 39,
   "metadata": {},
   "outputs": [],
   "source": [
    "import pickle\n",
    "import numpy as np\n",
    "import pandas as pd\n",
    "\n",
    "import seaborn as sns\n",
    "import matplotlib.pyplot as plt"
   ]
  },
  {
   "cell_type": "code",
   "execution_count": 37,
   "metadata": {},
   "outputs": [],
   "source": [
    "dd = pd.read_csv('/Users/bogao/DataFiles/new landscape/data/smote_bench.csv')"
   ]
  },
  {
   "cell_type": "code",
   "execution_count": 41,
   "metadata": {},
   "outputs": [],
   "source": [
    "dd['Squre root of time'] = np.sqrt(dd['Time'])"
   ]
  },
  {
   "cell_type": "code",
   "execution_count": 45,
   "metadata": {},
   "outputs": [],
   "source": [
    "dd['Log of time'] = np.log(dd['Time'])"
   ]
  },
  {
   "cell_type": "code",
   "execution_count": 52,
   "metadata": {},
   "outputs": [
    {
     "data": {
      "image/png": "[encoded data removed]",
      "text/plain": [
       "<Figure size 432x288 with 1 Axes>"
      ]
     },
     "metadata": {},
     "output_type": "display_data"
    }
   ],
   "source": [
    "with sns.axes_style(\"darkgrid\"):\n",
    "\n",
    "    sns.scatterplot(data=dd, x='Log of time', y='F1', hue='Methods')\n",
    "    plt.savefig('/Users/bogao/Desktop/projects/new landscape/Manuscript/smote_bench.pdf',bbox_inches='tight')"
   ]
  },
  {
   "cell_type": "code",
   "execution_count": 30,
   "metadata": {
    "scrolled": false
   },
   "outputs": [],
   "source": [
    "merged = pd.merge(melanoma, pd.merge(glioma, medullo, how='inner', on=common_cols), how='inner', on=common_cols)"
   ]
  },
  {
   "cell_type": "code",
   "execution_count": 31,
   "metadata": {},
   "outputs": [
    {
     "data": {
      "text/html": [
       "<div>\n",
       "<style scoped>\n",
       "    .dataframe tbody tr th:only-of-type {\n",
       "        vertical-align: middle;\n",
       "    }\n",
       "\n",
       "    .dataframe tbody tr th {\n",
       "        vertical-align: top;\n",
       "    }\n",
       "\n",
       "    .dataframe thead th {\n",
       "        text-align: right;\n",
       "    }\n",
       "</style>\n",
       "<table border=\"1\" class=\"dataframe\">\n",
       "  <thead>\n",
       "    <tr style=\"text-align: right;\">\n",
       "      <th></th>\n",
       "      <th>gene_id</th>\n",
       "      <th>name</th>\n",
       "      <th>chr</th>\n",
       "      <th>start</th>\n",
       "      <th>end</th>\n",
       "      <th>symbol</th>\n",
       "      <th>band</th>\n",
       "      <th>cnv</th>\n",
       "      <th>cnv_scaled</th>\n",
       "      <th>cnv_x</th>\n",
       "      <th>cnv_scaled_x</th>\n",
       "      <th>cnv_y</th>\n",
       "      <th>cnv_scaled_y</th>\n",
       "    </tr>\n",
       "  </thead>\n",
       "  <tbody>\n",
       "    <tr>\n",
       "      <th>0</th>\n",
       "      <td>ENSG00000164500</td>\n",
       "      <td>p12.2</td>\n",
       "      <td>7</td>\n",
       "      <td>50096036</td>\n",
       "      <td>50159830</td>\n",
       "      <td>SPATA48</td>\n",
       "      <td>7p12.2</td>\n",
       "      <td>408.228840</td>\n",
       "      <td>0.458112</td>\n",
       "      <td>806.542784</td>\n",
       "      <td>0.527777</td>\n",
       "      <td>339.877855</td>\n",
       "      <td>0.509285</td>\n",
       "    </tr>\n",
       "    <tr>\n",
       "      <th>1</th>\n",
       "      <td>ENSG00000106128</td>\n",
       "      <td>p14.3</td>\n",
       "      <td>7</td>\n",
       "      <td>30938669</td>\n",
       "      <td>30993254</td>\n",
       "      <td>GHRHR</td>\n",
       "      <td>7p14.3</td>\n",
       "      <td>429.256100</td>\n",
       "      <td>0.482351</td>\n",
       "      <td>836.064515</td>\n",
       "      <td>0.547363</td>\n",
       "      <td>351.148150</td>\n",
       "      <td>0.527998</td>\n",
       "    </tr>\n",
       "    <tr>\n",
       "      <th>2</th>\n",
       "      <td>ENSG00000078549</td>\n",
       "      <td>p14.3</td>\n",
       "      <td>7</td>\n",
       "      <td>31052461</td>\n",
       "      <td>31111479</td>\n",
       "      <td>ADCYAP1R1</td>\n",
       "      <td>7p14.3</td>\n",
       "      <td>428.013823</td>\n",
       "      <td>0.480919</td>\n",
       "      <td>834.350047</td>\n",
       "      <td>0.546226</td>\n",
       "      <td>351.067814</td>\n",
       "      <td>0.527864</td>\n",
       "    </tr>\n",
       "    <tr>\n",
       "      <th>3</th>\n",
       "      <td>ENSG00000136193</td>\n",
       "      <td>p14.3</td>\n",
       "      <td>7</td>\n",
       "      <td>29920104</td>\n",
       "      <td>29990289</td>\n",
       "      <td>SCRN1</td>\n",
       "      <td>7p14.3</td>\n",
       "      <td>426.088800</td>\n",
       "      <td>0.478700</td>\n",
       "      <td>831.941911</td>\n",
       "      <td>0.544628</td>\n",
       "      <td>352.501813</td>\n",
       "      <td>0.530245</td>\n",
       "    </tr>\n",
       "    <tr>\n",
       "      <th>4</th>\n",
       "      <td>ENSG00000106341</td>\n",
       "      <td>p14.3</td>\n",
       "      <td>7</td>\n",
       "      <td>31687215</td>\n",
       "      <td>31708455</td>\n",
       "      <td>PPP1R17</td>\n",
       "      <td>7p14.3</td>\n",
       "      <td>420.348600</td>\n",
       "      <td>0.472083</td>\n",
       "      <td>836.930293</td>\n",
       "      <td>0.547938</td>\n",
       "      <td>350.820650</td>\n",
       "      <td>0.527454</td>\n",
       "    </tr>\n",
       "    <tr>\n",
       "      <th>...</th>\n",
       "      <td>...</td>\n",
       "      <td>...</td>\n",
       "      <td>...</td>\n",
       "      <td>...</td>\n",
       "      <td>...</td>\n",
       "      <td>...</td>\n",
       "      <td>...</td>\n",
       "      <td>...</td>\n",
       "      <td>...</td>\n",
       "      <td>...</td>\n",
       "      <td>...</td>\n",
       "      <td>...</td>\n",
       "      <td>...</td>\n",
       "    </tr>\n",
       "    <tr>\n",
       "      <th>57</th>\n",
       "      <td>ENSG00000106617</td>\n",
       "      <td>q36.1</td>\n",
       "      <td>7</td>\n",
       "      <td>151556124</td>\n",
       "      <td>151877125</td>\n",
       "      <td>PRKAG2</td>\n",
       "      <td>7q36.1</td>\n",
       "      <td>508.343099</td>\n",
       "      <td>0.573519</td>\n",
       "      <td>818.536452</td>\n",
       "      <td>0.535734</td>\n",
       "      <td>392.291653</td>\n",
       "      <td>0.596311</td>\n",
       "    </tr>\n",
       "    <tr>\n",
       "      <th>58</th>\n",
       "      <td>ENSG00000106648</td>\n",
       "      <td>q36.1</td>\n",
       "      <td>7</td>\n",
       "      <td>151956379</td>\n",
       "      <td>152019929</td>\n",
       "      <td>GALNTL5</td>\n",
       "      <td>7q36.1</td>\n",
       "      <td>500.848156</td>\n",
       "      <td>0.564879</td>\n",
       "      <td>806.603326</td>\n",
       "      <td>0.527817</td>\n",
       "      <td>392.300950</td>\n",
       "      <td>0.596327</td>\n",
       "    </tr>\n",
       "    <tr>\n",
       "      <th>59</th>\n",
       "      <td>ENSG00000133627</td>\n",
       "      <td>q36.1</td>\n",
       "      <td>7</td>\n",
       "      <td>152759749</td>\n",
       "      <td>152855378</td>\n",
       "      <td>ACTR3B</td>\n",
       "      <td>7q36.1</td>\n",
       "      <td>496.206908</td>\n",
       "      <td>0.559529</td>\n",
       "      <td>808.889981</td>\n",
       "      <td>0.529334</td>\n",
       "      <td>391.893050</td>\n",
       "      <td>0.595649</td>\n",
       "    </tr>\n",
       "    <tr>\n",
       "      <th>60</th>\n",
       "      <td>ENSG00000082014</td>\n",
       "      <td>q36.1</td>\n",
       "      <td>7</td>\n",
       "      <td>151238764</td>\n",
       "      <td>151277896</td>\n",
       "      <td>SMARCD3</td>\n",
       "      <td>7q36.1</td>\n",
       "      <td>514.394900</td>\n",
       "      <td>0.580495</td>\n",
       "      <td>813.928579</td>\n",
       "      <td>0.532677</td>\n",
       "      <td>391.246750</td>\n",
       "      <td>0.594576</td>\n",
       "    </tr>\n",
       "    <tr>\n",
       "      <th>61</th>\n",
       "      <td>ENSG00000214022</td>\n",
       "      <td>q36.1</td>\n",
       "      <td>7</td>\n",
       "      <td>150368189</td>\n",
       "      <td>150374044</td>\n",
       "      <td>REPIN1</td>\n",
       "      <td>7q36.1</td>\n",
       "      <td>507.417100</td>\n",
       "      <td>0.572452</td>\n",
       "      <td>800.819000</td>\n",
       "      <td>0.523980</td>\n",
       "      <td>391.710650</td>\n",
       "      <td>0.595347</td>\n",
       "    </tr>\n",
       "  </tbody>\n",
       "</table>\n",
       "<p>62 rows × 13 columns</p>\n",
       "</div>"
      ],
      "text/plain": [
       "            gene_id   name  chr      start        end     symbol    band  \\\n",
       "0   ENSG00000164500  p12.2    7   50096036   50159830    SPATA48  7p12.2   \n",
       "1   ENSG00000106128  p14.3    7   30938669   30993254      GHRHR  7p14.3   \n",
       "2   ENSG00000078549  p14.3    7   31052461   31111479  ADCYAP1R1  7p14.3   \n",
       "3   ENSG00000136193  p14.3    7   29920104   29990289      SCRN1  7p14.3   \n",
       "4   ENSG00000106341  p14.3    7   31687215   31708455    PPP1R17  7p14.3   \n",
       "..              ...    ...  ...        ...        ...        ...     ...   \n",
       "57  ENSG00000106617  q36.1    7  151556124  151877125     PRKAG2  7q36.1   \n",
       "58  ENSG00000106648  q36.1    7  151956379  152019929    GALNTL5  7q36.1   \n",
       "59  ENSG00000133627  q36.1    7  152759749  152855378     ACTR3B  7q36.1   \n",
       "60  ENSG00000082014  q36.1    7  151238764  151277896    SMARCD3  7q36.1   \n",
       "61  ENSG00000214022  q36.1    7  150368189  150374044     REPIN1  7q36.1   \n",
       "\n",
       "           cnv  cnv_scaled       cnv_x  cnv_scaled_x       cnv_y  cnv_scaled_y  \n",
       "0   408.228840    0.458112  806.542784      0.527777  339.877855      0.509285  \n",
       "1   429.256100    0.482351  836.064515      0.547363  351.148150      0.527998  \n",
       "2   428.013823    0.480919  834.350047      0.546226  351.067814      0.527864  \n",
       "3   426.088800    0.478700  831.941911      0.544628  352.501813      0.530245  \n",
       "4   420.348600    0.472083  836.930293      0.547938  350.820650      0.527454  \n",
       "..         ...         ...         ...           ...         ...           ...  \n",
       "57  508.343099    0.573519  818.536452      0.535734  392.291653      0.596311  \n",
       "58  500.848156    0.564879  806.603326      0.527817  392.300950      0.596327  \n",
       "59  496.206908    0.559529  808.889981      0.529334  391.893050      0.595649  \n",
       "60  514.394900    0.580495  813.928579      0.532677  391.246750      0.594576  \n",
       "61  507.417100    0.572452  800.819000      0.523980  391.710650      0.595347  \n",
       "\n",
       "[62 rows x 13 columns]"
      ]
     },
     "execution_count": 31,
     "metadata": {},
     "output_type": "execute_result"
    }
   ],
   "source": [
    "merged"
   ]
  },
  {
   "cell_type": "code",
   "execution_count": 32,
   "metadata": {},
   "outputs": [
    {
     "data": {
      "text/plain": [
       "(array(['7p12.2', '7p14.3', '7q21.2', '7q22.3', '7q31.1', '7q31.2',\n",
       "        '7q32.2', '7q36.1'], dtype=object),\n",
       " array([ 1, 10,  6,  6,  6,  4,  5, 24]))"
      ]
     },
     "execution_count": 32,
     "metadata": {},
     "output_type": "execute_result"
    }
   ],
   "source": [
    "np.unique(merged.band, return_counts=True)"
   ]
  },
  {
   "cell_type": "code",
   "execution_count": 14,
   "metadata": {},
   "outputs": [],
   "source": [
    "colsum = np.sum(data, axis=0)"
   ]
  },
  {
   "cell_type": "code",
   "execution_count": 24,
   "metadata": {},
   "outputs": [
    {
     "data": {
      "text/plain": [
       "(7156,)"
      ]
     },
     "execution_count": 24,
     "metadata": {},
     "output_type": "execute_result"
    }
   ],
   "source": [
    "colsum[colsum<0.00001].shape"
   ]
  },
  {
   "cell_type": "code",
   "execution_count": 29,
   "metadata": {},
   "outputs": [
    {
     "data": {
      "text/plain": [
       "array([  0.        ,   0.        ,   0.        ,   0.        ,\n",
       "         0.        ,   0.        ,   0.        ,   0.        ,\n",
       "         0.        ,   0.        ,   0.        , 659.457     ,\n",
       "       669.704     , 713.80765   , 841.45375   , 916.44534204,\n",
       "       943.36962377, 945.08507693, 948.06418013, 954.86172904])"
      ]
     },
     "execution_count": 29,
     "metadata": {},
     "output_type": "execute_result"
    }
   ],
   "source": [
    "np.sort(np.abs(colsum))[:20]"
   ]
  },
  {
   "cell_type": "code",
   "execution_count": 34,
   "metadata": {},
   "outputs": [
    {
     "data": {
      "text/plain": [
       "1857"
      ]
     },
     "execution_count": 34,
     "metadata": {},
     "output_type": "execute_result"
    }
   ],
   "source": [
    "int(data.shape[1]/8)"
   ]
  },
  {
   "cell_type": "code",
   "execution_count": 35,
   "metadata": {},
   "outputs": [
    {
     "data": {
      "text/plain": [
       "array([[ 0.    ,  0.    ,  0.    , ..., -6.7869, -6.7869, -4.3219],\n",
       "       [ 0.    ,  0.    ,  0.    , ..., -0.9892, -0.9892, -1.1231],\n",
       "       [ 0.    ,  0.    ,  0.    , ..., -1.281 , -1.281 , -1.281 ],\n",
       "       ...,\n",
       "       [ 0.    ,  0.    ,  0.    , ..., -1.3322, -1.3322, -1.3322],\n",
       "       [ 0.    ,  0.    ,  0.    , ..., -0.8064, -0.8064, -0.8064],\n",
       "       [ 0.7118,  0.7118,  0.7118, ...,  0.    ,  0.    ,  0.    ]])"
      ]
     },
     "execution_count": 35,
     "metadata": {},
     "output_type": "execute_result"
    }
   ],
   "source": [
    "data"
   ]
  },
  {
   "cell_type": "code",
   "execution_count": 37,
   "metadata": {},
   "outputs": [
    {
     "data": {
      "text/plain": [
       "(10000, 2000)"
      ]
     },
     "execution_count": 37,
     "metadata": {},
     "output_type": "execute_result"
    }
   ],
   "source": [
    "data[:10000,:2000].shape"
   ]
  },
  {
   "cell_type": "code",
   "execution_count": null,
   "metadata": {},
   "outputs": [],
   "source": []
  }
 ],
 "metadata": {
  "kernelspec": {
   "display_name": "Python [conda env:plot]",
   "language": "python",
   "name": "conda-env-plot-py"
  },
  "language_info": {
   "codemirror_mode": {
    "name": "ipython",
    "version": 3
   },
   "file_extension": ".py",
   "mimetype": "text/x-python",
   "name": "python",
   "nbconvert_exporter": "python",
   "pygments_lexer": "ipython3",
   "version": "3.6.10"
  },
  "toc": {
   "base_numbering": 1,
   "nav_menu": {},
   "number_sections": true,
   "sideBar": true,
   "skip_h1_title": false,
   "title_cell": "Table of Contents",
   "title_sidebar": "Contents",
   "toc_cell": false,
   "toc_position": {},
   "toc_section_display": true,
   "toc_window_display": false
  }
 },
 "nbformat": 4,
 "nbformat_minor": 4
}
