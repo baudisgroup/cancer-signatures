{
 "cells": [
  {
   "cell_type": "markdown",
   "metadata": {},
   "source": [
    "Prepare data and labels for ML"
   ]
  },
  {
   "cell_type": "code",
   "execution_count": 1,
   "metadata": {},
   "outputs": [],
   "source": [
    "import pickle\n",
    "import numpy as np\n",
    "import pandas as pd"
   ]
  },
  {
   "cell_type": "code",
   "execution_count": 2,
   "metadata": {},
   "outputs": [],
   "source": [
    "# matfile = '/Users/bogao/DataFiles/new landscape/data/selected_gene_mat.pkl'\n",
    "# matfile = '/Users/bogao/DataFiles/new landscape/data/refined_gene_mat.pkl'\n",
    "matfile = '/Users/bogao/DataFiles/new landscape/data/all_bands.pkl'\n",
    "\n",
    "labelfile = '/Users/bogao/DataFiles/new landscape/data/all_bands_label.pkl'\n",
    "dlabelfile = '/Users/bogao/DataFiles/new landscape/data/all_bands_disease_label.pkl'"
   ]
  },
  {
   "cell_type": "code",
   "execution_count": 3,
   "metadata": {},
   "outputs": [],
   "source": [
    "with open(matfile, 'rb') as fmat, open(labelfile, 'rb') as flab, open(dlabelfile, 'rb') as fdl:\n",
    "        data = pickle.load(fmat)\n",
    "        data = np.array(data)\n",
    "        labels = pickle.load(flab)\n",
    "        d_labels = pickle.load(fdl)"
   ]
  },
  {
   "cell_type": "code",
   "execution_count": 4,
   "metadata": {},
   "outputs": [
    {
     "data": {
      "text/plain": [
       "array(['80053', '80103', '80123', '80203', '80223', '80313', '80413',\n",
       "       '80463', '80500', '80503', '80701', '80703', '80710', '80903',\n",
       "       '81400', '81402', '81403', '81443', '81453', '81703', '81713',\n",
       "       '81733', '81743', '81803', '82003', '82013', '82113', '82303',\n",
       "       '82403', '82503', '82513', '82523', '82533', '82543', '82553',\n",
       "       '82603', '82653', '82900', '82903', '83103', '83123', '83173',\n",
       "       '83183', '83803', '84013', '84303', '84403', '84413', '84421',\n",
       "       '84603', '84613', '84700', '84703', '84800', '84803', '84903',\n",
       "       '85002', '85003', '85004', '85023', '85032', '85033', '85073',\n",
       "       '85103', '85202', '85203', '85223', '85233', '85243', '85303',\n",
       "       '85413', '85503', '85603', '85743', '85753', '86203', '87203',\n",
       "       '87213', '87303', '87423', '87433', '87443', '87453', '87700',\n",
       "       '87703', '87713', '87723', '88333', '88903', '88910', '89363',\n",
       "       '89403', '89633', '90203', '90503', '90504', '90643', '90713',\n",
       "       '90800', '90803', '90813', '91003', '91303', '93653', '93803',\n",
       "       '93823', '93913', '94003', '94013', '94211', '94243', '94303',\n",
       "       '94403', '94423', '94503', '94513', '94703', '94713', '94733',\n",
       "       '94743', '95003', '96803', '96993', '97003', '97013', 'C22',\n",
       "       'C22.0', 'C26.8', 'C30.0', 'C43.2', 'C43.3', 'C43.4', 'C43.5',\n",
       "       'C43.6', 'C43.7', 'C43.9', 'C48.2', 'C50', 'C50.1', 'C50.2',\n",
       "       'C50.2/C50.4', 'C50.3', 'C50.4', 'C50.412', 'C50.5', 'C50.6',\n",
       "       'C50.8', 'C50.9', 'C50.912', 'C56', 'C57', 'C61', 'C64', 'C71.6',\n",
       "       'None', 'Others'], dtype=object)"
      ]
     },
     "execution_count": 4,
     "metadata": {},
     "output_type": "execute_result"
    }
   ],
   "source": [
    "np.unique(d_labels)"
   ]
  },
  {
   "cell_type": "code",
   "execution_count": 5,
   "metadata": {},
   "outputs": [],
   "source": [
    "dl = pd.DataFrame({'site':labels,'code':d_labels})"
   ]
  },
  {
   "cell_type": "code",
   "execution_count": 6,
   "metadata": {},
   "outputs": [],
   "source": [
    "dl['disease'] = \"NA\""
   ]
  },
  {
   "cell_type": "code",
   "execution_count": 7,
   "metadata": {},
   "outputs": [],
   "source": [
    "dl.loc[(dl['site'] == 'Brain') & (dl['code'] == '93803'), 'disease'] = 'Brain Glioma'\n",
    "dl.loc[(dl['site'] == 'Brain') & (dl['code'] == '94403'), 'disease'] = 'Brain Glioma'\n",
    "dl.loc[(dl['site'] == 'Brain') & (dl['code'] == '94003'), 'disease'] = 'Brain Astrocytoma'\n",
    "dl.loc[(dl['site'] == 'Brain') & (dl['code'] == '94013'), 'disease'] = 'Brain Astrocytoma'\n",
    "dl.loc[(dl['site'] == 'Brain') & (dl['code'] == '94503'), 'disease'] = 'Brain Oligodendroglioma'\n",
    "dl.loc[(dl['site'] == 'Brain') & (dl['code'] == '94513'), 'disease'] = 'Brain Primitive neuroectodermal tumor'\n",
    "dl.loc[(dl['site'] == 'Brain') & (dl['code'] == '94733'), 'disease'] = 'Brain Glioma'\n",
    "dl.loc[(dl['site'] == 'Brain') & (dl['code'] == '93823'), 'disease'] = 'Brain Mixed glioma'"
   ]
  },
  {
   "cell_type": "code",
   "execution_count": 8,
   "metadata": {},
   "outputs": [],
   "source": [
    "dl.loc[(dl['site'] == 'Breast') & (dl['code'] == '85002'), 'disease'] = 'Breast Intraductal carcinoma'\n",
    "dl.loc[(dl['site'] == 'Breast') & (dl['code'] == '85003'), 'disease'] = 'Breast Infiltrating duct carcinoma'\n",
    "dl.loc[(dl['site'] == 'Breast') & (dl['code'] == '85203'), 'disease'] = 'Breast Lobular carcinoma'"
   ]
  },
  {
   "cell_type": "code",
   "execution_count": 9,
   "metadata": {},
   "outputs": [],
   "source": [
    "dl.loc[(dl['site'] == 'Cerebellum') & (dl['code'] == '94703'), 'disease'] = 'Cerebellum Medulloblastoma'\n",
    "dl.loc[(dl['site'] == 'Cerebellum') & (dl['code'] == '94713'), 'disease'] = 'Cerebellum Medulloblastoma'\n",
    "dl.loc[(dl['site'] == 'Cerebellum') & (dl['code'] == '94743'), 'disease'] = 'Cerebellum Medulloblastoma'"
   ]
  },
  {
   "cell_type": "code",
   "execution_count": 10,
   "metadata": {},
   "outputs": [],
   "source": [
    "dl.loc[(dl['site'] == 'Colon') & (dl['code'] == '81400'), 'disease'] = 'Colon Adenoma'\n",
    "dl.loc[(dl['site'] == 'Colon') & (dl['code'] == '81403'), 'disease'] = 'Colon Adenocarcinoma'\n",
    "dl.loc[(dl['site'] == 'Colon') & (dl['code'] == '81443'), 'disease'] = 'Colon Adenocarcinoma intestinal type'\n",
    "dl.loc[(dl['site'] == 'Colon') & (dl['code'] == '84803'), 'disease'] = 'Colon Mucinous adenocarcinoma'"
   ]
  },
  {
   "cell_type": "code",
   "execution_count": 11,
   "metadata": {},
   "outputs": [],
   "source": [
    "dl.loc[(dl['site'] == 'Kidney') & (dl['code'] == '83103'), 'disease'] = 'Kidney Clear cell adenocarcinoma'\n",
    "dl.loc[(dl['site'] == 'Kidney') & (dl['code'] == '83123'), 'disease'] = 'Kidney Renal cell carcinoma'"
   ]
  },
  {
   "cell_type": "code",
   "execution_count": 12,
   "metadata": {},
   "outputs": [],
   "source": [
    "dl.loc[(dl['site'] == 'Liver') & (dl['code'] == '81703'), 'disease'] = 'Liver Hepatocellular carcinoma'"
   ]
  },
  {
   "cell_type": "code",
   "execution_count": 13,
   "metadata": {},
   "outputs": [],
   "source": [
    "dl.loc[(dl['site'] == 'Lung') & (dl['code'] == '80103'), 'disease'] = 'Lung Carcinoma'\n",
    "dl.loc[(dl['site'] == 'Lung') & (dl['code'] == '80123'), 'disease'] = 'Lung Carcinoma'\n",
    "dl.loc[(dl['site'] == 'Lung') & (dl['code'] == '81403'), 'disease'] = 'Lung Adenocarcinoma'\n",
    "dl.loc[(dl['site'] == 'Lung') & (dl['code'] == '82553'), 'disease'] = 'Lung Adenocarcinoma'\n",
    "dl.loc[(dl['site'] == 'Lung') & (dl['code'] == '80413'), 'disease'] = 'Lung Small cell carcinoma'\n",
    "dl.loc[(dl['site'] == 'Lung') & (dl['code'] == '80463'), 'disease'] = 'Lung Non-small cell carcinoma'\n",
    "dl.loc[(dl['site'] == 'Lung') & (dl['code'] == '80703'), 'disease'] = 'Lung Squamous cell carcinoma'"
   ]
  },
  {
   "cell_type": "code",
   "execution_count": 14,
   "metadata": {},
   "outputs": [],
   "source": [
    "dl.loc[(dl['site'] == 'Ovary') & (dl['code'] == '80103'), 'disease'] = 'Ovary Carcinoma'\n",
    "dl.loc[(dl['site'] == 'Ovary') & (dl['code'] == '84413'), 'disease'] = 'Ovary Carcinoma'\n",
    "dl.loc[(dl['site'] == 'Ovary') & (dl['code'] == '84421'), 'disease'] = 'Ovary Carcinoma'\n",
    "dl.loc[(dl['site'] == 'Ovary') & (dl['code'] == '84700'), 'disease'] = 'Ovary Mucinous cystadenoma'\n",
    "dl.loc[(dl['site'] == 'Ovary') & (dl['code'] == '84800'), 'disease'] = 'Ovary Mucinous cystadenoma'\n",
    "dl.loc[(dl['site'] == 'Ovary') & (dl['code'] == '81403'), 'disease'] = 'Ovary Adenocarcinoma'"
   ]
  },
  {
   "cell_type": "code",
   "execution_count": 15,
   "metadata": {},
   "outputs": [],
   "source": [
    "dl.loc[(dl['site'] == 'Prostate') & (dl['code'] == '81403'), 'disease'] = 'Prostate Adenocarcinoma'"
   ]
  },
  {
   "cell_type": "code",
   "execution_count": 16,
   "metadata": {},
   "outputs": [],
   "source": [
    "dl.loc[(dl['site'] == 'Skin') & (dl['code'] == '87203'), 'disease'] = 'Skin Melanoma'\n",
    "dl.loc[(dl['site'] == 'Skin') & (dl['code'] == '87213'), 'disease'] = 'Skin Melanoma'\n",
    "dl.loc[(dl['site'] == 'Skin') & (dl['code'] == '87303'), 'disease'] = 'Skin Melanoma'"
   ]
  },
  {
   "cell_type": "code",
   "execution_count": 17,
   "metadata": {},
   "outputs": [],
   "source": [
    "dl.loc[(dl['site'] == 'Stomach') & (dl['code'] == '81403'), 'disease'] = 'Stomach Adenocarcinoma'\n",
    "dl.loc[(dl['site'] == 'Stomach') & (dl['code'] == '89363'), 'disease'] = 'Stomach Gastrointestinal stromal sarcoma'\n",
    "dl.loc[(dl['site'] == 'Stomach') & (dl['code'] == '81443'), 'disease'] = 'Stomach Adenocarcinoma intestinal type'\n",
    "dl.loc[(dl['site'] == 'Stomach') & (dl['code'] == '81453'), 'disease'] = 'Stomach Carcinoma diffuse type'\n",
    "dl.loc[(dl['site'] == 'Stomach') & (dl['code'] == '82113'), 'disease'] = 'Stomach Tubular adenocarcinoma'"
   ]
  },
  {
   "cell_type": "code",
   "execution_count": 18,
   "metadata": {},
   "outputs": [
    {
     "data": {
      "text/html": [
       "<div>\n",
       "<style scoped>\n",
       "    .dataframe tbody tr th:only-of-type {\n",
       "        vertical-align: middle;\n",
       "    }\n",
       "\n",
       "    .dataframe tbody tr th {\n",
       "        vertical-align: top;\n",
       "    }\n",
       "\n",
       "    .dataframe thead th {\n",
       "        text-align: right;\n",
       "    }\n",
       "</style>\n",
       "<table border=\"1\" class=\"dataframe\">\n",
       "  <thead>\n",
       "    <tr style=\"text-align: right;\">\n",
       "      <th></th>\n",
       "      <th>0</th>\n",
       "      <th>1</th>\n",
       "    </tr>\n",
       "  </thead>\n",
       "  <tbody>\n",
       "    <tr>\n",
       "      <td>0</td>\n",
       "      <td>Brain Astrocytoma</td>\n",
       "      <td>339</td>\n",
       "    </tr>\n",
       "    <tr>\n",
       "      <td>1</td>\n",
       "      <td>Brain Glioma</td>\n",
       "      <td>1887</td>\n",
       "    </tr>\n",
       "    <tr>\n",
       "      <td>2</td>\n",
       "      <td>Brain Mixed glioma</td>\n",
       "      <td>162</td>\n",
       "    </tr>\n",
       "    <tr>\n",
       "      <td>3</td>\n",
       "      <td>Brain Oligodendroglioma</td>\n",
       "      <td>221</td>\n",
       "    </tr>\n",
       "    <tr>\n",
       "      <td>4</td>\n",
       "      <td>Brain Primitive neuroectodermal tumor</td>\n",
       "      <td>105</td>\n",
       "    </tr>\n",
       "    <tr>\n",
       "      <td>5</td>\n",
       "      <td>Breast Infiltrating duct carcinoma</td>\n",
       "      <td>5657</td>\n",
       "    </tr>\n",
       "    <tr>\n",
       "      <td>6</td>\n",
       "      <td>Breast Intraductal carcinoma</td>\n",
       "      <td>82</td>\n",
       "    </tr>\n",
       "    <tr>\n",
       "      <td>7</td>\n",
       "      <td>Breast Lobular carcinoma</td>\n",
       "      <td>201</td>\n",
       "    </tr>\n",
       "    <tr>\n",
       "      <td>8</td>\n",
       "      <td>Cerebellum Medulloblastoma</td>\n",
       "      <td>1682</td>\n",
       "    </tr>\n",
       "    <tr>\n",
       "      <td>9</td>\n",
       "      <td>Colon Adenocarcinoma</td>\n",
       "      <td>1643</td>\n",
       "    </tr>\n",
       "    <tr>\n",
       "      <td>10</td>\n",
       "      <td>Colon Adenocarcinoma intestinal type</td>\n",
       "      <td>53</td>\n",
       "    </tr>\n",
       "    <tr>\n",
       "      <td>11</td>\n",
       "      <td>Colon Adenoma</td>\n",
       "      <td>63</td>\n",
       "    </tr>\n",
       "    <tr>\n",
       "      <td>12</td>\n",
       "      <td>Colon Mucinous adenocarcinoma</td>\n",
       "      <td>62</td>\n",
       "    </tr>\n",
       "    <tr>\n",
       "      <td>13</td>\n",
       "      <td>Kidney Clear cell adenocarcinoma</td>\n",
       "      <td>930</td>\n",
       "    </tr>\n",
       "    <tr>\n",
       "      <td>14</td>\n",
       "      <td>Kidney Renal cell carcinoma</td>\n",
       "      <td>323</td>\n",
       "    </tr>\n",
       "    <tr>\n",
       "      <td>15</td>\n",
       "      <td>Liver Hepatocellular carcinoma</td>\n",
       "      <td>371</td>\n",
       "    </tr>\n",
       "    <tr>\n",
       "      <td>16</td>\n",
       "      <td>Lung Adenocarcinoma</td>\n",
       "      <td>1212</td>\n",
       "    </tr>\n",
       "    <tr>\n",
       "      <td>17</td>\n",
       "      <td>Lung Carcinoma</td>\n",
       "      <td>138</td>\n",
       "    </tr>\n",
       "    <tr>\n",
       "      <td>18</td>\n",
       "      <td>Lung Non-small cell carcinoma</td>\n",
       "      <td>1725</td>\n",
       "    </tr>\n",
       "    <tr>\n",
       "      <td>19</td>\n",
       "      <td>Lung Small cell carcinoma</td>\n",
       "      <td>155</td>\n",
       "    </tr>\n",
       "    <tr>\n",
       "      <td>20</td>\n",
       "      <td>Lung Squamous cell carcinoma</td>\n",
       "      <td>518</td>\n",
       "    </tr>\n",
       "    <tr>\n",
       "      <td>21</td>\n",
       "      <td>NA</td>\n",
       "      <td>20149</td>\n",
       "    </tr>\n",
       "    <tr>\n",
       "      <td>22</td>\n",
       "      <td>Ovary Adenocarcinoma</td>\n",
       "      <td>111</td>\n",
       "    </tr>\n",
       "    <tr>\n",
       "      <td>23</td>\n",
       "      <td>Ovary Carcinoma</td>\n",
       "      <td>1770</td>\n",
       "    </tr>\n",
       "    <tr>\n",
       "      <td>24</td>\n",
       "      <td>Ovary Mucinous cystadenoma</td>\n",
       "      <td>117</td>\n",
       "    </tr>\n",
       "    <tr>\n",
       "      <td>25</td>\n",
       "      <td>Prostate Adenocarcinoma</td>\n",
       "      <td>916</td>\n",
       "    </tr>\n",
       "    <tr>\n",
       "      <td>26</td>\n",
       "      <td>Skin Melanoma</td>\n",
       "      <td>1068</td>\n",
       "    </tr>\n",
       "    <tr>\n",
       "      <td>27</td>\n",
       "      <td>Stomach Adenocarcinoma</td>\n",
       "      <td>763</td>\n",
       "    </tr>\n",
       "    <tr>\n",
       "      <td>28</td>\n",
       "      <td>Stomach Adenocarcinoma intestinal type</td>\n",
       "      <td>83</td>\n",
       "    </tr>\n",
       "    <tr>\n",
       "      <td>29</td>\n",
       "      <td>Stomach Carcinoma diffuse type</td>\n",
       "      <td>57</td>\n",
       "    </tr>\n",
       "    <tr>\n",
       "      <td>30</td>\n",
       "      <td>Stomach Gastrointestinal stromal sarcoma</td>\n",
       "      <td>175</td>\n",
       "    </tr>\n",
       "    <tr>\n",
       "      <td>31</td>\n",
       "      <td>Stomach Tubular adenocarcinoma</td>\n",
       "      <td>82</td>\n",
       "    </tr>\n",
       "  </tbody>\n",
       "</table>\n",
       "</div>"
      ],
      "text/plain": [
       "                                           0      1\n",
       "0                          Brain Astrocytoma    339\n",
       "1                               Brain Glioma   1887\n",
       "2                         Brain Mixed glioma    162\n",
       "3                    Brain Oligodendroglioma    221\n",
       "4      Brain Primitive neuroectodermal tumor    105\n",
       "5         Breast Infiltrating duct carcinoma   5657\n",
       "6               Breast Intraductal carcinoma     82\n",
       "7                   Breast Lobular carcinoma    201\n",
       "8                 Cerebellum Medulloblastoma   1682\n",
       "9                       Colon Adenocarcinoma   1643\n",
       "10      Colon Adenocarcinoma intestinal type     53\n",
       "11                             Colon Adenoma     63\n",
       "12             Colon Mucinous adenocarcinoma     62\n",
       "13          Kidney Clear cell adenocarcinoma    930\n",
       "14               Kidney Renal cell carcinoma    323\n",
       "15            Liver Hepatocellular carcinoma    371\n",
       "16                       Lung Adenocarcinoma   1212\n",
       "17                            Lung Carcinoma    138\n",
       "18             Lung Non-small cell carcinoma   1725\n",
       "19                 Lung Small cell carcinoma    155\n",
       "20              Lung Squamous cell carcinoma    518\n",
       "21                                        NA  20149\n",
       "22                      Ovary Adenocarcinoma    111\n",
       "23                           Ovary Carcinoma   1770\n",
       "24                Ovary Mucinous cystadenoma    117\n",
       "25                   Prostate Adenocarcinoma    916\n",
       "26                             Skin Melanoma   1068\n",
       "27                    Stomach Adenocarcinoma    763\n",
       "28    Stomach Adenocarcinoma intestinal type     83\n",
       "29            Stomach Carcinoma diffuse type     57\n",
       "30  Stomach Gastrointestinal stromal sarcoma    175\n",
       "31            Stomach Tubular adenocarcinoma     82"
      ]
     },
     "execution_count": 18,
     "metadata": {},
     "output_type": "execute_result"
    }
   ],
   "source": [
    "pd.DataFrame(np.unique(dl['disease'], return_counts=True)).transpose()"
   ]
  },
  {
   "cell_type": "code",
   "execution_count": 19,
   "metadata": {},
   "outputs": [
    {
     "data": {
      "text/html": [
       "<div>\n",
       "<style scoped>\n",
       "    .dataframe tbody tr th:only-of-type {\n",
       "        vertical-align: middle;\n",
       "    }\n",
       "\n",
       "    .dataframe tbody tr th {\n",
       "        vertical-align: top;\n",
       "    }\n",
       "\n",
       "    .dataframe thead th {\n",
       "        text-align: right;\n",
       "    }\n",
       "</style>\n",
       "<table border=\"1\" class=\"dataframe\">\n",
       "  <thead>\n",
       "    <tr style=\"text-align: right;\">\n",
       "      <th></th>\n",
       "      <th>site</th>\n",
       "      <th>code</th>\n",
       "      <th>disease</th>\n",
       "    </tr>\n",
       "  </thead>\n",
       "  <tbody>\n",
       "    <tr>\n",
       "      <td>3</td>\n",
       "      <td>Ovary</td>\n",
       "      <td>84603</td>\n",
       "      <td>NA</td>\n",
       "    </tr>\n",
       "    <tr>\n",
       "      <td>106</td>\n",
       "      <td>Ovary</td>\n",
       "      <td>None</td>\n",
       "      <td>NA</td>\n",
       "    </tr>\n",
       "    <tr>\n",
       "      <td>109</td>\n",
       "      <td>Ovary</td>\n",
       "      <td>None</td>\n",
       "      <td>NA</td>\n",
       "    </tr>\n",
       "    <tr>\n",
       "      <td>133</td>\n",
       "      <td>Ovary</td>\n",
       "      <td>84603</td>\n",
       "      <td>NA</td>\n",
       "    </tr>\n",
       "    <tr>\n",
       "      <td>134</td>\n",
       "      <td>Ovary</td>\n",
       "      <td>None</td>\n",
       "      <td>NA</td>\n",
       "    </tr>\n",
       "    <tr>\n",
       "      <td>...</td>\n",
       "      <td>...</td>\n",
       "      <td>...</td>\n",
       "      <td>...</td>\n",
       "    </tr>\n",
       "    <tr>\n",
       "      <td>42391</td>\n",
       "      <td>Ovary</td>\n",
       "      <td>83103</td>\n",
       "      <td>NA</td>\n",
       "    </tr>\n",
       "    <tr>\n",
       "      <td>42394</td>\n",
       "      <td>Ovary</td>\n",
       "      <td>90813</td>\n",
       "      <td>NA</td>\n",
       "    </tr>\n",
       "    <tr>\n",
       "      <td>42395</td>\n",
       "      <td>Ovary</td>\n",
       "      <td>83103</td>\n",
       "      <td>NA</td>\n",
       "    </tr>\n",
       "    <tr>\n",
       "      <td>42403</td>\n",
       "      <td>Ovary</td>\n",
       "      <td>83803</td>\n",
       "      <td>NA</td>\n",
       "    </tr>\n",
       "    <tr>\n",
       "      <td>42587</td>\n",
       "      <td>Prostate</td>\n",
       "      <td>80103</td>\n",
       "      <td>NA</td>\n",
       "    </tr>\n",
       "  </tbody>\n",
       "</table>\n",
       "<p>1814 rows × 3 columns</p>\n",
       "</div>"
      ],
      "text/plain": [
       "           site   code disease\n",
       "3         Ovary  84603      NA\n",
       "106       Ovary   None      NA\n",
       "109       Ovary   None      NA\n",
       "133       Ovary  84603      NA\n",
       "134       Ovary   None      NA\n",
       "...         ...    ...     ...\n",
       "42391     Ovary  83103      NA\n",
       "42394     Ovary  90813      NA\n",
       "42395     Ovary  83103      NA\n",
       "42403     Ovary  83803      NA\n",
       "42587  Prostate  80103      NA\n",
       "\n",
       "[1814 rows x 3 columns]"
      ]
     },
     "execution_count": 19,
     "metadata": {},
     "output_type": "execute_result"
    }
   ],
   "source": [
    "dl[(dl['disease'] == 'NA') & (dl['site'] != 'Others')]"
   ]
  },
  {
   "cell_type": "markdown",
   "metadata": {},
   "source": [
    "## Refined disease name as labels"
   ]
  },
  {
   "cell_type": "code",
   "execution_count": 20,
   "metadata": {},
   "outputs": [],
   "source": [
    "names = pd.DataFrame(np.unique(dl['disease'], return_counts=True)).transpose()\n",
    "names = names.rename(columns={0:'disease',1:'count'})\n",
    "names = names[names['disease'] != 'NA']\n",
    "names = names.reset_index(drop=True)\n",
    "names['target'] = names.index \n",
    "names = names[['disease', 'target']]\n",
    "\n",
    "dlt = pd.merge(dl, names, how='left', on='disease')\n",
    "\n",
    "d = data[dl['disease'] != 'NA']\n",
    "l = dl.loc[dl['disease'] != 'NA', 'disease'].to_numpy()\n",
    "t = dlt.loc[dl['disease'] != 'NA', 'target'].to_numpy().astype(int)\n",
    "n = names['disease'].to_numpy()\n",
    "\n",
    "dd = {'data': d, 'label':l, 'target':t, 'name':n }"
   ]
  },
  {
   "cell_type": "code",
   "execution_count": 21,
   "metadata": {},
   "outputs": [],
   "source": [
    "# outfile = '/Users/bogao/DataFiles/new landscape/files/multiclass_refined_labels.pkl'\n",
    "# outfile = '/Users/bogao/DataFiles/new landscape/files/multiclass_refined_genes_labels.pkl'\n",
    "outfile = '/Users/bogao/DataFiles/new landscape/files/multiclass_all_bands.pkl'\n",
    "\n",
    "with open(outfile, 'wb') as fo:\n",
    "    pickle.dump(dd, fo)"
   ]
  },
  {
   "cell_type": "markdown",
   "metadata": {},
   "source": [
    "## Site as labels"
   ]
  },
  {
   "cell_type": "code",
   "execution_count": 22,
   "metadata": {},
   "outputs": [],
   "source": [
    "names = pd.DataFrame(np.unique(dl['site'], return_counts=True)).transpose()\n",
    "names = names.rename(columns={0:'site',1:'count'})\n",
    "names = names[names['site'] != 'NA']\n",
    "names = names.reset_index(drop=True)\n",
    "names['target'] = names.index \n",
    "names = names[['site', 'target']]\n",
    "\n",
    "l = dl.loc[dl['disease'] != 'NA', 'site'].to_numpy()\n",
    "t = dlt.loc[dl['disease'] != 'NA', 'target'].to_numpy().astype(int)\n",
    "n = names['site'].to_numpy()\n",
    "\n",
    "dd = {'data': d, 'label':l, 'target':t, 'name':n }"
   ]
  },
  {
   "cell_type": "code",
   "execution_count": 23,
   "metadata": {},
   "outputs": [],
   "source": [
    "# outfile = '/Users/bogao/DataFiles/new landscape/files/multiclass_refined_sites.pkl'\n",
    "# outfile = '/Users/bogao/DataFiles/new landscape/files/multiclass_refined_genes_sites.pkl'\n",
    "outfile = '/Users/bogao/DataFiles/new landscape/files/multiclass_all_bands_site.pkl'\n",
    "\n",
    "with open(outfile, 'wb') as fo:\n",
    "    pickle.dump(dd, fo)"
   ]
  },
  {
   "cell_type": "code",
   "execution_count": 19,
   "metadata": {},
   "outputs": [],
   "source": [
    "# with open('/Users/bogao/DataFiles/new landscape/files/all_bands_subtype_label.pkl', 'wb') as fo:\n",
    "#     pickle.dump(dl, fo)"
   ]
  },
  {
   "cell_type": "code",
   "execution_count": null,
   "metadata": {},
   "outputs": [],
   "source": []
  }
 ],
 "metadata": {
  "kernelspec": {
   "display_name": "Python 3",
   "language": "python",
   "name": "python3"
  },
  "language_info": {
   "codemirror_mode": {
    "name": "ipython",
    "version": 3
   },
   "file_extension": ".py",
   "mimetype": "text/x-python",
   "name": "python",
   "nbconvert_exporter": "python",
   "pygments_lexer": "ipython3",
   "version": "3.7.4"
  },
  "toc": {
   "base_numbering": 1,
   "nav_menu": {},
   "number_sections": true,
   "sideBar": true,
   "skip_h1_title": false,
   "title_cell": "Table of Contents",
   "title_sidebar": "Contents",
   "toc_cell": false,
   "toc_position": {},
   "toc_section_display": true,
   "toc_window_display": false
  }
 },
 "nbformat": 4,
 "nbformat_minor": 2
}
