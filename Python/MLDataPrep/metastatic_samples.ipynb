{
 "cells": [
  {
   "cell_type": "markdown",
   "metadata": {},
   "source": [
    "Find metastic samples and map to sample_id"
   ]
  },
  {
   "cell_type": "code",
   "execution_count": 4,
   "metadata": {},
   "outputs": [
    {
     "data": {
      "text/html": [
       "<style>.container { width:90% !important; }</style>"
      ],
      "text/plain": [
       "<IPython.core.display.HTML object>"
      ]
     },
     "metadata": {},
     "output_type": "display_data"
    }
   ],
   "source": [
    "from IPython.core.display import display, HTML\n",
    "display(HTML(\"<style>.container { width:90% !important; }</style>\"))\n",
    "pd.set_option('display.expand_frame_repr', False)"
   ]
  },
  {
   "cell_type": "code",
   "execution_count": 27,
   "metadata": {},
   "outputs": [],
   "source": [
    "from pymongo import MongoClient\n",
    "import pandas as pd\n",
    "import numpy as np\n",
    "import pickle"
   ]
  },
  {
   "cell_type": "markdown",
   "metadata": {},
   "source": [
    "## Get sample_id of metastatics"
   ]
  },
  {
   "cell_type": "code",
   "execution_count": 3,
   "metadata": {},
   "outputs": [],
   "source": [
    "db = MongoClient()['tcga']['masked_v2']"
   ]
  },
  {
   "cell_type": "code",
   "execution_count": 4,
   "metadata": {},
   "outputs": [],
   "source": [
    "samples = []\n",
    "\n",
    "for sam in db.find():\n",
    "    samples.append([sam['file_id'], sam['sample_type'], sam['project_id']])"
   ]
  },
  {
   "cell_type": "code",
   "execution_count": 5,
   "metadata": {},
   "outputs": [],
   "source": [
    "dd = pd.DataFrame(samples, columns=['id', 'type', 'project'])"
   ]
  },
  {
   "cell_type": "code",
   "execution_count": 17,
   "metadata": {},
   "outputs": [],
   "source": [
    "outpath = '/Users/bogao/DataFiles/new landscape/files/metastatic_'"
   ]
  },
  {
   "cell_type": "markdown",
   "metadata": {},
   "source": [
    "Metastatic from SKCM"
   ]
  },
  {
   "cell_type": "code",
   "execution_count": 13,
   "metadata": {},
   "outputs": [
    {
     "name": "stderr",
     "output_type": "stream",
     "text": [
      "/Users/bogao/anaconda3/lib/python3.7/site-packages/ipykernel/__main__.py:1: FutureWarning: The signature of `Series.to_csv` was aligned to that of `DataFrame.to_csv`, and argument 'header' will change its default value from False to True: please pass an explicit value to suppress this warning.\n",
      "  if __name__ == '__main__':\n"
     ]
    }
   ],
   "source": [
    "dd.loc[(dd.type=='Metastatic') & (dd.project=='TCGA-SKCM'), 'id'].to_csv(outpath+'skcm.txt', index=False)"
   ]
  },
  {
   "cell_type": "markdown",
   "metadata": {},
   "source": [
    "Metastatic from other projects"
   ]
  },
  {
   "cell_type": "code",
   "execution_count": 22,
   "metadata": {},
   "outputs": [],
   "source": [
    "dd.loc[(dd.type=='Metastatic') & (dd.project!='TCGA-SKCM'), ['id', 'project']].to_csv(outpath+'other.csv', index=False)"
   ]
  },
  {
   "cell_type": "code",
   "execution_count": null,
   "metadata": {},
   "outputs": [],
   "source": []
  },
  {
   "cell_type": "code",
   "execution_count": 23,
   "metadata": {},
   "outputs": [],
   "source": [
    "pc = MongoClient()['pcawg']['samples_hg38']"
   ]
  },
  {
   "cell_type": "code",
   "execution_count": 24,
   "metadata": {},
   "outputs": [],
   "source": [
    "pc_samples = []\n",
    "for sam in pc.find():\n",
    "    pc_samples.append([sam['sample_id'], sam['sample_type'], sam['project_code']])"
   ]
  },
  {
   "cell_type": "code",
   "execution_count": 25,
   "metadata": {},
   "outputs": [],
   "source": [
    "dpc = pd.DataFrame(pc_samples, columns=['id', 'type', 'project'])"
   ]
  },
  {
   "cell_type": "code",
   "execution_count": 28,
   "metadata": {},
   "outputs": [
    {
     "name": "stderr",
     "output_type": "stream",
     "text": [
      "/Users/bogao/anaconda3/lib/python3.7/site-packages/ipykernel/__main__.py:1: FutureWarning: The signature of `Series.to_csv` was aligned to that of `DataFrame.to_csv`, and argument 'header' will change its default value from False to True: please pass an explicit value to suppress this warning.\n",
      "  if __name__ == '__main__':\n"
     ]
    }
   ],
   "source": [
    "dpc.loc[(dpc.type=='Metastatic tumour') & (dpc.project=='MELA-AU'), 'id'].to_csv(outpath+'mela-au.txt', index=False)"
   ]
  },
  {
   "cell_type": "code",
   "execution_count": 29,
   "metadata": {},
   "outputs": [
    {
     "name": "stderr",
     "output_type": "stream",
     "text": [
      "/Users/bogao/anaconda3/lib/python3.7/site-packages/ipykernel/__main__.py:1: FutureWarning: The signature of `Series.to_csv` was aligned to that of `DataFrame.to_csv`, and argument 'header' will change its default value from False to True: please pass an explicit value to suppress this warning.\n",
      "  if __name__ == '__main__':\n"
     ]
    }
   ],
   "source": [
    "dpc.loc[(dpc.type=='Metastatic tumour') & (dpc.project=='PRAD-UK'), 'id'].to_csv(outpath+'prad-uk.txt', index=False)"
   ]
  },
  {
   "cell_type": "markdown",
   "metadata": {},
   "source": [
    "## Make a dataset of metastatics"
   ]
  },
  {
   "cell_type": "code",
   "execution_count": 6,
   "metadata": {},
   "outputs": [],
   "source": [
    "filepath = '/Users/bogao/DataFiles/new landscape/files/metastatic_skcm.txt'\n",
    "met_skcm = np.genfromtxt(filepath, dtype=str)"
   ]
  },
  {
   "cell_type": "code",
   "execution_count": 12,
   "metadata": {},
   "outputs": [],
   "source": [
    "filepath = '/Users/bogao/DataFiles/new landscape/files/metastatic_other.csv'\n",
    "met_others = pd.read_csv(filepath)"
   ]
  },
  {
   "cell_type": "code",
   "execution_count": 14,
   "metadata": {},
   "outputs": [],
   "source": [
    "filepath = '/Users/bogao/DataFiles/new landscape/files/metastatic_mela-au.txt'\n",
    "met_mela_au= np.genfromtxt(filepath, dtype=str)"
   ]
  },
  {
   "cell_type": "code",
   "execution_count": 16,
   "metadata": {},
   "outputs": [],
   "source": [
    "filepath = '/Users/bogao/DataFiles/new landscape/files/metastatic_prad-uk.txt'\n",
    "met_prad_uk= np.genfromtxt(filepath, dtype=str)"
   ]
  },
  {
   "cell_type": "code",
   "execution_count": 19,
   "metadata": {},
   "outputs": [],
   "source": [
    "met_ids = np.concatenate((met_skcm, met_others['id'].values, met_mela_au, met_prad_uk))"
   ]
  },
  {
   "cell_type": "code",
   "execution_count": 21,
   "metadata": {},
   "outputs": [
    {
     "data": {
      "text/plain": [
       "(499,)"
      ]
     },
     "execution_count": 21,
     "metadata": {},
     "output_type": "execute_result"
    }
   ],
   "source": [
    "met_ids.shape"
   ]
  },
  {
   "cell_type": "code",
   "execution_count": 22,
   "metadata": {},
   "outputs": [
    {
     "data": {
      "text/plain": [
       "(368,)"
      ]
     },
     "execution_count": 22,
     "metadata": {},
     "output_type": "execute_result"
    }
   ],
   "source": [
    "met_skcm.shape"
   ]
  },
  {
   "cell_type": "code",
   "execution_count": 23,
   "metadata": {},
   "outputs": [
    {
     "data": {
      "text/plain": [
       "(26, 2)"
      ]
     },
     "execution_count": 23,
     "metadata": {},
     "output_type": "execute_result"
    }
   ],
   "source": [
    "met_others.shape"
   ]
  },
  {
   "cell_type": "code",
   "execution_count": 24,
   "metadata": {},
   "outputs": [
    {
     "data": {
      "text/plain": [
       "(60,)"
      ]
     },
     "execution_count": 24,
     "metadata": {},
     "output_type": "execute_result"
    }
   ],
   "source": [
    "met_mela_au.shape"
   ]
  },
  {
   "cell_type": "code",
   "execution_count": 25,
   "metadata": {},
   "outputs": [
    {
     "data": {
      "text/plain": [
       "(45,)"
      ]
     },
     "execution_count": 25,
     "metadata": {},
     "output_type": "execute_result"
    }
   ],
   "source": [
    "met_prad_uk.shape"
   ]
  },
  {
   "cell_type": "code",
   "execution_count": 28,
   "metadata": {},
   "outputs": [],
   "source": [
    "filepath = '/Users/bogao/DataFiles/new landscape/data/all_bands_meta.pkl'\n",
    "with open(filepath, 'rb') as fin:\n",
    "    bands_meta = pickle.load(fin)"
   ]
  },
  {
   "cell_type": "code",
   "execution_count": 31,
   "metadata": {},
   "outputs": [
    {
     "data": {
      "text/html": [
       "<div>\n",
       "<style scoped>\n",
       "    .dataframe tbody tr th:only-of-type {\n",
       "        vertical-align: middle;\n",
       "    }\n",
       "\n",
       "    .dataframe tbody tr th {\n",
       "        vertical-align: top;\n",
       "    }\n",
       "\n",
       "    .dataframe thead th {\n",
       "        text-align: right;\n",
       "    }\n",
       "</style>\n",
       "<table border=\"1\" class=\"dataframe\">\n",
       "  <thead>\n",
       "    <tr style=\"text-align: right;\">\n",
       "      <th></th>\n",
       "      <th>id</th>\n",
       "      <th>source</th>\n",
       "      <th>project</th>\n",
       "      <th>morphology</th>\n",
       "      <th>topography</th>\n",
       "      <th>num_segs</th>\n",
       "      <th>site</th>\n",
       "    </tr>\n",
       "  </thead>\n",
       "  <tbody>\n",
       "    <tr>\n",
       "      <th>0</th>\n",
       "      <td>440e9ec5-8e61-4f75-b1d1-616941d9456d</td>\n",
       "      <td>TCGA</td>\n",
       "      <td>TCGA-OV</td>\n",
       "      <td>84413</td>\n",
       "      <td>Ovary</td>\n",
       "      <td>391</td>\n",
       "      <td>Ovary</td>\n",
       "    </tr>\n",
       "    <tr>\n",
       "      <th>1</th>\n",
       "      <td>6ca6f0fe-8b53-421e-ad4e-dfbf8c8c5b59</td>\n",
       "      <td>TCGA</td>\n",
       "      <td>TCGA-OV</td>\n",
       "      <td>84413</td>\n",
       "      <td>Ovary</td>\n",
       "      <td>571</td>\n",
       "      <td>Ovary</td>\n",
       "    </tr>\n",
       "    <tr>\n",
       "      <th>2</th>\n",
       "      <td>da9af00f-60ea-456b-9f25-0ab560962769</td>\n",
       "      <td>TCGA</td>\n",
       "      <td>TCGA-OV</td>\n",
       "      <td>84413</td>\n",
       "      <td>Ovary</td>\n",
       "      <td>431</td>\n",
       "      <td>Ovary</td>\n",
       "    </tr>\n",
       "    <tr>\n",
       "      <th>3</th>\n",
       "      <td>8e84a028-5e9c-4d01-9791-db0f04b05bce</td>\n",
       "      <td>TCGA</td>\n",
       "      <td>TCGA-OV</td>\n",
       "      <td>84603</td>\n",
       "      <td>Ovary</td>\n",
       "      <td>394</td>\n",
       "      <td>Ovary</td>\n",
       "    </tr>\n",
       "    <tr>\n",
       "      <th>4</th>\n",
       "      <td>d3f8c91f-e4cc-4018-9fbf-4368dd036b01</td>\n",
       "      <td>TCGA</td>\n",
       "      <td>TCGA-OV</td>\n",
       "      <td>84413</td>\n",
       "      <td>Ovary</td>\n",
       "      <td>252</td>\n",
       "      <td>Ovary</td>\n",
       "    </tr>\n",
       "    <tr>\n",
       "      <th>...</th>\n",
       "      <td>...</td>\n",
       "      <td>...</td>\n",
       "      <td>...</td>\n",
       "      <td>...</td>\n",
       "      <td>...</td>\n",
       "      <td>...</td>\n",
       "      <td>...</td>\n",
       "    </tr>\n",
       "    <tr>\n",
       "      <th>42815</th>\n",
       "      <td>PGX_AM_BS_GSM1414445</td>\n",
       "      <td>arraymap</td>\n",
       "      <td>GSE58579</td>\n",
       "      <td>84421</td>\n",
       "      <td>c56.9</td>\n",
       "      <td>104</td>\n",
       "      <td>Ovary</td>\n",
       "    </tr>\n",
       "    <tr>\n",
       "      <th>42816</th>\n",
       "      <td>PGX_AM_BS_GSM1414446</td>\n",
       "      <td>arraymap</td>\n",
       "      <td>GSE58579</td>\n",
       "      <td>84421</td>\n",
       "      <td>c56.9</td>\n",
       "      <td>240</td>\n",
       "      <td>Ovary</td>\n",
       "    </tr>\n",
       "    <tr>\n",
       "      <th>42817</th>\n",
       "      <td>PGX_AM_BS_GSM1414451</td>\n",
       "      <td>arraymap</td>\n",
       "      <td>GSE58579</td>\n",
       "      <td>84421</td>\n",
       "      <td>c56.9</td>\n",
       "      <td>79</td>\n",
       "      <td>Ovary</td>\n",
       "    </tr>\n",
       "    <tr>\n",
       "      <th>42818</th>\n",
       "      <td>PGX_AM_BS_GSM1431034</td>\n",
       "      <td>arraymap</td>\n",
       "      <td>GSE58579</td>\n",
       "      <td>84421</td>\n",
       "      <td>c56.9</td>\n",
       "      <td>133</td>\n",
       "      <td>Ovary</td>\n",
       "    </tr>\n",
       "    <tr>\n",
       "      <th>42819</th>\n",
       "      <td>PGX_AM_BS_GSM1431036</td>\n",
       "      <td>arraymap</td>\n",
       "      <td>GSE58579</td>\n",
       "      <td>84421</td>\n",
       "      <td>c56.9</td>\n",
       "      <td>148</td>\n",
       "      <td>Ovary</td>\n",
       "    </tr>\n",
       "  </tbody>\n",
       "</table>\n",
       "<p>42820 rows × 7 columns</p>\n",
       "</div>"
      ],
      "text/plain": [
       "                                         id    source   project morphology topography  num_segs   site\n",
       "0      440e9ec5-8e61-4f75-b1d1-616941d9456d      TCGA   TCGA-OV      84413      Ovary       391  Ovary\n",
       "1      6ca6f0fe-8b53-421e-ad4e-dfbf8c8c5b59      TCGA   TCGA-OV      84413      Ovary       571  Ovary\n",
       "2      da9af00f-60ea-456b-9f25-0ab560962769      TCGA   TCGA-OV      84413      Ovary       431  Ovary\n",
       "3      8e84a028-5e9c-4d01-9791-db0f04b05bce      TCGA   TCGA-OV      84603      Ovary       394  Ovary\n",
       "4      d3f8c91f-e4cc-4018-9fbf-4368dd036b01      TCGA   TCGA-OV      84413      Ovary       252  Ovary\n",
       "...                                     ...       ...       ...        ...        ...       ...    ...\n",
       "42815                  PGX_AM_BS_GSM1414445  arraymap  GSE58579      84421      c56.9       104  Ovary\n",
       "42816                  PGX_AM_BS_GSM1414446  arraymap  GSE58579      84421      c56.9       240  Ovary\n",
       "42817                  PGX_AM_BS_GSM1414451  arraymap  GSE58579      84421      c56.9        79  Ovary\n",
       "42818                  PGX_AM_BS_GSM1431034  arraymap  GSE58579      84421      c56.9       133  Ovary\n",
       "42819                  PGX_AM_BS_GSM1431036  arraymap  GSE58579      84421      c56.9       148  Ovary\n",
       "\n",
       "[42820 rows x 7 columns]"
      ]
     },
     "execution_count": 31,
     "metadata": {},
     "output_type": "execute_result"
    }
   ],
   "source": [
    "bands_meta"
   ]
  },
  {
   "cell_type": "code",
   "execution_count": 32,
   "metadata": {},
   "outputs": [
    {
     "data": {
      "text/html": [
       "<div>\n",
       "<style scoped>\n",
       "    .dataframe tbody tr th:only-of-type {\n",
       "        vertical-align: middle;\n",
       "    }\n",
       "\n",
       "    .dataframe tbody tr th {\n",
       "        vertical-align: top;\n",
       "    }\n",
       "\n",
       "    .dataframe thead th {\n",
       "        text-align: right;\n",
       "    }\n",
       "</style>\n",
       "<table border=\"1\" class=\"dataframe\">\n",
       "  <thead>\n",
       "    <tr style=\"text-align: right;\">\n",
       "      <th></th>\n",
       "      <th>id</th>\n",
       "      <th>source</th>\n",
       "      <th>project</th>\n",
       "      <th>morphology</th>\n",
       "      <th>topography</th>\n",
       "      <th>num_segs</th>\n",
       "      <th>site</th>\n",
       "    </tr>\n",
       "  </thead>\n",
       "  <tbody>\n",
       "    <tr>\n",
       "      <th>608</th>\n",
       "      <td>d13dec04-195e-4470-9872-3b8094296d7b</td>\n",
       "      <td>TCGA</td>\n",
       "      <td>TCGA-SKCM</td>\n",
       "      <td>87203</td>\n",
       "      <td>Skin, NOS</td>\n",
       "      <td>141</td>\n",
       "      <td>Skin</td>\n",
       "    </tr>\n",
       "  </tbody>\n",
       "</table>\n",
       "</div>"
      ],
      "text/plain": [
       "                                       id source    project morphology topography  num_segs  site\n",
       "608  d13dec04-195e-4470-9872-3b8094296d7b   TCGA  TCGA-SKCM      87203  Skin, NOS       141  Skin"
      ]
     },
     "execution_count": 32,
     "metadata": {},
     "output_type": "execute_result"
    }
   ],
   "source": [
    "bands_meta[bands_meta.id == met_ids[0]]"
   ]
  },
  {
   "cell_type": "code",
   "execution_count": 41,
   "metadata": {},
   "outputs": [
    {
     "data": {
      "text/html": [
       "<div>\n",
       "<style scoped>\n",
       "    .dataframe tbody tr th:only-of-type {\n",
       "        vertical-align: middle;\n",
       "    }\n",
       "\n",
       "    .dataframe tbody tr th {\n",
       "        vertical-align: top;\n",
       "    }\n",
       "\n",
       "    .dataframe thead th {\n",
       "        text-align: right;\n",
       "    }\n",
       "</style>\n",
       "<table border=\"1\" class=\"dataframe\">\n",
       "  <thead>\n",
       "    <tr style=\"text-align: right;\">\n",
       "      <th></th>\n",
       "      <th>id</th>\n",
       "      <th>source</th>\n",
       "      <th>project</th>\n",
       "      <th>morphology</th>\n",
       "      <th>topography</th>\n",
       "      <th>num_segs</th>\n",
       "      <th>site</th>\n",
       "    </tr>\n",
       "  </thead>\n",
       "  <tbody>\n",
       "    <tr>\n",
       "      <th>339</th>\n",
       "      <td>54236196-de21-4f37-9e75-0442d03c9d8e</td>\n",
       "      <td>TCGA</td>\n",
       "      <td>TCGA-BRCA</td>\n",
       "      <td>85003</td>\n",
       "      <td>Breast, NOS</td>\n",
       "      <td>416</td>\n",
       "      <td>Breast</td>\n",
       "    </tr>\n",
       "    <tr>\n",
       "      <th>375</th>\n",
       "      <td>f84b79f1-bc6e-4d52-9cd9-12f0dcfee04b</td>\n",
       "      <td>TCGA</td>\n",
       "      <td>TCGA-BRCA</td>\n",
       "      <td>85203</td>\n",
       "      <td>Breast, NOS</td>\n",
       "      <td>229</td>\n",
       "      <td>Breast</td>\n",
       "    </tr>\n",
       "    <tr>\n",
       "      <th>608</th>\n",
       "      <td>d13dec04-195e-4470-9872-3b8094296d7b</td>\n",
       "      <td>TCGA</td>\n",
       "      <td>TCGA-SKCM</td>\n",
       "      <td>87203</td>\n",
       "      <td>Skin, NOS</td>\n",
       "      <td>141</td>\n",
       "      <td>Skin</td>\n",
       "    </tr>\n",
       "    <tr>\n",
       "      <th>609</th>\n",
       "      <td>5ec990df-236e-496b-943d-421223ba9f19</td>\n",
       "      <td>TCGA</td>\n",
       "      <td>TCGA-SKCM</td>\n",
       "      <td>87203</td>\n",
       "      <td>Skin, NOS</td>\n",
       "      <td>409</td>\n",
       "      <td>Skin</td>\n",
       "    </tr>\n",
       "    <tr>\n",
       "      <th>611</th>\n",
       "      <td>8f598ed3-c297-4856-90b8-811c56381ca6</td>\n",
       "      <td>TCGA</td>\n",
       "      <td>TCGA-SKCM</td>\n",
       "      <td>87203</td>\n",
       "      <td>Skin, NOS</td>\n",
       "      <td>160</td>\n",
       "      <td>Skin</td>\n",
       "    </tr>\n",
       "    <tr>\n",
       "      <th>...</th>\n",
       "      <td>...</td>\n",
       "      <td>...</td>\n",
       "      <td>...</td>\n",
       "      <td>...</td>\n",
       "      <td>...</td>\n",
       "      <td>...</td>\n",
       "      <td>...</td>\n",
       "    </tr>\n",
       "    <tr>\n",
       "      <th>11575</th>\n",
       "      <td>30600994-c1ec-44c9-a620-3f6c617eb928</td>\n",
       "      <td>PCAWG</td>\n",
       "      <td>MELA-AU</td>\n",
       "      <td>C43.4</td>\n",
       "      <td>c43.4</td>\n",
       "      <td>250</td>\n",
       "      <td>Skin</td>\n",
       "    </tr>\n",
       "    <tr>\n",
       "      <th>11582</th>\n",
       "      <td>0bfd1068-3fca-a95b-e050-11ac0c4860c3</td>\n",
       "      <td>PCAWG</td>\n",
       "      <td>PRAD-UK</td>\n",
       "      <td>C61</td>\n",
       "      <td>c61</td>\n",
       "      <td>107</td>\n",
       "      <td>Prostate</td>\n",
       "    </tr>\n",
       "    <tr>\n",
       "      <th>11612</th>\n",
       "      <td>0c0038ff-6cc4-b0b0-e050-11ac0d483d73</td>\n",
       "      <td>PCAWG</td>\n",
       "      <td>PRAD-UK</td>\n",
       "      <td>C61</td>\n",
       "      <td>c61</td>\n",
       "      <td>426</td>\n",
       "      <td>Prostate</td>\n",
       "    </tr>\n",
       "    <tr>\n",
       "      <th>11635</th>\n",
       "      <td>0bfebf9f-c77f-e57d-e050-11ac0d487827</td>\n",
       "      <td>PCAWG</td>\n",
       "      <td>PRAD-UK</td>\n",
       "      <td>C61</td>\n",
       "      <td>c61</td>\n",
       "      <td>417</td>\n",
       "      <td>Prostate</td>\n",
       "    </tr>\n",
       "    <tr>\n",
       "      <th>11650</th>\n",
       "      <td>83a1b304-2ec1-44ae-a9c5-8ad3a2a46a1f</td>\n",
       "      <td>PCAWG</td>\n",
       "      <td>MELA-AU</td>\n",
       "      <td>C43.5</td>\n",
       "      <td>c43.5</td>\n",
       "      <td>347</td>\n",
       "      <td>Skin</td>\n",
       "    </tr>\n",
       "  </tbody>\n",
       "</table>\n",
       "<p>456 rows × 7 columns</p>\n",
       "</div>"
      ],
      "text/plain": [
       "                                         id source    project morphology   topography  num_segs      site\n",
       "339    54236196-de21-4f37-9e75-0442d03c9d8e   TCGA  TCGA-BRCA      85003  Breast, NOS       416    Breast\n",
       "375    f84b79f1-bc6e-4d52-9cd9-12f0dcfee04b   TCGA  TCGA-BRCA      85203  Breast, NOS       229    Breast\n",
       "608    d13dec04-195e-4470-9872-3b8094296d7b   TCGA  TCGA-SKCM      87203    Skin, NOS       141      Skin\n",
       "609    5ec990df-236e-496b-943d-421223ba9f19   TCGA  TCGA-SKCM      87203    Skin, NOS       409      Skin\n",
       "611    8f598ed3-c297-4856-90b8-811c56381ca6   TCGA  TCGA-SKCM      87203    Skin, NOS       160      Skin\n",
       "...                                     ...    ...        ...        ...          ...       ...       ...\n",
       "11575  30600994-c1ec-44c9-a620-3f6c617eb928  PCAWG    MELA-AU      C43.4        c43.4       250      Skin\n",
       "11582  0bfd1068-3fca-a95b-e050-11ac0c4860c3  PCAWG    PRAD-UK        C61          c61       107  Prostate\n",
       "11612  0c0038ff-6cc4-b0b0-e050-11ac0d483d73  PCAWG    PRAD-UK        C61          c61       426  Prostate\n",
       "11635  0bfebf9f-c77f-e57d-e050-11ac0d487827  PCAWG    PRAD-UK        C61          c61       417  Prostate\n",
       "11650  83a1b304-2ec1-44ae-a9c5-8ad3a2a46a1f  PCAWG    MELA-AU      C43.5        c43.5       347      Skin\n",
       "\n",
       "[456 rows x 7 columns]"
      ]
     },
     "execution_count": 41,
     "metadata": {},
     "output_type": "execute_result"
    }
   ],
   "source": [
    "bands_meta[np.isin(bands_meta.id, met_ids)]"
   ]
  },
  {
   "cell_type": "code",
   "execution_count": 42,
   "metadata": {},
   "outputs": [],
   "source": [
    "matfile = '/Users/bogao/DataFiles/new landscape/data/selected_gene_mat.pkl'\n",
    "labelfile = '/Users/bogao/DataFiles/new landscape/data/all_bands_label.pkl'\n",
    "dlabelfile = '/Users/bogao/DataFiles/new landscape/data/all_bands_disease_label.pkl'"
   ]
  },
  {
   "cell_type": "code",
   "execution_count": 43,
   "metadata": {},
   "outputs": [],
   "source": [
    "with open(matfile, 'rb') as fmat, open(labelfile, 'rb') as flab, open(dlabelfile, 'rb') as fdl:\n",
    "        data = pickle.load(fmat)\n",
    "        data = np.array(data)\n",
    "        labels = pickle.load(flab)\n",
    "        d_labels = pickle.load(fdl)"
   ]
  },
  {
   "cell_type": "code",
   "execution_count": 44,
   "metadata": {},
   "outputs": [],
   "source": [
    "d = data[ np.isin(bands_meta.id, met_ids)]\n",
    "site = labels [np.isin(bands_meta.id, met_ids)]\n",
    "disease = d_labels[ np.isin(bands_meta.id, met_ids) ]"
   ]
  },
  {
   "cell_type": "code",
   "execution_count": 46,
   "metadata": {},
   "outputs": [
    {
     "data": {
      "text/plain": [
       "(array(['Breast', 'Colon', 'Others', 'Prostate', 'Skin'], dtype=object),\n",
       " array([  6,   1,  10,  44, 395]))"
      ]
     },
     "execution_count": 46,
     "metadata": {},
     "output_type": "execute_result"
    }
   ],
   "source": [
    "np.unique(site, return_counts=True)"
   ]
  },
  {
   "cell_type": "code",
   "execution_count": 53,
   "metadata": {},
   "outputs": [],
   "source": [
    "data_train = data[ ~np.isin(bands_meta.id, met_ids)]\n",
    "site_train = labels [~np.isin(bands_meta.id, met_ids)]\n",
    "disease_train = d_labels[~ np.isin(bands_meta.id, met_ids) ]"
   ]
  },
  {
   "cell_type": "code",
   "execution_count": 49,
   "metadata": {},
   "outputs": [
    {
     "data": {
      "text/plain": [
       "(42364, 3029)"
      ]
     },
     "execution_count": 49,
     "metadata": {},
     "output_type": "execute_result"
    }
   ],
   "source": [
    "data_train.shape"
   ]
  },
  {
   "cell_type": "code",
   "execution_count": 50,
   "metadata": {},
   "outputs": [
    {
     "data": {
      "text/plain": [
       "(456, 3029)"
      ]
     },
     "execution_count": 50,
     "metadata": {},
     "output_type": "execute_result"
    }
   ],
   "source": [
    "d.shape"
   ]
  },
  {
   "cell_type": "code",
   "execution_count": 51,
   "metadata": {},
   "outputs": [
    {
     "data": {
      "text/plain": [
       "42820"
      ]
     },
     "execution_count": 51,
     "metadata": {},
     "output_type": "execute_result"
    }
   ],
   "source": [
    "data_train.shape[0] + d.shape[0]"
   ]
  },
  {
   "cell_type": "markdown",
   "metadata": {},
   "source": [
    "### site as label"
   ]
  },
  {
   "cell_type": "code",
   "execution_count": 54,
   "metadata": {},
   "outputs": [],
   "source": [
    "d = data[ labels != 'Others' ]\n",
    "site = labels [labels != 'Others']\n",
    "meta = bands_meta[labels != 'Others' ]"
   ]
  },
  {
   "cell_type": "code",
   "execution_count": 61,
   "metadata": {},
   "outputs": [],
   "source": [
    "data_train = d[ ~np.isin(meta.id, met_ids)]\n",
    "site_train = site [~np.isin(meta.id, met_ids)]"
   ]
  },
  {
   "cell_type": "code",
   "execution_count": 65,
   "metadata": {},
   "outputs": [],
   "source": [
    "data_test = d[ np.isin(meta.id, met_ids)]\n",
    "site_test = site [np.isin(meta.id, met_ids)]"
   ]
  },
  {
   "cell_type": "code",
   "execution_count": 68,
   "metadata": {},
   "outputs": [],
   "source": [
    "independent_data_site = {'data_train': data_train, 'data_test':data_test, 'site_train':site_train, 'site_test':site_test}"
   ]
  },
  {
   "cell_type": "code",
   "execution_count": 69,
   "metadata": {},
   "outputs": [],
   "source": [
    "outfile = '/Users/bogao/DataFiles/new landscape/files/multiclass_independent_data_site.pkl'\n",
    "with open(outfile, 'wb') as fo:\n",
    "    pickle.dump(independent_data_site, fo)"
   ]
  },
  {
   "cell_type": "markdown",
   "metadata": {},
   "source": [
    "### disease as label"
   ]
  },
  {
   "cell_type": "code",
   "execution_count": 70,
   "metadata": {},
   "outputs": [],
   "source": [
    "d = data[ (d_labels != 'Others') & (d_labels != 'None') ]\n",
    "disease = d_labels[ (d_labels != 'Others') & (d_labels != 'None') ]\n",
    "meta = bands_meta[ (d_labels != 'Others') & (d_labels != 'None') ]"
   ]
  },
  {
   "cell_type": "code",
   "execution_count": 73,
   "metadata": {},
   "outputs": [],
   "source": [
    "unique_disease, unique_count = np.unique(disease, return_counts=True)\n",
    "selected_disease = unique_disease[ unique_count > 50]"
   ]
  },
  {
   "cell_type": "code",
   "execution_count": 74,
   "metadata": {},
   "outputs": [],
   "source": [
    "d_sel = d [ np.isin(disease, selected_disease)]\n",
    "disease_sel = disease [ np.isin(disease, selected_disease)]\n",
    "meta_sel = meta [ np.isin(disease, selected_disease)]"
   ]
  },
  {
   "cell_type": "code",
   "execution_count": 77,
   "metadata": {},
   "outputs": [],
   "source": [
    "data_train = d_sel[ ~np.isin(meta_sel.id, met_ids)]\n",
    "disease_train = disease_sel [~np.isin(meta_sel.id, met_ids)]"
   ]
  },
  {
   "cell_type": "code",
   "execution_count": 78,
   "metadata": {},
   "outputs": [],
   "source": [
    "data_test = d_sel[ np.isin(meta_sel.id, met_ids)]\n",
    "disease_test = disease_sel [np.isin(meta_sel.id, met_ids)]"
   ]
  },
  {
   "cell_type": "code",
   "execution_count": 83,
   "metadata": {},
   "outputs": [],
   "source": [
    "independent_data_disease = {'data_train': data_train, 'data_test':data_test, 'disease_train':disease_train, 'disease_test':disease_test}"
   ]
  },
  {
   "cell_type": "code",
   "execution_count": 84,
   "metadata": {},
   "outputs": [],
   "source": [
    "outfile = '/Users/bogao/DataFiles/new landscape/files/multiclass_independent_data_disease.pkl'\n",
    "with open(outfile, 'wb') as fo:\n",
    "    pickle.dump(independent_data_disease, fo)"
   ]
  },
  {
   "cell_type": "code",
   "execution_count": 76,
   "metadata": {},
   "outputs": [
    {
     "data": {
      "text/plain": [
       "(21655, 3029)"
      ]
     },
     "execution_count": 76,
     "metadata": {},
     "output_type": "execute_result"
    }
   ],
   "source": [
    "d_sel.shape"
   ]
  },
  {
   "cell_type": "code",
   "execution_count": 82,
   "metadata": {},
   "outputs": [
    {
     "data": {
      "text/plain": [
       "(21277, 3029)"
      ]
     },
     "execution_count": 82,
     "metadata": {},
     "output_type": "execute_result"
    }
   ],
   "source": [
    "data_train.shape"
   ]
  },
  {
   "cell_type": "code",
   "execution_count": null,
   "metadata": {},
   "outputs": [],
   "source": []
  }
 ],
 "metadata": {
  "kernelspec": {
   "display_name": "Python [conda env:tf] *",
   "language": "python",
   "name": "conda-env-tf-py"
  },
  "language_info": {
   "codemirror_mode": {
    "name": "ipython",
    "version": 3
   },
   "file_extension": ".py",
   "mimetype": "text/x-python",
   "name": "python",
   "nbconvert_exporter": "python",
   "pygments_lexer": "ipython3",
   "version": "3.6.9"
  },
  "toc": {
   "base_numbering": 1,
   "nav_menu": {},
   "number_sections": true,
   "sideBar": true,
   "skip_h1_title": false,
   "title_cell": "Table of Contents",
   "title_sidebar": "Contents",
   "toc_cell": false,
   "toc_position": {},
   "toc_section_display": true,
   "toc_window_display": true
  }
 },
 "nbformat": 4,
 "nbformat_minor": 2
}
