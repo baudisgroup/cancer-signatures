{
 "cells": [
  {
   "cell_type": "code",
   "execution_count": null,
   "metadata": {},
   "outputs": [],
   "source": [
    "from mpl_toolkits.mplot3d import Axes3D\n",
    "import matplotlib.pyplot as plt\n",
    "import numpy as np\n",
    "import pandas as pd\n",
    "import os\n",
    "from matplotlib.patches import Rectangle\n",
    "import mpl_toolkits.mplot3d.art3d as art3d"
   ]
  },
  {
   "cell_type": "code",
   "execution_count": null,
   "metadata": {},
   "outputs": [],
   "source": [
    "from IPython.core.display import display, HTML\n",
    "display(HTML(\"<style>.container { width:95% !important; }</style>\"))"
   ]
  },
  {
   "cell_type": "markdown",
   "metadata": {},
   "source": [
    "# All alternations"
   ]
  },
  {
   "cell_type": "markdown",
   "metadata": {},
   "source": [
    "## Prepare the chromosome info and data"
   ]
  },
  {
   "cell_type": "code",
   "execution_count": null,
   "metadata": {},
   "outputs": [],
   "source": [
    "hg38_chro_size = {'1': 248956422, '2':242193529, '3':198295559, '4':190214555, '5':181538259, '6':170805979,\n",
    "                  '7': 159345973, '8':145138636, '9':138394717, '10':133797422, '11':135086622,\n",
    "                  '12': 133275309, '13':114364328, '14':107043718, '15':101991189, '16':90338345,\n",
    "                  '17':83257441, '18': 80373285, '19': 58617616, '20':64444167, '21':46709983,\n",
    "                  '22':50818468, '23':156040895, '24':57227415}"
   ]
  },
  {
   "cell_type": "code",
   "execution_count": null,
   "metadata": {},
   "outputs": [],
   "source": [
    "bin_size = 1000000"
   ]
  },
  {
   "cell_type": "code",
   "execution_count": null,
   "metadata": {},
   "outputs": [],
   "source": [
    "hg38_chro = pd.DataFrame.from_dict(hg38_chro_size, orient='index', columns=['size'])\n",
    "    \n",
    "\n",
    "hg38_chro = hg38_chro.assign(bin= np.ceil(hg38_chro['size']/bin_size))\n",
    "\n",
    "hg38_chro.index = hg38_chro.index.astype(int)\n",
    "\n",
    "hg38_chro['tick'] = hg38_chro.apply(lambda x: \n",
    "                                   hg38_chro.loc[:x.name-1, 'bin'].sum() + \n",
    "                                   np.ceil(x['bin']/2), \n",
    "                               axis=1)  \n",
    "\n",
    "hg38_chro['name'] = 'chr' + hg38_chro.index.astype(str)\n",
    "\n",
    "hg38_chro['start'] = hg38_chro.apply(lambda x: \n",
    "                                   hg38_chro.loc[:x.name-1, 'bin'].sum(), \n",
    "                               axis=1)  \n",
    "\n",
    "hg38_chro['end'] = hg38_chro.apply(lambda x: \n",
    "                                   hg38_chro.loc[:x.name, 'bin'].sum()-1, \n",
    "                               axis=1) "
   ]
  },
  {
   "cell_type": "code",
   "execution_count": null,
   "metadata": {},
   "outputs": [],
   "source": [
    "hg38_chro"
   ]
  },
  {
   "cell_type": "markdown",
   "metadata": {},
   "source": [
    "## Prepare disease data"
   ]
  },
  {
   "cell_type": "code",
   "execution_count": null,
   "metadata": {},
   "outputs": [],
   "source": [
    "def file2record(f):\n",
    "    df = pd.read_csv(f, sep='\\t')\n",
    "    return df"
   ]
  },
  {
   "cell_type": "code",
   "execution_count": null,
   "metadata": {},
   "outputs": [],
   "source": [
    "path = '../data'\n",
    "amps = []\n",
    "dels = []\n",
    "names = []\n",
    "min_samples = 50\n",
    "for organ in os.scandir(path):\n",
    "    if organ.is_dir():\n",
    "        print(organ.name)\n",
    "        \n",
    "        with open(os.path.join(organ, '_'.join([organ.name.lower(), 'counts.tsv']))) as fc:\n",
    "            counts = pd.read_csv(fc, sep='\\t')\n",
    "            print(counts)\n",
    "        \n",
    "        for subtype in os.scandir(os.path.abspath(organ)):\n",
    "            if subtype.is_dir():\n",
    "                print('\\t{}'.format(subtype.name))\n",
    "                \n",
    "                if counts.loc[counts['name'] == subtype.name, 'count'].values[0] < min_samples:\n",
    "                    print('\\t\\t Not enough samples: {}'.format(subtype.name))\n",
    "                else:                \n",
    "                \n",
    "                \n",
    "                    for f in os.scandir(os.path.abspath(subtype)):\n",
    "                        if len(f.name.split('_')) == 4:\n",
    "                            if 'amp_genes' in f.name:\n",
    "                                print('\\t\\t{}'.format(f.name))\n",
    "                                amps.append(file2record(f))\n",
    "                                names.append('-'.join([organ.name, subtype.name]))\n",
    "                            if 'del_genes' in f.name:\n",
    "                                print('\\t\\t{}'.format(f.name))\n",
    "                                dels.append(file2record(f))\n",
    "                        "
   ]
  },
  {
   "cell_type": "code",
   "execution_count": null,
   "metadata": {},
   "outputs": [],
   "source": [
    "amps = [x for _, x in sorted(zip(names,amps), key=lambda pair: pair[0])]\n",
    "dels = [x for _, x in sorted(zip(names,dels), key=lambda pair: pair[0])]\n",
    "names = sorted(names)"
   ]
  },
  {
   "cell_type": "markdown",
   "metadata": {},
   "source": [
    "## prepare amp data"
   ]
  },
  {
   "cell_type": "code",
   "execution_count": null,
   "metadata": {},
   "outputs": [],
   "source": [
    "xs = []\n",
    "ys = []\n",
    "zs = []\n",
    "xd = []\n",
    "yd = []\n",
    "zd = []\n",
    "colors = []\n",
    "cm = plt.get_cmap('Set2')\n",
    "num_colors = len(cm.colors)\n",
    "i = 0\n",
    "for df, y in zip(amps, np.arange(len(amps))):\n",
    "#     if i >4:\n",
    "#         break\n",
    "    df['bin'] = df.apply(lambda x: \n",
    "                                   hg38_chro.loc[:x['chr']-1, 'bin'].sum() + \n",
    "                                   np.ceil(x['start']/bin_size), \n",
    "                               axis=1)     \n",
    "    data = df.groupby(by='bin').mean()\n",
    "    \n",
    "    size = data.shape[0]\n",
    "    \n",
    "    xs += data.index.astype(int).tolist()\n",
    "    ys += [y] * size\n",
    "    zs += [0] * size\n",
    "\n",
    "    xd += [0.8] * size \n",
    "    yd += [0.2] * size \n",
    "    zd += data['cnv_scaled'].tolist()\n",
    "    \n",
    "    colors += [cm.colors[i % num_colors]] * size\n",
    "    i += 1"
   ]
  },
  {
   "cell_type": "markdown",
   "metadata": {},
   "source": [
    "## plot amps"
   ]
  },
  {
   "cell_type": "code",
   "execution_count": null,
   "metadata": {
    "scrolled": false
   },
   "outputs": [],
   "source": [
    "plt.rcParams['figure.dpi'] = 200\n",
    "fig = plt.figure(figsize=(30,20))\n",
    "\n",
    "ax = fig.add_subplot(111, projection='3d')\n",
    "\n",
    "\n",
    "for j in range(1,23):\n",
    "    if j % 2 == 1:\n",
    "        p = Rectangle((hg38_chro.loc[j,'start'], -0.2), hg38_chro.loc[j,'bin']-1,i-0.6, fc='grey', alpha=0.3, ec='black')\n",
    "    else:\n",
    "        p = Rectangle((hg38_chro.loc[j,'start'], -0.2), hg38_chro.loc[j,'bin']-1,i-0.6, fc='grey', alpha=0.1)\n",
    "    ax.add_patch(p)\n",
    "    art3d.pathpatch_2d_to_3d(p, z=0, zdir=\"z\")\n",
    "\n",
    "ax.bar3d(xs, ys, zs, xd, yd, zd, color=colors)\n",
    "\n",
    "ax.set_xlabel('Chromosomes', labelpad=35, fontsize=15)\n",
    "ax.set_ylabel('Subtypes', labelpad=150, fontsize=15)\n",
    "ax.set_zlabel('Frequency', fontsize=15)\n",
    "ax.w_yaxis.set_ticks(np.arange(0.3, i+0.3, 1))\n",
    "\n",
    "ax.w_yaxis.set_ticklabels(names[:i], rotation=-10, fontsize=10,\n",
    "                   horizontalalignment='left')\n",
    "\n",
    "ax.w_xaxis.set_ticks(hg38_chro.loc[:22, 'tick'])\n",
    "ax.w_xaxis.set_ticklabels(hg38_chro.loc[:22, 'name'], rotation=60, fontsize=10,\n",
    "                   horizontalalignment='right')\n",
    "\n",
    "ele=ax.elev\n",
    "ax.view_init(elev=ele+40)\n",
    "plt.savefig('bar3d_amp.pdf',bbox_inches='tight')"
   ]
  },
  {
   "cell_type": "markdown",
   "metadata": {},
   "source": [
    "## prepare del data"
   ]
  },
  {
   "cell_type": "code",
   "execution_count": null,
   "metadata": {},
   "outputs": [],
   "source": [
    "xs = []\n",
    "ys = []\n",
    "zs = []\n",
    "xd = []\n",
    "yd = []\n",
    "zd = []\n",
    "colors = []\n",
    "cm = plt.get_cmap('Set2')\n",
    "num_colors = len(cm.colors)\n",
    "i = 0\n",
    "for df, y in zip(dels, np.arange(len(dels))):\n",
    "#     if i >4:\n",
    "#         break\n",
    "    df['bin'] = df.apply(lambda x: \n",
    "                                   hg38_chro.loc[:x['chr']-1, 'bin'].sum() + \n",
    "                                   np.ceil(x['start']/bin_size), \n",
    "                               axis=1)     \n",
    "    data = df.groupby(by='bin').mean()\n",
    "    \n",
    "    size = data.shape[0]\n",
    "    \n",
    "    xs += data.index.astype(int).tolist()\n",
    "    ys += [y] * size\n",
    "    zs += [0] * size\n",
    "\n",
    "    xd += [0.8] * size \n",
    "    yd += [0.2] * size \n",
    "    zd += data['cnv_scaled'].tolist()\n",
    "    \n",
    "    colors += [cm.colors[i % num_colors]] * size\n",
    "    i += 1"
   ]
  },
  {
   "cell_type": "code",
   "execution_count": null,
   "metadata": {},
   "outputs": [],
   "source": [
    "zd = np.abs(zd)"
   ]
  },
  {
   "cell_type": "code",
   "execution_count": null,
   "metadata": {},
   "outputs": [],
   "source": [
    "plt.rcParams['figure.dpi'] = 200\n",
    "fig = plt.figure(figsize=(30,20))\n",
    "\n",
    "ax = fig.add_subplot(111, projection='3d')\n",
    "\n",
    "\n",
    "for j in range(1,23):\n",
    "    if j % 2 == 1:\n",
    "        p = Rectangle((hg38_chro.loc[j,'start'], -0.2), hg38_chro.loc[j,'bin']-1,i-0.6, fc='grey', alpha=0.3, ec='black')\n",
    "    else:\n",
    "        p = Rectangle((hg38_chro.loc[j,'start'], -0.2), hg38_chro.loc[j,'bin']-1,i-0.6, fc='grey', alpha=0.1)\n",
    "    ax.add_patch(p)\n",
    "    art3d.pathpatch_2d_to_3d(p, z=0, zdir=\"z\")\n",
    "\n",
    "ax.bar3d(xs, ys, zs, xd, yd, zd, color=colors)\n",
    "\n",
    "ax.set_xlabel('Chromosomes', labelpad=35, fontsize=15)\n",
    "ax.set_ylabel('Subtypes', labelpad=150, fontsize=15)\n",
    "ax.set_zlabel('Frequency', fontsize=15)\n",
    "ax.w_yaxis.set_ticks(np.arange(0.3, i+0.3, 1))\n",
    "\n",
    "ax.w_yaxis.set_ticklabels(names[:i], rotation=-10, fontsize=10,\n",
    "                   horizontalalignment='left')\n",
    "\n",
    "ax.w_xaxis.set_ticks(hg38_chro.loc[:22, 'tick'])\n",
    "ax.w_xaxis.set_ticklabels(hg38_chro.loc[:22, 'name'], rotation=60, fontsize=10,\n",
    "                   horizontalalignment='right')\n",
    "\n",
    "ele=ax.elev\n",
    "ax.view_init(elev=ele+40)\n",
    "plt.savefig('bar3d_del.pdf',bbox_inches='tight')"
   ]
  },
  {
   "cell_type": "markdown",
   "metadata": {},
   "source": [
    "# High level alternations"
   ]
  },
  {
   "cell_type": "markdown",
   "metadata": {},
   "source": [
    "## prepare disease data"
   ]
  },
  {
   "cell_type": "code",
   "execution_count": null,
   "metadata": {},
   "outputs": [],
   "source": [
    "amps = []\n",
    "dels = []\n",
    "names = []\n",
    "min_samples = 50\n",
    "for organ in os.scandir(path):\n",
    "    if organ.is_dir():\n",
    "        print(organ.name)\n",
    "\n",
    "        with open(os.path.join(organ, '_'.join([organ.name.lower(), 'counts.tsv']))) as fc:\n",
    "            counts = pd.read_csv(fc, sep='\\t')\n",
    "            print(counts)        \n",
    "        \n",
    "        for subtype in os.scandir(os.path.abspath(organ)):\n",
    "            if subtype.is_dir():\n",
    "                print('\\t{}'.format(subtype.name))\n",
    "                    \n",
    "                if counts.loc[counts['name'] == subtype.name, 'count'].values[0] < min_samples:\n",
    "                    print('\\t\\t Not enough samples: {}'.format(subtype.name))\n",
    "                else:                      \n",
    "                    \n",
    "                    for f in os.scandir(os.path.abspath(subtype)):\n",
    "    #                     if len(f.name.split('_')) == 4:\n",
    "                        if 'high_amp_genes' in f.name:\n",
    "                            print('\\t\\t{}'.format(f.name))\n",
    "                            amps.append(file2record(f))\n",
    "                            names.append('-'.join([organ.name, subtype.name]))\n",
    "                        if 'high_del_genes' in f.name:\n",
    "                            print('\\t\\t{}'.format(f.name))\n",
    "                            dels.append(file2record(f))"
   ]
  },
  {
   "cell_type": "code",
   "execution_count": null,
   "metadata": {},
   "outputs": [],
   "source": [
    "amps = [x for _, x in sorted(zip(names,amps), key=lambda pair: pair[0])]\n",
    "dels = [x for _, x in sorted(zip(names,dels), key=lambda pair: pair[0])]\n",
    "names = sorted(names)"
   ]
  },
  {
   "cell_type": "markdown",
   "metadata": {},
   "source": [
    "## prepare amp data"
   ]
  },
  {
   "cell_type": "code",
   "execution_count": null,
   "metadata": {},
   "outputs": [],
   "source": [
    "xs = []\n",
    "ys = []\n",
    "zs = []\n",
    "xd = []\n",
    "yd = []\n",
    "zd = []\n",
    "colors = []\n",
    "cm = plt.get_cmap('Set2')\n",
    "num_colors = len(cm.colors)\n",
    "i = 0\n",
    "for df, y in zip(amps, np.arange(len(amps))):\n",
    "#     if i >4:\n",
    "#         break\n",
    "    df['bin'] = df.apply(lambda x: \n",
    "                                   hg38_chro.loc[:x['chr']-1, 'bin'].sum() + \n",
    "                                   np.ceil(x['start']/bin_size), \n",
    "                               axis=1)     \n",
    "    data = df.groupby(by='bin').mean()\n",
    "    \n",
    "    size = data.shape[0]\n",
    "    \n",
    "    xs += data.index.astype(int).tolist()\n",
    "    ys += [y] * size\n",
    "    zs += [0] * size\n",
    "\n",
    "    xd += [15] * size \n",
    "    yd += [0.1] * size \n",
    "    zd += data['cnv_scaled'].tolist()\n",
    "    \n",
    "    colors += [cm.colors[i % num_colors]] * size\n",
    "    i += 1"
   ]
  },
  {
   "cell_type": "markdown",
   "metadata": {},
   "source": [
    "## plot"
   ]
  },
  {
   "cell_type": "code",
   "execution_count": null,
   "metadata": {},
   "outputs": [],
   "source": [
    "plt.rcParams['figure.dpi'] = 200\n",
    "fig = plt.figure(figsize=(30,20))\n",
    "\n",
    "ax = fig.add_subplot(111, projection='3d')\n",
    "\n",
    "\n",
    "for j in range(1,23):\n",
    "    if j % 2 == 1:\n",
    "        p = Rectangle((hg38_chro.loc[j,'start'], -0.2), hg38_chro.loc[j,'bin']-1,i-0.6, fc='grey', alpha=0.3, ec='black')\n",
    "    else:\n",
    "        p = Rectangle((hg38_chro.loc[j,'start'], -0.2), hg38_chro.loc[j,'bin']-1,i-0.6, fc='grey', alpha=0.1)\n",
    "    ax.add_patch(p)\n",
    "    art3d.pathpatch_2d_to_3d(p, z=0, zdir=\"z\")\n",
    "\n",
    "ax.bar3d(xs, ys, zs, xd, yd, zd, color=colors)\n",
    "\n",
    "ax.set_xlabel('Chromosomes', labelpad=35, fontsize=15)\n",
    "ax.set_ylabel('Subtypes', labelpad=150, fontsize=15)\n",
    "ax.set_zlabel('Frequency', fontsize=15)\n",
    "ax.w_yaxis.set_ticks(np.arange(0.3, i+0.3, 1))\n",
    "\n",
    "ax.w_yaxis.set_ticklabels(names[:i], rotation=-10, fontsize=10,\n",
    "                   horizontalalignment='left')\n",
    "\n",
    "ax.w_xaxis.set_ticks(hg38_chro.loc[:22, 'tick'])\n",
    "ax.w_xaxis.set_ticklabels(hg38_chro.loc[:22, 'name'], rotation=60, fontsize=10,\n",
    "                   horizontalalignment='right')\n",
    "\n",
    "ele=ax.elev\n",
    "ax.view_init(elev=ele+40)\n",
    "plt.savefig('bar3d_high_amp.pdf',bbox_inches='tight')"
   ]
  },
  {
   "cell_type": "markdown",
   "metadata": {},
   "source": [
    "## prepare del data"
   ]
  },
  {
   "cell_type": "code",
   "execution_count": null,
   "metadata": {},
   "outputs": [],
   "source": [
    "xs = []\n",
    "ys = []\n",
    "zs = []\n",
    "xd = []\n",
    "yd = []\n",
    "zd = []\n",
    "colors = []\n",
    "cm = plt.get_cmap('Set2')\n",
    "num_colors = len(cm.colors)\n",
    "i = 0\n",
    "for df, y in zip(dels, np.arange(len(dels))):\n",
    "#     if i >4:\n",
    "#         break\n",
    "    if df.shape[0] >0:\n",
    "\n",
    "        df['bin'] = df.apply(lambda x: \n",
    "                                       hg38_chro.loc[:x['chr']-1, 'bin'].sum() + \n",
    "                                       np.ceil(x['start']/bin_size), \n",
    "                                   axis=1)     \n",
    "        data = df.groupby(by='bin').mean()\n",
    "\n",
    "        size = data.shape[0]\n",
    "\n",
    "        xs += data.index.astype(int).tolist()\n",
    "        ys += [y] * size\n",
    "        zs += [0] * size\n",
    "\n",
    "        xd += [15] * size \n",
    "        yd += [0.1] * size \n",
    "        zd += data['cnv_scaled'].tolist()\n",
    "\n",
    "        colors += [cm.colors[i % num_colors]] * size\n",
    "    i += 1"
   ]
  },
  {
   "cell_type": "code",
   "execution_count": null,
   "metadata": {},
   "outputs": [],
   "source": [
    "zd = np.abs(zd)"
   ]
  },
  {
   "cell_type": "markdown",
   "metadata": {},
   "source": [
    "## plot"
   ]
  },
  {
   "cell_type": "code",
   "execution_count": null,
   "metadata": {},
   "outputs": [],
   "source": [
    "plt.rcParams['figure.dpi'] = 200\n",
    "fig = plt.figure(figsize=(30,20))\n",
    "\n",
    "ax = fig.add_subplot(111, projection='3d')\n",
    "\n",
    "\n",
    "for j in range(1,23):\n",
    "    if j % 2 == 1:\n",
    "        p = Rectangle((hg38_chro.loc[j,'start'], -0.2), hg38_chro.loc[j,'bin']-1,i-0.6, fc='grey', alpha=0.3, ec='black')\n",
    "    else:\n",
    "        p = Rectangle((hg38_chro.loc[j,'start'], -0.2), hg38_chro.loc[j,'bin']-1,i-0.6, fc='grey', alpha=0.1)\n",
    "    ax.add_patch(p)\n",
    "    art3d.pathpatch_2d_to_3d(p, z=0, zdir=\"z\")\n",
    "\n",
    "ax.bar3d(xs, ys, zs, xd, yd, zd, color=colors)\n",
    "\n",
    "ax.set_xlabel('Chromosomes', labelpad=35, fontsize=15)\n",
    "ax.set_ylabel('Subtypes', labelpad=150, fontsize=15)\n",
    "ax.set_zlabel('Frequency', fontsize=15)\n",
    "ax.w_yaxis.set_ticks(np.arange(0.3, i+0.3, 1))\n",
    "\n",
    "ax.w_yaxis.set_ticklabels(names[:i], rotation=-10, fontsize=10,\n",
    "                   horizontalalignment='left')\n",
    "\n",
    "ax.w_xaxis.set_ticks(hg38_chro.loc[:22, 'tick'])\n",
    "ax.w_xaxis.set_ticklabels(hg38_chro.loc[:22, 'name'], rotation=60, fontsize=10,\n",
    "                   horizontalalignment='right')\n",
    "\n",
    "ele=ax.elev\n",
    "ax.view_init(elev=ele+40)\n",
    "plt.savefig('bar3d_high_del.pdf',bbox_inches='tight')"
   ]
  },
  {
   "cell_type": "code",
   "execution_count": null,
   "metadata": {},
   "outputs": [],
   "source": []
  },
  {
   "cell_type": "code",
   "execution_count": null,
   "metadata": {},
   "outputs": [],
   "source": []
  }
 ],
 "metadata": {
  "kernelspec": {
   "display_name": "Python [conda env:plot]",
   "language": "python",
   "name": "conda-env-plot-py"
  },
  "language_info": {
   "codemirror_mode": {
    "name": "ipython",
    "version": 3
   },
   "file_extension": ".py",
   "mimetype": "text/x-python",
   "name": "python",
   "nbconvert_exporter": "python",
   "pygments_lexer": "ipython3",
   "version": "3.6.10"
  },
  "toc": {
   "base_numbering": "1",
   "nav_menu": {},
   "number_sections": true,
   "sideBar": true,
   "skip_h1_title": false,
   "title_cell": "Table of Contents",
   "title_sidebar": "Contents",
   "toc_cell": false,
   "toc_position": {},
   "toc_section_display": true,
   "toc_window_display": false
  }
 },
 "nbformat": 4,
 "nbformat_minor": 2
}
