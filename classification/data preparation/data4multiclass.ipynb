{
 "cells": [
  {
   "cell_type": "markdown",
   "metadata": {},
   "source": [
    "Prepare data for multi class classification"
   ]
  },
  {
   "cell_type": "code",
   "execution_count": 1,
   "metadata": {},
   "outputs": [],
   "source": [
    "import pickle\n",
    "import numpy as np"
   ]
  },
  {
   "cell_type": "code",
   "execution_count": 2,
   "metadata": {},
   "outputs": [],
   "source": [
    "matfile = '../../data/selected_gene_mat.pkl'\n",
    "labelfile = '../../data/all_bands_label.pkl'\n",
    "dlabelfile = '../../data/all_bands_disease_label.pkl'"
   ]
  },
  {
   "cell_type": "code",
   "execution_count": 3,
   "metadata": {},
   "outputs": [],
   "source": [
    "with open(matfile, 'rb') as fmat, open(labelfile, 'rb') as flab, open(dlabelfile, 'rb') as fdl:\n",
    "        data = pickle.load(fmat)\n",
    "        data = np.array(data)\n",
    "        labels = pickle.load(flab)\n",
    "        d_labels = pickle.load(fdl)"
   ]
  },
  {
   "cell_type": "markdown",
   "metadata": {},
   "source": [
    "## Label with disease, in Brain and Ovary, for testing"
   ]
  },
  {
   "cell_type": "code",
   "execution_count": 5,
   "metadata": {},
   "outputs": [],
   "source": [
    "d = data[ (labels == 'Brain') | (labels == 'Ovary')]\n",
    "site = labels [(labels == 'Brain') | (labels == 'Ovary')]\n",
    "disease = d_labels[ (labels == 'Brain') | (labels == 'Ovary') ]"
   ]
  },
  {
   "cell_type": "code",
   "execution_count": 6,
   "metadata": {},
   "outputs": [],
   "source": [
    "dd = {'data':d, 'site':site, 'disease':disease}"
   ]
  },
  {
   "cell_type": "code",
   "execution_count": 8,
   "metadata": {},
   "outputs": [],
   "source": [
    "unique_disease, unique_count = np.unique(disease, return_counts=True)\n",
    "selected_disease = unique_disease[ unique_count > 50]"
   ]
  },
  {
   "cell_type": "code",
   "execution_count": 16,
   "metadata": {},
   "outputs": [],
   "source": [
    "dd = {'data':d [ np.isin(disease, selected_disease)], \n",
    "      'site':site [ np.isin(disease, selected_disease)], \n",
    "      'disease':disease [ np.isin(disease, selected_disease)]}"
   ]
  },
  {
   "cell_type": "code",
   "execution_count": 25,
   "metadata": {},
   "outputs": [
    {
     "data": {
      "text/plain": [
       "array(['80103', '81403', '84413', '84700', '84800', '93803', '93823',\n",
       "       '94003', '94013', '94403', '94503', '94513', '94733'], dtype=object)"
      ]
     },
     "execution_count": 25,
     "metadata": {},
     "output_type": "execute_result"
    }
   ],
   "source": [
    "np.unique(disease [ np.isin(disease, selected_disease)])"
   ]
  },
  {
   "cell_type": "code",
   "execution_count": 18,
   "metadata": {
    "scrolled": true
   },
   "outputs": [
    {
     "name": "stdout",
     "output_type": "stream",
     "text": [
      "(4667, 3029)\n",
      "(4667,)\n",
      "(4667,)\n"
     ]
    }
   ],
   "source": [
    "for k,v in dd.items():\n",
    "    print(v.shape)"
   ]
  },
  {
   "cell_type": "code",
   "execution_count": 20,
   "metadata": {},
   "outputs": [
    {
     "data": {
      "text/plain": [
       "array([ 761,    2,  111,   24,   11,    7,  964,   45,    4,    2,   57,\n",
       "          1,   60,    1,    1,    1,    8,    1,    1,    1,    1,    2,\n",
       "        159,  162,   49,  160,  179,   10,    2,    1, 1646,    6,  221,\n",
       "        105,   82,    8,   13,   38,    2,   27])"
      ]
     },
     "execution_count": 20,
     "metadata": {},
     "output_type": "execute_result"
    }
   ],
   "source": [
    "unique_count"
   ]
  },
  {
   "cell_type": "code",
   "execution_count": 21,
   "metadata": {},
   "outputs": [],
   "source": [
    "outfile = '../../data/multiclass_brain_ovary.pkl'\n",
    "with open(outfile, 'wb') as fo:\n",
    "    pickle.dump(dd, fo)"
   ]
  },
  {
   "cell_type": "code",
   "execution_count": 29,
   "metadata": {},
   "outputs": [
    {
     "data": {
      "text/plain": [
       "[(array(['80053', '80103', '80123', '80203', '80223', '80313', '80413',\n",
       "         '80463', '80500', '80503', '80701', '80703', '80710', '80903',\n",
       "         '81400', '81402', '81403', '81443', '81453', '81703', '81713',\n",
       "         '81733', '81743', '81803', '82003', '82013', '82113', '82303',\n",
       "         '82403', '82503', '82513', '82523', '82533', '82543', '82553',\n",
       "         '82603', '82653', '82900', '82903', '83103', '83123', '83173',\n",
       "         '83183', '83803', '84013', '84303', '84403', '84413', '84421',\n",
       "         '84603', '84613', '84700', '84703', '84800', '84803', '84903',\n",
       "         '85002', '85003', '85004', '85023', '85032', '85033', '85073',\n",
       "         '85103', '85202', '85203', '85223', '85233', '85243', '85303',\n",
       "         '85413', '85503', '85603', '85743', '85753', '86203', '87203',\n",
       "         '87213', '87303', '87423', '87433', '87443', '87453', '87700',\n",
       "         '87703', '87713', '87723', '88333', '88903', '88910', '89363',\n",
       "         '89403', '89633', '90203', '90503', '90504', '90643', '90713',\n",
       "         '90800', '90803', '90813', '91003', '91303', '93653', '93803',\n",
       "         '93823', '93913', '94003', '94013', '94211', '94243', '94303',\n",
       "         '94403', '94423', '94503', '94513', '94733', '95003', '96803',\n",
       "         '96993', '97003', '97013', 'C22', 'C22.0', 'C26.8', 'C30.0',\n",
       "         'C43.2', 'C43.3', 'C43.4', 'C43.5', 'C43.6', 'C43.7', 'C43.9',\n",
       "         'C48.2', 'C50', 'C50.1', 'C50.2', 'C50.2/C50.4', 'C50.3', 'C50.4',\n",
       "         'C50.412', 'C50.5', 'C50.6', 'C50.8', 'C50.9', 'C50.912', 'C56',\n",
       "         'C57', 'C61', 'C64', 'None', 'Others'], dtype=object),),\n",
       " (array([    3,   886,    54,     2,    14,     4,   156,  1725,     3,\n",
       "             2,    12,   537,    11,     1,    80,    19,  4536,   136,\n",
       "            57,   371,     3,     1,     4,     7,     1,     1,    83,\n",
       "             6,    23,    24,     8,    19,     5,    18,   115,    47,\n",
       "             3,    17,     8,   957,   323,    15,     4,    11,     1,\n",
       "             1,     7,   964,    45,     4,     2,    57,     1,    60,\n",
       "           113,    18,    82,  5664,     1,     1,     1,     7,    43,\n",
       "             6,     9,   201,    28,    14,     6,    19,     3,    21,\n",
       "            19,     1,    16,     1,  1030,    22,    16,     2,     5,\n",
       "             9,     1,     4,     1,     8,     2,    11,     1,     1,\n",
       "           175,     1,     1,     2,     8,     1,     8,     1,     1,\n",
       "             1,     1,     2,     1,     2,   159,   162,    49,   160,\n",
       "           179,    10,     2,     1,  1646,     6,   221,   105,    82,\n",
       "             7,     8,     2,    32,     4,   253,     5,    29,     1,\n",
       "             1,     1,     5,    13,    13,    24,     4,    13,     4,\n",
       "             3,     6,     1,     1,    12,     1,     4,     1,     1,\n",
       "            11,     1,    38,     2,   253,    73,   122, 20043]),)]"
      ]
     },
     "execution_count": 29,
     "metadata": {},
     "output_type": "execute_result"
    }
   ],
   "source": [
    "list(zip(np.unique(d_labels, return_counts=True)))"
   ]
  },
  {
   "cell_type": "markdown",
   "metadata": {},
   "source": [
    "## Label with site, without \"Others\""
   ]
  },
  {
   "cell_type": "code",
   "execution_count": 36,
   "metadata": {},
   "outputs": [],
   "source": [
    "d = data[ labels != 'Others' ]\n",
    "site = labels [labels != 'Others']\n",
    "# disease = d_labels[ labels != 'Others' ]"
   ]
  },
  {
   "cell_type": "code",
   "execution_count": 40,
   "metadata": {},
   "outputs": [],
   "source": [
    "dd = {'data':d, 'site':site}"
   ]
  },
  {
   "cell_type": "code",
   "execution_count": 41,
   "metadata": {},
   "outputs": [],
   "source": [
    "outfile = '../../data/multiclass_sites_wo_others.pkl'\n",
    "with open(outfile, 'wb') as fo:\n",
    "    pickle.dump(dd, fo)"
   ]
  },
  {
   "cell_type": "markdown",
   "metadata": {},
   "source": [
    "## Labels with disease, without \"others\", \"none\" and disease with less than 50 samples"
   ]
  },
  {
   "cell_type": "code",
   "execution_count": 52,
   "metadata": {},
   "outputs": [],
   "source": [
    "d = data[ (d_labels != 'Others') & (d_labels != 'None') ]\n",
    "# site = labels [labels != 'Others']\n",
    "disease = d_labels[ (d_labels != 'Others') & (d_labels != 'None') ]"
   ]
  },
  {
   "cell_type": "code",
   "execution_count": 53,
   "metadata": {},
   "outputs": [],
   "source": [
    "unique_disease, unique_count = np.unique(disease, return_counts=True)\n",
    "selected_disease = unique_disease[ unique_count > 50]"
   ]
  },
  {
   "cell_type": "code",
   "execution_count": 54,
   "metadata": {},
   "outputs": [],
   "source": [
    "dd = {'data':d [ np.isin(disease, selected_disease)],  \n",
    "      'disease':disease [ np.isin(disease, selected_disease)]}"
   ]
  },
  {
   "cell_type": "code",
   "execution_count": 55,
   "metadata": {},
   "outputs": [
    {
     "data": {
      "text/plain": [
       "(array(['80103', '80123', '80413', '80463', '80703', '81400', '81403',\n",
       "        '81443', '81453', '81703', '82113', '82553', '83103', '83123',\n",
       "        '84413', '84700', '84800', '84803', '85002', '85003', '85203',\n",
       "        '87203', '89363', '93803', '93823', '94003', '94013', '94403',\n",
       "        '94503', '94513', '94733', 'C22', 'C61', 'C64'], dtype=object),\n",
       " array([ 886,   54,  156, 1725,  537,   80, 4536,  136,   57,  371,   83,\n",
       "         115,  957,  323,  964,   57,   60,  113,   82, 5664,  201, 1030,\n",
       "         175,  159,  162,  160,  179, 1646,  221,  105,   82,  253,  253,\n",
       "          73]))"
      ]
     },
     "execution_count": 55,
     "metadata": {},
     "output_type": "execute_result"
    }
   ],
   "source": [
    "np.unique(dd['disease'], return_counts=True)"
   ]
  },
  {
   "cell_type": "code",
   "execution_count": 58,
   "metadata": {},
   "outputs": [],
   "source": [
    "outfile = '../../data/multiclass_disease_wo_others_none.pkl'\n",
    "with open(outfile, 'wb') as fo:\n",
    "    pickle.dump(dd, fo)"
   ]
  },
  {
   "cell_type": "code",
   "execution_count": 59,
   "metadata": {},
   "outputs": [
    {
     "data": {
      "text/plain": [
       "(42820, 3029)"
      ]
     },
     "execution_count": 59,
     "metadata": {},
     "output_type": "execute_result"
    }
   ],
   "source": [
    "data.shape"
   ]
  },
  {
   "cell_type": "code",
   "execution_count": null,
   "metadata": {},
   "outputs": [],
   "source": []
  }
 ],
 "metadata": {
  "kernelspec": {
   "display_name": "Python 3",
   "language": "python",
   "name": "python3"
  },
  "language_info": {
   "codemirror_mode": {
    "name": "ipython",
    "version": 3
   },
   "file_extension": ".py",
   "mimetype": "text/x-python",
   "name": "python",
   "nbconvert_exporter": "python",
   "pygments_lexer": "ipython3",
   "version": "3.7.4"
  },
  "toc": {
   "base_numbering": 1,
   "nav_menu": {},
   "number_sections": true,
   "sideBar": true,
   "skip_h1_title": false,
   "title_cell": "Table of Contents",
   "title_sidebar": "Contents",
   "toc_cell": false,
   "toc_position": {},
   "toc_section_display": true,
   "toc_window_display": false
  }
 },
 "nbformat": 4,
 "nbformat_minor": 2
}
