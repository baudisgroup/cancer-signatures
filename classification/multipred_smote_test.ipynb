{
 "cells": [
  {
   "cell_type": "markdown",
   "metadata": {},
   "source": [
    "Test SMOTE with different classifiers"
   ]
  },
  {
   "cell_type": "code",
   "execution_count": 1,
   "metadata": {},
   "outputs": [
    {
     "data": {
      "text/html": [
       "<style>.container { width:95% !important; }</style>"
      ],
      "text/plain": [
       "<IPython.core.display.HTML object>"
      ]
     },
     "metadata": {},
     "output_type": "display_data"
    }
   ],
   "source": [
    "from IPython.core.display import display, HTML\n",
    "display(HTML(\"<style>.container { width:95% !important; }</style>\"))"
   ]
  },
  {
   "cell_type": "code",
   "execution_count": 94,
   "metadata": {},
   "outputs": [],
   "source": [
    "import os, pickle, itertools\n",
    "import numpy as np\n",
    "\n",
    "import smote_variants as sv\n",
    "\n",
    "from sklearn.neighbors import KNeighborsClassifier\n",
    "from sklearn.tree import DecisionTreeClassifier\n",
    "\n",
    "import sklearn.datasets as datasets\n",
    "from sklearn.model_selection import cross_val_score\n",
    "from sklearn.model_selection import train_test_split\n",
    "from sklearn import metrics\n",
    "from sklearn import utils"
   ]
  },
  {
   "cell_type": "markdown",
   "metadata": {},
   "source": [
    "## Try smote_variants with brain and ovary using disease labels"
   ]
  },
  {
   "cell_type": "code",
   "execution_count": 24,
   "metadata": {},
   "outputs": [],
   "source": [
    "filepath = '../data/multiclass_brain_ovary.pkl'\n",
    "with open(filepath, 'rb') as fin:\n",
    "    data = pickle.load(fin)"
   ]
  },
  {
   "cell_type": "code",
   "execution_count": 25,
   "metadata": {},
   "outputs": [
    {
     "data": {
      "text/plain": [
       "array(['84413', '84413', '84413', ..., '80103', '80103', '80103'],\n",
       "      dtype=object)"
      ]
     },
     "execution_count": 25,
     "metadata": {},
     "output_type": "execute_result"
    }
   ],
   "source": [
    "data['disease']"
   ]
  },
  {
   "cell_type": "code",
   "execution_count": 31,
   "metadata": {},
   "outputs": [],
   "source": [
    "disease_num = dict([(y,x+1) for x,y in enumerate(sorted(set(data['disease'])))])"
   ]
  },
  {
   "cell_type": "code",
   "execution_count": 32,
   "metadata": {},
   "outputs": [],
   "source": [
    "disease_num = np.array([disease_num[x] for x in data['disease']])"
   ]
  },
  {
   "cell_type": "code",
   "execution_count": 7,
   "metadata": {},
   "outputs": [],
   "source": [
    "oversampler= sv.MulticlassOversampling(sv.polynom_fit_SMOTE())"
   ]
  },
  {
   "cell_type": "code",
   "execution_count": null,
   "metadata": {},
   "outputs": [],
   "source": [
    "X_samp, y_samp= oversampler.sample(data['data'], disease_num)"
   ]
  },
  {
   "cell_type": "code",
   "execution_count": 54,
   "metadata": {},
   "outputs": [],
   "source": [
    "model = DecisionTreeClassifier()"
   ]
  },
  {
   "cell_type": "code",
   "execution_count": 83,
   "metadata": {},
   "outputs": [],
   "source": [
    "scores = cross_val_score(model, X_samp, y_samp, cv=10, n_jobs=-1, scoring='f1_macro')"
   ]
  },
  {
   "cell_type": "code",
   "execution_count": 84,
   "metadata": {},
   "outputs": [
    {
     "data": {
      "text/plain": [
       "array([0.40373992, 0.8841628 , 0.87359003, 0.82316721, 0.85850258,\n",
       "       0.97351041, 0.95986294, 0.9544626 , 0.89927534, 0.88191745])"
      ]
     },
     "execution_count": 84,
     "metadata": {},
     "output_type": "execute_result"
    }
   ],
   "source": [
    "scores"
   ]
  },
  {
   "cell_type": "code",
   "execution_count": 77,
   "metadata": {},
   "outputs": [],
   "source": [
    "x_train, x_test, y_train, y_test = train_test_split(X_samp, y_samp, test_size=0.30, random_state=50)"
   ]
  },
  {
   "cell_type": "code",
   "execution_count": 78,
   "metadata": {},
   "outputs": [
    {
     "data": {
      "text/plain": [
       "DecisionTreeClassifier(class_weight=None, criterion='gini', max_depth=None,\n",
       "                       max_features=None, max_leaf_nodes=None,\n",
       "                       min_impurity_decrease=0.0, min_impurity_split=None,\n",
       "                       min_samples_leaf=1, min_samples_split=2,\n",
       "                       min_weight_fraction_leaf=0.0, presort=False,\n",
       "                       random_state=None, splitter='best')"
      ]
     },
     "execution_count": 78,
     "metadata": {},
     "output_type": "execute_result"
    }
   ],
   "source": [
    "model.fit(x_train, y_train)"
   ]
  },
  {
   "cell_type": "code",
   "execution_count": 79,
   "metadata": {},
   "outputs": [],
   "source": [
    "y_pred = model.predict(x_test)"
   ]
  },
  {
   "cell_type": "code",
   "execution_count": 64,
   "metadata": {},
   "outputs": [
    {
     "data": {
      "text/plain": [
       "array([[353,   6,  33,   0,   1,   8,   3,   2,   5,  36,   4,   1,   4],\n",
       "       [ 17, 501,   7,   3,   0,   0,   3,   2,   1,   5,   0,   0,   0],\n",
       "       [ 45,   6, 462,   4,   2,   8,   5,   4,   6,  19,   9,   2,   2],\n",
       "       [  5,   3,   3, 508,   7,   1,   0,   0,   0,   2,   0,   0,   0],\n",
       "       [  0,   0,   0,   4, 514,   0,   0,   1,   0,   1,   0,   0,   0],\n",
       "       [  9,   2,   6,   0,   0, 494,   0,   4,   6,  16,   1,   1,   1],\n",
       "       [  1,   0,   2,   0,   0,   0, 487,   3,   6,   8,  10,   6,   1],\n",
       "       [  2,   0,   2,   1,   0,   0,   8, 469,   4,   9,   3,   7,   0],\n",
       "       [ 14,   0,   3,   0,   1,   4,   3,   4, 462,  24,   2,   6,   0],\n",
       "       [ 31,   3,  24,   2,   5,  12,  10,  18,  24, 341,  17,   7,   4],\n",
       "       [  3,   1,   3,   0,   0,   1,  10,   4,   8,  12, 481,   6,   0],\n",
       "       [  1,   0,   1,   0,   0,   0,   5,   0,   1,   6,   5, 555,   0],\n",
       "       [  3,   1,   2,   0,   1,   1,   0,   1,   0,   4,   0,   0, 497]])"
      ]
     },
     "execution_count": 64,
     "metadata": {},
     "output_type": "execute_result"
    }
   ],
   "source": [
    "metrics.confusion_matrix(y_test, y_pred)"
   ]
  },
  {
   "cell_type": "code",
   "execution_count": 74,
   "metadata": {},
   "outputs": [
    {
     "data": {
      "text/plain": [
       "0.8956604661032453"
      ]
     },
     "execution_count": 74,
     "metadata": {},
     "output_type": "execute_result"
    }
   ],
   "source": [
    "metrics.f1_score(y_test, y_pred, average='macro')"
   ]
  },
  {
   "cell_type": "code",
   "execution_count": 80,
   "metadata": {},
   "outputs": [
    {
     "data": {
      "text/plain": [
       "0.8912157174654356"
      ]
     },
     "execution_count": 80,
     "metadata": {},
     "output_type": "execute_result"
    }
   ],
   "source": [
    "metrics.matthews_corrcoef(y_test, y_pred)"
   ]
  },
  {
   "cell_type": "code",
   "execution_count": 6,
   "metadata": {
    "scrolled": true
   },
   "outputs": [
    {
     "data": {
      "text/plain": [
       "[smote_variants._smote_variants.SMOTE,\n",
       " smote_variants._smote_variants.Borderline_SMOTE1,\n",
       " smote_variants._smote_variants.Borderline_SMOTE2,\n",
       " smote_variants._smote_variants.LLE_SMOTE,\n",
       " smote_variants._smote_variants.distance_SMOTE,\n",
       " smote_variants._smote_variants.SMMO,\n",
       " smote_variants._smote_variants.polynom_fit_SMOTE,\n",
       " smote_variants._smote_variants.ADOMS,\n",
       " smote_variants._smote_variants.Safe_Level_SMOTE,\n",
       " smote_variants._smote_variants.MSMOTE,\n",
       " smote_variants._smote_variants.SMOBD,\n",
       " smote_variants._smote_variants.TRIM_SMOTE,\n",
       " smote_variants._smote_variants.SMOTE_RSB,\n",
       " smote_variants._smote_variants.ProWSyn,\n",
       " smote_variants._smote_variants.SL_graph_SMOTE,\n",
       " smote_variants._smote_variants.NRSBoundary_SMOTE,\n",
       " smote_variants._smote_variants.LVQ_SMOTE,\n",
       " smote_variants._smote_variants.SOI_CJ,\n",
       " smote_variants._smote_variants.ROSE,\n",
       " smote_variants._smote_variants.SMOTE_OUT,\n",
       " smote_variants._smote_variants.SMOTE_Cosine,\n",
       " smote_variants._smote_variants.Selected_SMOTE,\n",
       " smote_variants._smote_variants.LN_SMOTE,\n",
       " smote_variants._smote_variants.MWMOTE,\n",
       " smote_variants._smote_variants.PDFOS,\n",
       " smote_variants._smote_variants.RWO_sampling,\n",
       " smote_variants._smote_variants.DEAGO,\n",
       " smote_variants._smote_variants.MCT,\n",
       " smote_variants._smote_variants.ADG,\n",
       " smote_variants._smote_variants.KernelADASYN,\n",
       " smote_variants._smote_variants.MOT2LD,\n",
       " smote_variants._smote_variants.V_SYNTH,\n",
       " smote_variants._smote_variants.OUPS,\n",
       " smote_variants._smote_variants.SMOTE_D,\n",
       " smote_variants._smote_variants.CURE_SMOTE,\n",
       " smote_variants._smote_variants.SOMO,\n",
       " smote_variants._smote_variants.CE_SMOTE,\n",
       " smote_variants._smote_variants.Edge_Det_SMOTE,\n",
       " smote_variants._smote_variants.CBSO,\n",
       " smote_variants._smote_variants.DBSMOTE,\n",
       " smote_variants._smote_variants.ASMOBD,\n",
       " smote_variants._smote_variants.Assembled_SMOTE,\n",
       " smote_variants._smote_variants.SDSMOTE,\n",
       " smote_variants._smote_variants.G_SMOTE,\n",
       " smote_variants._smote_variants.NT_SMOTE,\n",
       " smote_variants._smote_variants.Lee,\n",
       " smote_variants._smote_variants.MDO,\n",
       " smote_variants._smote_variants.Random_SMOTE,\n",
       " smote_variants._smote_variants.A_SUWO,\n",
       " smote_variants._smote_variants.AND_SMOTE,\n",
       " smote_variants._smote_variants.NRAS,\n",
       " smote_variants._smote_variants.SSO,\n",
       " smote_variants._smote_variants.NDO_sampling,\n",
       " smote_variants._smote_variants.DSRBF,\n",
       " smote_variants._smote_variants.Gaussian_SMOTE,\n",
       " smote_variants._smote_variants.kmeans_SMOTE,\n",
       " smote_variants._smote_variants.Supervised_SMOTE,\n",
       " smote_variants._smote_variants.SN_SMOTE,\n",
       " smote_variants._smote_variants.CCR,\n",
       " smote_variants._smote_variants.ANS,\n",
       " smote_variants._smote_variants.cluster_SMOTE]"
      ]
     },
     "execution_count": 6,
     "metadata": {},
     "output_type": "execute_result"
    }
   ],
   "source": [
    "sv.get_all_oversamplers_multiclass()"
   ]
  },
  {
   "cell_type": "markdown",
   "metadata": {},
   "source": [
    "## Data without others, using site as labels"
   ]
  },
  {
   "cell_type": "code",
   "execution_count": 86,
   "metadata": {},
   "outputs": [],
   "source": [
    "filepath = '../data/multiclass_sites_wo_others.pkl'\n",
    "with open(filepath, 'rb') as fin:\n",
    "    data = pickle.load(fin)"
   ]
  },
  {
   "cell_type": "code",
   "execution_count": 87,
   "metadata": {},
   "outputs": [],
   "source": [
    "num_labels = dict([(y,x+1) for x,y in enumerate(set(data['site']))])\n",
    "num_labels = np.array([num_labels[x] for x in data['site']])"
   ]
  },
  {
   "cell_type": "code",
   "execution_count": 91,
   "metadata": {},
   "outputs": [
    {
     "name": "stderr",
     "output_type": "stream",
     "text": [
      "2020-02-11 10:48:09,764:INFO:MulticlassOversampling: Running multiclass oversampling with strategy equalize_1_vs_many_successive\n",
      "2020-02-11 10:48:09,952:INFO:MulticlassOversampling: Sampling minority class with label: 7\n",
      "2020-02-11 10:48:10,156:INFO:polynom_fit_SMOTE: Running sampling via ('polynom_fit_SMOTE', \"{'proportion': 1.0, 'topology': 'star', 'random_state': None}\")\n",
      "2020-02-11 10:48:10,986:INFO:MulticlassOversampling: Sampling minority class with label: 5\n",
      "2020-02-11 10:48:11,283:INFO:polynom_fit_SMOTE: Running sampling via ('polynom_fit_SMOTE', \"{'proportion': 0.3549586776859504, 'topology': 'star', 'random_state': None}\")\n",
      "2020-02-11 10:48:12,160:INFO:MulticlassOversampling: Sampling minority class with label: 2\n",
      "2020-02-11 10:48:12,523:INFO:polynom_fit_SMOTE: Running sampling via ('polynom_fit_SMOTE', \"{'proportion': 0.2478920741989882, 'topology': 'star', 'random_state': None}\")\n",
      "2020-02-11 10:48:13,646:INFO:MulticlassOversampling: Sampling minority class with label: 3\n",
      "2020-02-11 10:48:14,128:INFO:polynom_fit_SMOTE: Running sampling via ('polynom_fit_SMOTE', \"{'proportion': 0.19063256135499482, 'topology': 'star', 'random_state': None}\")\n",
      "2020-02-11 10:48:15,564:INFO:MulticlassOversampling: Sampling minority class with label: 10\n",
      "2020-02-11 10:48:16,135:INFO:polynom_fit_SMOTE: Running sampling via ('polynom_fit_SMOTE', \"{'proportion': 0.16286240992123346, 'topology': 'star', 'random_state': None}\")\n",
      "2020-02-11 10:48:17,912:INFO:MulticlassOversampling: Sampling minority class with label: 1\n",
      "2020-02-11 10:48:18,629:INFO:polynom_fit_SMOTE: Running sampling via ('polynom_fit_SMOTE', \"{'proportion': 0.13663892038383893, 'topology': 'star', 'random_state': None}\")\n",
      "2020-02-11 10:48:20,527:INFO:MulticlassOversampling: Sampling minority class with label: 6\n",
      "2020-02-11 10:48:21,361:INFO:polynom_fit_SMOTE: Running sampling via ('polynom_fit_SMOTE', \"{'proportion': 0.11787143866258536, 'topology': 'star', 'random_state': None}\")\n",
      "2020-02-11 10:48:23,498:INFO:MulticlassOversampling: Sampling minority class with label: 4\n",
      "2020-02-11 10:48:24,432:INFO:polynom_fit_SMOTE: Running sampling via ('polynom_fit_SMOTE', \"{'proportion': 0.10349920006563564, 'topology': 'star', 'random_state': None}\")\n",
      "2020-02-11 10:48:26,774:INFO:MulticlassOversampling: Sampling minority class with label: 9\n",
      "2020-02-11 10:48:27,830:INFO:polynom_fit_SMOTE: Running sampling via ('polynom_fit_SMOTE', \"{'proportion': 0.10033679736325486, 'topology': 'star', 'random_state': None}\")\n"
     ]
    }
   ],
   "source": [
    "X_samp, y_samp= oversampler.sample(data['data'], num_labels)"
   ]
  },
  {
   "cell_type": "code",
   "execution_count": 112,
   "metadata": {},
   "outputs": [],
   "source": [
    "X_samp, y_samp = utils.shuffle(X_samp, y_samp)"
   ]
  },
  {
   "cell_type": "code",
   "execution_count": 113,
   "metadata": {},
   "outputs": [],
   "source": [
    "scores = cross_val_score(model, X_samp, y_samp, cv=5, n_jobs=-1, scoring='f1_macro')"
   ]
  },
  {
   "cell_type": "code",
   "execution_count": 114,
   "metadata": {},
   "outputs": [
    {
     "data": {
      "text/plain": [
       "array([0.80970462, 0.80326647, 0.80250945, 0.80353631, 0.80664082])"
      ]
     },
     "execution_count": 114,
     "metadata": {},
     "output_type": "execute_result"
    }
   ],
   "source": [
    "scores"
   ]
  },
  {
   "cell_type": "markdown",
   "metadata": {},
   "source": [
    "## Data using disease labels, without \"Others\" and \"None\""
   ]
  },
  {
   "cell_type": "code",
   "execution_count": 115,
   "metadata": {},
   "outputs": [],
   "source": [
    "filepath = '../data/multiclass_disease_wo_others_none.pkl'\n",
    "with open(filepath, 'rb') as fin:\n",
    "    data = pickle.load(fin)"
   ]
  },
  {
   "cell_type": "code",
   "execution_count": 116,
   "metadata": {},
   "outputs": [],
   "source": [
    "num_labels = dict([(y,x+1) for x,y in enumerate(set(data['disease']))])\n",
    "num_labels = np.array([num_labels[x] for x in data['disease']])"
   ]
  },
  {
   "cell_type": "code",
   "execution_count": 117,
   "metadata": {},
   "outputs": [
    {
     "name": "stderr",
     "output_type": "stream",
     "text": [
      "2020-02-11 12:19:58,095:INFO:MulticlassOversampling: Running multiclass oversampling with strategy equalize_1_vs_many_successive\n",
      "2020-02-11 12:19:58,270:INFO:MulticlassOversampling: Sampling minority class with label: 7\n",
      "2020-02-11 12:19:58,489:INFO:polynom_fit_SMOTE: Running sampling via ('polynom_fit_SMOTE', \"{'proportion': 1.0, 'topology': 'star', 'random_state': None}\")\n",
      "2020-02-11 12:19:59,422:INFO:MulticlassOversampling: Sampling minority class with label: 3\n",
      "2020-02-11 12:19:59,716:INFO:polynom_fit_SMOTE: Running sampling via ('polynom_fit_SMOTE', \"{'proportion': 0.41018431740081224, 'topology': 'star', 'random_state': None}\")\n",
      "2020-02-11 12:20:00,754:INFO:MulticlassOversampling: Sampling minority class with label: 20\n",
      "2020-02-11 12:20:01,141:INFO:polynom_fit_SMOTE: Running sampling via ('polynom_fit_SMOTE', \"{'proportion': 0.261827186237456, 'topology': 'star', 'random_state': None}\")\n",
      "2020-02-11 12:20:02,386:INFO:MulticlassOversampling: Sampling minority class with label: 34\n",
      "2020-02-11 12:20:02,871:INFO:polynom_fit_SMOTE: Running sampling via ('polynom_fit_SMOTE', \"{'proportion': 0.2142791084805327, 'topology': 'star', 'random_state': None}\")\n",
      "2020-02-11 12:20:04,456:INFO:MulticlassOversampling: Sampling minority class with label: 2\n",
      "2020-02-11 12:20:05,051:INFO:polynom_fit_SMOTE: Running sampling via ('polynom_fit_SMOTE', \"{'proportion': 0.17180874396841644, 'topology': 'star', 'random_state': None}\")\n",
      "2020-02-11 12:20:06,820:INFO:MulticlassOversampling: Sampling minority class with label: 12\n",
      "2020-02-11 12:20:07,538:INFO:polynom_fit_SMOTE: Running sampling via ('polynom_fit_SMOTE', \"{'proportion': 0.14251975656281224, 'topology': 'star', 'random_state': None}\")\n",
      "2020-02-11 12:20:09,507:INFO:MulticlassOversampling: Sampling minority class with label: 21\n",
      "2020-02-11 12:20:10,331:INFO:polynom_fit_SMOTE: Running sampling via ('polynom_fit_SMOTE', \"{'proportion': 0.1232650534028172, 'topology': 'star', 'random_state': None}\")\n",
      "2020-02-11 12:20:12,614:INFO:MulticlassOversampling: Sampling minority class with label: 14\n",
      "2020-02-11 12:20:13,564:INFO:polynom_fit_SMOTE: Running sampling via ('polynom_fit_SMOTE', \"{'proportion': 0.11450586264656616, 'topology': 'star', 'random_state': None}\")\n",
      "2020-02-11 12:20:16,087:INFO:MulticlassOversampling: Sampling minority class with label: 25\n",
      "2020-02-11 12:20:17,162:INFO:polynom_fit_SMOTE: Running sampling via ('polynom_fit_SMOTE', \"{'proportion': 0.10459440766722655, 'topology': 'star', 'random_state': None}\")\n",
      "2020-02-11 12:20:20,003:INFO:MulticlassOversampling: Sampling minority class with label: 18\n",
      "2020-02-11 12:20:21,210:INFO:polynom_fit_SMOTE: Running sampling via ('polynom_fit_SMOTE', \"{'proportion': 0.09483814833886749, 'topology': 'star', 'random_state': None}\")\n",
      "2020-02-11 12:20:24,193:INFO:MulticlassOversampling: Sampling minority class with label: 6\n",
      "2020-02-11 12:20:25,502:INFO:polynom_fit_SMOTE: Running sampling via ('polynom_fit_SMOTE', \"{'proportion': 0.08720246249053198, 'topology': 'star', 'random_state': None}\")\n",
      "2020-02-11 12:20:28,801:INFO:MulticlassOversampling: Sampling minority class with label: 28\n",
      "2020-02-11 12:20:30,241:INFO:polynom_fit_SMOTE: Running sampling via ('polynom_fit_SMOTE', \"{'proportion': 0.07990843978439045, 'topology': 'star', 'random_state': None}\")\n",
      "2020-02-11 12:20:33,760:INFO:MulticlassOversampling: Sampling minority class with label: 17\n",
      "2020-02-11 12:20:35,336:INFO:polynom_fit_SMOTE: Running sampling via ('polynom_fit_SMOTE', \"{'proportion': 0.07414420182261514, 'topology': 'star', 'random_state': None}\")\n",
      "2020-02-11 12:20:39,044:INFO:MulticlassOversampling: Sampling minority class with label: 9\n",
      "2020-02-11 12:20:40,733:INFO:polynom_fit_SMOTE: Running sampling via ('polynom_fit_SMOTE', \"{'proportion': 0.06906884126683102, 'topology': 'star', 'random_state': None}\")\n",
      "2020-02-11 12:20:44,677:INFO:MulticlassOversampling: Sampling minority class with label: 30\n",
      "2020-02-11 12:20:46,454:INFO:polynom_fit_SMOTE: Running sampling via ('polynom_fit_SMOTE', \"{'proportion': 0.06469609936188533, 'topology': 'star', 'random_state': None}\")\n",
      "2020-02-11 12:20:50,697:INFO:MulticlassOversampling: Sampling minority class with label: 29\n",
      "2020-02-11 12:20:53,224:INFO:polynom_fit_SMOTE: Running sampling via ('polynom_fit_SMOTE', \"{'proportion': 0.06068613251666685, 'topology': 'star', 'random_state': None}\")\n",
      "2020-02-11 12:20:58,100:INFO:MulticlassOversampling: Sampling minority class with label: 1\n",
      "2020-02-11 12:21:00,483:INFO:polynom_fit_SMOTE: Running sampling via ('polynom_fit_SMOTE', \"{'proportion': 0.0572373759440734, 'topology': 'star', 'random_state': None}\")\n",
      "2020-02-11 12:21:05,762:INFO:MulticlassOversampling: Sampling minority class with label: 4\n",
      "2020-02-11 12:21:08,441:INFO:polynom_fit_SMOTE: Running sampling via ('polynom_fit_SMOTE', \"{'proportion': 0.05407104684061616, 'topology': 'star', 'random_state': None}\")\n",
      "2020-02-11 12:21:14,344:INFO:MulticlassOversampling: Sampling minority class with label: 19\n",
      "2020-02-11 12:21:17,094:INFO:polynom_fit_SMOTE: Running sampling via ('polynom_fit_SMOTE', \"{'proportion': 0.051229794243278705, 'topology': 'star', 'random_state': None}\")\n",
      "2020-02-11 12:21:23,227:INFO:MulticlassOversampling: Sampling minority class with label: 23\n",
      "2020-02-11 12:21:25,950:INFO:polynom_fit_SMOTE: Running sampling via ('polynom_fit_SMOTE', \"{'proportion': 0.04868993317067996, 'topology': 'star', 'random_state': None}\")\n",
      "2020-02-11 12:21:32,167:INFO:MulticlassOversampling: Sampling minority class with label: 27\n",
      "2020-02-11 12:21:35,284:INFO:polynom_fit_SMOTE: Running sampling via ('polynom_fit_SMOTE', \"{'proportion': 0.04652885327587368, 'topology': 'star', 'random_state': None}\")\n",
      "2020-02-11 12:21:42,233:INFO:MulticlassOversampling: Sampling minority class with label: 16\n",
      "2020-02-11 12:21:45,434:INFO:polynom_fit_SMOTE: Running sampling via ('polynom_fit_SMOTE', \"{'proportion': 0.04457278722498454, 'topology': 'star', 'random_state': None}\")\n",
      "2020-02-11 12:21:52,754:INFO:MulticlassOversampling: Sampling minority class with label: 10\n",
      "2020-02-11 12:21:56,348:INFO:polynom_fit_SMOTE: Running sampling via ('polynom_fit_SMOTE', \"{'proportion': 0.042647838413017926, 'topology': 'star', 'random_state': None}\")\n",
      "2020-02-11 12:22:03,770:INFO:MulticlassOversampling: Sampling minority class with label: 8\n",
      "2020-02-11 12:22:07,108:INFO:polynom_fit_SMOTE: Running sampling via ('polynom_fit_SMOTE', \"{'proportion': 0.04092585639507918, 'topology': 'star', 'random_state': None}\")\n",
      "2020-02-11 12:22:14,386:INFO:MulticlassOversampling: Sampling minority class with label: 22\n",
      "2020-02-11 12:22:17,888:INFO:polynom_fit_SMOTE: Running sampling via ('polynom_fit_SMOTE', \"{'proportion': 0.03943695810397337, 'topology': 'star', 'random_state': None}\")\n",
      "2020-02-11 12:22:25,731:INFO:MulticlassOversampling: Sampling minority class with label: 15\n",
      "2020-02-11 12:22:29,351:INFO:polynom_fit_SMOTE: Running sampling via ('polynom_fit_SMOTE', \"{'proportion': 0.03792583332200949, 'topology': 'star', 'random_state': None}\")\n",
      "2020-02-11 12:22:37,177:INFO:MulticlassOversampling: Sampling minority class with label: 32\n",
      "2020-02-11 12:22:40,928:INFO:polynom_fit_SMOTE: Running sampling via ('polynom_fit_SMOTE', \"{'proportion': 0.03652041924551509, 'topology': 'star', 'random_state': None}\")\n",
      "2020-02-11 12:22:49,138:INFO:MulticlassOversampling: Sampling minority class with label: 31\n",
      "2020-02-11 12:22:53,058:INFO:polynom_fit_SMOTE: Running sampling via ('polynom_fit_SMOTE', \"{'proportion': 0.0352276168365802, 'topology': 'star', 'random_state': None}\")\n",
      "2020-02-11 12:23:01,810:INFO:MulticlassOversampling: Sampling minority class with label: 13\n",
      "2020-02-11 12:23:06,081:INFO:polynom_fit_SMOTE: Running sampling via ('polynom_fit_SMOTE', \"{'proportion': 0.034053464731427736, 'topology': 'star', 'random_state': None}\")\n",
      "2020-02-11 12:23:15,119:INFO:MulticlassOversampling: Sampling minority class with label: 33\n",
      "2020-02-11 12:23:19,535:INFO:polynom_fit_SMOTE: Running sampling via ('polynom_fit_SMOTE', \"{'proportion': 0.03299187566231014, 'topology': 'star', 'random_state': None}\")\n",
      "2020-02-11 12:23:29,290:INFO:MulticlassOversampling: Sampling minority class with label: 24\n",
      "2020-02-11 12:23:34,031:INFO:polynom_fit_SMOTE: Running sampling via ('polynom_fit_SMOTE', \"{'proportion': 0.031943803517407575, 'topology': 'star', 'random_state': None}\")\n"
     ]
    },
    {
     "name": "stderr",
     "output_type": "stream",
     "text": [
      "2020-02-11 12:23:44,260:INFO:MulticlassOversampling: Sampling minority class with label: 26\n",
      "2020-02-11 12:23:49,077:INFO:polynom_fit_SMOTE: Running sampling via ('polynom_fit_SMOTE', \"{'proportion': 0.030945245624782687, 'topology': 'star', 'random_state': None}\")\n",
      "2020-02-11 12:23:59,386:INFO:MulticlassOversampling: Sampling minority class with label: 11\n",
      "2020-02-11 12:24:04,434:INFO:polynom_fit_SMOTE: Running sampling via ('polynom_fit_SMOTE', \"{'proportion': 0.030022798060559356, 'topology': 'star', 'random_state': None}\")\n"
     ]
    }
   ],
   "source": [
    "X_samp, y_samp= oversampler.sample(data['data'], num_labels)"
   ]
  },
  {
   "cell_type": "code",
   "execution_count": 118,
   "metadata": {},
   "outputs": [],
   "source": [
    "X_samp, y_samp = utils.shuffle(X_samp, y_samp)"
   ]
  },
  {
   "cell_type": "code",
   "execution_count": 119,
   "metadata": {},
   "outputs": [],
   "source": [
    "scores = cross_val_score(model, X_samp, y_samp, cv=5, n_jobs=-1, scoring='f1_macro')"
   ]
  },
  {
   "cell_type": "code",
   "execution_count": 120,
   "metadata": {},
   "outputs": [
    {
     "data": {
      "text/plain": [
       "array([0.93921257, 0.93762157, 0.93861318, 0.9375658 , 0.93672241])"
      ]
     },
     "execution_count": 120,
     "metadata": {},
     "output_type": "execute_result"
    }
   ],
   "source": [
    "scores"
   ]
  },
  {
   "cell_type": "markdown",
   "metadata": {},
   "source": [
    "## Data with independent test, site as label"
   ]
  },
  {
   "cell_type": "code",
   "execution_count": 126,
   "metadata": {},
   "outputs": [],
   "source": [
    "filepath = '../data/multiclass_independent_data_site.pkl'\n",
    "with open(filepath, 'rb') as fin:\n",
    "    data = pickle.load(fin)"
   ]
  },
  {
   "cell_type": "code",
   "execution_count": 127,
   "metadata": {},
   "outputs": [],
   "source": [
    "num_labels = dict([(y,x+1) for x,y in enumerate(set(data['site_train']))])\n",
    "labels_train = np.array([num_labels[x] for x in data['site_train']])\n",
    "labels_test = np.array([num_labels[x] for x in data['site_test']])"
   ]
  },
  {
   "cell_type": "code",
   "execution_count": 128,
   "metadata": {},
   "outputs": [
    {
     "name": "stderr",
     "output_type": "stream",
     "text": [
      "2020-02-11 16:58:07,113:INFO:MulticlassOversampling: Running multiclass oversampling with strategy equalize_1_vs_many_successive\n",
      "2020-02-11 16:58:07,303:INFO:MulticlassOversampling: Sampling minority class with label: 7\n",
      "2020-02-11 16:58:07,514:INFO:polynom_fit_SMOTE: Running sampling via ('polynom_fit_SMOTE', \"{'proportion': 1.0, 'topology': 'star', 'random_state': None}\")\n",
      "2020-02-11 16:58:08,468:INFO:MulticlassOversampling: Sampling minority class with label: 5\n",
      "2020-02-11 16:58:08,774:INFO:polynom_fit_SMOTE: Running sampling via ('polynom_fit_SMOTE', \"{'proportion': 0.3547786512205213, 'topology': 'star', 'random_state': None}\")\n",
      "2020-02-11 16:58:09,646:INFO:MulticlassOversampling: Sampling minority class with label: 2\n",
      "2020-02-11 16:58:10,029:INFO:polynom_fit_SMOTE: Running sampling via ('polynom_fit_SMOTE', \"{'proportion': 0.2477993488484264, 'topology': 'star', 'random_state': None}\")\n",
      "2020-02-11 16:58:11,210:INFO:MulticlassOversampling: Sampling minority class with label: 3\n",
      "2020-02-11 16:58:11,699:INFO:polynom_fit_SMOTE: Running sampling via ('polynom_fit_SMOTE', \"{'proportion': 0.19060594264953937, 'topology': 'star', 'random_state': None}\")\n",
      "2020-02-11 16:58:13,209:INFO:MulticlassOversampling: Sampling minority class with label: 10\n",
      "2020-02-11 16:58:13,796:INFO:polynom_fit_SMOTE: Running sampling via ('polynom_fit_SMOTE', \"{'proportion': 0.16282502935749035, 'topology': 'star', 'random_state': None}\")\n",
      "2020-02-11 16:58:15,562:INFO:MulticlassOversampling: Sampling minority class with label: 1\n",
      "2020-02-11 16:58:16,284:INFO:polynom_fit_SMOTE: Running sampling via ('polynom_fit_SMOTE', \"{'proportion': 0.1366089965397924, 'topology': 'star', 'random_state': None}\")\n",
      "2020-02-11 16:58:18,202:INFO:MulticlassOversampling: Sampling minority class with label: 4\n",
      "2020-02-11 16:58:19,023:INFO:polynom_fit_SMOTE: Running sampling via ('polynom_fit_SMOTE', \"{'proportion': 0.11958976289047799, 'topology': 'star', 'random_state': None}\")\n",
      "2020-02-11 16:58:21,252:INFO:MulticlassOversampling: Sampling minority class with label: 6\n",
      "2020-02-11 16:58:22,215:INFO:polynom_fit_SMOTE: Running sampling via ('polynom_fit_SMOTE', \"{'proportion': 0.1099651454311979, 'topology': 'star', 'random_state': None}\")\n",
      "2020-02-11 16:58:24,722:INFO:MulticlassOversampling: Sampling minority class with label: 9\n",
      "2020-02-11 16:58:25,825:INFO:polynom_fit_SMOTE: Running sampling via ('polynom_fit_SMOTE', \"{'proportion': 0.10032630838846923, 'topology': 'star', 'random_state': None}\")\n"
     ]
    }
   ],
   "source": [
    "X_samp, y_samp= oversampler.sample(data['data_train'], labels_train)"
   ]
  },
  {
   "cell_type": "code",
   "execution_count": 129,
   "metadata": {},
   "outputs": [],
   "source": [
    "X_samp, y_samp = utils.shuffle(X_samp, y_samp)"
   ]
  },
  {
   "cell_type": "code",
   "execution_count": 130,
   "metadata": {},
   "outputs": [],
   "source": [
    "scores = cross_val_score(model, X_samp, y_samp, cv=5, n_jobs=-1, scoring='f1_macro')"
   ]
  },
  {
   "cell_type": "code",
   "execution_count": 131,
   "metadata": {},
   "outputs": [
    {
     "data": {
      "text/plain": [
       "array([0.80927943, 0.81967044, 0.81258139, 0.81608486, 0.8187457 ])"
      ]
     },
     "execution_count": 131,
     "metadata": {},
     "output_type": "execute_result"
    }
   ],
   "source": [
    "scores"
   ]
  },
  {
   "cell_type": "code",
   "execution_count": 132,
   "metadata": {},
   "outputs": [
    {
     "data": {
      "text/plain": [
       "DecisionTreeClassifier(class_weight=None, criterion='gini', max_depth=None,\n",
       "                       max_features=None, max_leaf_nodes=None,\n",
       "                       min_impurity_decrease=0.0, min_impurity_split=None,\n",
       "                       min_samples_leaf=1, min_samples_split=2,\n",
       "                       min_weight_fraction_leaf=0.0, presort=False,\n",
       "                       random_state=None, splitter='best')"
      ]
     },
     "execution_count": 132,
     "metadata": {},
     "output_type": "execute_result"
    }
   ],
   "source": [
    "model.fit(X_sampmp, y_samp)"
   ]
  },
  {
   "cell_type": "code",
   "execution_count": 133,
   "metadata": {},
   "outputs": [],
   "source": [
    "y_predict = model.predict(data['data_test'])"
   ]
  },
  {
   "cell_type": "code",
   "execution_count": 135,
   "metadata": {},
   "outputs": [
    {
     "name": "stderr",
     "output_type": "stream",
     "text": [
      "/Users/bogao/anaconda3/envs/tf/lib/python3.6/site-packages/sklearn/metrics/classification.py:1439: UndefinedMetricWarning: F-score is ill-defined and being set to 0.0 in labels with no true samples.\n",
      "  'recall', 'true', average, warn_for)\n"
     ]
    },
    {
     "data": {
      "text/plain": [
       "array([0.        , 0.        , 0.08      , 0.10526316, 0.        ,\n",
       "       0.30769231, 0.        , 0.0661157 , 0.        , 0.        ])"
      ]
     },
     "execution_count": 135,
     "metadata": {},
     "output_type": "execute_result"
    }
   ],
   "source": [
    "metrics.f1_score(labels_test, y_predict, average=None)"
   ]
  },
  {
   "cell_type": "code",
   "execution_count": 136,
   "metadata": {},
   "outputs": [
    {
     "data": {
      "text/plain": [
       "array([[[422,  24],\n",
       "        [  0,   0]],\n",
       "\n",
       "       [[417,  29],\n",
       "        [  0,   0]],\n",
       "\n",
       "       [[422,  23],\n",
       "        [  0,   1]],\n",
       "\n",
       "       [[392,  10],\n",
       "        [ 41,   3]],\n",
       "\n",
       "       [[370,  76],\n",
       "        [  0,   0]],\n",
       "\n",
       "       [[ 50,   1],\n",
       "        [323,  72]],\n",
       "\n",
       "       [[388,  58],\n",
       "        [  0,   0]],\n",
       "\n",
       "       [[329, 111],\n",
       "        [  2,   4]],\n",
       "\n",
       "       [[425,  21],\n",
       "        [  0,   0]],\n",
       "\n",
       "       [[433,  13],\n",
       "        [  0,   0]]])"
      ]
     },
     "execution_count": 136,
     "metadata": {},
     "output_type": "execute_result"
    }
   ],
   "source": [
    "metrics.multilabel_confusion_matrix(labels_test, y_predict)"
   ]
  },
  {
   "cell_type": "code",
   "execution_count": 139,
   "metadata": {},
   "outputs": [
    {
     "data": {
      "text/plain": [
       "0.17937219730941703"
      ]
     },
     "execution_count": 139,
     "metadata": {},
     "output_type": "execute_result"
    }
   ],
   "source": [
    "metrics.accuracy_score(labels_test, y_predict)"
   ]
  },
  {
   "cell_type": "code",
   "execution_count": null,
   "metadata": {},
   "outputs": [],
   "source": []
  }
 ],
 "metadata": {
  "kernelspec": {
   "display_name": "Python [conda env:tf] *",
   "language": "python",
   "name": "conda-env-tf-py"
  },
  "language_info": {
   "codemirror_mode": {
    "name": "ipython",
    "version": 3
   },
   "file_extension": ".py",
   "mimetype": "text/x-python",
   "name": "python",
   "nbconvert_exporter": "python",
   "pygments_lexer": "ipython3",
   "version": "3.6.10"
  },
  "toc": {
   "base_numbering": 1,
   "nav_menu": {},
   "number_sections": true,
   "sideBar": true,
   "skip_h1_title": false,
   "title_cell": "Table of Contents",
   "title_sidebar": "Contents",
   "toc_cell": false,
   "toc_position": {
    "height": "calc(100% - 180px)",
    "left": "10px",
    "top": "150px",
    "width": "346px"
   },
   "toc_section_display": true,
   "toc_window_display": false
  }
 },
 "nbformat": 4,
 "nbformat_minor": 2
}
