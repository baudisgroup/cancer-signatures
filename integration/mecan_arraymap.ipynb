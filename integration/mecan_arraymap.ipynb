{
 "cells": [
  {
   "cell_type": "markdown",
   "metadata": {},
   "source": [
    "Lastest version arraymap with mecan\n",
    "Use data from oringal file instead of db"
   ]
  },
  {
   "cell_type": "code",
   "execution_count": 1,
   "metadata": {},
   "outputs": [],
   "source": [
    "from pymongo import MongoClient\n",
    "import sys, os\n",
    "import mecan4cna.algorithms as alg\n",
    "import operator\n",
    "from natsort import natsorted "
   ]
  },
  {
   "cell_type": "code",
   "execution_count": 2,
   "metadata": {},
   "outputs": [],
   "source": [
    "\n",
    "def file2list(fin):\n",
    "    ls = []\n",
    "\n",
    "    next(fin)\n",
    "    for line in fin:\n",
    "        line = line.split()\n",
    "        try:\n",
    "            ls.append({'chro':str(line[1]), 'start':int(line[2]), 'end':int(line[3]), 'probes':int(float(line[5])),'value':float(line[4])})\n",
    "        except Exception as e:\n",
    "            print('Skip line: {}\\t{}'.format(line[0], e))\n",
    "            continue\n",
    "    return ls"
   ]
  },
  {
   "cell_type": "code",
   "execution_count": 4,
   "metadata": {},
   "outputs": [],
   "source": [
    "arraymap_data = []\n",
    "db_am_bs = MongoClient()['arraymap_ga4gh']['biosamples']\n",
    "db_am_ind = MongoClient()['arraymap_ga4gh']['individuals']\n",
    "db_am_cs = MongoClient()['arraymap_ga4gh']['callsets']\n",
    "db_am_var = MongoClient()['arraymap_ga4gh']['variants']\n",
    "\n",
    "for sample in db_am_bs.find():\n",
    "    bs_id = sample['id']\n",
    "    ind_id = sample['individual_id']\n",
    "    project = sample['project_id']\n",
    "    morphology = sample['biocharacteristics'][1]['type']['id']\n",
    "\n",
    "    if morphology in ['icdom-00000', 'icdom-']:\n",
    "        continue\n",
    "\n",
    "    topography = sample['biocharacteristics'][0]['type']['id']\n",
    "    try:\n",
    "        stage = sample['info']['tnm']\n",
    "    except:\n",
    "        stage = None\n",
    "\n",
    "    ind = db_am_ind.find_one({'id': ind_id})\n",
    "    gender = ind['biocharacteristics'][0]['description']\n",
    "\n",
    "    age = sample['age_at_collection']['age']\n",
    "    vital_status = sample['info']['death']\n",
    "\n",
    "    cs = db_am_cs.find_one({'biosample_id': bs_id})\n",
    "    \n",
    "    try:\n",
    "        file_path = cs['info']['paths']['segmentfile']\n",
    "    except:\n",
    "        continue\n",
    "        \n",
    "    platform = cs['description']\n",
    "\n",
    "    segments = []\n",
    "    \n",
    "\n",
    "    arraymap_data.append({'source': 'arraymap',\n",
    "                          'project': project,\n",
    "                          'sample_id': bs_id,\n",
    "                          'morphology': morphology,\n",
    "                          'topography': topography,\n",
    "                          'stage': stage,\n",
    "                          'gender': gender,\n",
    "                          'age': age,\n",
    "                          'vital_status': vital_status,\n",
    "                          'file_path': file_path,\n",
    "                          'platform': platform})\n"
   ]
  },
  {
   "cell_type": "code",
   "execution_count": 5,
   "metadata": {},
   "outputs": [],
   "source": [
    "data = arraymap_data"
   ]
  },
  {
   "cell_type": "code",
   "execution_count": null,
   "metadata": {
    "scrolled": true
   },
   "outputs": [],
   "source": [
    "for sample in data:\n",
    "    uid = sample['sample_id'].split('_')[-1]\n",
    "    sid = sample['project']\n",
    "    fpath = os.path.join('/Volumes/arraymap/grch38', sid, uid, 'segments,cn.tsv')\n",
    "    \n",
    "    try:\n",
    "        with open(fpath, 'r') as fin:\n",
    "            sample['segments'] = file2list(fin)\n",
    "    except Exception as e:\n",
    "        sample['segments'] = None\n",
    "        print('Skip sample: {}\\t{}'.format(bs_id, e))\n",
    "        continue"
   ]
  },
  {
   "cell_type": "code",
   "execution_count": null,
   "metadata": {},
   "outputs": [],
   "source": [
    "c = 0\n",
    "m = alg.mecan()\n",
    "for sample in data:\n",
    "#     if 'base' not in sample.keys():\n",
    "    c += 1\n",
    "    try:\n",
    "        if 'snp 6' in sample['platform']:\n",
    "            m.peak_thresh=5000\n",
    "        elif '250k' in sample['platform']:\n",
    "            m.peak_thresh=2000\n",
    "        else: \n",
    "            m.peak_thresh=1000\n",
    "\n",
    "        res = m.run(sample['segments'])\n",
    "        if len(res) > 1:\n",
    "            base = res[0]\n",
    "            level_dist = res[1]\n",
    "        else:\n",
    "            base = None\n",
    "            level_dist = None\n",
    "    except Exception as e:\n",
    "        print('Skip sample: {}\\t{}'.format(bs_id, e))\n",
    "        base = None\n",
    "        level_dist = None\n",
    "\n",
    "    sample['base'] = base\n",
    "    sample['level_distance'] = level_dist\n",
    "\n",
    "    print(c, end='\\r')\n"
   ]
  },
  {
   "cell_type": "code",
   "execution_count": 25,
   "metadata": {},
   "outputs": [
    {
     "name": "stdout",
     "output_type": "stream",
     "text": [
      "52072\n",
      "16002\n"
     ]
    }
   ],
   "source": [
    "print(len(data))\n",
    "c = 0\n",
    "for sample in data:\n",
    "    if sample['base'] == None:\n",
    "        c += 1\n",
    "print(c)"
   ]
  },
  {
   "cell_type": "code",
   "execution_count": 8,
   "metadata": {},
   "outputs": [],
   "source": [
    "data_write = []\n",
    "for sample in data:\n",
    "    if sample['base'] != None:\n",
    "        data_write.append(sample)\n"
   ]
  },
  {
   "cell_type": "code",
   "execution_count": 9,
   "metadata": {},
   "outputs": [
    {
     "data": {
      "text/plain": [
       "31805"
      ]
     },
     "execution_count": 9,
     "metadata": {},
     "output_type": "execute_result"
    }
   ],
   "source": [
    "len(data_write)"
   ]
  },
  {
   "cell_type": "code",
   "execution_count": 11,
   "metadata": {},
   "outputs": [
    {
     "data": {
      "text/plain": [
       "<pymongo.results.InsertManyResult at 0x11b262cc8>"
      ]
     },
     "execution_count": 11,
     "metadata": {},
     "output_type": "execute_result"
    }
   ],
   "source": [
    "db = MongoClient()['Rebased']['arraymap']\n",
    "db.drop()\n",
    "db.insert_many(data_write)"
   ]
  },
  {
   "cell_type": "code",
   "execution_count": 10,
   "metadata": {},
   "outputs": [
    {
     "data": {
      "text/plain": [
       "52072"
      ]
     },
     "execution_count": 10,
     "metadata": {},
     "output_type": "execute_result"
    }
   ],
   "source": [
    "len(data)"
   ]
  },
  {
   "cell_type": "code",
   "execution_count": 23,
   "metadata": {},
   "outputs": [
    {
     "data": {
      "image/png": "[encoded data removed]",
      "text/plain": [
       "<matplotlib.figure.Figure at 0x1e178f0b8>"
      ]
     },
     "metadata": {},
     "output_type": "display_data"
    },
    {
     "data": {
      "text/plain": [
       "(2.0,\n",
       " 1.3,\n",
       "        score  neglects  base_bin  thresh_bin  base_value  thresh_value  \\\n",
       " 0   0.343043    5267.0      3.30        2.00        1026         13798   \n",
       " 1   0.343043    5267.0      2.00        3.30       13798          1026   \n",
       " 2   0.442397    5965.0      2.00        1.60       13798          2101   \n",
       " 3   0.442397    5965.0      1.60        2.00        2101         13798   \n",
       " 4   0.463472    3422.0      2.30        2.60        7224          1137   \n",
       " 5   0.463472    3422.0      2.60        2.30        1137          7224   \n",
       " 6   0.447966    2101.0      1.20        2.00        2029         13798   \n",
       " 7   0.447966    2101.0      2.00        1.20       13798          2029   \n",
       " 8   0.440687    3238.0      2.15        3.30        3422          1026   \n",
       " 9   0.440687    3238.0      3.30        2.15        1026          3422   \n",
       " 10  0.446720       0.0      1.20        1.60        2029          2101   \n",
       " 11  0.446720       0.0      1.60        1.20        2101          2029   \n",
       " 12  0.500405    8066.0      1.20        2.15        2029          3422   \n",
       " 13  0.500405    8066.0      2.15        1.20        3422          2029   \n",
       " 14  0.565725    8066.0      2.30        1.20        7224          2029   \n",
       " 15  0.565725    8066.0      1.20        2.30        2029          7224   \n",
       " 16  0.550148   10646.0      3.30        2.60        1026          1137   \n",
       " 17  0.550148   10646.0      2.60        3.30        1137          1026   \n",
       " 18  0.593710    2101.0      1.85        1.20        5965          2029   \n",
       " 19  0.593710    2101.0      1.20        1.85        2029          5965   \n",
       " 20  0.543272    9325.0      2.60        2.00        1137         13798   \n",
       " 21  0.543272    9325.0      2.00        2.60       13798          1137   \n",
       " 22  0.616847    9203.0      3.30        2.30        1026          7224   \n",
       " 23  0.616847    9203.0      2.30        3.30        7224          1026   \n",
       " 24  0.667127    5965.0      2.15        1.60        3422          2101   \n",
       " 25  0.667127    5965.0      1.60        2.15        2101          3422   \n",
       " \n",
       "     model_value  rank  levelScore  dupLevels    ...     score_28  rank_28  \\\n",
       " 0         14824     3          -2          0    ...     0.377218      1.0   \n",
       " 1         14824     3           0          1    ...     0.377218      1.0   \n",
       " 2         15899     5           1          3    ...     0.452791      6.0   \n",
       " 3         15899     5           3          4    ...     0.452791      6.0   \n",
       " 4          8361    10          -1          3    ...     0.449695      4.0   \n",
       " 5          8361    10          -3          2    ...     0.449695      4.0   \n",
       " 6         15827     8           3          3    ...     0.446340      3.0   \n",
       " 7         15827     8           1          2    ...     0.446340      3.0   \n",
       " 8          4448     4           0          1    ...     0.652317     15.0   \n",
       " 9          4448     4          -2          0    ...     0.652317     15.0   \n",
       " 10         4130     7           5          5    ...     0.557254     10.0   \n",
       " 11         4130     7           3          4    ...     0.557254     10.0   \n",
       " 12         5451    11           2          2    ...     0.611658     12.0   \n",
       " 13         5451    11           0          1    ...     0.611658     12.0   \n",
       " 14         9253    14           0          1    ...     0.611658     12.0   \n",
       " 15         9253    14           2          2    ...     0.611658     12.0   \n",
       " 16         2163    13          -3          0    ...     0.537649      9.0   \n",
       " 17         2163    13          -1          1    ...     0.537649      9.0   \n",
       " 18         7994    17           1          2    ...     0.483230      8.0   \n",
       " 19         7994    17           3          3    ...     0.483230      8.0   \n",
       " 20        14935    12          -1          1    ...     0.586580     11.0   \n",
       " 21        14935    12           1          2    ...     0.586580     11.0   \n",
       " 22         8250    18          -2          0    ...     0.652317     15.0   \n",
       " 23         8250    18           0          1    ...     0.652317     15.0   \n",
       " 24         5523    20           0          2    ...     0.843008     18.0   \n",
       " 25         5523    20           2          3    ...     0.843008     18.0   \n",
       " \n",
       "     neglects_ratio  dist  ave_rank  ave_score    ave_SS  ar_rank  as_rank  \\\n",
       " 0         0.143507  1.30       2.0   0.376437  0.000000        0        0   \n",
       " 1         0.143507  1.30       2.0   0.376437  0.000000        1        1   \n",
       " 2         0.162525  0.40       5.6   0.473045  0.263375        2        2   \n",
       " 3         0.162525  0.40       5.6   0.473045  0.263375        3        3   \n",
       " 4         0.093237  0.30       7.4   0.483197  0.274094        6        6   \n",
       " 5         0.093237  0.30       7.4   0.483197  0.274094        7        7   \n",
       " 6         0.057245  0.80       6.4   0.477141  0.280645        4        4   \n",
       " 7         0.057245  0.80       6.4   0.477141  0.280645        5        5   \n",
       " 8         0.088224  1.15       9.0   0.541298  0.401666        8       10   \n",
       " 9         0.088224  1.15       9.0   0.541298  0.401666        9       11   \n",
       " 10        0.000000  0.40       9.6   0.535036  0.419099       10        8   \n",
       " 11        0.000000  0.40       9.6   0.535036  0.419099       11        9   \n",
       " 12        0.219770  0.95      11.2   0.562920  0.472980       12       13   \n",
       " 13        0.219770  0.95      11.2   0.562920  0.472980       13       12   \n",
       " 14        0.219770  1.10      12.6   0.595190  0.570701       16       18   \n",
       " 15        0.219770  1.10      12.6   0.595190  0.570701       17       19   \n",
       " 16        0.290066  0.70      12.6   0.580448  0.571406       14       14   \n",
       " 17        0.290066  0.70      12.6   0.580448  0.571406       15       15   \n",
       " 18        0.057245  0.65      14.2   0.584837  0.592165       20       16   \n",
       " 19        0.057245  0.65      14.2   0.584837  0.592165       21       17   \n",
       " 20        0.254073  0.60      13.2   0.596716  0.603107       18       20   \n",
       " 21        0.254073  0.60      13.2   0.596716  0.603107       19       21   \n",
       " 22        0.250749  1.00      15.6   0.636673  0.683983       22       22   \n",
       " 23        0.250749  1.00      15.6   0.636673  0.683983       23       23   \n",
       " 24        0.162525  0.55      18.4   0.754242  0.965811       24       24   \n",
       " 25        0.162525  0.55      18.4   0.754242  0.965811       25       25   \n",
       " \n",
       "     ass_rank  \n",
       " 0          0  \n",
       " 1          1  \n",
       " 2          2  \n",
       " 3          3  \n",
       " 4          4  \n",
       " 5          5  \n",
       " 6          6  \n",
       " 7          7  \n",
       " 8          8  \n",
       " 9          9  \n",
       " 10        10  \n",
       " 11        11  \n",
       " 12        12  \n",
       " 13        13  \n",
       " 14        14  \n",
       " 15        15  \n",
       " 16        16  \n",
       " 17        17  \n",
       " 18        18  \n",
       " 19        19  \n",
       " 20        20  \n",
       " 21        21  \n",
       " 22        22  \n",
       " 23        23  \n",
       " 24        24  \n",
       " 25        25  \n",
       " \n",
       " [26 rows x 27 columns],\n",
       "                   3.3  2.0\n",
       " dis_score    0.000000  1.0\n",
       " level_score  0.501106  1.0\n",
       " value_score  0.074359  1.0\n",
       " sum          0.191821  1.0,\n",
       "     bin  value  relative_level\n",
       " 0  1.20   2029              -1\n",
       " 1  1.60   2101               0\n",
       " 2  1.85   5965               0\n",
       " 3  2.00  13798               0\n",
       " 4  2.15   3422               0\n",
       " 5  2.30   7224               0\n",
       " 6  2.60   1137               0\n",
       " 7  3.30   1026               1)"
      ]
     },
     "execution_count": 23,
     "metadata": {},
     "output_type": "execute_result"
    }
   ],
   "source": [
    "m.showplot = True\n",
    "m.run(data[100]['segments'])"
   ]
  },
  {
   "cell_type": "code",
   "execution_count": 19,
   "metadata": {},
   "outputs": [],
   "source": [
    "td = data_write[10]\n",
    "fpath = os.path.join('/Volumes/arraymap/grch38', td['project'], td['sample_id'].split('_')[-1], 'segments,cn.tsv')\n",
    "with open(fpath, 'r') as fin:\n",
    "            td['segments'] = file2list(fin)"
   ]
  },
  {
   "cell_type": "code",
   "execution_count": 31,
   "metadata": {},
   "outputs": [
    {
     "name": "stdout",
     "output_type": "stream",
     "text": [
      "7068\n"
     ]
    }
   ],
   "source": [
    "c = 0\n",
    "delete_list = []\n",
    "for sample in data:\n",
    "    if sample['segments'] == None:\n",
    "        delete_list.append(sample['sample_id'])\n",
    "        c += 1\n",
    "print(c)"
   ]
  },
  {
   "cell_type": "code",
   "execution_count": 32,
   "metadata": {},
   "outputs": [
    {
     "name": "stdout",
     "output_type": "stream",
     "text": [
      "4265\n"
     ]
    }
   ],
   "source": [
    "c = 0\n",
    "for sample in db.find({'sample_id':{'$in': delete_list}}):\n",
    "    c +=1\n",
    "print(c)"
   ]
  },
  {
   "cell_type": "code",
   "execution_count": 35,
   "metadata": {},
   "outputs": [
    {
     "data": {
      "text/plain": [
       "36070"
      ]
     },
     "execution_count": 35,
     "metadata": {},
     "output_type": "execute_result"
    }
   ],
   "source": [
    "db.count()"
   ]
  },
  {
   "cell_type": "code",
   "execution_count": 36,
   "metadata": {},
   "outputs": [
    {
     "data": {
      "text/plain": [
       "<pymongo.results.DeleteResult at 0x17ed0d3f0>"
      ]
     },
     "execution_count": 36,
     "metadata": {},
     "output_type": "execute_result"
    }
   ],
   "source": [
    "db.delete_many({'sample_id':{'$in': delete_list}})"
   ]
  },
  {
   "cell_type": "code",
   "execution_count": 37,
   "metadata": {},
   "outputs": [
    {
     "data": {
      "text/plain": [
       "31805"
      ]
     },
     "execution_count": 37,
     "metadata": {},
     "output_type": "execute_result"
    }
   ],
   "source": [
    "db.count()"
   ]
  },
  {
   "cell_type": "code",
   "execution_count": null,
   "metadata": {
    "collapsed": true
   },
   "outputs": [],
   "source": []
  }
 ],
 "metadata": {
  "kernelspec": {
   "display_name": "Python 3",
   "language": "python",
   "name": "python3"
  },
  "language_info": {
   "codemirror_mode": {
    "name": "ipython",
    "version": 3
   },
   "file_extension": ".py",
   "mimetype": "text/x-python",
   "name": "python",
   "nbconvert_exporter": "python",
   "pygments_lexer": "ipython3",
   "version": "3.7.4"
  },
  "toc": {
   "base_numbering": 1,
   "nav_menu": {},
   "number_sections": true,
   "sideBar": true,
   "skip_h1_title": false,
   "title_cell": "Table of Contents",
   "title_sidebar": "Contents",
   "toc_cell": false,
   "toc_position": {},
   "toc_section_display": true,
   "toc_window_display": false
  }
 },
 "nbformat": 4,
 "nbformat_minor": 2
}
