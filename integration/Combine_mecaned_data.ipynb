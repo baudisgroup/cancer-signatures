{
 "cells": [
  {
   "cell_type": "markdown",
   "metadata": {},
   "source": [
    "Combine processed data from 3 resources"
   ]
  },
  {
   "cell_type": "code",
   "execution_count": 1,
   "metadata": {},
   "outputs": [],
   "source": [
    "from pymongo import MongoClient"
   ]
  },
  {
   "cell_type": "code",
   "execution_count": 2,
   "metadata": {},
   "outputs": [],
   "source": [
    "db = MongoClient()['Rebased']['tcga_masked_v2']\n",
    "tcga = []\n",
    "for s in db.find({},{'_id':0}):\n",
    "    tcga.append(s)\n",
    "\n",
    "db = MongoClient()['Rebased']['pcawg']\n",
    "pcawg = []\n",
    "for s in db.find({},{'_id':0}):\n",
    "    pcawg.append(s)\n",
    "    \n",
    "db = MongoClient()['Rebased']['arraymap']\n",
    "arraymap = []\n",
    "for s in db.find({},{'_id':0}):\n",
    "    arraymap.append(s)"
   ]
  },
  {
   "cell_type": "code",
   "execution_count": 3,
   "metadata": {},
   "outputs": [
    {
     "data": {
      "text/plain": [
       "<pymongo.results.InsertManyResult at 0x12cb485f0>"
      ]
     },
     "execution_count": 3,
     "metadata": {},
     "output_type": "execute_result"
    }
   ],
   "source": [
    "db = MongoClient()['Rebased']['mecaned']\n",
    "db.drop()\n",
    "db.insert_many(tcga)\n",
    "db.insert_many(pcawg)\n",
    "db.insert_many(arraymap)"
   ]
  },
  {
   "cell_type": "code",
   "execution_count": null,
   "metadata": {
    "collapsed": true
   },
   "outputs": [],
   "source": []
  }
 ],
 "metadata": {
  "kernelspec": {
   "display_name": "Python 3",
   "language": "python",
   "name": "python3"
  },
  "language_info": {
   "codemirror_mode": {
    "name": "ipython",
    "version": 3
   },
   "file_extension": ".py",
   "mimetype": "text/x-python",
   "name": "python",
   "nbconvert_exporter": "python",
   "pygments_lexer": "ipython3",
   "version": "3.7.4"
  }
 },
 "nbformat": 4,
 "nbformat_minor": 2
}
