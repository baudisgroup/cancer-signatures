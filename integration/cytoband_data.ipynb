{
 "cells": [
  {
   "cell_type": "markdown",
   "metadata": {},
   "source": [
    "Read cytobands(hg38) from a file, for each sample, count the overlaps in each band than save to db.  "
   ]
  },
  {
   "cell_type": "markdown",
   "metadata": {},
   "source": [
    "Also conduct filtering, sample with more than 3000 segments are dropped out"
   ]
  },
  {
   "cell_type": "code",
   "execution_count": 2,
   "metadata": {},
   "outputs": [
    {
     "data": {
      "text/html": [
       "<style>.container { width:90% !important; }</style>"
      ],
      "text/plain": [
       "<IPython.core.display.HTML object>"
      ]
     },
     "metadata": {},
     "output_type": "display_data"
    }
   ],
   "source": [
    "import pandas as pd\n",
    "import numpy as np\n",
    "from pymongo import MongoClient\n",
    "import copy\n",
    "\n",
    "from IPython.core.display import display, HTML\n",
    "display(HTML(\"<style>.container { width:90% !important; }</style>\"))"
   ]
  },
  {
   "cell_type": "markdown",
   "metadata": {},
   "source": [
    "### Setup"
   ]
  },
  {
   "cell_type": "code",
   "execution_count": null,
   "metadata": {},
   "outputs": [],
   "source": [
    "db = MongoClient()['Rebased']['mecaned']\n",
    "samples = []\n",
    "for sam in db.find():\n",
    "    samples.append(sam)"
   ]
  },
  {
   "cell_type": "markdown",
   "metadata": {},
   "source": [
    "Load and parse cytobands"
   ]
  },
  {
   "cell_type": "code",
   "execution_count": 1,
   "metadata": {},
   "outputs": [],
   "source": [
    "# bands is a list of 24 lists, represents 24 chromosomes. Each sub-list stores the cytobands of that chromosome as another list\n",
    "bands = []\n",
    "for i in range(24):\n",
    "    bands.append([])\n",
    "    \n",
    "\n",
    "with open('/Users/bogao/DataFiles/Data/genome/cytoBand_hg38.txt','r') as fin:\n",
    "    for line in fin:\n",
    "        tokens = line.strip().split('\\t')\n",
    "        if ('_' in tokens[0]) or ('M' in tokens[0]):\n",
    "            continue\n",
    "        elif 'X' in tokens[0]:\n",
    "            chro = 22\n",
    "        elif 'Y' in tokens[0]:\n",
    "            chro = 23\n",
    "        else:\n",
    "            chro = int(tokens[0][3:])-1\n",
    "\n",
    "        info = {'start':int(tokens[1]), 'end':int(tokens[2]), 'name':tokens[3], 'note':tokens[4],\n",
    "                'total_dup':0, 'total_del':0, 'dup_length':0, 'del_length':0, 'dup_count':0, 'del_count':0}\n",
    "        bands[chro].append(info)"
   ]
  },
  {
   "cell_type": "markdown",
   "metadata": {},
   "source": [
    "Function"
   ]
  },
  {
   "cell_type": "code",
   "execution_count": 3,
   "metadata": {},
   "outputs": [],
   "source": [
    "def cytobandOverlap(cytobands, dbin, vtype='normalized'):\n",
    "\n",
    "    c = 1\n",
    "    for sam in dbin.find():\n",
    "        this_bands = copy.deepcopy(cytobands)\n",
    "        if (vtype in sam.keys()) and (sam[vtype] != None) and (len(sam['segments'])<3000):\n",
    "            for seg in sam[vtype]:\n",
    "                if seg['probes'] >4:\n",
    "                    \n",
    "                    if seg['value'] >2:\n",
    "                        val = 2\n",
    "                    else:\n",
    "                        val = seg['value']\n",
    "                    \n",
    "                    if seg['chro'] == 'X':\n",
    "                        chro = 22\n",
    "                    elif seg['chro'] == 'Y':\n",
    "                        chro = 23\n",
    "                    else:\n",
    "                        chro = int(seg['chro'])-1\n",
    "\n",
    "                    # find all matching bands\n",
    "                    for b in this_bands[chro]:\n",
    "                        if (b['start'] < seg['end']) and (b['end'] >= seg['start']):\n",
    "                            size = min(b['end'],seg['end']) - max(b['start'],seg['start'])\n",
    "\n",
    "                            # dup\n",
    "                            if seg['value'] > 0:\n",
    "                                # update total value\n",
    "                                b['total_dup'] += size*seg['value']\n",
    "                                # update total_length\n",
    "                                b['dup_length'] += size\n",
    "                                # update count\n",
    "                                b['dup_count'] +=1\n",
    "                            # del\n",
    "                            else:\n",
    "                                # update total value\n",
    "                                b['total_del'] += size*seg['value']\n",
    "                                # update total_length\n",
    "                                b['del_length'] += size\n",
    "                                # update count\n",
    "                                b['del_count'] +=1\n",
    "\n",
    "                # flat the nested bands\n",
    "                flat_bands = []\n",
    "                idx = 1\n",
    "                for ch in this_bands:\n",
    "                    if idx == 23:\n",
    "                        chro = 'X'\n",
    "                    elif idx == 24:\n",
    "                        chro = 'Y'\n",
    "                    else:\n",
    "                        chro = str(idx)\n",
    "                    for b in ch:\n",
    "                        # add chromosom\n",
    "                        b['chro'] = chro\n",
    "                        # compute average signals\n",
    "                        if b['dup_length'] >0:\n",
    "                            b['ave_dup'] = b['total_dup'] / b['dup_length']\n",
    "                        else:\n",
    "                            b['ave_dup'] = 0\n",
    "\n",
    "                        if b['del_length'] >0:\n",
    "                            b['ave_del'] = b['total_del'] / b['del_length']\n",
    "                        else:\n",
    "                            b['ave_del'] = 0\n",
    "\n",
    "                        flat_bands.append(b)\n",
    "                    idx +=1        \n",
    "            sam['cytobands'] = flat_bands\n",
    "            dbin.update_one({'sample_id':sam['sample_id']}, {'$set':{'cytobands':flat_bands}}, upsert=True)\n",
    "            print(c, end='\\r')\n",
    "            c +=1\n",
    "    return 0"
   ]
  },
  {
   "cell_type": "markdown",
   "metadata": {},
   "source": [
    "#### Run"
   ]
  },
  {
   "cell_type": "code",
   "execution_count": 4,
   "metadata": {},
   "outputs": [
    {
     "name": "stdout",
     "output_type": "stream",
     "text": [
      "42820\r"
     ]
    },
    {
     "data": {
      "text/plain": [
       "0"
      ]
     },
     "execution_count": 4,
     "metadata": {},
     "output_type": "execute_result"
    }
   ],
   "source": [
    "cytobandOverlap(bands, MongoClient()['Rebased']['mecaned'])"
   ]
  },
  {
   "cell_type": "code",
   "execution_count": null,
   "metadata": {},
   "outputs": [],
   "source": []
  }
 ],
 "metadata": {
  "kernelspec": {
   "display_name": "Python [conda env:tf] *",
   "language": "python",
   "name": "conda-env-tf-py"
  },
  "language_info": {
   "codemirror_mode": {
    "name": "ipython",
    "version": 3
   },
   "file_extension": ".py",
   "mimetype": "text/x-python",
   "name": "python",
   "nbconvert_exporter": "python",
   "pygments_lexer": "ipython3",
   "version": "3.6.10"
  },
  "toc": {
   "base_numbering": 1,
   "nav_menu": {},
   "number_sections": true,
   "sideBar": true,
   "skip_h1_title": false,
   "title_cell": "Table of Contents",
   "title_sidebar": "Contents",
   "toc_cell": false,
   "toc_position": {},
   "toc_section_display": true,
   "toc_window_display": false
  }
 },
 "nbformat": 4,
 "nbformat_minor": 2
}
