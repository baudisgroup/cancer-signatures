{
 "cells": [
  {
   "cell_type": "markdown",
   "metadata": {},
   "source": [
    "Generate intermediate pickle files from mongodb for later pipelines"
   ]
  },
  {
   "cell_type": "code",
   "execution_count": 1,
   "metadata": {},
   "outputs": [
    {
     "data": {
      "text/html": [
       "<style>.container { width:90% !important; }</style>"
      ],
      "text/plain": [
       "<IPython.core.display.HTML object>"
      ]
     },
     "metadata": {},
     "output_type": "display_data"
    }
   ],
   "source": [
    "import pandas as pd\n",
    "import numpy as np\n",
    "from pymongo import MongoClient\n",
    "import pickle\n",
    "\n",
    "\n",
    "from IPython.core.display import display, HTML\n",
    "display(HTML(\"<style>.container { width:90% !important; }</style>\"))"
   ]
  },
  {
   "cell_type": "markdown",
   "metadata": {},
   "source": [
    "### Load data "
   ]
  },
  {
   "cell_type": "code",
   "execution_count": 2,
   "metadata": {},
   "outputs": [],
   "source": [
    "db = MongoClient()['Rebased']['mecaned']"
   ]
  },
  {
   "cell_type": "code",
   "execution_count": 3,
   "metadata": {},
   "outputs": [],
   "source": [
    "meta = []\n",
    "data = []\n",
    "for sam in db.find({'cytobands':{'$ne':None}}):\n",
    "    meta.append([sam['sample_id'],\n",
    "                 sam['source'],\n",
    "                 sam['project'],\n",
    "                 sam['morphology'],\n",
    "                 sam['topography'],\n",
    "                 len(sam['normalized'])\n",
    "                ])\n",
    "    \n",
    "    amps = []\n",
    "    dels = []\n",
    "    features = []\n",
    "    for band in sam['cytobands']:\n",
    "        if band['chro'] not in ['X','Y']:\n",
    "            amps.append(band['ave_dup'])\n",
    "            dels.append(band['ave_del'])\n",
    "    features = amps + dels\n",
    "    data.append(features)"
   ]
  },
  {
   "cell_type": "markdown",
   "metadata": {},
   "source": [
    "#### meta data to work with"
   ]
  },
  {
   "cell_type": "code",
   "execution_count": 4,
   "metadata": {},
   "outputs": [],
   "source": [
    "df_meta = pd.DataFrame(meta, columns=['id','source','project','morphology','topography','num_segs'])"
   ]
  },
  {
   "cell_type": "markdown",
   "metadata": {},
   "source": [
    "#### Save meta to disk"
   ]
  },
  {
   "cell_type": "code",
   "execution_count": 11,
   "metadata": {},
   "outputs": [],
   "source": [
    "filepath = '../data/all_bands_meta.pkl'\n",
    "with open(filepath, 'wb') as fo:\n",
    "    pickle.dump(df_meta, fo)"
   ]
  },
  {
   "cell_type": "markdown",
   "metadata": {},
   "source": [
    "#### Save feature matrix to disk"
   ]
  },
  {
   "cell_type": "code",
   "execution_count": 5,
   "metadata": {},
   "outputs": [
    {
     "data": {
      "text/plain": [
       "(42820, 1622)"
      ]
     },
     "execution_count": 5,
     "metadata": {},
     "output_type": "execute_result"
    }
   ],
   "source": [
    "feat_mat = np.array(data)\n",
    "feat_mat.shape"
   ]
  },
  {
   "cell_type": "code",
   "execution_count": 129,
   "metadata": {},
   "outputs": [],
   "source": [
    "filepath = '../data/all_bands.pkl'\n",
    "with open(filepath, 'wb') as fo:\n",
    "    pickle.dump(feat_mat, fo)"
   ]
  },
  {
   "cell_type": "code",
   "execution_count": 6,
   "metadata": {},
   "outputs": [
    {
     "data": {
      "text/html": [
       "<div>\n",
       "<style scoped>\n",
       "    .dataframe tbody tr th:only-of-type {\n",
       "        vertical-align: middle;\n",
       "    }\n",
       "\n",
       "    .dataframe tbody tr th {\n",
       "        vertical-align: top;\n",
       "    }\n",
       "\n",
       "    .dataframe thead th {\n",
       "        text-align: right;\n",
       "    }\n",
       "</style>\n",
       "<table border=\"1\" class=\"dataframe\">\n",
       "  <thead>\n",
       "    <tr style=\"text-align: right;\">\n",
       "      <th></th>\n",
       "      <th>id</th>\n",
       "      <th>source</th>\n",
       "      <th>project</th>\n",
       "      <th>morphology</th>\n",
       "      <th>topography</th>\n",
       "      <th>num_segs</th>\n",
       "    </tr>\n",
       "  </thead>\n",
       "  <tbody>\n",
       "    <tr>\n",
       "      <td>0</td>\n",
       "      <td>440e9ec5-8e61-4f75-b1d1-616941d9456d</td>\n",
       "      <td>TCGA</td>\n",
       "      <td>TCGA-OV</td>\n",
       "      <td>8441/3</td>\n",
       "      <td>Ovary</td>\n",
       "      <td>391</td>\n",
       "    </tr>\n",
       "    <tr>\n",
       "      <td>1</td>\n",
       "      <td>6ca6f0fe-8b53-421e-ad4e-dfbf8c8c5b59</td>\n",
       "      <td>TCGA</td>\n",
       "      <td>TCGA-OV</td>\n",
       "      <td>8441/3</td>\n",
       "      <td>Ovary</td>\n",
       "      <td>571</td>\n",
       "    </tr>\n",
       "    <tr>\n",
       "      <td>2</td>\n",
       "      <td>da9af00f-60ea-456b-9f25-0ab560962769</td>\n",
       "      <td>TCGA</td>\n",
       "      <td>TCGA-OV</td>\n",
       "      <td>8441/3</td>\n",
       "      <td>Ovary</td>\n",
       "      <td>431</td>\n",
       "    </tr>\n",
       "    <tr>\n",
       "      <td>3</td>\n",
       "      <td>8e84a028-5e9c-4d01-9791-db0f04b05bce</td>\n",
       "      <td>TCGA</td>\n",
       "      <td>TCGA-OV</td>\n",
       "      <td>8460/3</td>\n",
       "      <td>Ovary</td>\n",
       "      <td>394</td>\n",
       "    </tr>\n",
       "    <tr>\n",
       "      <td>4</td>\n",
       "      <td>d3f8c91f-e4cc-4018-9fbf-4368dd036b01</td>\n",
       "      <td>TCGA</td>\n",
       "      <td>TCGA-OV</td>\n",
       "      <td>8441/3</td>\n",
       "      <td>Ovary</td>\n",
       "      <td>252</td>\n",
       "    </tr>\n",
       "    <tr>\n",
       "      <td>...</td>\n",
       "      <td>...</td>\n",
       "      <td>...</td>\n",
       "      <td>...</td>\n",
       "      <td>...</td>\n",
       "      <td>...</td>\n",
       "      <td>...</td>\n",
       "    </tr>\n",
       "    <tr>\n",
       "      <td>42815</td>\n",
       "      <td>PGX_AM_BS_GSM1414445</td>\n",
       "      <td>arraymap</td>\n",
       "      <td>GSE58579</td>\n",
       "      <td>icdom-84421</td>\n",
       "      <td>icdot-C56.9</td>\n",
       "      <td>104</td>\n",
       "    </tr>\n",
       "    <tr>\n",
       "      <td>42816</td>\n",
       "      <td>PGX_AM_BS_GSM1414446</td>\n",
       "      <td>arraymap</td>\n",
       "      <td>GSE58579</td>\n",
       "      <td>icdom-84421</td>\n",
       "      <td>icdot-C56.9</td>\n",
       "      <td>240</td>\n",
       "    </tr>\n",
       "    <tr>\n",
       "      <td>42817</td>\n",
       "      <td>PGX_AM_BS_GSM1414451</td>\n",
       "      <td>arraymap</td>\n",
       "      <td>GSE58579</td>\n",
       "      <td>icdom-84421</td>\n",
       "      <td>icdot-C56.9</td>\n",
       "      <td>79</td>\n",
       "    </tr>\n",
       "    <tr>\n",
       "      <td>42818</td>\n",
       "      <td>PGX_AM_BS_GSM1431034</td>\n",
       "      <td>arraymap</td>\n",
       "      <td>GSE58579</td>\n",
       "      <td>icdom-84421</td>\n",
       "      <td>icdot-C56.9</td>\n",
       "      <td>133</td>\n",
       "    </tr>\n",
       "    <tr>\n",
       "      <td>42819</td>\n",
       "      <td>PGX_AM_BS_GSM1431036</td>\n",
       "      <td>arraymap</td>\n",
       "      <td>GSE58579</td>\n",
       "      <td>icdom-84421</td>\n",
       "      <td>icdot-C56.9</td>\n",
       "      <td>148</td>\n",
       "    </tr>\n",
       "  </tbody>\n",
       "</table>\n",
       "<p>42820 rows × 6 columns</p>\n",
       "</div>"
      ],
      "text/plain": [
       "                                         id    source   project   morphology  \\\n",
       "0      440e9ec5-8e61-4f75-b1d1-616941d9456d      TCGA   TCGA-OV       8441/3   \n",
       "1      6ca6f0fe-8b53-421e-ad4e-dfbf8c8c5b59      TCGA   TCGA-OV       8441/3   \n",
       "2      da9af00f-60ea-456b-9f25-0ab560962769      TCGA   TCGA-OV       8441/3   \n",
       "3      8e84a028-5e9c-4d01-9791-db0f04b05bce      TCGA   TCGA-OV       8460/3   \n",
       "4      d3f8c91f-e4cc-4018-9fbf-4368dd036b01      TCGA   TCGA-OV       8441/3   \n",
       "...                                     ...       ...       ...          ...   \n",
       "42815                  PGX_AM_BS_GSM1414445  arraymap  GSE58579  icdom-84421   \n",
       "42816                  PGX_AM_BS_GSM1414446  arraymap  GSE58579  icdom-84421   \n",
       "42817                  PGX_AM_BS_GSM1414451  arraymap  GSE58579  icdom-84421   \n",
       "42818                  PGX_AM_BS_GSM1431034  arraymap  GSE58579  icdom-84421   \n",
       "42819                  PGX_AM_BS_GSM1431036  arraymap  GSE58579  icdom-84421   \n",
       "\n",
       "        topography  num_segs  \n",
       "0            Ovary       391  \n",
       "1            Ovary       571  \n",
       "2            Ovary       431  \n",
       "3            Ovary       394  \n",
       "4            Ovary       252  \n",
       "...            ...       ...  \n",
       "42815  icdot-C56.9       104  \n",
       "42816  icdot-C56.9       240  \n",
       "42817  icdot-C56.9        79  \n",
       "42818  icdot-C56.9       133  \n",
       "42819  icdot-C56.9       148  \n",
       "\n",
       "[42820 rows x 6 columns]"
      ]
     },
     "execution_count": 6,
     "metadata": {},
     "output_type": "execute_result"
    }
   ],
   "source": [
    "df_meta"
   ]
  },
  {
   "cell_type": "markdown",
   "metadata": {},
   "source": [
    "### Create lablels"
   ]
  },
  {
   "cell_type": "markdown",
   "metadata": {},
   "source": [
    "The current labels are not consistent, the goal is:  \n",
    "- samples use same terms\n",
    "- both morphology and topography"
   ]
  },
  {
   "cell_type": "markdown",
   "metadata": {},
   "source": [
    "A shortlist of condiered diseases:  \n",
    "- Breast: TCGA-BRCA, icdot-c50.9, BRCA-EU, BRCA-UK\n",
    "- Brain: TCGA-GBM, TCGA-LGG, icdot-c71.9\n",
    "- Cerebellum: icdot-c71.6\n",
    "- Ovary: TCGA-OV, icdot-c56.9, OV-AU\n",
    "- Lung: TCGA-LUAD, icdot-c34.9, \n",
    "- Kidney: TCGA-KIRC, icdot-c64.9, RECA-EU\n",
    "- Colon: TCGA-COAD, icdot-c18.9\n",
    "- Stomach: TCGA-STAD, icdot-c16.9, GACA-CN\n",
    "- Skin: TCGA-SKCM, icdot-c44.9, MELA-AU\n",
    "- Liver: TCGA-LIHC, icdot-c22.0, LICA-FR, LINC-JP, LIRI-JP\n",
    "- Prostate: TCGA-PRAD, icdot-c61.9, EOPC-DE, PRAD-CA, PRAD-UK\n",
    "\n"
   ]
  },
  {
   "cell_type": "markdown",
   "metadata": {},
   "source": [
    "Modify arraymap morpholgy and topography format"
   ]
  },
  {
   "cell_type": "code",
   "execution_count": 7,
   "metadata": {},
   "outputs": [],
   "source": [
    "df_meta.loc[df_meta['source'] == 'arraymap', 'morphology'] = df_meta.loc[df_meta['source'] == 'arraymap', 'morphology'].str[6:].str.lower()"
   ]
  },
  {
   "cell_type": "code",
   "execution_count": 8,
   "metadata": {},
   "outputs": [],
   "source": [
    "df_meta.loc[df_meta['source'] == 'arraymap', 'topography'] = df_meta.loc[df_meta['source'] == 'arraymap', 'topography'].str[6:].str.lower()"
   ]
  },
  {
   "cell_type": "markdown",
   "metadata": {},
   "source": [
    "TCGA morphology"
   ]
  },
  {
   "cell_type": "code",
   "execution_count": 9,
   "metadata": {},
   "outputs": [],
   "source": [
    "df_meta.loc[df_meta['source'] == 'TCGA', 'morphology'] = df_meta.loc[df_meta['source'] == 'TCGA', 'morphology'].replace(['/'],'', regex=True)"
   ]
  },
  {
   "cell_type": "markdown",
   "metadata": {},
   "source": [
    "Switch PCAWG morphology and topography"
   ]
  },
  {
   "cell_type": "code",
   "execution_count": 10,
   "metadata": {},
   "outputs": [],
   "source": [
    "df_meta.loc[df_meta['source'] == 'PCAWG', 'topography'] = df_meta.loc[df_meta['source'] == 'PCAWG', 'morphology'].str.lower()"
   ]
  },
  {
   "cell_type": "markdown",
   "metadata": {},
   "source": [
    "#### Column of disease site"
   ]
  },
  {
   "cell_type": "code",
   "execution_count": 11,
   "metadata": {},
   "outputs": [],
   "source": [
    "df_meta = df_meta.assign(site='Others')"
   ]
  },
  {
   "cell_type": "markdown",
   "metadata": {},
   "source": [
    "#### Breast"
   ]
  },
  {
   "cell_type": "code",
   "execution_count": 12,
   "metadata": {},
   "outputs": [
    {
     "name": "stdout",
     "output_type": "stream",
     "text": [
      "(1043, 7)\n",
      "(5101, 7)\n",
      "(73, 7)\n",
      "(38, 7)\n"
     ]
    }
   ],
   "source": [
    "print(df_meta.loc[df_meta['project'] == 'TCGA-BRCA'].shape)\n",
    "df_meta.loc[df_meta['project'] == 'TCGA-BRCA', 'site'] = 'Breast'\n",
    "\n",
    "print(df_meta.loc[df_meta['topography'] == 'c50.9'].shape)\n",
    "df_meta.loc[df_meta['topography'] == 'c50.9', 'site'] = 'Breast'\n",
    "\n",
    "print(df_meta.loc[df_meta['project'] == 'BRCA-EU'].shape)\n",
    "df_meta.loc[df_meta['project'] == 'BRCA-EU', 'site'] = 'Breast'\n",
    "\n",
    "print(df_meta.loc[df_meta['project'] == 'BRCA-UK'].shape)\n",
    "df_meta.loc[df_meta['project'] == 'BRCA-UK', 'site'] = 'Breast'"
   ]
  },
  {
   "cell_type": "markdown",
   "metadata": {},
   "source": [
    "#### Brain"
   ]
  },
  {
   "cell_type": "code",
   "execution_count": 24,
   "metadata": {},
   "outputs": [
    {
     "name": "stdout",
     "output_type": "stream",
     "text": [
      "(615, 7)\n",
      "(511, 7)\n",
      "(1682, 7)\n"
     ]
    }
   ],
   "source": [
    "print(df_meta.loc[df_meta['project'] == 'TCGA-GBM'].shape)\n",
    "df_meta.loc[df_meta['project'] == 'TCGA-GBM', 'site'] = 'Brain'\n",
    "\n",
    "print(df_meta.loc[df_meta['project'] == 'TCGA-LGG'].shape)\n",
    "df_meta.loc[df_meta['project'] == 'TCGA-LGG', 'site'] = 'Brain'\n",
    "\n",
    "print(df_meta.loc[df_meta['topography'] == 'c71.9'].shape)\n",
    "df_meta.loc[df_meta['topography'] == 'c71.9', 'site'] = 'Brain'\n"
   ]
  },
  {
   "cell_type": "markdown",
   "metadata": {},
   "source": [
    "#### Cerebellum"
   ]
  },
  {
   "cell_type": "code",
   "execution_count": 25,
   "metadata": {},
   "outputs": [
    {
     "name": "stdout",
     "output_type": "stream",
     "text": [
      "(1708, 7)\n"
     ]
    }
   ],
   "source": [
    "print(df_meta.loc[df_meta['topography'] == 'c71.6'].shape)\n",
    "df_meta.loc[df_meta['topography'] == 'c71.6', 'site'] = 'Cerebellum'"
   ]
  },
  {
   "cell_type": "markdown",
   "metadata": {},
   "source": [
    "#### Ovary"
   ]
  },
  {
   "cell_type": "code",
   "execution_count": 26,
   "metadata": {},
   "outputs": [
    {
     "name": "stdout",
     "output_type": "stream",
     "text": [
      "(511, 7)\n",
      "(1564, 7)\n",
      "(53, 7)\n"
     ]
    }
   ],
   "source": [
    "print(df_meta.loc[df_meta['project'] == 'TCGA-OV'].shape)\n",
    "df_meta.loc[df_meta['project'] == 'TCGA-OV', 'site'] = 'Ovary'\n",
    "\n",
    "print(df_meta.loc[df_meta['topography'] == 'c56.9'].shape)\n",
    "df_meta.loc[df_meta['topography'] == 'c56.9', 'site'] = 'Ovary'\n",
    "\n",
    "print(df_meta.loc[df_meta['project'] == 'OV-AU'].shape)\n",
    "df_meta.loc[df_meta['project'] == 'OV-AU', 'site'] = 'Ovary'"
   ]
  },
  {
   "cell_type": "markdown",
   "metadata": {},
   "source": [
    "#### Lung"
   ]
  },
  {
   "cell_type": "code",
   "execution_count": 27,
   "metadata": {},
   "outputs": [
    {
     "name": "stdout",
     "output_type": "stream",
     "text": [
      "(537, 7)\n",
      "(3431, 7)\n"
     ]
    }
   ],
   "source": [
    "print(df_meta.loc[df_meta['project'] == 'TCGA-LUAD'].shape)\n",
    "df_meta.loc[df_meta['project'] == 'TCGA-LUAD', 'site'] = 'Lung'\n",
    "\n",
    "print(df_meta.loc[df_meta['topography'] == 'c34.9'].shape)\n",
    "df_meta.loc[df_meta['topography'] == 'c34.9', 'site'] = 'Lung'"
   ]
  },
  {
   "cell_type": "markdown",
   "metadata": {},
   "source": [
    "#### Kidney"
   ]
  },
  {
   "cell_type": "code",
   "execution_count": 28,
   "metadata": {},
   "outputs": [
    {
     "name": "stdout",
     "output_type": "stream",
     "text": [
      "(565, 7)\n",
      "(747, 7)\n",
      "(73, 7)\n"
     ]
    }
   ],
   "source": [
    "print(df_meta.loc[df_meta['project'] == 'TCGA-KIRC'].shape)\n",
    "df_meta.loc[df_meta['project'] == 'TCGA-KIRC', 'site'] = 'Kidney'\n",
    "\n",
    "print(df_meta.loc[df_meta['topography'] == 'c64.9'].shape)\n",
    "df_meta.loc[df_meta['topography'] == 'c64.9', 'site'] = 'Kidney'\n",
    "\n",
    "print(df_meta.loc[df_meta['project'] == 'RECA-EU'].shape)\n",
    "df_meta.loc[df_meta['project'] == 'RECA-EU', 'site'] = 'Kidney'"
   ]
  },
  {
   "cell_type": "markdown",
   "metadata": {},
   "source": [
    "#### Colon"
   ]
  },
  {
   "cell_type": "code",
   "execution_count": 29,
   "metadata": {},
   "outputs": [
    {
     "name": "stdout",
     "output_type": "stream",
     "text": [
      "(463, 7)\n",
      "(1369, 7)\n"
     ]
    }
   ],
   "source": [
    "print(df_meta.loc[df_meta['project'] == 'TCGA-COAD'].shape)\n",
    "df_meta.loc[df_meta['project'] == 'TCGA-COAD', 'site'] = 'Colon'\n",
    "\n",
    "print(df_meta.loc[df_meta['topography'] == 'c18.9'].shape)\n",
    "df_meta.loc[df_meta['topography'] == 'c18.9', 'site'] = 'Colon'"
   ]
  },
  {
   "cell_type": "markdown",
   "metadata": {},
   "source": [
    "#### Stomach"
   ]
  },
  {
   "cell_type": "code",
   "execution_count": 30,
   "metadata": {},
   "outputs": [
    {
     "name": "stdout",
     "output_type": "stream",
     "text": [
      "(411, 7)\n",
      "(863, 7)\n",
      "(29, 7)\n"
     ]
    }
   ],
   "source": [
    "print(df_meta.loc[df_meta['project'] == 'TCGA-STAD'].shape)\n",
    "df_meta.loc[df_meta['project'] == 'TCGA-STAD', 'site'] = 'Stomach'\n",
    "\n",
    "print(df_meta.loc[df_meta['topography'] == 'c16.9'].shape)\n",
    "df_meta.loc[df_meta['topography'] == 'c16.9', 'site'] = 'Stomach'\n",
    "\n",
    "print(df_meta.loc[df_meta['project'] == 'GACA-CN'].shape)\n",
    "df_meta.loc[df_meta['project'] == 'GACA-CN', 'site'] = 'Stomach'"
   ]
  },
  {
   "cell_type": "markdown",
   "metadata": {},
   "source": [
    "#### Skin"
   ]
  },
  {
   "cell_type": "code",
   "execution_count": 31,
   "metadata": {},
   "outputs": [
    {
     "name": "stdout",
     "output_type": "stream",
     "text": [
      "(437, 7)\n",
      "(739, 7)\n",
      "(62, 7)\n"
     ]
    }
   ],
   "source": [
    "print(df_meta.loc[df_meta['project'] == 'TCGA-SKCM'].shape)\n",
    "df_meta.loc[df_meta['project'] == 'TCGA-SKCM', 'site'] = 'Skin'\n",
    "\n",
    "print(df_meta.loc[df_meta['topography'] == 'c44.9'].shape)\n",
    "df_meta.loc[df_meta['topography'] == 'c44.9', 'site'] = 'Skin'\n",
    "\n",
    "print(df_meta.loc[df_meta['project'] == 'MELA-AU'].shape)\n",
    "df_meta.loc[df_meta['project'] == 'MELA-AU', 'site'] = 'Skin'"
   ]
  },
  {
   "cell_type": "markdown",
   "metadata": {},
   "source": [
    "#### Liver"
   ]
  },
  {
   "cell_type": "code",
   "execution_count": 32,
   "metadata": {},
   "outputs": [
    {
     "name": "stdout",
     "output_type": "stream",
     "text": [
      "(363, 7)\n",
      "(25, 7)\n",
      "(5, 7)\n",
      "(27, 7)\n",
      "(253, 7)\n"
     ]
    }
   ],
   "source": [
    "print(df_meta.loc[df_meta['project'] == 'TCGA-LIHC'].shape)\n",
    "df_meta.loc[df_meta['project'] == 'TCGA-LIHC', 'site'] = 'Liver'\n",
    "\n",
    "print(df_meta.loc[df_meta['topography'] == 'c22.9'].shape)\n",
    "df_meta.loc[df_meta['topography'] == 'c22.9', 'site'] = 'Liver'\n",
    "\n",
    "print(df_meta.loc[df_meta['project'] == 'LICA-FR'].shape)\n",
    "df_meta.loc[df_meta['project'] == 'LICA-FR', 'site'] = 'Liver'\n",
    "\n",
    "print(df_meta.loc[df_meta['project'] == 'LINC-JP'].shape)\n",
    "df_meta.loc[df_meta['project'] == 'LINC-JP', 'site'] = 'Liver'\n",
    "\n",
    "print(df_meta.loc[df_meta['project'] == 'LIRI-JP'].shape)\n",
    "df_meta.loc[df_meta['project'] == 'LIRI-JP', 'site'] = 'Liver'"
   ]
  },
  {
   "cell_type": "markdown",
   "metadata": {},
   "source": [
    "#### Prostate"
   ]
  },
  {
   "cell_type": "code",
   "execution_count": 22,
   "metadata": {},
   "outputs": [
    {
     "name": "stdout",
     "output_type": "stream",
     "text": [
      "(453, 7)\n",
      "(492, 7)\n",
      "(68, 7)\n",
      "(110, 7)\n",
      "(75, 7)\n"
     ]
    }
   ],
   "source": [
    "print(df_meta.loc[df_meta['project'] == 'TCGA-PRAD'].shape)\n",
    "df_meta.loc[df_meta['project'] == 'TCGA-PRAD', 'site'] = 'Prostate'\n",
    "\n",
    "print(df_meta.loc[df_meta['topography'] == 'c61.9'].shape)\n",
    "df_meta.loc[df_meta['topography'] == 'c61.9', 'site'] = 'Prostate'\n",
    "\n",
    "print(df_meta.loc[df_meta['project'] == 'EOPC-DE'].shape)\n",
    "df_meta.loc[df_meta['project'] == 'EOPC-DE', 'site'] = 'Prostate'\n",
    "\n",
    "print(df_meta.loc[df_meta['project'] == 'PRAD-CA'].shape)\n",
    "df_meta.loc[df_meta['project'] == 'PRAD-CA', 'site'] = 'Prostate'\n",
    "\n",
    "print(df_meta.loc[df_meta['project'] == 'PRAD-UK'].shape)\n",
    "df_meta.loc[df_meta['project'] == 'PRAD-UK', 'site'] = 'Prostate'"
   ]
  },
  {
   "cell_type": "markdown",
   "metadata": {},
   "source": [
    "Check"
   ]
  },
  {
   "cell_type": "code",
   "execution_count": 33,
   "metadata": {},
   "outputs": [
    {
     "data": {
      "text/plain": [
       "(18335, 7)"
      ]
     },
     "execution_count": 33,
     "metadata": {},
     "output_type": "execute_result"
    }
   ],
   "source": [
    "df_meta.loc[df_meta['site'] == 'Others'].shape"
   ]
  },
  {
   "cell_type": "code",
   "execution_count": 34,
   "metadata": {},
   "outputs": [
    {
     "data": {
      "text/plain": [
       "array(['Ovary', 'Brain', 'Breast', 'Kidney', 'Others', 'Prostate', 'Skin',\n",
       "       'Colon', 'Liver', 'Lung', 'Stomach', 'Cerebellum'], dtype=object)"
      ]
     },
     "execution_count": 34,
     "metadata": {},
     "output_type": "execute_result"
    }
   ],
   "source": [
    "df_meta['site'].unique()"
   ]
  },
  {
   "cell_type": "markdown",
   "metadata": {},
   "source": [
    "#### Save meta to disk"
   ]
  },
  {
   "cell_type": "code",
   "execution_count": 35,
   "metadata": {},
   "outputs": [],
   "source": [
    "## updated morphology and topography labels\n",
    "filepath = '../data/all_bands_meta.pkl'\n",
    "with open(filepath, 'wb') as fo:\n",
    "    pickle.dump(df_meta, fo)"
   ]
  },
  {
   "cell_type": "code",
   "execution_count": 23,
   "metadata": {},
   "outputs": [
    {
     "data": {
      "text/html": [
       "<div>\n",
       "<style scoped>\n",
       "    .dataframe tbody tr th:only-of-type {\n",
       "        vertical-align: middle;\n",
       "    }\n",
       "\n",
       "    .dataframe tbody tr th {\n",
       "        vertical-align: top;\n",
       "    }\n",
       "\n",
       "    .dataframe thead th {\n",
       "        text-align: right;\n",
       "    }\n",
       "</style>\n",
       "<table border=\"1\" class=\"dataframe\">\n",
       "  <thead>\n",
       "    <tr style=\"text-align: right;\">\n",
       "      <th></th>\n",
       "      <th>id</th>\n",
       "      <th>source</th>\n",
       "      <th>project</th>\n",
       "      <th>morphology</th>\n",
       "      <th>topography</th>\n",
       "      <th>num_segs</th>\n",
       "      <th>site</th>\n",
       "    </tr>\n",
       "  </thead>\n",
       "  <tbody>\n",
       "    <tr>\n",
       "      <th>0</th>\n",
       "      <td>440e9ec5-8e61-4f75-b1d1-616941d9456d</td>\n",
       "      <td>TCGA</td>\n",
       "      <td>TCGA-OV</td>\n",
       "      <td>84413</td>\n",
       "      <td>Ovary</td>\n",
       "      <td>391</td>\n",
       "      <td>Ovary</td>\n",
       "    </tr>\n",
       "    <tr>\n",
       "      <th>1</th>\n",
       "      <td>6ca6f0fe-8b53-421e-ad4e-dfbf8c8c5b59</td>\n",
       "      <td>TCGA</td>\n",
       "      <td>TCGA-OV</td>\n",
       "      <td>84413</td>\n",
       "      <td>Ovary</td>\n",
       "      <td>571</td>\n",
       "      <td>Ovary</td>\n",
       "    </tr>\n",
       "    <tr>\n",
       "      <th>2</th>\n",
       "      <td>da9af00f-60ea-456b-9f25-0ab560962769</td>\n",
       "      <td>TCGA</td>\n",
       "      <td>TCGA-OV</td>\n",
       "      <td>84413</td>\n",
       "      <td>Ovary</td>\n",
       "      <td>431</td>\n",
       "      <td>Ovary</td>\n",
       "    </tr>\n",
       "    <tr>\n",
       "      <th>3</th>\n",
       "      <td>8e84a028-5e9c-4d01-9791-db0f04b05bce</td>\n",
       "      <td>TCGA</td>\n",
       "      <td>TCGA-OV</td>\n",
       "      <td>84603</td>\n",
       "      <td>Ovary</td>\n",
       "      <td>394</td>\n",
       "      <td>Ovary</td>\n",
       "    </tr>\n",
       "    <tr>\n",
       "      <th>4</th>\n",
       "      <td>d3f8c91f-e4cc-4018-9fbf-4368dd036b01</td>\n",
       "      <td>TCGA</td>\n",
       "      <td>TCGA-OV</td>\n",
       "      <td>84413</td>\n",
       "      <td>Ovary</td>\n",
       "      <td>252</td>\n",
       "      <td>Ovary</td>\n",
       "    </tr>\n",
       "    <tr>\n",
       "      <th>...</th>\n",
       "      <td>...</td>\n",
       "      <td>...</td>\n",
       "      <td>...</td>\n",
       "      <td>...</td>\n",
       "      <td>...</td>\n",
       "      <td>...</td>\n",
       "      <td>...</td>\n",
       "    </tr>\n",
       "    <tr>\n",
       "      <th>42815</th>\n",
       "      <td>PGX_AM_BS_GSM1414445</td>\n",
       "      <td>arraymap</td>\n",
       "      <td>GSE58579</td>\n",
       "      <td>84421</td>\n",
       "      <td>c56.9</td>\n",
       "      <td>104</td>\n",
       "      <td>Ovary</td>\n",
       "    </tr>\n",
       "    <tr>\n",
       "      <th>42816</th>\n",
       "      <td>PGX_AM_BS_GSM1414446</td>\n",
       "      <td>arraymap</td>\n",
       "      <td>GSE58579</td>\n",
       "      <td>84421</td>\n",
       "      <td>c56.9</td>\n",
       "      <td>240</td>\n",
       "      <td>Ovary</td>\n",
       "    </tr>\n",
       "    <tr>\n",
       "      <th>42817</th>\n",
       "      <td>PGX_AM_BS_GSM1414451</td>\n",
       "      <td>arraymap</td>\n",
       "      <td>GSE58579</td>\n",
       "      <td>84421</td>\n",
       "      <td>c56.9</td>\n",
       "      <td>79</td>\n",
       "      <td>Ovary</td>\n",
       "    </tr>\n",
       "    <tr>\n",
       "      <th>42818</th>\n",
       "      <td>PGX_AM_BS_GSM1431034</td>\n",
       "      <td>arraymap</td>\n",
       "      <td>GSE58579</td>\n",
       "      <td>84421</td>\n",
       "      <td>c56.9</td>\n",
       "      <td>133</td>\n",
       "      <td>Ovary</td>\n",
       "    </tr>\n",
       "    <tr>\n",
       "      <th>42819</th>\n",
       "      <td>PGX_AM_BS_GSM1431036</td>\n",
       "      <td>arraymap</td>\n",
       "      <td>GSE58579</td>\n",
       "      <td>84421</td>\n",
       "      <td>c56.9</td>\n",
       "      <td>148</td>\n",
       "      <td>Ovary</td>\n",
       "    </tr>\n",
       "  </tbody>\n",
       "</table>\n",
       "<p>42820 rows × 7 columns</p>\n",
       "</div>"
      ],
      "text/plain": [
       "                                         id    source   project morphology  \\\n",
       "0      440e9ec5-8e61-4f75-b1d1-616941d9456d      TCGA   TCGA-OV      84413   \n",
       "1      6ca6f0fe-8b53-421e-ad4e-dfbf8c8c5b59      TCGA   TCGA-OV      84413   \n",
       "2      da9af00f-60ea-456b-9f25-0ab560962769      TCGA   TCGA-OV      84413   \n",
       "3      8e84a028-5e9c-4d01-9791-db0f04b05bce      TCGA   TCGA-OV      84603   \n",
       "4      d3f8c91f-e4cc-4018-9fbf-4368dd036b01      TCGA   TCGA-OV      84413   \n",
       "...                                     ...       ...       ...        ...   \n",
       "42815                  PGX_AM_BS_GSM1414445  arraymap  GSE58579      84421   \n",
       "42816                  PGX_AM_BS_GSM1414446  arraymap  GSE58579      84421   \n",
       "42817                  PGX_AM_BS_GSM1414451  arraymap  GSE58579      84421   \n",
       "42818                  PGX_AM_BS_GSM1431034  arraymap  GSE58579      84421   \n",
       "42819                  PGX_AM_BS_GSM1431036  arraymap  GSE58579      84421   \n",
       "\n",
       "      topography  num_segs   site  \n",
       "0          Ovary       391  Ovary  \n",
       "1          Ovary       571  Ovary  \n",
       "2          Ovary       431  Ovary  \n",
       "3          Ovary       394  Ovary  \n",
       "4          Ovary       252  Ovary  \n",
       "...          ...       ...    ...  \n",
       "42815      c56.9       104  Ovary  \n",
       "42816      c56.9       240  Ovary  \n",
       "42817      c56.9        79  Ovary  \n",
       "42818      c56.9       133  Ovary  \n",
       "42819      c56.9       148  Ovary  \n",
       "\n",
       "[42820 rows x 7 columns]"
      ]
     },
     "execution_count": 23,
     "metadata": {},
     "output_type": "execute_result"
    }
   ],
   "source": [
    "df_meta"
   ]
  },
  {
   "cell_type": "markdown",
   "metadata": {},
   "source": [
    "### Feature labels"
   ]
  },
  {
   "cell_type": "code",
   "execution_count": 36,
   "metadata": {},
   "outputs": [],
   "source": [
    "df_meta = df_meta.assign(index = df_meta.index)"
   ]
  },
  {
   "cell_type": "code",
   "execution_count": 37,
   "metadata": {},
   "outputs": [],
   "source": [
    "labels = df_meta['site'].values"
   ]
  },
  {
   "cell_type": "code",
   "execution_count": 42,
   "metadata": {},
   "outputs": [
    {
     "data": {
      "text/plain": [
       "(array(['Brain', 'Breast', 'Cerebellum', 'Colon', 'Kidney', 'Liver',\n",
       "        'Lung', 'Others', 'Ovary', 'Prostate', 'Skin', 'Stomach'],\n",
       "       dtype=object),\n",
       " array([ 2808,  6244,  1708,  1832,  1385,   673,  3968, 18335,  2128,\n",
       "         1198,  1238,  1303]))"
      ]
     },
     "execution_count": 42,
     "metadata": {},
     "output_type": "execute_result"
    }
   ],
   "source": [
    "np.unique(labels, return_counts=True)"
   ]
  },
  {
   "cell_type": "markdown",
   "metadata": {},
   "source": [
    "Save to disk"
   ]
  },
  {
   "cell_type": "code",
   "execution_count": 39,
   "metadata": {},
   "outputs": [],
   "source": [
    "labelpath = '../data/all_bands_label.pkl'\n",
    "with open(labelpath, 'wb') as fo:\n",
    "    pickle.dump(labels, fo)"
   ]
  },
  {
   "cell_type": "markdown",
   "metadata": {},
   "source": [
    "### morphology as label"
   ]
  },
  {
   "cell_type": "code",
   "execution_count": 43,
   "metadata": {},
   "outputs": [],
   "source": [
    "filepath = '../data/all_bands_meta.pkl'\n",
    "with open(filepath, 'rb') as fi:\n",
    "    df = pickle.load(fi)"
   ]
  },
  {
   "cell_type": "code",
   "execution_count": 44,
   "metadata": {},
   "outputs": [],
   "source": [
    "df = df.assign(disease=df['morphology'])"
   ]
  },
  {
   "cell_type": "code",
   "execution_count": 45,
   "metadata": {},
   "outputs": [],
   "source": [
    "df.loc[df['site'] == 'Others', 'disease'] = 'Others'"
   ]
  },
  {
   "cell_type": "code",
   "execution_count": 46,
   "metadata": {},
   "outputs": [
    {
     "data": {
      "text/plain": [
       "(0, 8)"
      ]
     },
     "execution_count": 46,
     "metadata": {},
     "output_type": "execute_result"
    }
   ],
   "source": [
    "df.loc[df['disease'] == None].shape"
   ]
  },
  {
   "cell_type": "code",
   "execution_count": 47,
   "metadata": {},
   "outputs": [
    {
     "data": {
      "text/plain": [
       "(42820, 8)"
      ]
     },
     "execution_count": 47,
     "metadata": {},
     "output_type": "execute_result"
    }
   ],
   "source": [
    "df.shape"
   ]
  },
  {
   "cell_type": "code",
   "execution_count": 48,
   "metadata": {},
   "outputs": [],
   "source": [
    "disease_label = df['disease'].values\n",
    "disease_label[pd.isnull(disease_label)] = 'None'"
   ]
  },
  {
   "cell_type": "code",
   "execution_count": 49,
   "metadata": {},
   "outputs": [],
   "source": [
    "dlabelpath = '../data/all_bands_disease_label.pkl'\n",
    "with open(dlabelpath, 'wb') as fo:\n",
    "    pickle.dump(disease_label, fo)"
   ]
  },
  {
   "cell_type": "code",
   "execution_count": 50,
   "metadata": {},
   "outputs": [
    {
     "data": {
      "text/plain": [
       "array(['84413', '84603', '94403', 'None', '85003', '85203', '85223',\n",
       "       '85753', '90203', '84803', '80503', '85243', '80103', '85103',\n",
       "       '80223', '85073', '85233', '85413', '83103', '83123', 'Others',\n",
       "       '93823', '94513', '94013', '94503', '94003', '81403', '87203',\n",
       "       '87443', '87433', '87303', '87423', '87213', '82553', '87703',\n",
       "       '85743', '81703', '81713', '81803', '82503', '85503', '82533',\n",
       "       '82523', '82653', '82603', '82113', '81443', '81453', '84903',\n",
       "       '82303', '82013', '87713', '84613', '80903', '85033', '81743',\n",
       "       '85603', '87723', '87453', '84013', '85023', '81733', 'C61',\n",
       "       'C26.8', 'C64', 'C50.1', 'C71.6', 'C22', 'C56', 'C50.9', 'C50.4',\n",
       "       'C48.2', 'C43.5', 'C43.6', 'C50.5', 'C43.7', 'C50.2', 'C43.3',\n",
       "       'C50.6', 'C57', 'C43.9', 'C43.4', 'C22.0', 'C50.412', 'C50',\n",
       "       'C50.3', 'C50.2/C50.4', 'C30.0', 'C50.8', 'C50.912', 'C43.2',\n",
       "       '94713', '94703', '94743', '82903', '83173', '93803', '85303',\n",
       "       '80203', '90643', '80463', '80703', '82543', '80123', '90503',\n",
       "       '82513', '80413', '94733', '97013', '85002', '83803', '86203',\n",
       "       '84403', '89403', '87700', '97003', '94423', '94211', '93913',\n",
       "       '88333', '85202', '96993', '89363', '90800', '90803', '90713',\n",
       "       '93653', '85004', '82403', '81402', '81400', '95003', '91003',\n",
       "       '96803', '82900', '80500', '94243', '94303', '89633', '88910',\n",
       "       '80053', '84303', '88903', '84703', '91303', '80313', '84700',\n",
       "       '84800', '85032', '83183', '80701', '90504', '80710', '82003',\n",
       "       '90813', '84421'], dtype=object)"
      ]
     },
     "execution_count": 50,
     "metadata": {},
     "output_type": "execute_result"
    }
   ],
   "source": [
    "df['disease'].unique()"
   ]
  },
  {
   "cell_type": "code",
   "execution_count": 51,
   "metadata": {},
   "outputs": [],
   "source": [
    "disease_label[pd.isnull(disease_label)] = 'None'"
   ]
  },
  {
   "cell_type": "code",
   "execution_count": 52,
   "metadata": {},
   "outputs": [
    {
     "data": {
      "text/plain": [
       "array(['80053', '80103', '80123', '80203', '80223', '80313', '80413',\n",
       "       '80463', '80500', '80503', '80701', '80703', '80710', '80903',\n",
       "       '81400', '81402', '81403', '81443', '81453', '81703', '81713',\n",
       "       '81733', '81743', '81803', '82003', '82013', '82113', '82303',\n",
       "       '82403', '82503', '82513', '82523', '82533', '82543', '82553',\n",
       "       '82603', '82653', '82900', '82903', '83103', '83123', '83173',\n",
       "       '83183', '83803', '84013', '84303', '84403', '84413', '84421',\n",
       "       '84603', '84613', '84700', '84703', '84800', '84803', '84903',\n",
       "       '85002', '85003', '85004', '85023', '85032', '85033', '85073',\n",
       "       '85103', '85202', '85203', '85223', '85233', '85243', '85303',\n",
       "       '85413', '85503', '85603', '85743', '85753', '86203', '87203',\n",
       "       '87213', '87303', '87423', '87433', '87443', '87453', '87700',\n",
       "       '87703', '87713', '87723', '88333', '88903', '88910', '89363',\n",
       "       '89403', '89633', '90203', '90503', '90504', '90643', '90713',\n",
       "       '90800', '90803', '90813', '91003', '91303', '93653', '93803',\n",
       "       '93823', '93913', '94003', '94013', '94211', '94243', '94303',\n",
       "       '94403', '94423', '94503', '94513', '94703', '94713', '94733',\n",
       "       '94743', '95003', '96803', '96993', '97003', '97013', 'C22',\n",
       "       'C22.0', 'C26.8', 'C30.0', 'C43.2', 'C43.3', 'C43.4', 'C43.5',\n",
       "       'C43.6', 'C43.7', 'C43.9', 'C48.2', 'C50', 'C50.1', 'C50.2',\n",
       "       'C50.2/C50.4', 'C50.3', 'C50.4', 'C50.412', 'C50.5', 'C50.6',\n",
       "       'C50.8', 'C50.9', 'C50.912', 'C56', 'C57', 'C61', 'C64', 'C71.6',\n",
       "       'None', 'Others'], dtype=object)"
      ]
     },
     "execution_count": 52,
     "metadata": {},
     "output_type": "execute_result"
    }
   ],
   "source": [
    "np.unique(disease_label)"
   ]
  },
  {
   "cell_type": "markdown",
   "metadata": {},
   "source": [
    "### Source label"
   ]
  },
  {
   "cell_type": "code",
   "execution_count": 53,
   "metadata": {},
   "outputs": [],
   "source": [
    "source_label = df['source'].values"
   ]
  },
  {
   "cell_type": "code",
   "execution_count": 54,
   "metadata": {},
   "outputs": [],
   "source": [
    "slabelpath = '../data/all_bands_source_label.pkl'\n",
    "with open(slabelpath, 'wb') as fo:\n",
    "    pickle.dump(source_label, fo)"
   ]
  },
  {
   "cell_type": "code",
   "execution_count": null,
   "metadata": {},
   "outputs": [],
   "source": []
  }
 ],
 "metadata": {
  "kernelspec": {
   "display_name": "Python 3",
   "language": "python",
   "name": "python3"
  },
  "language_info": {
   "codemirror_mode": {
    "name": "ipython",
    "version": 3
   },
   "file_extension": ".py",
   "mimetype": "text/x-python",
   "name": "python",
   "nbconvert_exporter": "python",
   "pygments_lexer": "ipython3",
   "version": "3.7.4"
  },
  "toc": {
   "base_numbering": 1,
   "nav_menu": {},
   "number_sections": true,
   "sideBar": true,
   "skip_h1_title": false,
   "title_cell": "Table of Contents",
   "title_sidebar": "Contents",
   "toc_cell": false,
   "toc_position": {},
   "toc_section_display": true,
   "toc_window_display": false
  }
 },
 "nbformat": 4,
 "nbformat_minor": 2
}
