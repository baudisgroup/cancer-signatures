{
 "cells": [
  {
   "cell_type": "markdown",
   "metadata": {},
   "source": [
    "Generate copy number segments from PCAWG WGS data"
   ]
  },
  {
   "cell_type": "code",
   "execution_count": 53,
   "metadata": {
    "collapsed": true
   },
   "outputs": [],
   "source": [
    "import tarfile\n",
    "import pandas as pd\n",
    "import os\n",
    "from pymongo import MongoClient"
   ]
  },
  {
   "cell_type": "markdown",
   "metadata": {},
   "source": [
    "Testing scripts"
   ]
  },
  {
   "cell_type": "code",
   "execution_count": 5,
   "metadata": {},
   "outputs": [
    {
     "name": "stdout",
     "output_type": "stream",
     "text": [
      "b'SNP_A-8497791\\t1\\t740857\\t-0.350889181667628\\t-0.136875445355132\\t1\\tNA\\t2\\t1\\t0.63614582533042\\n'\n"
     ]
    }
   ],
   "source": [
    "fp = '../data/ICGC/CopyNumber/PBCA-DE/8685690a-d2e4-11e5-9065-4a655c6878de/6f4d836f-e86f-4b12-9549-7117f59e3d4a.svcp_1-0-2.20150115.somatic.cnv.tar.gz'\n",
    "with tarfile.open(fp, 'r') as tar:\n",
    "    for tarinfo in tar:\n",
    "        if 'copynumber.txt' in tarinfo.name :\n",
    "            f = tar.extractfile(tarinfo)\n",
    "            lines = f.readlines()\n",
    "            print(lines[3])\n",
    "                \n",
    "    "
   ]
  },
  {
   "cell_type": "code",
   "execution_count": null,
   "metadata": {},
   "outputs": [],
   "source": [
    "i = 1\n",
    "pre_value = 1000\n",
    "pre_chro = '0'\n",
    "segments = []\n",
    "\n",
    "while(i<len(lines)):\n",
    "    line = lines[i].decode(\"utf-8\").split('\\t')\n",
    "    pos = line[2]\n",
    "    cur_value = line[4]\n",
    "    chro = line[1]\n",
    "    \n",
    "    if cur_value == pre_value:\n",
    "        probes += 1\n",
    "        end = pos\n",
    "    else:\n",
    "        if i>1:\n",
    "            segments.append({'chro':pre_chro,'start':int(start),\n",
    "                             'end':int(end),'probes':probes,'value':float(pre_value)})\n",
    "        start = pos\n",
    "        end = pos\n",
    "        probes = 1\n",
    "        pre_value = cur_value\n",
    "        pre_chro = chro\n",
    "        \n",
    "    i += 1\n",
    "    \n",
    "segments.append({'chro':pre_chro,'start':int(start),\n",
    "                 'end':int(end),'probes':probes,'value':float(pre_value)})       \n",
    "    \n",
    "\n",
    "            "
   ]
  },
  {
   "cell_type": "markdown",
   "metadata": {},
   "source": [
    "Generate segment files from SVCP method, in PCAWG"
   ]
  },
  {
   "cell_type": "code",
   "execution_count": 6,
   "metadata": {},
   "outputs": [],
   "source": [
    "def genPcawgSvcpSegments(filepath, outpath):\n",
    "    \n",
    "    # read the probe file from tar\n",
    "    with tarfile.open(filepath, 'r') as tar:\n",
    "        for tarinfo in tar:\n",
    "            if 'copynumber.txt' in tarinfo.name :\n",
    "                f = tar.extractfile(tarinfo)\n",
    "                lines = f.readlines()\n",
    "\n",
    "     \n",
    "                # parse the probe file\n",
    "\n",
    "                # init\n",
    "                i = 1\n",
    "                pre_value = 1000\n",
    "                pre_chro = '0'\n",
    "                segments = []\n",
    "\n",
    "                while(i<len(lines)):\n",
    "                    line = lines[i].decode(\"utf-8\").split('\\t')\n",
    "                    pos = line[2]\n",
    "                    cur_value = line[4]\n",
    "                    chro = line[1]\n",
    "\n",
    "                    if cur_value == pre_value:\n",
    "                        probes += 1\n",
    "                        end = pos\n",
    "                    else:\n",
    "                        if i>1:\n",
    "                            segments.append({'chro':pre_chro,'start':int(start),\n",
    "                                             'end':int(end),'probes':probes,'value':float(pre_value)})\n",
    "                        start = pos\n",
    "                        end = pos\n",
    "                        probes = 1\n",
    "                        pre_value = cur_value\n",
    "                        pre_chro = chro\n",
    "\n",
    "                    i += 1\n",
    "\n",
    "                # add the last segment\n",
    "                segments.append({'chro':pre_chro,'start':int(start),\n",
    "                                 'end':int(end),'probes':probes,'value':float(pre_value)})    \n",
    "\n",
    "                # output to file\n",
    "                filename = os.path.basename(filepath)\n",
    "                fileid = filename.split('.')[0]\n",
    "                with open(outpath, 'w') as fo:\n",
    "                    print('{}\\t{}\\t{}\\t{}\\t{}\\t{}'.format('id','chro','start','end','probes','value'), file=fo)\n",
    "                    for seg in segments:\n",
    "                        print('{}\\t{}\\t{}\\t{}\\t{}\\t{}'.format(fileid,seg['chro'],seg['start'],\n",
    "                                                              seg['end'],seg['probes'],round(seg['value'],4)), file=fo)"
   ]
  },
  {
   "cell_type": "code",
   "execution_count": 7,
   "metadata": {},
   "outputs": [],
   "source": [
    "walk_path = '/Volumes/originalData/ICGC/CopyNumber'\n",
    "out_path = '../data'\n",
    "for root, subdirs, files in os.walk(walk_path):\n",
    "    for f in files:\n",
    "        if 'somatic.cnv.tar.gz' in f and 'svcp' in f:\n",
    "            fileid = f.split('.')[0]\n",
    "            filename = '.'.join([fileid, 'cnv','tsv'])\n",
    "            genPcawgSvcpSegments(os.path.join(root, f), os.path.join(out_path, filename))"
   ]
  },
  {
   "cell_type": "markdown",
   "metadata": {},
   "source": [
    "Get meta data and save the combined info to db"
   ]
  },
  {
   "cell_type": "code",
   "execution_count": 70,
   "metadata": {},
   "outputs": [],
   "source": [
    "# read pcawg_sample_sheet.tsv\n",
    "pcawg_samples_sheet = pd.read_csv('../data/ICGC/Meta/pcawg_sample_sheet.tsv', sep='\\t')\n",
    "\n",
    "#read donor.all_projects.tsv\n",
    "icgc_donors = pd.read_csv('../data/ICGC/Meta/donor.all_projects.tsv', sep='\\t')\n",
    "\n",
    "# #read pcawg_sample_sheet.2016-06-24.blacklisted_donors.tsv\n",
    "# blacklist = pd.read_csv('/Volumes/originalData/ICGC/Meta/pcawg_sample_sheet.2016-06-24.blacklisted_donors.tsv', sep='\\t')\n",
    "\n",
    "pcawg_samples = []\n",
    "for root, subdirs, files in os.walk(out_path):\n",
    "    for f in files:\n",
    "        fileid = f.split('.')[0]\n",
    "        \n",
    "        # sample info\n",
    "        sample_info = pcawg_samples_sheet[(pcawg_samples_sheet['aliquot_id']==fileid) &\n",
    "                                          (pcawg_samples_sheet['donor_wgs_exclusion_white_gray']=='Whitelist')]\n",
    "        \n",
    "        # blacklisted sample\n",
    "        if len(sample_info) == 0:\n",
    "            continue\n",
    "            \n",
    "        donorid = sample_info.iloc[0]['icgc_donor_id']\n",
    "        specimen_type = sample_info.iloc[0]['dcc_specimen_type']\n",
    "        specimen_type = specimen_type.split(' - ')\n",
    "        sample_type = specimen_type[0]\n",
    "        sample_source = specimen_type[1]\n",
    "        \n",
    "        \n",
    "        # segments\n",
    "        cnvs = []\n",
    "        with open(os.path.join(root, f), 'r') as fin:\n",
    "            next(fin)\n",
    "            for line in fin:\n",
    "                line = line.strip().split('\\t')\n",
    "                cnvs.append({'chro':line[1], 'start':int(line[2]), 'end':int(line[3]),\n",
    "                             'probes':int(line[4]), 'value':float(line[5])})\n",
    "                \n",
    "        # donor info      \n",
    "        donor = icgc_donors[icgc_donors['icgc_donor_id']==donorid]\n",
    "\n",
    "        # blacklisted donor\n",
    "        if len(donor) == 0:\n",
    "            continue\n",
    "        \n",
    "        donor = donor.to_dict(orient='records')[0]\n",
    "        donor['segments'] = cnvs\n",
    "        donor['sample_type'] = sample_type\n",
    "        donor['sample_source'] = sample_source\n",
    "        donor['sample_id'] = fileid\n",
    "        pcawg_samples.append(donor)\n",
    "        "
   ]
  },
  {
   "cell_type": "code",
   "execution_count": 71,
   "metadata": {},
   "outputs": [
    {
     "data": {
      "text/plain": [
       "<pymongo.results.InsertManyResult at 0x113461240>"
      ]
     },
     "execution_count": 71,
     "metadata": {},
     "output_type": "execute_result"
    }
   ],
   "source": [
    "# write to db\n",
    "db = MongoClient()['pcawg']['samples']\n",
    "db.drop()\n",
    "db.insert_many(pcawg_samples)"
   ]
  },
  {
   "cell_type": "markdown",
   "metadata": {},
   "source": [
    "Tests"
   ]
  },
  {
   "cell_type": "code",
   "execution_count": 65,
   "metadata": {},
   "outputs": [],
   "source": [
    "t = pcawg_samples_sheet[(pcawg_samples_sheet['dcc_project_code']=='PBCA-DE') &\n",
    "                        (pcawg_samples_sheet['dcc_specimen_type']=='Primary tumour - solid tissue') &\n",
    "                        (pcawg_samples_sheet['donor_wgs_exclusion_white_gray']=='Whitelist')]"
   ]
  },
  {
   "cell_type": "code",
   "execution_count": null,
   "metadata": {
    "collapsed": true
   },
   "outputs": [],
   "source": []
  },
  {
   "cell_type": "code",
   "execution_count": 69,
   "metadata": {
    "scrolled": true
   },
   "outputs": [
    {
     "data": {
      "text/plain": [
       "1896"
      ]
     },
     "execution_count": 69,
     "metadata": {},
     "output_type": "execute_result"
    }
   ],
   "source": [
    "len(pcawg_samples)"
   ]
  },
  {
   "cell_type": "code",
   "execution_count": null,
   "metadata": {
    "collapsed": true
   },
   "outputs": [],
   "source": []
  }
 ],
 "metadata": {
  "kernelspec": {
   "display_name": "Python 3",
   "language": "python",
   "name": "python3"
  },
  "language_info": {
   "codemirror_mode": {
    "name": "ipython",
    "version": 3
   },
   "file_extension": ".py",
   "mimetype": "text/x-python",
   "name": "python",
   "nbconvert_exporter": "python",
   "pygments_lexer": "ipython3",
   "version": "3.7.4"
  },
  "toc": {
   "base_numbering": 1,
   "nav_menu": {},
   "number_sections": true,
   "sideBar": true,
   "skip_h1_title": false,
   "title_cell": "Table of Contents",
   "title_sidebar": "Contents",
   "toc_cell": false,
   "toc_position": {},
   "toc_section_display": true,
   "toc_window_display": false
  }
 },
 "nbformat": 4,
 "nbformat_minor": 2
}
