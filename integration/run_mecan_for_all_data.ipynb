{
 "cells": [
  {
   "cell_type": "markdown",
   "metadata": {},
   "source": [
    "Apply mecan on TCGA and arraymap data. PCAWG data is applied separately."
   ]
  },
  {
   "cell_type": "code",
   "execution_count": 1,
   "metadata": {},
   "outputs": [],
   "source": [
    "from pymongo import MongoClient\n",
    "import sys, os\n",
    "import mecan4cna.algorithms as alg\n",
    "import operator\n",
    "from natsort import natsorted "
   ]
  },
  {
   "cell_type": "code",
   "execution_count": 2,
   "metadata": {},
   "outputs": [],
   "source": [
    "m = alg.mecan()"
   ]
  },
  {
   "cell_type": "markdown",
   "metadata": {},
   "source": [
    "tcga data"
   ]
  },
  {
   "cell_type": "code",
   "execution_count": 3,
   "metadata": {
    "collapsed": true
   },
   "outputs": [],
   "source": [
    "\n",
    "tcga_data = []\n",
    "db = MongoClient()['tcga']['masked_v2']\n",
    "\n",
    "for sample in db.find():\n",
    "    if 'Normal' not in sample['sample_type']:\n",
    "        tcga_data.append({'source': 'TCGA',\n",
    "                          'project': sample['project_id'],\n",
    "                          'sample_id': sample['file_id'],\n",
    "                          'morphology': sample['morphology'],\n",
    "                          'topography': sample['tissue_origin'],\n",
    "                          'stage': sample['tumor_stage'],\n",
    "                          'gender': sample['gender'],\n",
    "                          'age': sample['age_at_diagnosis'],\n",
    "                          'vital_status': sample['vital_status'],\n",
    "                          'file_path': sample['file_path'],\n",
    "                          'segments': sample['variants_cnv']})"
   ]
  },
  {
   "cell_type": "code",
   "execution_count": 4,
   "metadata": {
    "collapsed": true
   },
   "outputs": [],
   "source": [
    "m.peak_thresh=5000\n",
    "for sample in tcga_data:\n",
    "    res = m.run(sample['segments'])\n",
    "    if len(res) > 1:\n",
    "        base = res[0]\n",
    "        level_dist = res[1]\n",
    "    else:\n",
    "        base = None\n",
    "        level_dist = None\n",
    "    sample['base'] = base\n",
    "    sample['level_distance'] = level_dist"
   ]
  },
  {
   "cell_type": "code",
   "execution_count": 5,
   "metadata": {},
   "outputs": [
    {
     "data": {
      "text/plain": [
       "<pymongo.results.InsertManyResult at 0x17fe08168>"
      ]
     },
     "execution_count": 5,
     "metadata": {},
     "output_type": "execute_result"
    }
   ],
   "source": [
    "db = MongoClient()['Rebased']['tcga_masked_v2']\n",
    "db.drop()\n",
    "db.insert_many(tcga_data)"
   ]
  },
  {
   "cell_type": "markdown",
   "metadata": {},
   "source": [
    "arraymap data"
   ]
  },
  {
   "cell_type": "code",
   "execution_count": null,
   "metadata": {
    "collapsed": true,
    "scrolled": false
   },
   "outputs": [],
   "source": [
    "arraymap_data = []\n",
    "db_am_bs = MongoClient()['arraymap_ga4gh']['biosamples']\n",
    "db_am_ind = MongoClient()['arraymap_ga4gh']['individuals']\n",
    "db_am_cs = MongoClient()['arraymap_ga4gh']['callsets']\n",
    "db_am_var = MongoClient()['arraymap_ga4gh']['variants']\n",
    "\n",
    "# i = 0\n",
    "\n",
    "for sample in db_am_bs.find():\n",
    "    bs_id = sample['id']\n",
    "    ind_id = sample['individual_id']\n",
    "    project = sample['project_id']\n",
    "    morphology = sample['biocharacteristics'][1]['type']['id']\n",
    "\n",
    "    if morphology in ['icdom-00000', 'icdom-']:\n",
    "        continue\n",
    "\n",
    "    topography = sample['biocharacteristics'][0]['type']['id']\n",
    "    try:\n",
    "        stage = sample['info']['tnm']\n",
    "    except:\n",
    "        stage = None\n",
    "\n",
    "    ind = db_am_ind.find_one({'id': ind_id})\n",
    "    gender = ind['biocharacteristics'][0]['description']\n",
    "\n",
    "    age = sample['age_at_collection']['age']\n",
    "    vital_status = sample['info']['death']\n",
    "\n",
    "    cs = db_am_cs.find_one({'biosample_id': bs_id})\n",
    "    \n",
    "    try:\n",
    "        file_path = cs['info']['paths']['segmentfile']\n",
    "    except:\n",
    "        continue\n",
    "        \n",
    "    platform = cs['description']\n",
    "\n",
    "    segments = []\n",
    "    for var in db_am_var.find({'biosample_id': bs_id}):\n",
    "        segments.append({'chro': var['reference_name'],\n",
    "                         'start': var['start'][0],\n",
    "                         'end': var['end'][0],\n",
    "                         'probes': var['info']['cnv_length'],\n",
    "                         'value': var['info']['cnv_value']})\n",
    "#     segments = sorted(segments, key=operator.itemgetter('chro','start'))\n",
    "    segments = natsorted(segments, key=operator.itemgetter('chro','start'))\n",
    "\n",
    "    arraymap_data.append({'source': 'arraymap',\n",
    "                          'project': project,\n",
    "                          'sample_id': bs_id,\n",
    "                          'morphology': morphology,\n",
    "                          'topography': topography,\n",
    "                          'stage': stage,\n",
    "                          'gender': gender,\n",
    "                          'age': age,\n",
    "                          'vital_status': vital_status,\n",
    "                          'file_path': file_path,\n",
    "                          'platform': platform,\n",
    "                          'segments': segments})\n",
    "\n",
    "#     if i >10:\n",
    "#         break\n",
    "#     else:\n",
    "#         i +=1"
   ]
  },
  {
   "cell_type": "code",
   "execution_count": null,
   "metadata": {
    "collapsed": true
   },
   "outputs": [],
   "source": [
    "for sample in arraymap_data:\n",
    "    for seg in sample['segments']:\n",
    "        if seg['value'] is None:\n",
    "            print(sample['sample_id'])\n",
    "            arraymap_data.remove(sample)\n",
    "            break"
   ]
  },
  {
   "cell_type": "code",
   "execution_count": null,
   "metadata": {
    "scrolled": true
   },
   "outputs": [],
   "source": [
    "\n",
    "for sample in arraymap_data:\n",
    "\n",
    "    try:\n",
    "        if 'snp 6' in sample['platform']:\n",
    "            m.peak_thresh=5000\n",
    "        elif '250k' in sample['platform']:\n",
    "            m.peak_thresh=2000\n",
    "        else: \n",
    "            m.peak_thresh=1000\n",
    "            \n",
    "        res = m.run(sample['segments'])\n",
    "        if len(res) > 1:\n",
    "            base = res[0]\n",
    "            level_dist = res[1]\n",
    "        else:\n",
    "            base = None\n",
    "            level_dist = None\n",
    "    except Exception as e:\n",
    "        print(e)\n",
    "        base = None\n",
    "        level_dist = None\n",
    "    \n",
    "    sample['base'] = base\n",
    "    sample['level_distance'] = level_dist"
   ]
  },
  {
   "cell_type": "code",
   "execution_count": null,
   "metadata": {
    "collapsed": true
   },
   "outputs": [],
   "source": []
  },
  {
   "cell_type": "code",
   "execution_count": null,
   "metadata": {},
   "outputs": [],
   "source": [
    "db = MongoClient()['Rebased']['arraymap']\n",
    "db.drop()\n",
    "db.insert_many(arraymap_data)"
   ]
  },
  {
   "cell_type": "code",
   "execution_count": null,
   "metadata": {
    "scrolled": false
   },
   "outputs": [],
   "source": [
    "i = 0\n",
    "for s in db.find():\n",
    "    if 'base' in s.keys():\n",
    "        i +=1\n",
    "print(i)"
   ]
  },
  {
   "cell_type": "code",
   "execution_count": null,
   "metadata": {},
   "outputs": [],
   "source": [
    "len(arraymap_data)"
   ]
  },
  {
   "cell_type": "code",
   "execution_count": null,
   "metadata": {},
   "outputs": [],
   "source": [
    "sample['segments']"
   ]
  },
  {
   "cell_type": "code",
   "execution_count": null,
   "metadata": {},
   "outputs": [],
   "source": [
    "for t in sample['segments']:\n",
    "    value = round(2**t['value'] * 2, 4)"
   ]
  },
  {
   "cell_type": "code",
   "execution_count": null,
   "metadata": {},
   "outputs": [],
   "source": [
    "try:\n",
    "    m.run(sample['segments'])\n",
    "except Exception as e:\n",
    "    print(e)"
   ]
  },
  {
   "cell_type": "code",
   "execution_count": null,
   "metadata": {
    "collapsed": true
   },
   "outputs": [],
   "source": []
  }
 ],
 "metadata": {
  "kernelspec": {
   "display_name": "Python 3",
   "language": "python",
   "name": "python3"
  },
  "language_info": {
   "codemirror_mode": {
    "name": "ipython",
    "version": 3
   },
   "file_extension": ".py",
   "mimetype": "text/x-python",
   "name": "python",
   "nbconvert_exporter": "python",
   "pygments_lexer": "ipython3",
   "version": "3.7.4"
  },
  "toc": {
   "base_numbering": 1,
   "nav_menu": {},
   "number_sections": true,
   "sideBar": true,
   "skip_h1_title": false,
   "title_cell": "Table of Contents",
   "title_sidebar": "Contents",
   "toc_cell": false,
   "toc_position": {},
   "toc_section_display": true,
   "toc_window_display": false
  }
 },
 "nbformat": 4,
 "nbformat_minor": 2
}
