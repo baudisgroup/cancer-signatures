{
 "cells": [
  {
   "cell_type": "markdown",
   "metadata": {},
   "source": [
    "Process TCGA data and save to mongodb"
   ]
  },
  {
   "cell_type": "code",
   "execution_count": 2,
   "metadata": {
    "collapsed": true
   },
   "outputs": [],
   "source": [
    "from pymongo import MongoClient\n",
    "import json\n",
    "import os"
   ]
  },
  {
   "cell_type": "code",
   "execution_count": 10,
   "metadata": {},
   "outputs": [],
   "source": [
    "datapath = '/Volumes/originalData/TCGA/2019-02-07_TCGA_masked_CNA'\n",
    "metafile = '/Volumes/originalData/TCGA/Meta/tcga_masked_cnv_meta_190207.json'\n",
    "db_collection = 'masked_v2'\n",
    "with open(metafile, 'r') as fi:\n",
    "    data = json.load(fi)"
   ]
  },
  {
   "cell_type": "code",
   "execution_count": 4,
   "metadata": {
    "collapsed": true
   },
   "outputs": [],
   "source": [
    "hits = data['data']['hits']"
   ]
  },
  {
   "cell_type": "code",
   "execution_count": 9,
   "metadata": {},
   "outputs": [],
   "source": [
    "samples = []\n",
    "for file in hits:\n",
    "    file_path = '{}/{}/{}'.format(datapath,file['id'], file['file_name'])\n",
    "    \n",
    "    if file.get('cases')[0].get('diagnoses') == None:\n",
    "        morphology = None\n",
    "        tissue_origin = None\n",
    "        tumor_stage = None\n",
    "        vital_status = None\n",
    "        age_at_diagnosis = None\n",
    "        days_to_death = None\n",
    "    else:\n",
    "        morphology = file['cases'][0]['diagnoses'][0]['morphology']\n",
    "        tissue_origin = file['cases'][0]['diagnoses'][0]['tissue_or_organ_of_origin']\n",
    "        tumor_stage = file['cases'][0]['diagnoses'][0]['tumor_stage']\n",
    "        vital_status = file['cases'][0]['diagnoses'][0]['vital_status']\n",
    "        age_at_diagnosis = file['cases'][0]['diagnoses'][0]['age_at_diagnosis']\n",
    "        days_to_death = file['cases'][0]['diagnoses'][0]['days_to_death']\n",
    "\n",
    "    if file.get('cases')[0].get('demographic') == None:\n",
    "        gender = None\n",
    "        race = None\n",
    "        ethnicity = None\n",
    "        year_of_birth = None\n",
    "        year_of_death = None\n",
    "    else:\n",
    "        gender = file['cases'][0]['demographic']['gender']\n",
    "        race = file['cases'][0]['demographic']['race']\n",
    "        ethnicity = file['cases'][0]['demographic']['ethnicity']\n",
    "        year_of_birth = file['cases'][0]['demographic']['year_of_birth']\n",
    "        year_of_death = file['cases'][0]['demographic']['year_of_death']    \n",
    "\n",
    "    \n",
    "    \n",
    "    \n",
    "    \n",
    "    \n",
    "    sam = {'file_name':file['file_name'],\n",
    "            'file_id':file['id'],\n",
    "            'project_id':file['cases'][0]['project']['project_id'],\n",
    "            'case_id':file['cases'][0]['case_id'],\n",
    "            'data_type':file['data_type'],\n",
    "            'sample_type':file['cases'][0]['samples'][0]['sample_type'],\n",
    "\n",
    "            'morphology': morphology,\n",
    "            'tissue_origin': tissue_origin,\n",
    "            'tumor_stage': tumor_stage,\n",
    "            'vital_status': vital_status,\n",
    "            'age_at_diagnosis': age_at_diagnosis,\n",
    "            'days_to_death': days_to_death,\n",
    "\n",
    "            'gender': gender,\n",
    "            'race': race,\n",
    "            'ethnicity': ethnicity,\n",
    "            'year_of_birth': year_of_birth,\n",
    "            'year_of_death': year_of_death,\n",
    "             'file_path': file_path}\n",
    "    \n",
    "    if os.path.isfile(file_path):\n",
    "        with open(file_path, 'r') as fin:\n",
    "            next(fin)\n",
    "            variants_cnv = []\n",
    "            for line in fin:\n",
    "                line = line.split()\n",
    "                chro = str(line[1])\n",
    "                start = int(float(line[2]))\n",
    "                end = int(float(line[3]))\n",
    "                probes = int(line[4])\n",
    "                value = float(line[5])\n",
    "                seg = {'chro': chro, 'start':start, 'end':end, 'probes':probes, 'value':value}\n",
    "                variants_cnv.append(seg)\n",
    "            if len(variants_cnv) == 0:\n",
    "                print(file['file_name'])\n",
    "            sam['variants_cnv'] = variants_cnv\n",
    "        \n",
    "    else:\n",
    "        print(file['file_name'])\n",
    "    \n",
    "    samples.append(sam)"
   ]
  },
  {
   "cell_type": "code",
   "execution_count": 11,
   "metadata": {},
   "outputs": [
    {
     "data": {
      "text/plain": [
       "<pymongo.results.InsertManyResult at 0x183590288>"
      ]
     },
     "execution_count": 11,
     "metadata": {},
     "output_type": "execute_result"
    }
   ],
   "source": [
    "db = MongoClient()['tcga']\n",
    "db[db_collection].drop()\n",
    "db[db_collection].insert_many(samples)"
   ]
  },
  {
   "cell_type": "code",
   "execution_count": null,
   "metadata": {
    "collapsed": true
   },
   "outputs": [],
   "source": []
  }
 ],
 "metadata": {
  "kernelspec": {
   "display_name": "Python 3",
   "language": "python",
   "name": "python3"
  },
  "language_info": {
   "codemirror_mode": {
    "name": "ipython",
    "version": 3
   },
   "file_extension": ".py",
   "mimetype": "text/x-python",
   "name": "python",
   "nbconvert_exporter": "python",
   "pygments_lexer": "ipython3",
   "version": "3.7.4"
  },
  "toc": {
   "base_numbering": 1,
   "nav_menu": {},
   "number_sections": true,
   "sideBar": true,
   "skip_h1_title": false,
   "title_cell": "Table of Contents",
   "title_sidebar": "Contents",
   "toc_cell": false,
   "toc_position": {},
   "toc_section_display": true,
   "toc_window_display": false
  }
 },
 "nbformat": 4,
 "nbformat_minor": 2
}
