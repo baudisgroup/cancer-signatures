{
 "cells": [
  {
   "cell_type": "markdown",
   "metadata": {},
   "source": [
    "Normalize ALL DATA using mecan, data are filtered during normalization, and normalized data is stored back to the same record."
   ]
  },
  {
   "cell_type": "code",
   "execution_count": 1,
   "metadata": {},
   "outputs": [
    {
     "data": {
      "text/html": [
       "<style>.container { width:90% !important; }</style>"
      ],
      "text/plain": [
       "<IPython.core.display.HTML object>"
      ]
     },
     "metadata": {},
     "output_type": "display_data"
    }
   ],
   "source": [
    "import mecan4cna.algorithms as alg\n",
    "import mecan4cna.common as comm\n",
    "from pymongo import MongoClient\n",
    "from IPython.core.display import display, HTML\n",
    "display(HTML(\"<style>.container { width:90% !important; }</style>\"))"
   ]
  },
  {
   "cell_type": "code",
   "execution_count": 2,
   "metadata": {},
   "outputs": [],
   "source": [
    "client = MongoClient()"
   ]
  },
  {
   "cell_type": "markdown",
   "metadata": {},
   "source": [
    "The original testing code"
   ]
  },
  {
   "cell_type": "code",
   "execution_count": 11,
   "metadata": {},
   "outputs": [],
   "source": [
    "db = client['Rebased']['mecaned']\n",
    "for sam in db.find():\n",
    "    if (sam['base'] != None) and (sam['base'] <= 2.3) and (sam['base'] >= 1.7):\n",
    "        normalized = comm.normalize(sam['segments'], sam['base'], sam['level_distance'])\n",
    "    else:\n",
    "        normalized = None\n",
    "    db.update_one({'sample_id':sam['sample_id']}, {'$set':{'normalized':normalized}}, upsert=True)"
   ]
  },
  {
   "cell_type": "markdown",
   "metadata": {},
   "source": [
    "A function easy processing"
   ]
  },
  {
   "cell_type": "code",
   "execution_count": 3,
   "metadata": {},
   "outputs": [],
   "source": [
    "def normalizeDataset(database, collection):\n",
    "    db = client[database][collection]\n",
    "    c = 0\n",
    "    for sam in db.find():\n",
    "        if 'normalized' not in sam.keys():\n",
    "            if (sam['base'] != None) and (sam['base'] <= 2.3) and (sam['base'] >= 1.7):\n",
    "                normalized = comm.normalize(sam['segments'], sam['base'], sam['level_distance'])\n",
    "            else:\n",
    "                normalized = None\n",
    "            try:\n",
    "                db.update_one({'sample_id':sam['sample_id']}, {'$set':{'normalized':normalized}}, upsert=True)\n",
    "            except Exception as e:\n",
    "                print(e)\n",
    "                print(sam['sample_id'])\n",
    "        print(c, end='\\r')\n",
    "        c +=1"
   ]
  },
  {
   "cell_type": "markdown",
   "metadata": {},
   "source": [
    "Normalize all data"
   ]
  },
  {
   "cell_type": "code",
   "execution_count": 4,
   "metadata": {},
   "outputs": [
    {
     "name": "stdout",
     "output_type": "stream",
     "text": [
      "45111\r"
     ]
    }
   ],
   "source": [
    "normalizeDataset('Rebased', 'mecaned')"
   ]
  },
  {
   "cell_type": "code",
   "execution_count": null,
   "metadata": {},
   "outputs": [],
   "source": []
  }
 ],
 "metadata": {
  "kernelspec": {
   "display_name": "Python 3",
   "language": "python",
   "name": "python3"
  },
  "language_info": {
   "codemirror_mode": {
    "name": "ipython",
    "version": 3
   },
   "file_extension": ".py",
   "mimetype": "text/x-python",
   "name": "python",
   "nbconvert_exporter": "python",
   "pygments_lexer": "ipython3",
   "version": "3.7.4"
  },
  "toc": {
   "base_numbering": 1,
   "nav_menu": {},
   "number_sections": true,
   "sideBar": true,
   "skip_h1_title": false,
   "title_cell": "Table of Contents",
   "title_sidebar": "Contents",
   "toc_cell": false,
   "toc_position": {},
   "toc_section_display": true,
   "toc_window_display": false
  }
 },
 "nbformat": 4,
 "nbformat_minor": 2
}
