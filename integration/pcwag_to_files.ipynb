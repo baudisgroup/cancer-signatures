{
 "cells": [
  {
   "cell_type": "markdown",
   "metadata": {},
   "source": [
    "Write PCWAG segments to files, convert to hg38, save back to db, then run Mecan"
   ]
  },
  {
   "cell_type": "code",
   "execution_count": 1,
   "metadata": {
    "collapsed": true
   },
   "outputs": [],
   "source": [
    "from pymongo import MongoClient\n",
    "import os"
   ]
  },
  {
   "cell_type": "code",
   "execution_count": null,
   "metadata": {
    "collapsed": true
   },
   "outputs": [],
   "source": [
    "db = MongoClient()['pcawg']['samples']"
   ]
  },
  {
   "cell_type": "code",
   "execution_count": null,
   "metadata": {
    "collapsed": true
   },
   "outputs": [],
   "source": [
    "out_path = '/Volumes/originalData/ICGC/PCAWG_segments'\n",
    "for sample in db.find():\n",
    "    out_file = os.path.join(out_path, sample['sample_id'])\n",
    "    with open(out_file, 'w') as fo:\n",
    "        print('id\\tchro\\tstart\\tend\\tvalue\\tprobes', file=fo)\n",
    "        for seg in sample['segments']:\n",
    "            print('{}\\t{}\\t{}\\t{}\\t{}\\t{}'.format(sample['sample_id'], seg['chro'],seg['start'],\n",
    "                                                  seg['end'], seg['value'], seg['probes']), file=fo)\n",
    "    "
   ]
  },
  {
   "cell_type": "code",
   "execution_count": null,
   "metadata": {
    "collapsed": true
   },
   "outputs": [],
   "source": [
    "data = []\n",
    "for sample in db.find({},{'_id':0}):\n",
    "    data.append(sample)"
   ]
  },
  {
   "cell_type": "code",
   "execution_count": null,
   "metadata": {
    "collapsed": true
   },
   "outputs": [],
   "source": [
    "out_path = '/Volumes/originalData/ICGC/PCAWG_segments_hg38'\n",
    "for d in data:\n",
    "    file_path = os.path.join(out_path, d['sample_id'])\n",
    "    # segments\n",
    "    cnvs = []\n",
    "    with open(file_path, 'r') as fin:\n",
    "        next(fin)\n",
    "        for line in fin:\n",
    "            line = line.strip().split('\\t')\n",
    "            cnvs.append({'chro':line[1], 'start':int(line[2]), 'end':int(line[3]),\n",
    "                         'probes':int(line[5]), 'value':float(line[4])})\n",
    "    d['segments'] = cnvs"
   ]
  },
  {
   "cell_type": "code",
   "execution_count": null,
   "metadata": {},
   "outputs": [],
   "source": [
    "db = MongoClient()['pcawg']['samples_hg38']\n",
    "db.drop()\n",
    "db.insert_many(data)"
   ]
  },
  {
   "cell_type": "code",
   "execution_count": 2,
   "metadata": {
    "collapsed": true
   },
   "outputs": [],
   "source": [
    "import sys\n",
    "sys.path.append('/Users/bogao/Desktop/projects/Relative copy number/Python/mecan')\n",
    "import mecan4cna.algorithms as alg"
   ]
  },
  {
   "cell_type": "code",
   "execution_count": 3,
   "metadata": {
    "collapsed": true
   },
   "outputs": [],
   "source": [
    "pcawg_data = []\n",
    "db = MongoClient()['pcawg']['samples_hg38']\n",
    "out_path = '/Volumes/originalData/ICGC/PCAWG_segments_hg38'\n",
    "\n",
    "for sample in db.find():\n",
    "    if 'Normal' not in sample['sample_type']:\n",
    "        pcawg_data.append({'source': 'PCAWG',\n",
    "                          'project': sample['project_code'],\n",
    "                          'sample_id': sample['sample_id'],\n",
    "                          'morphology': sample['donor_diagnosis_icd10'],\n",
    "                          'topography': None,\n",
    "                          'stage': sample['donor_tumour_stage_at_diagnosis'],\n",
    "                          'gender': sample['donor_sex'],\n",
    "                          'age': sample['donor_age_at_diagnosis'],\n",
    "                          'vital_status': sample['donor_vital_status'],\n",
    "                          'file_path': os.path.join(out_path, sample['sample_id']),\n",
    "                          'segments': sample['segments'],\n",
    "                          'platform': 'WGS'})"
   ]
  },
  {
   "cell_type": "code",
   "execution_count": 4,
   "metadata": {
    "collapsed": true
   },
   "outputs": [],
   "source": [
    "m = alg.mecan()\n",
    "m.peak_thresh=5000\n",
    "for sample in pcawg_data:\n",
    "    res = m.run(sample['segments'])\n",
    "    if len(res) > 1:\n",
    "        base = res[0]\n",
    "        level_dist = res[1]\n",
    "    else:\n",
    "        base = None\n",
    "        level_dist = None\n",
    "    sample['base'] = base\n",
    "    sample['level_distance'] = level_dist"
   ]
  },
  {
   "cell_type": "code",
   "execution_count": 5,
   "metadata": {},
   "outputs": [
    {
     "data": {
      "text/plain": [
       "<pymongo.results.InsertManyResult at 0x105de6dc8>"
      ]
     },
     "execution_count": 5,
     "metadata": {},
     "output_type": "execute_result"
    }
   ],
   "source": [
    "db = MongoClient()['Rebased']['pcawg']\n",
    "db.drop()\n",
    "db.insert_many(pcawg_data)"
   ]
  },
  {
   "cell_type": "code",
   "execution_count": null,
   "metadata": {
    "collapsed": true
   },
   "outputs": [],
   "source": []
  }
 ],
 "metadata": {
  "kernelspec": {
   "display_name": "Python 3",
   "language": "python",
   "name": "python3"
  },
  "language_info": {
   "codemirror_mode": {
    "name": "ipython",
    "version": 3
   },
   "file_extension": ".py",
   "mimetype": "text/x-python",
   "name": "python",
   "nbconvert_exporter": "python",
   "pygments_lexer": "ipython3",
   "version": "3.6.1"
  }
 },
 "nbformat": 4,
 "nbformat_minor": 2
}
