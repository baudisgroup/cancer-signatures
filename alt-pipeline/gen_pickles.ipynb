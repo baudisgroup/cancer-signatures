{
 "cells": [
  {
   "cell_type": "markdown",
   "metadata": {},
   "source": [
    "Generate intermediate pickle files from mongodb for later pipelines"
   ]
  },
  {
   "cell_type": "code",
   "execution_count": null,
   "metadata": {},
   "outputs": [],
   "source": [
    "import pandas as pd\n",
    "import numpy as np\n",
    "from pymongo import MongoClient\n",
    "import pickle\n",
    "\n",
    "\n",
    "from IPython.core.display import display, HTML\n",
    "display(HTML(\"<style>.container { width:90% !important; }</style>\"))"
   ]
  },
  {
   "cell_type": "markdown",
   "metadata": {},
   "source": [
    "### Load data "
   ]
  },
  {
   "cell_type": "code",
   "execution_count": null,
   "metadata": {},
   "outputs": [],
   "source": [
    "db = MongoClient()['Rebased']['mecaned']"
   ]
  },
  {
   "cell_type": "code",
   "execution_count": null,
   "metadata": {},
   "outputs": [],
   "source": [
    "meta = []\n",
    "data = []\n",
    "for sam in db.find({'cytobands':{'$ne':None}}):\n",
    "    meta.append([sam['sample_id'],\n",
    "                 sam['source'],\n",
    "                 sam['project'],\n",
    "                 sam['morphology'],\n",
    "                 sam['topography'],\n",
    "                 len(sam['normalized'])\n",
    "                ])\n",
    "    \n",
    "    amps = []\n",
    "    dels = []\n",
    "    features = []\n",
    "    for band in sam['cytobands']:\n",
    "        if band['chro'] not in ['X','Y']:\n",
    "            amps.append(band['ave_dup'])\n",
    "            dels.append(band['ave_del'])\n",
    "    features = amps + dels\n",
    "    data.append(features)"
   ]
  },
  {
   "cell_type": "markdown",
   "metadata": {},
   "source": [
    "#### meta data to work with"
   ]
  },
  {
   "cell_type": "code",
   "execution_count": null,
   "metadata": {},
   "outputs": [],
   "source": [
    "df_meta = pd.DataFrame(meta, columns=['id','source','project','morphology','topography','num_segs'])"
   ]
  },
  {
   "cell_type": "markdown",
   "metadata": {},
   "source": [
    "#### Save meta to disk"
   ]
  },
  {
   "cell_type": "code",
   "execution_count": null,
   "metadata": {},
   "outputs": [],
   "source": [
    "filepath = '../data/all_bands_meta.pkl'\n",
    "with open(filepath, 'wb') as fo:\n",
    "    pickle.dump(df_meta, fo)"
   ]
  },
  {
   "cell_type": "markdown",
   "metadata": {},
   "source": [
    "#### Save feature matrix to disk"
   ]
  },
  {
   "cell_type": "code",
   "execution_count": null,
   "metadata": {},
   "outputs": [],
   "source": [
    "feat_mat = np.array(data)\n",
    "feat_mat.shape"
   ]
  },
  {
   "cell_type": "code",
   "execution_count": null,
   "metadata": {},
   "outputs": [],
   "source": [
    "filepath = '../data/all_bands.pkl'\n",
    "with open(filepath, 'wb') as fo:\n",
    "    pickle.dump(feat_mat, fo)"
   ]
  },
  {
   "cell_type": "markdown",
   "metadata": {},
   "source": [
    "### Create lablels"
   ]
  },
  {
   "cell_type": "markdown",
   "metadata": {},
   "source": [
    "The current labels are not consistent, the goal is:  \n",
    "- samples use same terms\n",
    "- both morphology and topography"
   ]
  },
  {
   "cell_type": "markdown",
   "metadata": {},
   "source": [
    "A shortlist of condiered diseases:  \n",
    "- Breast: TCGA-BRCA, icdot-c50.9, BRCA-EU, BRCA-UK\n",
    "- Brain: TCGA-GBM, TCGA-LGG, icdot-c71.9\n",
    "- Cerebellum: icdot-c71.6\n",
    "- Ovary: TCGA-OV, icdot-c56.9, OV-AU\n",
    "- Lung: TCGA-LUAD, icdot-c34.9, \n",
    "- Kidney: TCGA-KIRC, icdot-c64.9, RECA-EU\n",
    "- Colon: TCGA-COAD, icdot-c18.9\n",
    "- Stomach: TCGA-STAD, icdot-c16.9, GACA-CN\n",
    "- Skin: TCGA-SKCM, icdot-c44.9, MELA-AU\n",
    "- Liver: TCGA-LIHC, icdot-c22.0, LICA-FR, LINC-JP, LIRI-JP\n",
    "- Prostate: TCGA-PRAD, icdot-c61.9, EOPC-DE, PRAD-CA, PRAD-UK\n",
    "\n"
   ]
  },
  {
   "cell_type": "markdown",
   "metadata": {},
   "source": [
    "Modify arraymap morpholgy and topography format"
   ]
  },
  {
   "cell_type": "code",
   "execution_count": null,
   "metadata": {},
   "outputs": [],
   "source": [
    "df_meta.loc[df_meta['source'] == 'arraymap', 'morphology'] = df_meta.loc[df_meta['source'] == 'arraymap', 'morphology'].str[6:].str.lower()"
   ]
  },
  {
   "cell_type": "code",
   "execution_count": null,
   "metadata": {},
   "outputs": [],
   "source": [
    "df_meta.loc[df_meta['source'] == 'arraymap', 'topography'] = df_meta.loc[df_meta['source'] == 'arraymap', 'topography'].str[6:].str.lower()"
   ]
  },
  {
   "cell_type": "markdown",
   "metadata": {},
   "source": [
    "TCGA morphology"
   ]
  },
  {
   "cell_type": "code",
   "execution_count": null,
   "metadata": {},
   "outputs": [],
   "source": [
    "df_meta.loc[df_meta['source'] == 'TCGA', 'morphology'] = df_meta.loc[df_meta['source'] == 'TCGA', 'morphology'].replace(['/'],'', regex=True)"
   ]
  },
  {
   "cell_type": "markdown",
   "metadata": {},
   "source": [
    "Switch PCAWG morphology and topography"
   ]
  },
  {
   "cell_type": "code",
   "execution_count": null,
   "metadata": {},
   "outputs": [],
   "source": [
    "df_meta.loc[df_meta['source'] == 'PCAWG', 'topography'] = df_meta.loc[df_meta['source'] == 'PCAWG', 'morphology'].str.lower()"
   ]
  },
  {
   "cell_type": "markdown",
   "metadata": {},
   "source": [
    "#### Column of disease site"
   ]
  },
  {
   "cell_type": "code",
   "execution_count": null,
   "metadata": {},
   "outputs": [],
   "source": [
    "df_meta = df_meta.assign(site='Others')"
   ]
  },
  {
   "cell_type": "markdown",
   "metadata": {},
   "source": [
    "#### Breast"
   ]
  },
  {
   "cell_type": "code",
   "execution_count": null,
   "metadata": {},
   "outputs": [],
   "source": [
    "print(df_meta.loc[df_meta['project'] == 'TCGA-BRCA'].shape)\n",
    "df_meta.loc[df_meta['project'] == 'TCGA-BRCA', 'site'] = 'Breast'\n",
    "\n",
    "print(df_meta.loc[df_meta['topography'] == 'c50.9'].shape)\n",
    "df_meta.loc[df_meta['topography'] == 'c50.9', 'site'] = 'Breast'\n",
    "\n",
    "print(df_meta.loc[df_meta['project'] == 'BRCA-EU'].shape)\n",
    "df_meta.loc[df_meta['project'] == 'BRCA-EU', 'site'] = 'Breast'\n",
    "\n",
    "print(df_meta.loc[df_meta['project'] == 'BRCA-UK'].shape)\n",
    "df_meta.loc[df_meta['project'] == 'BRCA-UK', 'site'] = 'Breast'"
   ]
  },
  {
   "cell_type": "markdown",
   "metadata": {},
   "source": [
    "#### Brain"
   ]
  },
  {
   "cell_type": "code",
   "execution_count": null,
   "metadata": {},
   "outputs": [],
   "source": [
    "print(df_meta.loc[df_meta['project'] == 'TCGA-GBM'].shape)\n",
    "df_meta.loc[df_meta['project'] == 'TCGA-GBM', 'site'] = 'Brain'\n",
    "\n",
    "print(df_meta.loc[df_meta['project'] == 'TCGA-LGG'].shape)\n",
    "df_meta.loc[df_meta['project'] == 'TCGA-LGG', 'site'] = 'Brain'\n",
    "\n",
    "print(df_meta.loc[df_meta['topography'] == 'c71.9'].shape)\n",
    "df_meta.loc[df_meta['topography'] == 'c71.9', 'site'] = 'Brain'\n"
   ]
  },
  {
   "cell_type": "markdown",
   "metadata": {},
   "source": [
    "#### Cerebellum"
   ]
  },
  {
   "cell_type": "code",
   "execution_count": null,
   "metadata": {},
   "outputs": [],
   "source": [
    "print(df_meta.loc[df_meta['topography'] == 'c71.6'].shape)\n",
    "df_meta.loc[df_meta['topography'] == 'c71.6', 'site'] = 'Cerebellum'"
   ]
  },
  {
   "cell_type": "markdown",
   "metadata": {},
   "source": [
    "#### Ovary"
   ]
  },
  {
   "cell_type": "code",
   "execution_count": null,
   "metadata": {},
   "outputs": [],
   "source": [
    "print(df_meta.loc[df_meta['project'] == 'TCGA-OV'].shape)\n",
    "df_meta.loc[df_meta['project'] == 'TCGA-OV', 'site'] = 'Ovary'\n",
    "\n",
    "print(df_meta.loc[df_meta['topography'] == 'c56.9'].shape)\n",
    "df_meta.loc[df_meta['topography'] == 'c56.9', 'site'] = 'Ovary'\n",
    "\n",
    "print(df_meta.loc[df_meta['project'] == 'OV-AU'].shape)\n",
    "df_meta.loc[df_meta['project'] == 'OV-AU', 'site'] = 'Ovary'"
   ]
  },
  {
   "cell_type": "markdown",
   "metadata": {},
   "source": [
    "#### Lung"
   ]
  },
  {
   "cell_type": "code",
   "execution_count": null,
   "metadata": {},
   "outputs": [],
   "source": [
    "print(df_meta.loc[df_meta['project'] == 'TCGA-LUAD'].shape)\n",
    "df_meta.loc[df_meta['project'] == 'TCGA-LUAD', 'site'] = 'Lung'\n",
    "\n",
    "print(df_meta.loc[df_meta['topography'] == 'c34.9'].shape)\n",
    "df_meta.loc[df_meta['topography'] == 'c34.9', 'site'] = 'Lung'"
   ]
  },
  {
   "cell_type": "markdown",
   "metadata": {},
   "source": [
    "#### Kidney"
   ]
  },
  {
   "cell_type": "code",
   "execution_count": null,
   "metadata": {},
   "outputs": [],
   "source": [
    "print(df_meta.loc[df_meta['project'] == 'TCGA-KIRC'].shape)\n",
    "df_meta.loc[df_meta['project'] == 'TCGA-KIRC', 'site'] = 'Kidney'\n",
    "\n",
    "print(df_meta.loc[df_meta['topography'] == 'c64.9'].shape)\n",
    "df_meta.loc[df_meta['topography'] == 'c64.9', 'site'] = 'Kidney'\n",
    "\n",
    "print(df_meta.loc[df_meta['project'] == 'RECA-EU'].shape)\n",
    "df_meta.loc[df_meta['project'] == 'RECA-EU', 'site'] = 'Kidney'"
   ]
  },
  {
   "cell_type": "markdown",
   "metadata": {},
   "source": [
    "#### Colon"
   ]
  },
  {
   "cell_type": "code",
   "execution_count": null,
   "metadata": {},
   "outputs": [],
   "source": [
    "print(df_meta.loc[df_meta['project'] == 'TCGA-COAD'].shape)\n",
    "df_meta.loc[df_meta['project'] == 'TCGA-COAD', 'site'] = 'Colon'\n",
    "\n",
    "print(df_meta.loc[df_meta['topography'] == 'c18.9'].shape)\n",
    "df_meta.loc[df_meta['topography'] == 'c18.9', 'site'] = 'Colon'"
   ]
  },
  {
   "cell_type": "markdown",
   "metadata": {},
   "source": [
    "#### Stomach"
   ]
  },
  {
   "cell_type": "code",
   "execution_count": null,
   "metadata": {},
   "outputs": [],
   "source": [
    "print(df_meta.loc[df_meta['project'] == 'TCGA-STAD'].shape)\n",
    "df_meta.loc[df_meta['project'] == 'TCGA-STAD', 'site'] = 'Stomach'\n",
    "\n",
    "print(df_meta.loc[df_meta['topography'] == 'c16.9'].shape)\n",
    "df_meta.loc[df_meta['topography'] == 'c16.9', 'site'] = 'Stomach'\n",
    "\n",
    "print(df_meta.loc[df_meta['project'] == 'GACA-CN'].shape)\n",
    "df_meta.loc[df_meta['project'] == 'GACA-CN', 'site'] = 'Stomach'"
   ]
  },
  {
   "cell_type": "markdown",
   "metadata": {},
   "source": [
    "#### Skin"
   ]
  },
  {
   "cell_type": "code",
   "execution_count": null,
   "metadata": {},
   "outputs": [],
   "source": [
    "print(df_meta.loc[df_meta['project'] == 'TCGA-SKCM'].shape)\n",
    "df_meta.loc[df_meta['project'] == 'TCGA-SKCM', 'site'] = 'Skin'\n",
    "\n",
    "print(df_meta.loc[df_meta['topography'] == 'c44.9'].shape)\n",
    "df_meta.loc[df_meta['topography'] == 'c44.9', 'site'] = 'Skin'\n",
    "\n",
    "print(df_meta.loc[df_meta['project'] == 'MELA-AU'].shape)\n",
    "df_meta.loc[df_meta['project'] == 'MELA-AU', 'site'] = 'Skin'"
   ]
  },
  {
   "cell_type": "markdown",
   "metadata": {},
   "source": [
    "#### Liver"
   ]
  },
  {
   "cell_type": "code",
   "execution_count": null,
   "metadata": {},
   "outputs": [],
   "source": [
    "print(df_meta.loc[df_meta['project'] == 'TCGA-LIHC'].shape)\n",
    "df_meta.loc[df_meta['project'] == 'TCGA-LIHC', 'site'] = 'Liver'\n",
    "\n",
    "print(df_meta.loc[df_meta['topography'] == 'c22.9'].shape)\n",
    "df_meta.loc[df_meta['topography'] == 'c22.9', 'site'] = 'Liver'\n",
    "\n",
    "print(df_meta.loc[df_meta['project'] == 'LICA-FR'].shape)\n",
    "df_meta.loc[df_meta['project'] == 'LICA-FR', 'site'] = 'Liver'\n",
    "\n",
    "print(df_meta.loc[df_meta['project'] == 'LINC-JP'].shape)\n",
    "df_meta.loc[df_meta['project'] == 'LINC-JP', 'site'] = 'Liver'\n",
    "\n",
    "print(df_meta.loc[df_meta['project'] == 'LIRI-JP'].shape)\n",
    "df_meta.loc[df_meta['project'] == 'LIRI-JP', 'site'] = 'Liver'"
   ]
  },
  {
   "cell_type": "markdown",
   "metadata": {},
   "source": [
    "#### Prostate"
   ]
  },
  {
   "cell_type": "code",
   "execution_count": null,
   "metadata": {},
   "outputs": [],
   "source": [
    "print(df_meta.loc[df_meta['project'] == 'TCGA-PRAD'].shape)\n",
    "df_meta.loc[df_meta['project'] == 'TCGA-PRAD', 'site'] = 'Prostate'\n",
    "\n",
    "print(df_meta.loc[df_meta['topography'] == 'c61.9'].shape)\n",
    "df_meta.loc[df_meta['topography'] == 'c61.9', 'site'] = 'Prostate'\n",
    "\n",
    "print(df_meta.loc[df_meta['project'] == 'EOPC-DE'].shape)\n",
    "df_meta.loc[df_meta['project'] == 'EOPC-DE', 'site'] = 'Prostate'\n",
    "\n",
    "print(df_meta.loc[df_meta['project'] == 'PRAD-CA'].shape)\n",
    "df_meta.loc[df_meta['project'] == 'PRAD-CA', 'site'] = 'Prostate'\n",
    "\n",
    "print(df_meta.loc[df_meta['project'] == 'PRAD-UK'].shape)\n",
    "df_meta.loc[df_meta['project'] == 'PRAD-UK', 'site'] = 'Prostate'"
   ]
  },
  {
   "cell_type": "markdown",
   "metadata": {},
   "source": [
    "Check"
   ]
  },
  {
   "cell_type": "code",
   "execution_count": null,
   "metadata": {},
   "outputs": [],
   "source": [
    "df_meta.loc[df_meta['site'] == 'Others'].shape"
   ]
  },
  {
   "cell_type": "code",
   "execution_count": null,
   "metadata": {},
   "outputs": [],
   "source": [
    "df_meta['site'].unique()"
   ]
  },
  {
   "cell_type": "markdown",
   "metadata": {},
   "source": [
    "#### Save meta to disk"
   ]
  },
  {
   "cell_type": "code",
   "execution_count": null,
   "metadata": {},
   "outputs": [],
   "source": [
    "## updated morphology and topography labels\n",
    "filepath = '../data/all_bands_meta.pkl'\n",
    "with open(filepath, 'wb') as fo:\n",
    "    pickle.dump(df_meta, fo)"
   ]
  },
  {
   "cell_type": "markdown",
   "metadata": {},
   "source": [
    "### Feature labels"
   ]
  },
  {
   "cell_type": "code",
   "execution_count": null,
   "metadata": {},
   "outputs": [],
   "source": [
    "df_meta = df_meta.assign(index = df_meta.index)"
   ]
  },
  {
   "cell_type": "code",
   "execution_count": null,
   "metadata": {},
   "outputs": [],
   "source": [
    "labels = df_meta['site'].values"
   ]
  },
  {
   "cell_type": "code",
   "execution_count": null,
   "metadata": {},
   "outputs": [],
   "source": [
    "np.unique(labels, return_counts=True)"
   ]
  },
  {
   "cell_type": "markdown",
   "metadata": {},
   "source": [
    "Save to disk"
   ]
  },
  {
   "cell_type": "code",
   "execution_count": null,
   "metadata": {},
   "outputs": [],
   "source": [
    "labelpath = '../data/all_bands_label.pkl'\n",
    "with open(labelpath, 'wb') as fo:\n",
    "    pickle.dump(labels, fo)"
   ]
  },
  {
   "cell_type": "markdown",
   "metadata": {},
   "source": [
    "### morphology as label"
   ]
  },
  {
   "cell_type": "code",
   "execution_count": null,
   "metadata": {},
   "outputs": [],
   "source": [
    "filepath = '../data/all_bands_meta.pkl'\n",
    "with open(filepath, 'rb') as fi:\n",
    "    df = pickle.load(fi)"
   ]
  },
  {
   "cell_type": "code",
   "execution_count": null,
   "metadata": {},
   "outputs": [],
   "source": [
    "df = df.assign(disease=df['morphology'])"
   ]
  },
  {
   "cell_type": "code",
   "execution_count": null,
   "metadata": {},
   "outputs": [],
   "source": [
    "df.loc[df['site'] == 'Others', 'disease'] = 'Others'"
   ]
  },
  {
   "cell_type": "code",
   "execution_count": null,
   "metadata": {},
   "outputs": [],
   "source": [
    "disease_label = df['disease'].values\n",
    "disease_label[pd.isnull(disease_label)] = 'None'"
   ]
  },
  {
   "cell_type": "code",
   "execution_count": null,
   "metadata": {},
   "outputs": [],
   "source": [
    "dlabelpath = '../data/all_bands_disease_label.pkl'\n",
    "with open(dlabelpath, 'wb') as fo:\n",
    "    pickle.dump(disease_label, fo)"
   ]
  },
  {
   "cell_type": "code",
   "execution_count": null,
   "metadata": {},
   "outputs": [],
   "source": [
    "disease_label[pd.isnull(disease_label)] = 'None'"
   ]
  },
  {
   "cell_type": "markdown",
   "metadata": {},
   "source": [
    "### Source label"
   ]
  },
  {
   "cell_type": "code",
   "execution_count": null,
   "metadata": {},
   "outputs": [],
   "source": [
    "source_label = df['source'].values"
   ]
  },
  {
   "cell_type": "code",
   "execution_count": null,
   "metadata": {},
   "outputs": [],
   "source": [
    "slabelpath = '../data/all_bands_source_label.pkl'\n",
    "with open(slabelpath, 'wb') as fo:\n",
    "    pickle.dump(source_label, fo)"
   ]
  },
  {
   "cell_type": "code",
   "execution_count": null,
   "metadata": {},
   "outputs": [],
   "source": []
  }
 ],
 "metadata": {
  "kernelspec": {
   "display_name": "Python 3",
   "language": "python",
   "name": "python3"
  },
  "language_info": {
   "codemirror_mode": {
    "name": "ipython",
    "version": 3
   },
   "file_extension": ".py",
   "mimetype": "text/x-python",
   "name": "python",
   "nbconvert_exporter": "python",
   "pygments_lexer": "ipython3",
   "version": "3.7.4"
  },
  "toc": {
   "base_numbering": 1,
   "nav_menu": {},
   "number_sections": true,
   "sideBar": true,
   "skip_h1_title": false,
   "title_cell": "Table of Contents",
   "title_sidebar": "Contents",
   "toc_cell": false,
   "toc_position": {},
   "toc_section_display": true,
   "toc_window_display": false
  }
 },
 "nbformat": 4,
 "nbformat_minor": 2
}
