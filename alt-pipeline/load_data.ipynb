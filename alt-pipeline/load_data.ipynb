{
 "cells": [
  {
   "cell_type": "markdown",
   "metadata": {},
   "source": [
    "Load the Progentix(arrayMap) and TCGA data to mongodb"
   ]
  },
  {
   "cell_type": "code",
   "execution_count": 1,
   "metadata": {},
   "outputs": [],
   "source": [
    "from pymongo import MongoClient"
   ]
  },
  {
   "cell_type": "code",
   "execution_count": 2,
   "metadata": {},
   "outputs": [],
   "source": [
    "## for consistency with downstream scripts\n",
    "dbname = 'Rebased'\n",
    "collection_name_arraymap = 'arraymap'\n",
    "collection_name_tcga = 'tcga_masked_v2'"
   ]
  },
  {
   "cell_type": "markdown",
   "metadata": {},
   "source": [
    "arraymap data"
   ]
  },
  {
   "cell_type": "code",
   "execution_count": 3,
   "metadata": {},
   "outputs": [],
   "source": [
    "arraymap = {}\n",
    "with open('../data/arraymap_meta.csv') as fin:\n",
    "    next(fin)\n",
    "    for line in fin:\n",
    "        line = line.rstrip().split(',')\n",
    "        arraymap[line[0]] = {'source': line[1],\n",
    "                             'project': line[2],\n",
    "                             'sample_id': line[0],\n",
    "                             'morphology': line[3],\n",
    "                             'topography': line[4],\n",
    "                             'segments': []}"
   ]
  },
  {
   "cell_type": "code",
   "execution_count": 4,
   "metadata": {},
   "outputs": [],
   "source": [
    "with open('../data/sample_segments_arraymap.tsv') as fin:\n",
    "    next(fin)\n",
    "    for line in fin:\n",
    "        line = line.rstrip().split('\\t')\n",
    "        if line[0] in arraymap:\n",
    "            arraymap[line[0]]['segments'].append({\n",
    "                'chro': line[1],\n",
    "                'start': int(line[2]),\n",
    "                'end': int(line[3]),\n",
    "                'probes': int(line[4]),\n",
    "                'value': float(line[5])\n",
    "            }) "
   ]
  },
  {
   "cell_type": "code",
   "execution_count": 5,
   "metadata": {},
   "outputs": [],
   "source": [
    "db = MongoClient()[dbname][collection_name_arraymap]"
   ]
  },
  {
   "cell_type": "code",
   "execution_count": 6,
   "metadata": {},
   "outputs": [
    {
     "data": {
      "text/plain": [
       "<pymongo.results.InsertManyResult at 0x7fb9e0691748>"
      ]
     },
     "execution_count": 6,
     "metadata": {},
     "output_type": "execute_result"
    }
   ],
   "source": [
    "db.insert_many(list(arraymap.values()))"
   ]
  },
  {
   "cell_type": "markdown",
   "metadata": {},
   "source": [
    "tcga data"
   ]
  },
  {
   "cell_type": "code",
   "execution_count": 7,
   "metadata": {},
   "outputs": [],
   "source": [
    "tcga = {}\n",
    "with open('../data/tcga_meta.csv') as fin:\n",
    "    next(fin)\n",
    "    for line in fin:\n",
    "        line = line.rstrip().split(',')\n",
    "        tcga[line[0]] = {'source': line[1],\n",
    "                             'project': line[2],\n",
    "                             'sample_id': line[0],\n",
    "                             'morphology': line[3],\n",
    "                             'topography': line[4],\n",
    "                             'segments': []}"
   ]
  },
  {
   "cell_type": "code",
   "execution_count": 9,
   "metadata": {},
   "outputs": [],
   "source": [
    "with open('../data/sample_segments_tcga.tsv') as fin:\n",
    "    next(fin)\n",
    "    for line in fin:\n",
    "        line = line.rstrip().split('\\t')\n",
    "        if line[0] in tcga:\n",
    "            tcga[line[0]]['segments'].append({\n",
    "                'chro': line[1],\n",
    "                'start': int(line[2]),\n",
    "                'end': int(line[3]),\n",
    "                'probes': int(line[4]),\n",
    "                'value': float(line[5])\n",
    "            }) "
   ]
  },
  {
   "cell_type": "code",
   "execution_count": 10,
   "metadata": {},
   "outputs": [],
   "source": [
    "db = MongoClient()[dbname][collection_name_tcga]"
   ]
  },
  {
   "cell_type": "code",
   "execution_count": 11,
   "metadata": {},
   "outputs": [
    {
     "data": {
      "text/plain": [
       "<pymongo.results.InsertManyResult at 0x7fb9eff2da88>"
      ]
     },
     "execution_count": 11,
     "metadata": {},
     "output_type": "execute_result"
    }
   ],
   "source": [
    "db.insert_many(list(tcga.values()))"
   ]
  },
  {
   "cell_type": "code",
   "execution_count": null,
   "metadata": {},
   "outputs": [],
   "source": []
  }
 ],
 "metadata": {
  "kernelspec": {
   "display_name": "Python [conda env:tf] *",
   "language": "python",
   "name": "conda-env-tf-py"
  },
  "language_info": {
   "codemirror_mode": {
    "name": "ipython",
    "version": 3
   },
   "file_extension": ".py",
   "mimetype": "text/x-python",
   "name": "python",
   "nbconvert_exporter": "python",
   "pygments_lexer": "ipython3",
   "version": "3.6.10"
  },
  "toc": {
   "base_numbering": 1,
   "nav_menu": {},
   "number_sections": true,
   "sideBar": true,
   "skip_h1_title": false,
   "title_cell": "Table of Contents",
   "title_sidebar": "Contents",
   "toc_cell": false,
   "toc_position": {},
   "toc_section_display": true,
   "toc_window_display": false
  }
 },
 "nbformat": 4,
 "nbformat_minor": 4
}
