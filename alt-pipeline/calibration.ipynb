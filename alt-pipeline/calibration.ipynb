{
 "cells": [
  {
   "cell_type": "markdown",
   "metadata": {},
   "source": [
    "Apply mecan on TCGA and arraymap data to compute calibration parameters. PCAWG data is applied separately."
   ]
  },
  {
   "cell_type": "code",
   "execution_count": null,
   "metadata": {},
   "outputs": [],
   "source": [
    "from pymongo import MongoClient\n",
    "import sys, os\n",
    "import mecan4cna.algorithms as alg\n",
    "import operator\n",
    "from natsort import natsorted "
   ]
  },
  {
   "cell_type": "code",
   "execution_count": null,
   "metadata": {},
   "outputs": [],
   "source": [
    "m = alg.mecan()"
   ]
  },
  {
   "cell_type": "markdown",
   "metadata": {},
   "source": [
    "tcga data"
   ]
  },
  {
   "cell_type": "code",
   "execution_count": null,
   "metadata": {},
   "outputs": [],
   "source": [
    "\n",
    "tcga_data = []\n",
    "db = MongoClient()['Rebased']['tcga_masked_v2']\n",
    "\n",
    "for sample in db.find():\n",
    "    tcga_data.append(sample)"
   ]
  },
  {
   "cell_type": "code",
   "execution_count": null,
   "metadata": {},
   "outputs": [],
   "source": [
    "m.peak_thresh=5000\n",
    "for sample in tcga_data:\n",
    "    res = m.run(sample['segments'])\n",
    "    if len(res) > 1:\n",
    "        base = res[0]\n",
    "        level_dist = res[1]\n",
    "    else:\n",
    "        base = None\n",
    "        level_dist = None\n",
    "    sample['base'] = base\n",
    "    sample['level_distance'] = level_dist"
   ]
  },
  {
   "cell_type": "code",
   "execution_count": null,
   "metadata": {},
   "outputs": [],
   "source": [
    "db = MongoClient()['Rebased']['tcga_masked_v2']\n",
    "db.drop()\n",
    "db.insert_many(tcga_data)"
   ]
  },
  {
   "cell_type": "markdown",
   "metadata": {},
   "source": [
    "arraymap data"
   ]
  },
  {
   "cell_type": "code",
   "execution_count": null,
   "metadata": {
    "scrolled": false
   },
   "outputs": [],
   "source": [
    "arraymap_data = []\n",
    "db = MongoClient()['Rebased']['arraymap']\n",
    "\n",
    "for sample in db.find():\n",
    "    arraymap_data.append(sample)"
   ]
  },
  {
   "cell_type": "code",
   "execution_count": null,
   "metadata": {},
   "outputs": [],
   "source": [
    "for sample in arraymap_data:\n",
    "    res = m.run(sample['segments'])\n",
    "    if len(res) > 1:\n",
    "        base = res[0]\n",
    "        level_dist = res[1]\n",
    "    else:\n",
    "        base = None\n",
    "        level_dist = None\n",
    "    sample['base'] = base\n",
    "    sample['level_distance'] = level_dist"
   ]
  },
  {
   "cell_type": "code",
   "execution_count": null,
   "metadata": {},
   "outputs": [],
   "source": [
    "db = MongoClient()['Rebased']['arraymap']\n",
    "db.drop()\n",
    "db.insert_many(arraymap_data)"
   ]
  },
  {
   "cell_type": "code",
   "execution_count": null,
   "metadata": {},
   "outputs": [],
   "source": []
  }
 ],
 "metadata": {
  "kernelspec": {
   "display_name": "Python [conda env:tf] *",
   "language": "python",
   "name": "conda-env-tf-py"
  },
  "language_info": {
   "codemirror_mode": {
    "name": "ipython",
    "version": 3
   },
   "file_extension": ".py",
   "mimetype": "text/x-python",
   "name": "python",
   "nbconvert_exporter": "python",
   "pygments_lexer": "ipython3",
   "version": "3.6.10"
  },
  "toc": {
   "base_numbering": 1,
   "nav_menu": {},
   "number_sections": true,
   "sideBar": true,
   "skip_h1_title": false,
   "title_cell": "Table of Contents",
   "title_sidebar": "Contents",
   "toc_cell": false,
   "toc_position": {},
   "toc_section_display": true,
   "toc_window_display": false
  }
 },
 "nbformat": 4,
 "nbformat_minor": 2
}
