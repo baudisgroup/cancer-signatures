{
 "cells": [
  {
   "cell_type": "markdown",
   "metadata": {},
   "source": [
    "Generate intermediate pickle files from mongodb for later pipelines"
   ]
  },
  {
   "cell_type": "code",
   "execution_count": 1,
   "metadata": {},
   "outputs": [
    {
     "data": {
      "text/html": [
       "<style>.container { width:90% !important; }</style>"
      ],
      "text/plain": [
       "<IPython.core.display.HTML object>"
      ]
     },
     "metadata": {},
     "output_type": "display_data"
    }
   ],
   "source": [
    "import pandas as pd\n",
    "import numpy as np\n",
    "from pymongo import MongoClient\n",
    "import pickle\n",
    "\n",
    "\n",
    "from IPython.core.display import display, HTML\n",
    "display(HTML(\"<style>.container { width:90% !important; }</style>\"))"
   ]
  },
  {
   "cell_type": "markdown",
   "metadata": {},
   "source": [
    "### Load data "
   ]
  },
  {
   "cell_type": "code",
   "execution_count": 2,
   "metadata": {},
   "outputs": [],
   "source": [
    "db = MongoClient()['test']['mecaned']"
   ]
  },
  {
   "cell_type": "code",
   "execution_count": 3,
   "metadata": {},
   "outputs": [],
   "source": [
    "meta = []\n",
    "data = []\n",
    "for sam in db.find({'cytobands':{'$ne':None}}):\n",
    "    meta.append([sam['sample_id'],\n",
    "                 sam['source'],\n",
    "                 sam['project'],\n",
    "                 sam['morphology'],\n",
    "                 sam['topography'],\n",
    "                 len(sam['normalized'])\n",
    "                ])\n",
    "    \n",
    "    amps = []\n",
    "    dels = []\n",
    "    features = []\n",
    "    for band in sam['cytobands']:\n",
    "        if band['chro'] not in ['X','Y']:\n",
    "            amps.append(band['ave_dup'])\n",
    "            dels.append(band['ave_del'])\n",
    "    features = amps + dels\n",
    "    data.append(features)"
   ]
  },
  {
   "cell_type": "markdown",
   "metadata": {},
   "source": [
    "#### meta data to work with"
   ]
  },
  {
   "cell_type": "code",
   "execution_count": 4,
   "metadata": {},
   "outputs": [],
   "source": [
    "df_meta = pd.DataFrame(meta, columns=['id','source','project','morphology','topography','num_segs'])"
   ]
  },
  {
   "cell_type": "markdown",
   "metadata": {},
   "source": [
    "#### Save meta to disk"
   ]
  },
  {
   "cell_type": "code",
   "execution_count": 7,
   "metadata": {},
   "outputs": [],
   "source": [
    "filepath = '../data/all_bands_meta.pkl'\n",
    "with open(filepath, 'wb') as fo:\n",
    "    pickle.dump(df_meta, fo)"
   ]
  },
  {
   "cell_type": "code",
   "execution_count": 8,
   "metadata": {},
   "outputs": [],
   "source": [
    "with open(filepath, 'rb') as fi:\n",
    "    t = pickle.load(fi)"
   ]
  },
  {
   "cell_type": "code",
   "execution_count": 9,
   "metadata": {},
   "outputs": [
    {
     "data": {
      "text/html": [
       "<div>\n",
       "<style scoped>\n",
       "    .dataframe tbody tr th:only-of-type {\n",
       "        vertical-align: middle;\n",
       "    }\n",
       "\n",
       "    .dataframe tbody tr th {\n",
       "        vertical-align: top;\n",
       "    }\n",
       "\n",
       "    .dataframe thead th {\n",
       "        text-align: right;\n",
       "    }\n",
       "</style>\n",
       "<table border=\"1\" class=\"dataframe\">\n",
       "  <thead>\n",
       "    <tr style=\"text-align: right;\">\n",
       "      <th></th>\n",
       "      <th>id</th>\n",
       "      <th>source</th>\n",
       "      <th>project</th>\n",
       "      <th>morphology</th>\n",
       "      <th>topography</th>\n",
       "      <th>num_segs</th>\n",
       "    </tr>\n",
       "  </thead>\n",
       "  <tbody>\n",
       "    <tr>\n",
       "      <td>0</td>\n",
       "      <td>440e9ec5-8e61-4f75-b1d1-616941d9456d</td>\n",
       "      <td>TCGA</td>\n",
       "      <td>TCGA-OV</td>\n",
       "      <td>84413</td>\n",
       "      <td>Ovary</td>\n",
       "      <td>391</td>\n",
       "    </tr>\n",
       "    <tr>\n",
       "      <td>1</td>\n",
       "      <td>6ca6f0fe-8b53-421e-ad4e-dfbf8c8c5b59</td>\n",
       "      <td>TCGA</td>\n",
       "      <td>TCGA-OV</td>\n",
       "      <td>84413</td>\n",
       "      <td>Ovary</td>\n",
       "      <td>571</td>\n",
       "    </tr>\n",
       "    <tr>\n",
       "      <td>2</td>\n",
       "      <td>da9af00f-60ea-456b-9f25-0ab560962769</td>\n",
       "      <td>TCGA</td>\n",
       "      <td>TCGA-OV</td>\n",
       "      <td>84413</td>\n",
       "      <td>Ovary</td>\n",
       "      <td>431</td>\n",
       "    </tr>\n",
       "    <tr>\n",
       "      <td>3</td>\n",
       "      <td>8e84a028-5e9c-4d01-9791-db0f04b05bce</td>\n",
       "      <td>TCGA</td>\n",
       "      <td>TCGA-OV</td>\n",
       "      <td>84603</td>\n",
       "      <td>Ovary</td>\n",
       "      <td>394</td>\n",
       "    </tr>\n",
       "    <tr>\n",
       "      <td>4</td>\n",
       "      <td>d3f8c91f-e4cc-4018-9fbf-4368dd036b01</td>\n",
       "      <td>TCGA</td>\n",
       "      <td>TCGA-OV</td>\n",
       "      <td>84413</td>\n",
       "      <td>Ovary</td>\n",
       "      <td>252</td>\n",
       "    </tr>\n",
       "    <tr>\n",
       "      <td>...</td>\n",
       "      <td>...</td>\n",
       "      <td>...</td>\n",
       "      <td>...</td>\n",
       "      <td>...</td>\n",
       "      <td>...</td>\n",
       "      <td>...</td>\n",
       "    </tr>\n",
       "    <tr>\n",
       "      <td>160</td>\n",
       "      <td>d554524c-010c-46dc-8c87-5144627de2ba</td>\n",
       "      <td>TCGA</td>\n",
       "      <td>TCGA-OV</td>\n",
       "      <td>84413</td>\n",
       "      <td>Ovary</td>\n",
       "      <td>276</td>\n",
       "    </tr>\n",
       "    <tr>\n",
       "      <td>161</td>\n",
       "      <td>26f4b5b8-7159-41c4-a0d0-d842173a8169</td>\n",
       "      <td>TCGA</td>\n",
       "      <td>TCGA-OV</td>\n",
       "      <td>84413</td>\n",
       "      <td>Ovary</td>\n",
       "      <td>420</td>\n",
       "    </tr>\n",
       "    <tr>\n",
       "      <td>162</td>\n",
       "      <td>45ef294e-8a96-4ac8-beb8-fd0016181781</td>\n",
       "      <td>TCGA</td>\n",
       "      <td>TCGA-OV</td>\n",
       "      <td>84413</td>\n",
       "      <td>Ovary</td>\n",
       "      <td>720</td>\n",
       "    </tr>\n",
       "    <tr>\n",
       "      <td>163</td>\n",
       "      <td>fd14c1a3-7377-4d5c-bcc6-d7013223e155</td>\n",
       "      <td>TCGA</td>\n",
       "      <td>TCGA-OV</td>\n",
       "      <td>84413</td>\n",
       "      <td>Ovary</td>\n",
       "      <td>747</td>\n",
       "    </tr>\n",
       "    <tr>\n",
       "      <td>164</td>\n",
       "      <td>4c86113e-1fab-4dbc-b54e-a64c9c8ed862</td>\n",
       "      <td>TCGA</td>\n",
       "      <td>TCGA-OV</td>\n",
       "      <td>84413</td>\n",
       "      <td>Ovary</td>\n",
       "      <td>426</td>\n",
       "    </tr>\n",
       "  </tbody>\n",
       "</table>\n",
       "<p>165 rows × 6 columns</p>\n",
       "</div>"
      ],
      "text/plain": [
       "                                       id source  project morphology  \\\n",
       "0    440e9ec5-8e61-4f75-b1d1-616941d9456d   TCGA  TCGA-OV      84413   \n",
       "1    6ca6f0fe-8b53-421e-ad4e-dfbf8c8c5b59   TCGA  TCGA-OV      84413   \n",
       "2    da9af00f-60ea-456b-9f25-0ab560962769   TCGA  TCGA-OV      84413   \n",
       "3    8e84a028-5e9c-4d01-9791-db0f04b05bce   TCGA  TCGA-OV      84603   \n",
       "4    d3f8c91f-e4cc-4018-9fbf-4368dd036b01   TCGA  TCGA-OV      84413   \n",
       "..                                    ...    ...      ...        ...   \n",
       "160  d554524c-010c-46dc-8c87-5144627de2ba   TCGA  TCGA-OV      84413   \n",
       "161  26f4b5b8-7159-41c4-a0d0-d842173a8169   TCGA  TCGA-OV      84413   \n",
       "162  45ef294e-8a96-4ac8-beb8-fd0016181781   TCGA  TCGA-OV      84413   \n",
       "163  fd14c1a3-7377-4d5c-bcc6-d7013223e155   TCGA  TCGA-OV      84413   \n",
       "164  4c86113e-1fab-4dbc-b54e-a64c9c8ed862   TCGA  TCGA-OV      84413   \n",
       "\n",
       "    topography  num_segs  \n",
       "0        Ovary       391  \n",
       "1        Ovary       571  \n",
       "2        Ovary       431  \n",
       "3        Ovary       394  \n",
       "4        Ovary       252  \n",
       "..         ...       ...  \n",
       "160      Ovary       276  \n",
       "161      Ovary       420  \n",
       "162      Ovary       720  \n",
       "163      Ovary       747  \n",
       "164      Ovary       426  \n",
       "\n",
       "[165 rows x 6 columns]"
      ]
     },
     "execution_count": 9,
     "metadata": {},
     "output_type": "execute_result"
    }
   ],
   "source": [
    "t"
   ]
  },
  {
   "cell_type": "markdown",
   "metadata": {},
   "source": [
    "#### Save feature matrix to disk"
   ]
  },
  {
   "cell_type": "code",
   "execution_count": 10,
   "metadata": {},
   "outputs": [
    {
     "data": {
      "text/plain": [
       "(165, 1622)"
      ]
     },
     "execution_count": 10,
     "metadata": {},
     "output_type": "execute_result"
    }
   ],
   "source": [
    "feat_mat = np.array(data)\n",
    "feat_mat.shape"
   ]
  },
  {
   "cell_type": "code",
   "execution_count": 11,
   "metadata": {},
   "outputs": [],
   "source": [
    "filepath = '../data/all_bands.pkl'\n",
    "with open(filepath, 'wb') as fo:\n",
    "    pickle.dump(feat_mat, fo)"
   ]
  },
  {
   "cell_type": "code",
   "execution_count": 12,
   "metadata": {},
   "outputs": [
    {
     "data": {
      "text/html": [
       "<div>\n",
       "<style scoped>\n",
       "    .dataframe tbody tr th:only-of-type {\n",
       "        vertical-align: middle;\n",
       "    }\n",
       "\n",
       "    .dataframe tbody tr th {\n",
       "        vertical-align: top;\n",
       "    }\n",
       "\n",
       "    .dataframe thead th {\n",
       "        text-align: right;\n",
       "    }\n",
       "</style>\n",
       "<table border=\"1\" class=\"dataframe\">\n",
       "  <thead>\n",
       "    <tr style=\"text-align: right;\">\n",
       "      <th></th>\n",
       "      <th>id</th>\n",
       "      <th>source</th>\n",
       "      <th>project</th>\n",
       "      <th>morphology</th>\n",
       "      <th>topography</th>\n",
       "      <th>num_segs</th>\n",
       "    </tr>\n",
       "  </thead>\n",
       "  <tbody>\n",
       "    <tr>\n",
       "      <td>0</td>\n",
       "      <td>440e9ec5-8e61-4f75-b1d1-616941d9456d</td>\n",
       "      <td>TCGA</td>\n",
       "      <td>TCGA-OV</td>\n",
       "      <td>84413</td>\n",
       "      <td>Ovary</td>\n",
       "      <td>391</td>\n",
       "    </tr>\n",
       "    <tr>\n",
       "      <td>1</td>\n",
       "      <td>6ca6f0fe-8b53-421e-ad4e-dfbf8c8c5b59</td>\n",
       "      <td>TCGA</td>\n",
       "      <td>TCGA-OV</td>\n",
       "      <td>84413</td>\n",
       "      <td>Ovary</td>\n",
       "      <td>571</td>\n",
       "    </tr>\n",
       "    <tr>\n",
       "      <td>2</td>\n",
       "      <td>da9af00f-60ea-456b-9f25-0ab560962769</td>\n",
       "      <td>TCGA</td>\n",
       "      <td>TCGA-OV</td>\n",
       "      <td>84413</td>\n",
       "      <td>Ovary</td>\n",
       "      <td>431</td>\n",
       "    </tr>\n",
       "    <tr>\n",
       "      <td>3</td>\n",
       "      <td>8e84a028-5e9c-4d01-9791-db0f04b05bce</td>\n",
       "      <td>TCGA</td>\n",
       "      <td>TCGA-OV</td>\n",
       "      <td>84603</td>\n",
       "      <td>Ovary</td>\n",
       "      <td>394</td>\n",
       "    </tr>\n",
       "    <tr>\n",
       "      <td>4</td>\n",
       "      <td>d3f8c91f-e4cc-4018-9fbf-4368dd036b01</td>\n",
       "      <td>TCGA</td>\n",
       "      <td>TCGA-OV</td>\n",
       "      <td>84413</td>\n",
       "      <td>Ovary</td>\n",
       "      <td>252</td>\n",
       "    </tr>\n",
       "    <tr>\n",
       "      <td>...</td>\n",
       "      <td>...</td>\n",
       "      <td>...</td>\n",
       "      <td>...</td>\n",
       "      <td>...</td>\n",
       "      <td>...</td>\n",
       "      <td>...</td>\n",
       "    </tr>\n",
       "    <tr>\n",
       "      <td>160</td>\n",
       "      <td>d554524c-010c-46dc-8c87-5144627de2ba</td>\n",
       "      <td>TCGA</td>\n",
       "      <td>TCGA-OV</td>\n",
       "      <td>84413</td>\n",
       "      <td>Ovary</td>\n",
       "      <td>276</td>\n",
       "    </tr>\n",
       "    <tr>\n",
       "      <td>161</td>\n",
       "      <td>26f4b5b8-7159-41c4-a0d0-d842173a8169</td>\n",
       "      <td>TCGA</td>\n",
       "      <td>TCGA-OV</td>\n",
       "      <td>84413</td>\n",
       "      <td>Ovary</td>\n",
       "      <td>420</td>\n",
       "    </tr>\n",
       "    <tr>\n",
       "      <td>162</td>\n",
       "      <td>45ef294e-8a96-4ac8-beb8-fd0016181781</td>\n",
       "      <td>TCGA</td>\n",
       "      <td>TCGA-OV</td>\n",
       "      <td>84413</td>\n",
       "      <td>Ovary</td>\n",
       "      <td>720</td>\n",
       "    </tr>\n",
       "    <tr>\n",
       "      <td>163</td>\n",
       "      <td>fd14c1a3-7377-4d5c-bcc6-d7013223e155</td>\n",
       "      <td>TCGA</td>\n",
       "      <td>TCGA-OV</td>\n",
       "      <td>84413</td>\n",
       "      <td>Ovary</td>\n",
       "      <td>747</td>\n",
       "    </tr>\n",
       "    <tr>\n",
       "      <td>164</td>\n",
       "      <td>4c86113e-1fab-4dbc-b54e-a64c9c8ed862</td>\n",
       "      <td>TCGA</td>\n",
       "      <td>TCGA-OV</td>\n",
       "      <td>84413</td>\n",
       "      <td>Ovary</td>\n",
       "      <td>426</td>\n",
       "    </tr>\n",
       "  </tbody>\n",
       "</table>\n",
       "<p>165 rows × 6 columns</p>\n",
       "</div>"
      ],
      "text/plain": [
       "                                       id source  project morphology  \\\n",
       "0    440e9ec5-8e61-4f75-b1d1-616941d9456d   TCGA  TCGA-OV      84413   \n",
       "1    6ca6f0fe-8b53-421e-ad4e-dfbf8c8c5b59   TCGA  TCGA-OV      84413   \n",
       "2    da9af00f-60ea-456b-9f25-0ab560962769   TCGA  TCGA-OV      84413   \n",
       "3    8e84a028-5e9c-4d01-9791-db0f04b05bce   TCGA  TCGA-OV      84603   \n",
       "4    d3f8c91f-e4cc-4018-9fbf-4368dd036b01   TCGA  TCGA-OV      84413   \n",
       "..                                    ...    ...      ...        ...   \n",
       "160  d554524c-010c-46dc-8c87-5144627de2ba   TCGA  TCGA-OV      84413   \n",
       "161  26f4b5b8-7159-41c4-a0d0-d842173a8169   TCGA  TCGA-OV      84413   \n",
       "162  45ef294e-8a96-4ac8-beb8-fd0016181781   TCGA  TCGA-OV      84413   \n",
       "163  fd14c1a3-7377-4d5c-bcc6-d7013223e155   TCGA  TCGA-OV      84413   \n",
       "164  4c86113e-1fab-4dbc-b54e-a64c9c8ed862   TCGA  TCGA-OV      84413   \n",
       "\n",
       "    topography  num_segs  \n",
       "0        Ovary       391  \n",
       "1        Ovary       571  \n",
       "2        Ovary       431  \n",
       "3        Ovary       394  \n",
       "4        Ovary       252  \n",
       "..         ...       ...  \n",
       "160      Ovary       276  \n",
       "161      Ovary       420  \n",
       "162      Ovary       720  \n",
       "163      Ovary       747  \n",
       "164      Ovary       426  \n",
       "\n",
       "[165 rows x 6 columns]"
      ]
     },
     "execution_count": 12,
     "metadata": {},
     "output_type": "execute_result"
    }
   ],
   "source": [
    "df_meta"
   ]
  },
  {
   "cell_type": "markdown",
   "metadata": {},
   "source": [
    "### Create lablels"
   ]
  },
  {
   "cell_type": "markdown",
   "metadata": {},
   "source": [
    "The current labels are not consistent, the goal is:  \n",
    "- samples use same terms\n",
    "- both morphology and topography"
   ]
  },
  {
   "cell_type": "markdown",
   "metadata": {},
   "source": [
    "A shortlist of condiered diseases:  \n",
    "- Breast: TCGA-BRCA, icdot-c50.9, BRCA-EU, BRCA-UK\n",
    "- Brain: TCGA-GBM, TCGA-LGG, icdot-c71.9\n",
    "- Cerebellum: icdot-c71.6\n",
    "- Ovary: TCGA-OV, icdot-c56.9, OV-AU\n",
    "- Lung: TCGA-LUAD, icdot-c34.9, \n",
    "- Kidney: TCGA-KIRC, icdot-c64.9, RECA-EU\n",
    "- Colon: TCGA-COAD, icdot-c18.9\n",
    "- Stomach: TCGA-STAD, icdot-c16.9, GACA-CN\n",
    "- Skin: TCGA-SKCM, icdot-c44.9, MELA-AU\n",
    "- Liver: TCGA-LIHC, icdot-c22.0, LICA-FR, LINC-JP, LIRI-JP\n",
    "- Prostate: TCGA-PRAD, icdot-c61.9, EOPC-DE, PRAD-CA, PRAD-UK\n",
    "\n"
   ]
  },
  {
   "cell_type": "markdown",
   "metadata": {},
   "source": [
    "Modify arraymap morpholgy and topography format"
   ]
  },
  {
   "cell_type": "code",
   "execution_count": 13,
   "metadata": {},
   "outputs": [],
   "source": [
    "df_meta.loc[df_meta['source'] == 'arraymap', 'morphology'] = df_meta.loc[df_meta['source'] == 'arraymap', 'morphology'].str[6:].str.lower()"
   ]
  },
  {
   "cell_type": "code",
   "execution_count": 14,
   "metadata": {},
   "outputs": [],
   "source": [
    "df_meta.loc[df_meta['source'] == 'arraymap', 'topography'] = df_meta.loc[df_meta['source'] == 'arraymap', 'topography'].str[6:].str.lower()"
   ]
  },
  {
   "cell_type": "markdown",
   "metadata": {},
   "source": [
    "TCGA morphology"
   ]
  },
  {
   "cell_type": "code",
   "execution_count": 15,
   "metadata": {},
   "outputs": [],
   "source": [
    "df_meta.loc[df_meta['source'] == 'TCGA', 'morphology'] = df_meta.loc[df_meta['source'] == 'TCGA', 'morphology'].replace(['/'],'', regex=True)"
   ]
  },
  {
   "cell_type": "markdown",
   "metadata": {},
   "source": [
    "Switch PCAWG morphology and topography"
   ]
  },
  {
   "cell_type": "code",
   "execution_count": 16,
   "metadata": {},
   "outputs": [],
   "source": [
    "df_meta.loc[df_meta['source'] == 'PCAWG', 'topography'] = df_meta.loc[df_meta['source'] == 'PCAWG', 'morphology'].str.lower()"
   ]
  },
  {
   "cell_type": "markdown",
   "metadata": {},
   "source": [
    "#### Column of disease site"
   ]
  },
  {
   "cell_type": "code",
   "execution_count": 17,
   "metadata": {},
   "outputs": [],
   "source": [
    "df_meta = df_meta.assign(site='Others')"
   ]
  },
  {
   "cell_type": "markdown",
   "metadata": {},
   "source": [
    "#### Breast"
   ]
  },
  {
   "cell_type": "code",
   "execution_count": 18,
   "metadata": {},
   "outputs": [
    {
     "name": "stdout",
     "output_type": "stream",
     "text": [
      "(0, 7)\n",
      "(0, 7)\n",
      "(0, 7)\n",
      "(0, 7)\n"
     ]
    }
   ],
   "source": [
    "print(df_meta.loc[df_meta['project'] == 'TCGA-BRCA'].shape)\n",
    "df_meta.loc[df_meta['project'] == 'TCGA-BRCA', 'site'] = 'Breast'\n",
    "\n",
    "print(df_meta.loc[df_meta['topography'] == 'c50.9'].shape)\n",
    "df_meta.loc[df_meta['topography'] == 'c50.9', 'site'] = 'Breast'\n",
    "\n",
    "print(df_meta.loc[df_meta['project'] == 'BRCA-EU'].shape)\n",
    "df_meta.loc[df_meta['project'] == 'BRCA-EU', 'site'] = 'Breast'\n",
    "\n",
    "print(df_meta.loc[df_meta['project'] == 'BRCA-UK'].shape)\n",
    "df_meta.loc[df_meta['project'] == 'BRCA-UK', 'site'] = 'Breast'"
   ]
  },
  {
   "cell_type": "markdown",
   "metadata": {},
   "source": [
    "#### Brain"
   ]
  },
  {
   "cell_type": "code",
   "execution_count": 19,
   "metadata": {},
   "outputs": [
    {
     "name": "stdout",
     "output_type": "stream",
     "text": [
      "(81, 7)\n",
      "(0, 7)\n",
      "(0, 7)\n"
     ]
    }
   ],
   "source": [
    "print(df_meta.loc[df_meta['project'] == 'TCGA-GBM'].shape)\n",
    "df_meta.loc[df_meta['project'] == 'TCGA-GBM', 'site'] = 'Brain'\n",
    "\n",
    "print(df_meta.loc[df_meta['project'] == 'TCGA-LGG'].shape)\n",
    "df_meta.loc[df_meta['project'] == 'TCGA-LGG', 'site'] = 'Brain'\n",
    "\n",
    "print(df_meta.loc[df_meta['topography'] == 'c71.9'].shape)\n",
    "df_meta.loc[df_meta['topography'] == 'c71.9', 'site'] = 'Brain'\n"
   ]
  },
  {
   "cell_type": "markdown",
   "metadata": {},
   "source": [
    "#### Cerebellum"
   ]
  },
  {
   "cell_type": "code",
   "execution_count": 20,
   "metadata": {},
   "outputs": [
    {
     "name": "stdout",
     "output_type": "stream",
     "text": [
      "(0, 7)\n"
     ]
    }
   ],
   "source": [
    "print(df_meta.loc[df_meta['topography'] == 'c71.6'].shape)\n",
    "df_meta.loc[df_meta['topography'] == 'c71.6', 'site'] = 'Cerebellum'"
   ]
  },
  {
   "cell_type": "markdown",
   "metadata": {},
   "source": [
    "#### Ovary"
   ]
  },
  {
   "cell_type": "code",
   "execution_count": 21,
   "metadata": {},
   "outputs": [
    {
     "name": "stdout",
     "output_type": "stream",
     "text": [
      "(84, 7)\n",
      "(0, 7)\n",
      "(0, 7)\n"
     ]
    }
   ],
   "source": [
    "print(df_meta.loc[df_meta['project'] == 'TCGA-OV'].shape)\n",
    "df_meta.loc[df_meta['project'] == 'TCGA-OV', 'site'] = 'Ovary'\n",
    "\n",
    "print(df_meta.loc[df_meta['topography'] == 'c56.9'].shape)\n",
    "df_meta.loc[df_meta['topography'] == 'c56.9', 'site'] = 'Ovary'\n",
    "\n",
    "print(df_meta.loc[df_meta['project'] == 'OV-AU'].shape)\n",
    "df_meta.loc[df_meta['project'] == 'OV-AU', 'site'] = 'Ovary'"
   ]
  },
  {
   "cell_type": "markdown",
   "metadata": {},
   "source": [
    "#### Lung"
   ]
  },
  {
   "cell_type": "code",
   "execution_count": 22,
   "metadata": {},
   "outputs": [
    {
     "name": "stdout",
     "output_type": "stream",
     "text": [
      "(0, 7)\n",
      "(0, 7)\n"
     ]
    }
   ],
   "source": [
    "print(df_meta.loc[df_meta['project'] == 'TCGA-LUAD'].shape)\n",
    "df_meta.loc[df_meta['project'] == 'TCGA-LUAD', 'site'] = 'Lung'\n",
    "\n",
    "print(df_meta.loc[df_meta['topography'] == 'c34.9'].shape)\n",
    "df_meta.loc[df_meta['topography'] == 'c34.9', 'site'] = 'Lung'"
   ]
  },
  {
   "cell_type": "markdown",
   "metadata": {},
   "source": [
    "#### Kidney"
   ]
  },
  {
   "cell_type": "code",
   "execution_count": 23,
   "metadata": {},
   "outputs": [
    {
     "name": "stdout",
     "output_type": "stream",
     "text": [
      "(0, 7)\n",
      "(0, 7)\n",
      "(0, 7)\n"
     ]
    }
   ],
   "source": [
    "print(df_meta.loc[df_meta['project'] == 'TCGA-KIRC'].shape)\n",
    "df_meta.loc[df_meta['project'] == 'TCGA-KIRC', 'site'] = 'Kidney'\n",
    "\n",
    "print(df_meta.loc[df_meta['topography'] == 'c64.9'].shape)\n",
    "df_meta.loc[df_meta['topography'] == 'c64.9', 'site'] = 'Kidney'\n",
    "\n",
    "print(df_meta.loc[df_meta['project'] == 'RECA-EU'].shape)\n",
    "df_meta.loc[df_meta['project'] == 'RECA-EU', 'site'] = 'Kidney'"
   ]
  },
  {
   "cell_type": "markdown",
   "metadata": {},
   "source": [
    "#### Colon"
   ]
  },
  {
   "cell_type": "code",
   "execution_count": 24,
   "metadata": {},
   "outputs": [
    {
     "name": "stdout",
     "output_type": "stream",
     "text": [
      "(0, 7)\n",
      "(0, 7)\n"
     ]
    }
   ],
   "source": [
    "print(df_meta.loc[df_meta['project'] == 'TCGA-COAD'].shape)\n",
    "df_meta.loc[df_meta['project'] == 'TCGA-COAD', 'site'] = 'Colon'\n",
    "\n",
    "print(df_meta.loc[df_meta['topography'] == 'c18.9'].shape)\n",
    "df_meta.loc[df_meta['topography'] == 'c18.9', 'site'] = 'Colon'"
   ]
  },
  {
   "cell_type": "markdown",
   "metadata": {},
   "source": [
    "#### Stomach"
   ]
  },
  {
   "cell_type": "code",
   "execution_count": 25,
   "metadata": {},
   "outputs": [
    {
     "name": "stdout",
     "output_type": "stream",
     "text": [
      "(0, 7)\n",
      "(0, 7)\n",
      "(0, 7)\n"
     ]
    }
   ],
   "source": [
    "print(df_meta.loc[df_meta['project'] == 'TCGA-STAD'].shape)\n",
    "df_meta.loc[df_meta['project'] == 'TCGA-STAD', 'site'] = 'Stomach'\n",
    "\n",
    "print(df_meta.loc[df_meta['topography'] == 'c16.9'].shape)\n",
    "df_meta.loc[df_meta['topography'] == 'c16.9', 'site'] = 'Stomach'\n",
    "\n",
    "print(df_meta.loc[df_meta['project'] == 'GACA-CN'].shape)\n",
    "df_meta.loc[df_meta['project'] == 'GACA-CN', 'site'] = 'Stomach'"
   ]
  },
  {
   "cell_type": "markdown",
   "metadata": {},
   "source": [
    "#### Skin"
   ]
  },
  {
   "cell_type": "code",
   "execution_count": 26,
   "metadata": {},
   "outputs": [
    {
     "name": "stdout",
     "output_type": "stream",
     "text": [
      "(0, 7)\n",
      "(0, 7)\n",
      "(0, 7)\n"
     ]
    }
   ],
   "source": [
    "print(df_meta.loc[df_meta['project'] == 'TCGA-SKCM'].shape)\n",
    "df_meta.loc[df_meta['project'] == 'TCGA-SKCM', 'site'] = 'Skin'\n",
    "\n",
    "print(df_meta.loc[df_meta['topography'] == 'c44.9'].shape)\n",
    "df_meta.loc[df_meta['topography'] == 'c44.9', 'site'] = 'Skin'\n",
    "\n",
    "print(df_meta.loc[df_meta['project'] == 'MELA-AU'].shape)\n",
    "df_meta.loc[df_meta['project'] == 'MELA-AU', 'site'] = 'Skin'"
   ]
  },
  {
   "cell_type": "markdown",
   "metadata": {},
   "source": [
    "#### Liver"
   ]
  },
  {
   "cell_type": "code",
   "execution_count": 27,
   "metadata": {},
   "outputs": [
    {
     "name": "stdout",
     "output_type": "stream",
     "text": [
      "(0, 7)\n",
      "(0, 7)\n",
      "(0, 7)\n",
      "(0, 7)\n",
      "(0, 7)\n"
     ]
    }
   ],
   "source": [
    "print(df_meta.loc[df_meta['project'] == 'TCGA-LIHC'].shape)\n",
    "df_meta.loc[df_meta['project'] == 'TCGA-LIHC', 'site'] = 'Liver'\n",
    "\n",
    "print(df_meta.loc[df_meta['topography'] == 'c22.9'].shape)\n",
    "df_meta.loc[df_meta['topography'] == 'c22.9', 'site'] = 'Liver'\n",
    "\n",
    "print(df_meta.loc[df_meta['project'] == 'LICA-FR'].shape)\n",
    "df_meta.loc[df_meta['project'] == 'LICA-FR', 'site'] = 'Liver'\n",
    "\n",
    "print(df_meta.loc[df_meta['project'] == 'LINC-JP'].shape)\n",
    "df_meta.loc[df_meta['project'] == 'LINC-JP', 'site'] = 'Liver'\n",
    "\n",
    "print(df_meta.loc[df_meta['project'] == 'LIRI-JP'].shape)\n",
    "df_meta.loc[df_meta['project'] == 'LIRI-JP', 'site'] = 'Liver'"
   ]
  },
  {
   "cell_type": "markdown",
   "metadata": {},
   "source": [
    "#### Prostate"
   ]
  },
  {
   "cell_type": "code",
   "execution_count": 28,
   "metadata": {},
   "outputs": [
    {
     "name": "stdout",
     "output_type": "stream",
     "text": [
      "(0, 7)\n",
      "(0, 7)\n",
      "(0, 7)\n",
      "(0, 7)\n",
      "(0, 7)\n"
     ]
    }
   ],
   "source": [
    "print(df_meta.loc[df_meta['project'] == 'TCGA-PRAD'].shape)\n",
    "df_meta.loc[df_meta['project'] == 'TCGA-PRAD', 'site'] = 'Prostate'\n",
    "\n",
    "print(df_meta.loc[df_meta['topography'] == 'c61.9'].shape)\n",
    "df_meta.loc[df_meta['topography'] == 'c61.9', 'site'] = 'Prostate'\n",
    "\n",
    "print(df_meta.loc[df_meta['project'] == 'EOPC-DE'].shape)\n",
    "df_meta.loc[df_meta['project'] == 'EOPC-DE', 'site'] = 'Prostate'\n",
    "\n",
    "print(df_meta.loc[df_meta['project'] == 'PRAD-CA'].shape)\n",
    "df_meta.loc[df_meta['project'] == 'PRAD-CA', 'site'] = 'Prostate'\n",
    "\n",
    "print(df_meta.loc[df_meta['project'] == 'PRAD-UK'].shape)\n",
    "df_meta.loc[df_meta['project'] == 'PRAD-UK', 'site'] = 'Prostate'"
   ]
  },
  {
   "cell_type": "markdown",
   "metadata": {},
   "source": [
    "Check"
   ]
  },
  {
   "cell_type": "code",
   "execution_count": 29,
   "metadata": {},
   "outputs": [
    {
     "data": {
      "text/plain": [
       "(0, 7)"
      ]
     },
     "execution_count": 29,
     "metadata": {},
     "output_type": "execute_result"
    }
   ],
   "source": [
    "df_meta.loc[df_meta['site'] == 'Others'].shape"
   ]
  },
  {
   "cell_type": "code",
   "execution_count": 30,
   "metadata": {},
   "outputs": [
    {
     "data": {
      "text/plain": [
       "array(['Ovary', 'Brain'], dtype=object)"
      ]
     },
     "execution_count": 30,
     "metadata": {},
     "output_type": "execute_result"
    }
   ],
   "source": [
    "df_meta['site'].unique()"
   ]
  },
  {
   "cell_type": "markdown",
   "metadata": {},
   "source": [
    "#### Save meta to disk"
   ]
  },
  {
   "cell_type": "code",
   "execution_count": 31,
   "metadata": {},
   "outputs": [],
   "source": [
    "## updated morphology and topography labels\n",
    "filepath = '../data/all_bands_meta.pkl'\n",
    "with open(filepath, 'wb') as fo:\n",
    "    pickle.dump(df_meta, fo)"
   ]
  },
  {
   "cell_type": "code",
   "execution_count": 32,
   "metadata": {},
   "outputs": [
    {
     "data": {
      "text/html": [
       "<div>\n",
       "<style scoped>\n",
       "    .dataframe tbody tr th:only-of-type {\n",
       "        vertical-align: middle;\n",
       "    }\n",
       "\n",
       "    .dataframe tbody tr th {\n",
       "        vertical-align: top;\n",
       "    }\n",
       "\n",
       "    .dataframe thead th {\n",
       "        text-align: right;\n",
       "    }\n",
       "</style>\n",
       "<table border=\"1\" class=\"dataframe\">\n",
       "  <thead>\n",
       "    <tr style=\"text-align: right;\">\n",
       "      <th></th>\n",
       "      <th>id</th>\n",
       "      <th>source</th>\n",
       "      <th>project</th>\n",
       "      <th>morphology</th>\n",
       "      <th>topography</th>\n",
       "      <th>num_segs</th>\n",
       "      <th>site</th>\n",
       "    </tr>\n",
       "  </thead>\n",
       "  <tbody>\n",
       "    <tr>\n",
       "      <td>0</td>\n",
       "      <td>440e9ec5-8e61-4f75-b1d1-616941d9456d</td>\n",
       "      <td>TCGA</td>\n",
       "      <td>TCGA-OV</td>\n",
       "      <td>84413</td>\n",
       "      <td>Ovary</td>\n",
       "      <td>391</td>\n",
       "      <td>Ovary</td>\n",
       "    </tr>\n",
       "    <tr>\n",
       "      <td>1</td>\n",
       "      <td>6ca6f0fe-8b53-421e-ad4e-dfbf8c8c5b59</td>\n",
       "      <td>TCGA</td>\n",
       "      <td>TCGA-OV</td>\n",
       "      <td>84413</td>\n",
       "      <td>Ovary</td>\n",
       "      <td>571</td>\n",
       "      <td>Ovary</td>\n",
       "    </tr>\n",
       "    <tr>\n",
       "      <td>2</td>\n",
       "      <td>da9af00f-60ea-456b-9f25-0ab560962769</td>\n",
       "      <td>TCGA</td>\n",
       "      <td>TCGA-OV</td>\n",
       "      <td>84413</td>\n",
       "      <td>Ovary</td>\n",
       "      <td>431</td>\n",
       "      <td>Ovary</td>\n",
       "    </tr>\n",
       "    <tr>\n",
       "      <td>3</td>\n",
       "      <td>8e84a028-5e9c-4d01-9791-db0f04b05bce</td>\n",
       "      <td>TCGA</td>\n",
       "      <td>TCGA-OV</td>\n",
       "      <td>84603</td>\n",
       "      <td>Ovary</td>\n",
       "      <td>394</td>\n",
       "      <td>Ovary</td>\n",
       "    </tr>\n",
       "    <tr>\n",
       "      <td>4</td>\n",
       "      <td>d3f8c91f-e4cc-4018-9fbf-4368dd036b01</td>\n",
       "      <td>TCGA</td>\n",
       "      <td>TCGA-OV</td>\n",
       "      <td>84413</td>\n",
       "      <td>Ovary</td>\n",
       "      <td>252</td>\n",
       "      <td>Ovary</td>\n",
       "    </tr>\n",
       "    <tr>\n",
       "      <td>...</td>\n",
       "      <td>...</td>\n",
       "      <td>...</td>\n",
       "      <td>...</td>\n",
       "      <td>...</td>\n",
       "      <td>...</td>\n",
       "      <td>...</td>\n",
       "      <td>...</td>\n",
       "    </tr>\n",
       "    <tr>\n",
       "      <td>160</td>\n",
       "      <td>d554524c-010c-46dc-8c87-5144627de2ba</td>\n",
       "      <td>TCGA</td>\n",
       "      <td>TCGA-OV</td>\n",
       "      <td>84413</td>\n",
       "      <td>Ovary</td>\n",
       "      <td>276</td>\n",
       "      <td>Ovary</td>\n",
       "    </tr>\n",
       "    <tr>\n",
       "      <td>161</td>\n",
       "      <td>26f4b5b8-7159-41c4-a0d0-d842173a8169</td>\n",
       "      <td>TCGA</td>\n",
       "      <td>TCGA-OV</td>\n",
       "      <td>84413</td>\n",
       "      <td>Ovary</td>\n",
       "      <td>420</td>\n",
       "      <td>Ovary</td>\n",
       "    </tr>\n",
       "    <tr>\n",
       "      <td>162</td>\n",
       "      <td>45ef294e-8a96-4ac8-beb8-fd0016181781</td>\n",
       "      <td>TCGA</td>\n",
       "      <td>TCGA-OV</td>\n",
       "      <td>84413</td>\n",
       "      <td>Ovary</td>\n",
       "      <td>720</td>\n",
       "      <td>Ovary</td>\n",
       "    </tr>\n",
       "    <tr>\n",
       "      <td>163</td>\n",
       "      <td>fd14c1a3-7377-4d5c-bcc6-d7013223e155</td>\n",
       "      <td>TCGA</td>\n",
       "      <td>TCGA-OV</td>\n",
       "      <td>84413</td>\n",
       "      <td>Ovary</td>\n",
       "      <td>747</td>\n",
       "      <td>Ovary</td>\n",
       "    </tr>\n",
       "    <tr>\n",
       "      <td>164</td>\n",
       "      <td>4c86113e-1fab-4dbc-b54e-a64c9c8ed862</td>\n",
       "      <td>TCGA</td>\n",
       "      <td>TCGA-OV</td>\n",
       "      <td>84413</td>\n",
       "      <td>Ovary</td>\n",
       "      <td>426</td>\n",
       "      <td>Ovary</td>\n",
       "    </tr>\n",
       "  </tbody>\n",
       "</table>\n",
       "<p>165 rows × 7 columns</p>\n",
       "</div>"
      ],
      "text/plain": [
       "                                       id source  project morphology  \\\n",
       "0    440e9ec5-8e61-4f75-b1d1-616941d9456d   TCGA  TCGA-OV      84413   \n",
       "1    6ca6f0fe-8b53-421e-ad4e-dfbf8c8c5b59   TCGA  TCGA-OV      84413   \n",
       "2    da9af00f-60ea-456b-9f25-0ab560962769   TCGA  TCGA-OV      84413   \n",
       "3    8e84a028-5e9c-4d01-9791-db0f04b05bce   TCGA  TCGA-OV      84603   \n",
       "4    d3f8c91f-e4cc-4018-9fbf-4368dd036b01   TCGA  TCGA-OV      84413   \n",
       "..                                    ...    ...      ...        ...   \n",
       "160  d554524c-010c-46dc-8c87-5144627de2ba   TCGA  TCGA-OV      84413   \n",
       "161  26f4b5b8-7159-41c4-a0d0-d842173a8169   TCGA  TCGA-OV      84413   \n",
       "162  45ef294e-8a96-4ac8-beb8-fd0016181781   TCGA  TCGA-OV      84413   \n",
       "163  fd14c1a3-7377-4d5c-bcc6-d7013223e155   TCGA  TCGA-OV      84413   \n",
       "164  4c86113e-1fab-4dbc-b54e-a64c9c8ed862   TCGA  TCGA-OV      84413   \n",
       "\n",
       "    topography  num_segs   site  \n",
       "0        Ovary       391  Ovary  \n",
       "1        Ovary       571  Ovary  \n",
       "2        Ovary       431  Ovary  \n",
       "3        Ovary       394  Ovary  \n",
       "4        Ovary       252  Ovary  \n",
       "..         ...       ...    ...  \n",
       "160      Ovary       276  Ovary  \n",
       "161      Ovary       420  Ovary  \n",
       "162      Ovary       720  Ovary  \n",
       "163      Ovary       747  Ovary  \n",
       "164      Ovary       426  Ovary  \n",
       "\n",
       "[165 rows x 7 columns]"
      ]
     },
     "execution_count": 32,
     "metadata": {},
     "output_type": "execute_result"
    }
   ],
   "source": [
    "df_meta"
   ]
  },
  {
   "cell_type": "markdown",
   "metadata": {},
   "source": [
    "### Feature labels"
   ]
  },
  {
   "cell_type": "code",
   "execution_count": 33,
   "metadata": {},
   "outputs": [],
   "source": [
    "df_meta = df_meta.assign(index = df_meta.index)"
   ]
  },
  {
   "cell_type": "code",
   "execution_count": 34,
   "metadata": {},
   "outputs": [],
   "source": [
    "labels = df_meta['site'].values"
   ]
  },
  {
   "cell_type": "code",
   "execution_count": 35,
   "metadata": {},
   "outputs": [
    {
     "data": {
      "text/plain": [
       "(array(['Brain', 'Ovary'], dtype=object), array([81, 84]))"
      ]
     },
     "execution_count": 35,
     "metadata": {},
     "output_type": "execute_result"
    }
   ],
   "source": [
    "np.unique(labels, return_counts=True)"
   ]
  },
  {
   "cell_type": "markdown",
   "metadata": {},
   "source": [
    "Save to disk"
   ]
  },
  {
   "cell_type": "code",
   "execution_count": 36,
   "metadata": {},
   "outputs": [],
   "source": [
    "labelpath = '../data/all_bands_label.pkl'\n",
    "with open(labelpath, 'wb') as fo:\n",
    "    pickle.dump(labels, fo)"
   ]
  },
  {
   "cell_type": "markdown",
   "metadata": {},
   "source": [
    "### morphology as label"
   ]
  },
  {
   "cell_type": "code",
   "execution_count": 37,
   "metadata": {},
   "outputs": [],
   "source": [
    "filepath = '../data/all_bands_meta.pkl'\n",
    "with open(filepath, 'rb') as fi:\n",
    "    df = pickle.load(fi)"
   ]
  },
  {
   "cell_type": "code",
   "execution_count": 38,
   "metadata": {},
   "outputs": [],
   "source": [
    "df = df.assign(disease=df['morphology'])"
   ]
  },
  {
   "cell_type": "code",
   "execution_count": 39,
   "metadata": {},
   "outputs": [],
   "source": [
    "df.loc[df['site'] == 'Others', 'disease'] = 'Others'"
   ]
  },
  {
   "cell_type": "code",
   "execution_count": 40,
   "metadata": {},
   "outputs": [
    {
     "data": {
      "text/plain": [
       "(0, 8)"
      ]
     },
     "execution_count": 40,
     "metadata": {},
     "output_type": "execute_result"
    }
   ],
   "source": [
    "df.loc[df['disease'] == None].shape"
   ]
  },
  {
   "cell_type": "code",
   "execution_count": 41,
   "metadata": {},
   "outputs": [
    {
     "data": {
      "text/plain": [
       "(165, 8)"
      ]
     },
     "execution_count": 41,
     "metadata": {},
     "output_type": "execute_result"
    }
   ],
   "source": [
    "df.shape"
   ]
  },
  {
   "cell_type": "code",
   "execution_count": 42,
   "metadata": {},
   "outputs": [],
   "source": [
    "disease_label = df['disease'].values\n",
    "disease_label[pd.isnull(disease_label)] = 'None'"
   ]
  },
  {
   "cell_type": "code",
   "execution_count": 43,
   "metadata": {},
   "outputs": [],
   "source": [
    "dlabelpath = '../data/all_bands_disease_label.pkl'\n",
    "with open(dlabelpath, 'wb') as fo:\n",
    "    pickle.dump(disease_label, fo)"
   ]
  },
  {
   "cell_type": "code",
   "execution_count": 44,
   "metadata": {},
   "outputs": [
    {
     "data": {
      "text/plain": [
       "array(['84413', '84603', '94403'], dtype=object)"
      ]
     },
     "execution_count": 44,
     "metadata": {},
     "output_type": "execute_result"
    }
   ],
   "source": [
    "df['disease'].unique()"
   ]
  },
  {
   "cell_type": "code",
   "execution_count": 45,
   "metadata": {},
   "outputs": [],
   "source": [
    "disease_label[pd.isnull(disease_label)] = 'None'"
   ]
  },
  {
   "cell_type": "code",
   "execution_count": 46,
   "metadata": {},
   "outputs": [
    {
     "data": {
      "text/plain": [
       "array(['84413', '84603', '94403'], dtype=object)"
      ]
     },
     "execution_count": 46,
     "metadata": {},
     "output_type": "execute_result"
    }
   ],
   "source": [
    "np.unique(disease_label)"
   ]
  },
  {
   "cell_type": "markdown",
   "metadata": {},
   "source": [
    "### Source label"
   ]
  },
  {
   "cell_type": "code",
   "execution_count": 47,
   "metadata": {},
   "outputs": [],
   "source": [
    "source_label = df['source'].values"
   ]
  },
  {
   "cell_type": "code",
   "execution_count": 48,
   "metadata": {},
   "outputs": [],
   "source": [
    "slabelpath = '../data/all_bands_source_label.pkl'\n",
    "with open(slabelpath, 'wb') as fo:\n",
    "    pickle.dump(source_label, fo)"
   ]
  },
  {
   "cell_type": "code",
   "execution_count": null,
   "metadata": {},
   "outputs": [],
   "source": []
  }
 ],
 "metadata": {
  "kernelspec": {
   "display_name": "Python 3",
   "language": "python",
   "name": "python3"
  },
  "language_info": {
   "codemirror_mode": {
    "name": "ipython",
    "version": 3
   },
   "file_extension": ".py",
   "mimetype": "text/x-python",
   "name": "python",
   "nbconvert_exporter": "python",
   "pygments_lexer": "ipython3",
   "version": "3.7.4"
  },
  "toc": {
   "base_numbering": 1,
   "nav_menu": {},
   "number_sections": true,
   "sideBar": true,
   "skip_h1_title": false,
   "title_cell": "Table of Contents",
   "title_sidebar": "Contents",
   "toc_cell": false,
   "toc_position": {},
   "toc_section_display": true,
   "toc_window_display": false
  }
 },
 "nbformat": 4,
 "nbformat_minor": 2
}
